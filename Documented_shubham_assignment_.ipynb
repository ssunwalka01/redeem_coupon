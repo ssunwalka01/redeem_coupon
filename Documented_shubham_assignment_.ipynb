{
  "nbformat": 4,
  "nbformat_minor": 0,
  "metadata": {
    "colab": {
      "name": "Documented_shubham_assignment_.ipynb",
      "provenance": [],
      "collapsed_sections": [],
      "toc_visible": true,
      "include_colab_link": true
    },
    "kernelspec": {
      "display_name": "Python 3",
      "language": "python",
      "name": "python3"
    },
    "language_info": {
      "codemirror_mode": {
        "name": "ipython",
        "version": 3
      },
      "file_extension": ".py",
      "mimetype": "text/x-python",
      "name": "python",
      "nbconvert_exporter": "python",
      "pygments_lexer": "ipython3",
      "version": "3.7.4"
    }
  },
  "cells": [
    {
      "cell_type": "markdown",
      "metadata": {
        "id": "view-in-github",
        "colab_type": "text"
      },
      "source": [
        "<a href=\"https://colab.research.google.com/github/ssunwalka01/redeem_coupon/blob/master/Documented_shubham_assignment_.ipynb\" target=\"_parent\"><img src=\"https://colab.research.google.com/assets/colab-badge.svg\" alt=\"Open In Colab\"/></a>"
      ]
    },
    {
      "cell_type": "markdown",
      "metadata": {
        "id": "sX6utKWC7dYg",
        "colab_type": "text"
      },
      "source": [
        "# Redeeming Coupon Problem"
      ]
    },
    {
      "cell_type": "markdown",
      "metadata": {
        "id": "6mj7bme57dYi",
        "colab_type": "text"
      },
      "source": [
        "Let's try to dive down into the problem. I will first begin by Data Exploration and then try to find out the relationsip between the tables so as to find a way to merge them."
      ]
    },
    {
      "cell_type": "code",
      "metadata": {
        "colab_type": "code",
        "id": "1kMXCKCw478S",
        "colab": {}
      },
      "source": [
        "# importing libraries\n",
        "import pandas as pd # for data handling\n",
        "import numpy as np # for mathematical calculations\n",
        "import seaborn as sns # for data visualisations\n",
        "import matplotlib.pyplot as plt # for plotting graphs\n",
        "%matplotlib inline\n",
        "import warnings # to ignore warnings\n",
        "warnings.filterwarnings(\"ignore\")\n",
        "from sklearn import metrics"
      ],
      "execution_count": 101,
      "outputs": []
    },
    {
      "cell_type": "markdown",
      "metadata": {
        "id": "ZDlRn0Df7dYq",
        "colab_type": "text"
      },
      "source": [
        "- Reading the Data"
      ]
    },
    {
      "cell_type": "code",
      "metadata": {
        "colab_type": "code",
        "id": "B9rqa3RC5VpA",
        "colab": {}
      },
      "source": [
        "camp = pd.read_csv(\"/content/campaign_data.csv\")\n",
        "coupon = pd.read_csv(\"/content/coupon_item_mapping.csv\")\n",
        "demo = pd.read_csv(\"/content/customer_demographics.csv\")\n",
        "trans = pd.read_csv(\"/content/customer_transaction_data.csv\")\n",
        "item = pd.read_csv(\"/content/item_data.csv\")\n",
        "train = pd.read_csv(\"/content/train.csv\")"
      ],
      "execution_count": 102,
      "outputs": []
    },
    {
      "cell_type": "markdown",
      "metadata": {
        "id": "uGqtsnFi7dYx",
        "colab_type": "text"
      },
      "source": [
        "Finding the (#rows x #columns) in the dataframes"
      ]
    },
    {
      "cell_type": "code",
      "metadata": {
        "colab_type": "code",
        "id": "FOUerrp_5dHy",
        "colab": {
          "base_uri": "https://localhost:8080/",
          "height": 119
        },
        "outputId": "ce147a2e-a314-4fdb-cff2-c9c993b16058"
      },
      "source": [
        "print(\"Shape of campaign_data\", camp.shape)\n",
        "print(\"Shape of coupon item mapping\", coupon.shape)\n",
        "print(\"Shape of customer demographics\", demo.shape)\n",
        "print(\"Shape of transaction data\", trans.shape)\n",
        "print(\"Shape of item data\", item.shape)\n",
        "print(\"Shape of train data\", train.shape)"
      ],
      "execution_count": 103,
      "outputs": [
        {
          "output_type": "stream",
          "text": [
            "Shape of campaign_data (28, 4)\n",
            "Shape of coupon item mapping (92663, 2)\n",
            "Shape of customer demographics (760, 7)\n",
            "Shape of transaction data (1324566, 7)\n",
            "Shape of item data (74066, 4)\n",
            "Shape of train data (78369, 5)\n"
          ],
          "name": "stdout"
        }
      ]
    },
    {
      "cell_type": "markdown",
      "metadata": {
        "colab_type": "text",
        "id": "yTwMg8ik6t1m"
      },
      "source": [
        "Here, I am basically trying to find the columns in the dataframes"
      ]
    },
    {
      "cell_type": "code",
      "metadata": {
        "colab_type": "code",
        "id": "yo-9ZcaQ6bhx",
        "colab": {
          "base_uri": "https://localhost:8080/",
          "height": 493
        },
        "outputId": "24819721-138a-485f-d307-417a0efc8a1f"
      },
      "source": [
        "# getting column names of variables\n",
        "print(\"\\nColumns of campaign_data\\n\", camp.columns)\n",
        "print(\"---------------------------------------------------------------------------------------------------------------\")\n",
        "\n",
        "print(\"\\nColumns of coupon item mapping\\n\", coupon.columns)\n",
        "print(\"---------------------------------------------------------------------------------------------------------------\")\n",
        "\n",
        "print(\"\\nColumns of customer demographics\\n\", demo.columns)\n",
        "print(\"---------------------------------------------------------------------------------------------------------------\")\n",
        "\n",
        "print(\"\\nColumns of transaction data\\n\", trans.columns)\n",
        "print(\"---------------------------------------------------------------------------------------------------------------\")\n",
        "\n",
        "print(\"\\nColumns of item data\\n\", item.columns)\n",
        "print(\"---------------------------------------------------------------------------------------------------------------\")\n",
        "\n",
        "print(\"\\nColumns of train data\\n\", train.columns)\n",
        "print(\"---------------------------------------------------------------------------------------------------------------\")"
      ],
      "execution_count": 104,
      "outputs": [
        {
          "output_type": "stream",
          "text": [
            "\n",
            "Columns of campaign_data\n",
            " Index(['campaign_id', 'campaign_type', 'start_date', 'end_date'], dtype='object')\n",
            "---------------------------------------------------------------------------------------------------------------\n",
            "\n",
            "Columns of coupon item mapping\n",
            " Index(['coupon_id', 'item_id'], dtype='object')\n",
            "---------------------------------------------------------------------------------------------------------------\n",
            "\n",
            "Columns of customer demographics\n",
            " Index(['customer_id', 'age_range', 'marital_status', 'rented', 'family_size',\n",
            "       'no_of_children', 'income_bracket'],\n",
            "      dtype='object')\n",
            "---------------------------------------------------------------------------------------------------------------\n",
            "\n",
            "Columns of transaction data\n",
            " Index(['date', 'customer_id', 'item_id', 'quantity', 'selling_price',\n",
            "       'other_discount', 'coupon_discount'],\n",
            "      dtype='object')\n",
            "---------------------------------------------------------------------------------------------------------------\n",
            "\n",
            "Columns of item data\n",
            " Index(['item_id', 'brand', 'brand_type', 'category'], dtype='object')\n",
            "---------------------------------------------------------------------------------------------------------------\n",
            "\n",
            "Columns of train data\n",
            " Index(['id', 'campaign_id', 'coupon_id', 'customer_id', 'redemption_status'], dtype='object')\n",
            "---------------------------------------------------------------------------------------------------------------\n"
          ],
          "name": "stdout"
        }
      ]
    },
    {
      "cell_type": "markdown",
      "metadata": {
        "id": "FI8uoATj7dY6",
        "colab_type": "text"
      },
      "source": [
        "We have got the column names in the dataframes but we also need to know the data types of the variables present in the datasets.So, getting dtypes..."
      ]
    },
    {
      "cell_type": "code",
      "metadata": {
        "colab_type": "code",
        "id": "jzWIIM4OPVBn",
        "colab": {
          "base_uri": "https://localhost:8080/",
          "height": 918
        },
        "outputId": "4047ef8a-9f67-4b51-993d-e726f85d1305"
      },
      "source": [
        "# getting data types of variables\n",
        "print(\"\\n Data Types of campaign_data\\n\", camp.dtypes)\n",
        "print(\"---------------------------------------------------------------------------------------------------------------\")\n",
        "\n",
        "print(\"\\n Data Types of coupon item mapping\\n\", coupon.dtypes)\n",
        "print(\"---------------------------------------------------------------------------------------------------------------\")\n",
        "\n",
        "print(\"\\n  Data Types of customer demographics\\n\", demo.dtypes)\n",
        "print(\"---------------------------------------------------------------------------------------------------------------\")\n",
        "\n",
        "print(\"\\n Data Types of transaction data\\n\", trans.dtypes)\n",
        "print(\"---------------------------------------------------------------------------------------------------------------\")\n",
        "\n",
        "print(\"\\n Data Types of item data\\n\", item.dtypes)\n",
        "print(\"---------------------------------------------------------------------------------------------------------------\")\n",
        "\n",
        "print(\"\\n Data Types train data\\n\", train.dtypes)\n",
        "print(\"---------------------------------------------------------------------------------------------------------------\")"
      ],
      "execution_count": 105,
      "outputs": [
        {
          "output_type": "stream",
          "text": [
            "\n",
            " Data Types of campaign_data\n",
            " campaign_id       int64\n",
            "campaign_type    object\n",
            "start_date       object\n",
            "end_date         object\n",
            "dtype: object\n",
            "---------------------------------------------------------------------------------------------------------------\n",
            "\n",
            " Data Types of coupon item mapping\n",
            " coupon_id    int64\n",
            "item_id      int64\n",
            "dtype: object\n",
            "---------------------------------------------------------------------------------------------------------------\n",
            "\n",
            "  Data Types of customer demographics\n",
            " customer_id        int64\n",
            "age_range         object\n",
            "marital_status    object\n",
            "rented             int64\n",
            "family_size       object\n",
            "no_of_children    object\n",
            "income_bracket     int64\n",
            "dtype: object\n",
            "---------------------------------------------------------------------------------------------------------------\n",
            "\n",
            " Data Types of transaction data\n",
            " date                object\n",
            "customer_id          int64\n",
            "item_id              int64\n",
            "quantity             int64\n",
            "selling_price      float64\n",
            "other_discount     float64\n",
            "coupon_discount    float64\n",
            "dtype: object\n",
            "---------------------------------------------------------------------------------------------------------------\n",
            "\n",
            " Data Types of item data\n",
            " item_id        int64\n",
            "brand          int64\n",
            "brand_type    object\n",
            "category      object\n",
            "dtype: object\n",
            "---------------------------------------------------------------------------------------------------------------\n",
            "\n",
            " Data Types train data\n",
            " id                   int64\n",
            "campaign_id          int64\n",
            "coupon_id            int64\n",
            "customer_id          int64\n",
            "redemption_status    int64\n",
            "dtype: object\n",
            "---------------------------------------------------------------------------------------------------------------\n"
          ],
          "name": "stdout"
        }
      ]
    },
    {
      "cell_type": "markdown",
      "metadata": {
        "id": "6UEM75YD7dY-",
        "colab_type": "text"
      },
      "source": [
        "Looking at the dataframes..."
      ]
    },
    {
      "cell_type": "code",
      "metadata": {
        "colab_type": "code",
        "id": "yPzEY3uD7Hbz",
        "colab": {
          "base_uri": "https://localhost:8080/",
          "height": 204
        },
        "outputId": "c2a928e5-e6a2-4540-c821-ad23b407c206"
      },
      "source": [
        "camp.head()"
      ],
      "execution_count": 106,
      "outputs": [
        {
          "output_type": "execute_result",
          "data": {
            "text/html": [
              "<div>\n",
              "<style scoped>\n",
              "    .dataframe tbody tr th:only-of-type {\n",
              "        vertical-align: middle;\n",
              "    }\n",
              "\n",
              "    .dataframe tbody tr th {\n",
              "        vertical-align: top;\n",
              "    }\n",
              "\n",
              "    .dataframe thead th {\n",
              "        text-align: right;\n",
              "    }\n",
              "</style>\n",
              "<table border=\"1\" class=\"dataframe\">\n",
              "  <thead>\n",
              "    <tr style=\"text-align: right;\">\n",
              "      <th></th>\n",
              "      <th>campaign_id</th>\n",
              "      <th>campaign_type</th>\n",
              "      <th>start_date</th>\n",
              "      <th>end_date</th>\n",
              "    </tr>\n",
              "  </thead>\n",
              "  <tbody>\n",
              "    <tr>\n",
              "      <th>0</th>\n",
              "      <td>24</td>\n",
              "      <td>Y</td>\n",
              "      <td>21/10/13</td>\n",
              "      <td>20/12/13</td>\n",
              "    </tr>\n",
              "    <tr>\n",
              "      <th>1</th>\n",
              "      <td>25</td>\n",
              "      <td>Y</td>\n",
              "      <td>21/10/13</td>\n",
              "      <td>22/11/13</td>\n",
              "    </tr>\n",
              "    <tr>\n",
              "      <th>2</th>\n",
              "      <td>20</td>\n",
              "      <td>Y</td>\n",
              "      <td>07/09/13</td>\n",
              "      <td>16/11/13</td>\n",
              "    </tr>\n",
              "    <tr>\n",
              "      <th>3</th>\n",
              "      <td>23</td>\n",
              "      <td>Y</td>\n",
              "      <td>08/10/13</td>\n",
              "      <td>15/11/13</td>\n",
              "    </tr>\n",
              "    <tr>\n",
              "      <th>4</th>\n",
              "      <td>21</td>\n",
              "      <td>Y</td>\n",
              "      <td>16/09/13</td>\n",
              "      <td>18/10/13</td>\n",
              "    </tr>\n",
              "  </tbody>\n",
              "</table>\n",
              "</div>"
            ],
            "text/plain": [
              "   campaign_id campaign_type start_date  end_date\n",
              "0           24             Y   21/10/13  20/12/13\n",
              "1           25             Y   21/10/13  22/11/13\n",
              "2           20             Y   07/09/13  16/11/13\n",
              "3           23             Y   08/10/13  15/11/13\n",
              "4           21             Y   16/09/13  18/10/13"
            ]
          },
          "metadata": {
            "tags": []
          },
          "execution_count": 106
        }
      ]
    },
    {
      "cell_type": "code",
      "metadata": {
        "colab_type": "code",
        "id": "SKDRGSny7pDp",
        "colab": {
          "base_uri": "https://localhost:8080/",
          "height": 204
        },
        "outputId": "1ae6b9eb-c8c8-46c8-d234-6effce2aeaea"
      },
      "source": [
        "coupon.head()"
      ],
      "execution_count": 107,
      "outputs": [
        {
          "output_type": "execute_result",
          "data": {
            "text/html": [
              "<div>\n",
              "<style scoped>\n",
              "    .dataframe tbody tr th:only-of-type {\n",
              "        vertical-align: middle;\n",
              "    }\n",
              "\n",
              "    .dataframe tbody tr th {\n",
              "        vertical-align: top;\n",
              "    }\n",
              "\n",
              "    .dataframe thead th {\n",
              "        text-align: right;\n",
              "    }\n",
              "</style>\n",
              "<table border=\"1\" class=\"dataframe\">\n",
              "  <thead>\n",
              "    <tr style=\"text-align: right;\">\n",
              "      <th></th>\n",
              "      <th>coupon_id</th>\n",
              "      <th>item_id</th>\n",
              "    </tr>\n",
              "  </thead>\n",
              "  <tbody>\n",
              "    <tr>\n",
              "      <th>0</th>\n",
              "      <td>105</td>\n",
              "      <td>37</td>\n",
              "    </tr>\n",
              "    <tr>\n",
              "      <th>1</th>\n",
              "      <td>107</td>\n",
              "      <td>75</td>\n",
              "    </tr>\n",
              "    <tr>\n",
              "      <th>2</th>\n",
              "      <td>494</td>\n",
              "      <td>76</td>\n",
              "    </tr>\n",
              "    <tr>\n",
              "      <th>3</th>\n",
              "      <td>522</td>\n",
              "      <td>77</td>\n",
              "    </tr>\n",
              "    <tr>\n",
              "      <th>4</th>\n",
              "      <td>518</td>\n",
              "      <td>77</td>\n",
              "    </tr>\n",
              "  </tbody>\n",
              "</table>\n",
              "</div>"
            ],
            "text/plain": [
              "   coupon_id  item_id\n",
              "0        105       37\n",
              "1        107       75\n",
              "2        494       76\n",
              "3        522       77\n",
              "4        518       77"
            ]
          },
          "metadata": {
            "tags": []
          },
          "execution_count": 107
        }
      ]
    },
    {
      "cell_type": "code",
      "metadata": {
        "colab_type": "code",
        "id": "ABSl3dWN7109",
        "colab": {
          "base_uri": "https://localhost:8080/",
          "height": 204
        },
        "outputId": "8adf07b7-a50a-4080-c932-760086c43c2e"
      },
      "source": [
        "demo.head()"
      ],
      "execution_count": 108,
      "outputs": [
        {
          "output_type": "execute_result",
          "data": {
            "text/html": [
              "<div>\n",
              "<style scoped>\n",
              "    .dataframe tbody tr th:only-of-type {\n",
              "        vertical-align: middle;\n",
              "    }\n",
              "\n",
              "    .dataframe tbody tr th {\n",
              "        vertical-align: top;\n",
              "    }\n",
              "\n",
              "    .dataframe thead th {\n",
              "        text-align: right;\n",
              "    }\n",
              "</style>\n",
              "<table border=\"1\" class=\"dataframe\">\n",
              "  <thead>\n",
              "    <tr style=\"text-align: right;\">\n",
              "      <th></th>\n",
              "      <th>customer_id</th>\n",
              "      <th>age_range</th>\n",
              "      <th>marital_status</th>\n",
              "      <th>rented</th>\n",
              "      <th>family_size</th>\n",
              "      <th>no_of_children</th>\n",
              "      <th>income_bracket</th>\n",
              "    </tr>\n",
              "  </thead>\n",
              "  <tbody>\n",
              "    <tr>\n",
              "      <th>0</th>\n",
              "      <td>1</td>\n",
              "      <td>70+</td>\n",
              "      <td>Married</td>\n",
              "      <td>0</td>\n",
              "      <td>2</td>\n",
              "      <td>NaN</td>\n",
              "      <td>4</td>\n",
              "    </tr>\n",
              "    <tr>\n",
              "      <th>1</th>\n",
              "      <td>6</td>\n",
              "      <td>46-55</td>\n",
              "      <td>Married</td>\n",
              "      <td>0</td>\n",
              "      <td>2</td>\n",
              "      <td>NaN</td>\n",
              "      <td>5</td>\n",
              "    </tr>\n",
              "    <tr>\n",
              "      <th>2</th>\n",
              "      <td>7</td>\n",
              "      <td>26-35</td>\n",
              "      <td>NaN</td>\n",
              "      <td>0</td>\n",
              "      <td>3</td>\n",
              "      <td>1</td>\n",
              "      <td>3</td>\n",
              "    </tr>\n",
              "    <tr>\n",
              "      <th>3</th>\n",
              "      <td>8</td>\n",
              "      <td>26-35</td>\n",
              "      <td>NaN</td>\n",
              "      <td>0</td>\n",
              "      <td>4</td>\n",
              "      <td>2</td>\n",
              "      <td>6</td>\n",
              "    </tr>\n",
              "    <tr>\n",
              "      <th>4</th>\n",
              "      <td>10</td>\n",
              "      <td>46-55</td>\n",
              "      <td>Single</td>\n",
              "      <td>0</td>\n",
              "      <td>1</td>\n",
              "      <td>NaN</td>\n",
              "      <td>5</td>\n",
              "    </tr>\n",
              "  </tbody>\n",
              "</table>\n",
              "</div>"
            ],
            "text/plain": [
              "   customer_id age_range  ... no_of_children  income_bracket\n",
              "0            1       70+  ...            NaN               4\n",
              "1            6     46-55  ...            NaN               5\n",
              "2            7     26-35  ...              1               3\n",
              "3            8     26-35  ...              2               6\n",
              "4           10     46-55  ...            NaN               5\n",
              "\n",
              "[5 rows x 7 columns]"
            ]
          },
          "metadata": {
            "tags": []
          },
          "execution_count": 108
        }
      ]
    },
    {
      "cell_type": "code",
      "metadata": {
        "colab_type": "code",
        "id": "p_fuZ_gK73Nf",
        "colab": {
          "base_uri": "https://localhost:8080/",
          "height": 204
        },
        "outputId": "cfc33824-550a-42fd-bc8b-6da919f2f6eb"
      },
      "source": [
        "trans.head()"
      ],
      "execution_count": 109,
      "outputs": [
        {
          "output_type": "execute_result",
          "data": {
            "text/html": [
              "<div>\n",
              "<style scoped>\n",
              "    .dataframe tbody tr th:only-of-type {\n",
              "        vertical-align: middle;\n",
              "    }\n",
              "\n",
              "    .dataframe tbody tr th {\n",
              "        vertical-align: top;\n",
              "    }\n",
              "\n",
              "    .dataframe thead th {\n",
              "        text-align: right;\n",
              "    }\n",
              "</style>\n",
              "<table border=\"1\" class=\"dataframe\">\n",
              "  <thead>\n",
              "    <tr style=\"text-align: right;\">\n",
              "      <th></th>\n",
              "      <th>date</th>\n",
              "      <th>customer_id</th>\n",
              "      <th>item_id</th>\n",
              "      <th>quantity</th>\n",
              "      <th>selling_price</th>\n",
              "      <th>other_discount</th>\n",
              "      <th>coupon_discount</th>\n",
              "    </tr>\n",
              "  </thead>\n",
              "  <tbody>\n",
              "    <tr>\n",
              "      <th>0</th>\n",
              "      <td>2012-01-02</td>\n",
              "      <td>1501</td>\n",
              "      <td>26830</td>\n",
              "      <td>1</td>\n",
              "      <td>35.26</td>\n",
              "      <td>-10.69</td>\n",
              "      <td>0.0</td>\n",
              "    </tr>\n",
              "    <tr>\n",
              "      <th>1</th>\n",
              "      <td>2012-01-02</td>\n",
              "      <td>1501</td>\n",
              "      <td>54253</td>\n",
              "      <td>1</td>\n",
              "      <td>53.43</td>\n",
              "      <td>-13.89</td>\n",
              "      <td>0.0</td>\n",
              "    </tr>\n",
              "    <tr>\n",
              "      <th>2</th>\n",
              "      <td>2012-01-02</td>\n",
              "      <td>1501</td>\n",
              "      <td>31962</td>\n",
              "      <td>1</td>\n",
              "      <td>106.50</td>\n",
              "      <td>-14.25</td>\n",
              "      <td>0.0</td>\n",
              "    </tr>\n",
              "    <tr>\n",
              "      <th>3</th>\n",
              "      <td>2012-01-02</td>\n",
              "      <td>1501</td>\n",
              "      <td>33647</td>\n",
              "      <td>1</td>\n",
              "      <td>67.32</td>\n",
              "      <td>0.00</td>\n",
              "      <td>0.0</td>\n",
              "    </tr>\n",
              "    <tr>\n",
              "      <th>4</th>\n",
              "      <td>2012-01-02</td>\n",
              "      <td>1501</td>\n",
              "      <td>48199</td>\n",
              "      <td>1</td>\n",
              "      <td>71.24</td>\n",
              "      <td>-28.14</td>\n",
              "      <td>0.0</td>\n",
              "    </tr>\n",
              "  </tbody>\n",
              "</table>\n",
              "</div>"
            ],
            "text/plain": [
              "         date  customer_id  ...  other_discount  coupon_discount\n",
              "0  2012-01-02         1501  ...          -10.69              0.0\n",
              "1  2012-01-02         1501  ...          -13.89              0.0\n",
              "2  2012-01-02         1501  ...          -14.25              0.0\n",
              "3  2012-01-02         1501  ...            0.00              0.0\n",
              "4  2012-01-02         1501  ...          -28.14              0.0\n",
              "\n",
              "[5 rows x 7 columns]"
            ]
          },
          "metadata": {
            "tags": []
          },
          "execution_count": 109
        }
      ]
    },
    {
      "cell_type": "code",
      "metadata": {
        "colab_type": "code",
        "id": "LI_1p8-x75X0",
        "colab": {
          "base_uri": "https://localhost:8080/",
          "height": 204
        },
        "outputId": "0ebb1b49-2bc3-4738-83b7-f8b058c425af"
      },
      "source": [
        "item.head()"
      ],
      "execution_count": 110,
      "outputs": [
        {
          "output_type": "execute_result",
          "data": {
            "text/html": [
              "<div>\n",
              "<style scoped>\n",
              "    .dataframe tbody tr th:only-of-type {\n",
              "        vertical-align: middle;\n",
              "    }\n",
              "\n",
              "    .dataframe tbody tr th {\n",
              "        vertical-align: top;\n",
              "    }\n",
              "\n",
              "    .dataframe thead th {\n",
              "        text-align: right;\n",
              "    }\n",
              "</style>\n",
              "<table border=\"1\" class=\"dataframe\">\n",
              "  <thead>\n",
              "    <tr style=\"text-align: right;\">\n",
              "      <th></th>\n",
              "      <th>item_id</th>\n",
              "      <th>brand</th>\n",
              "      <th>brand_type</th>\n",
              "      <th>category</th>\n",
              "    </tr>\n",
              "  </thead>\n",
              "  <tbody>\n",
              "    <tr>\n",
              "      <th>0</th>\n",
              "      <td>1</td>\n",
              "      <td>1</td>\n",
              "      <td>Established</td>\n",
              "      <td>Grocery</td>\n",
              "    </tr>\n",
              "    <tr>\n",
              "      <th>1</th>\n",
              "      <td>2</td>\n",
              "      <td>1</td>\n",
              "      <td>Established</td>\n",
              "      <td>Miscellaneous</td>\n",
              "    </tr>\n",
              "    <tr>\n",
              "      <th>2</th>\n",
              "      <td>3</td>\n",
              "      <td>56</td>\n",
              "      <td>Local</td>\n",
              "      <td>Bakery</td>\n",
              "    </tr>\n",
              "    <tr>\n",
              "      <th>3</th>\n",
              "      <td>4</td>\n",
              "      <td>56</td>\n",
              "      <td>Local</td>\n",
              "      <td>Grocery</td>\n",
              "    </tr>\n",
              "    <tr>\n",
              "      <th>4</th>\n",
              "      <td>5</td>\n",
              "      <td>56</td>\n",
              "      <td>Local</td>\n",
              "      <td>Grocery</td>\n",
              "    </tr>\n",
              "  </tbody>\n",
              "</table>\n",
              "</div>"
            ],
            "text/plain": [
              "   item_id  brand   brand_type       category\n",
              "0        1      1  Established        Grocery\n",
              "1        2      1  Established  Miscellaneous\n",
              "2        3     56        Local         Bakery\n",
              "3        4     56        Local        Grocery\n",
              "4        5     56        Local        Grocery"
            ]
          },
          "metadata": {
            "tags": []
          },
          "execution_count": 110
        }
      ]
    },
    {
      "cell_type": "code",
      "metadata": {
        "colab_type": "code",
        "id": "ZGo5wi5d76-J",
        "colab": {
          "base_uri": "https://localhost:8080/",
          "height": 204
        },
        "outputId": "7ed7375c-4451-4a34-9034-f57687a8f823"
      },
      "source": [
        "train.head()"
      ],
      "execution_count": 111,
      "outputs": [
        {
          "output_type": "execute_result",
          "data": {
            "text/html": [
              "<div>\n",
              "<style scoped>\n",
              "    .dataframe tbody tr th:only-of-type {\n",
              "        vertical-align: middle;\n",
              "    }\n",
              "\n",
              "    .dataframe tbody tr th {\n",
              "        vertical-align: top;\n",
              "    }\n",
              "\n",
              "    .dataframe thead th {\n",
              "        text-align: right;\n",
              "    }\n",
              "</style>\n",
              "<table border=\"1\" class=\"dataframe\">\n",
              "  <thead>\n",
              "    <tr style=\"text-align: right;\">\n",
              "      <th></th>\n",
              "      <th>id</th>\n",
              "      <th>campaign_id</th>\n",
              "      <th>coupon_id</th>\n",
              "      <th>customer_id</th>\n",
              "      <th>redemption_status</th>\n",
              "    </tr>\n",
              "  </thead>\n",
              "  <tbody>\n",
              "    <tr>\n",
              "      <th>0</th>\n",
              "      <td>1</td>\n",
              "      <td>13</td>\n",
              "      <td>27</td>\n",
              "      <td>1053</td>\n",
              "      <td>0</td>\n",
              "    </tr>\n",
              "    <tr>\n",
              "      <th>1</th>\n",
              "      <td>2</td>\n",
              "      <td>13</td>\n",
              "      <td>116</td>\n",
              "      <td>48</td>\n",
              "      <td>0</td>\n",
              "    </tr>\n",
              "    <tr>\n",
              "      <th>2</th>\n",
              "      <td>6</td>\n",
              "      <td>9</td>\n",
              "      <td>635</td>\n",
              "      <td>205</td>\n",
              "      <td>0</td>\n",
              "    </tr>\n",
              "    <tr>\n",
              "      <th>3</th>\n",
              "      <td>7</td>\n",
              "      <td>13</td>\n",
              "      <td>644</td>\n",
              "      <td>1050</td>\n",
              "      <td>0</td>\n",
              "    </tr>\n",
              "    <tr>\n",
              "      <th>4</th>\n",
              "      <td>9</td>\n",
              "      <td>8</td>\n",
              "      <td>1017</td>\n",
              "      <td>1489</td>\n",
              "      <td>0</td>\n",
              "    </tr>\n",
              "  </tbody>\n",
              "</table>\n",
              "</div>"
            ],
            "text/plain": [
              "   id  campaign_id  coupon_id  customer_id  redemption_status\n",
              "0   1           13         27         1053                  0\n",
              "1   2           13        116           48                  0\n",
              "2   6            9        635          205                  0\n",
              "3   7           13        644         1050                  0\n",
              "4   9            8       1017         1489                  0"
            ]
          },
          "metadata": {
            "tags": []
          },
          "execution_count": 111
        }
      ]
    },
    {
      "cell_type": "markdown",
      "metadata": {
        "colab_type": "text",
        "id": "hybr6IEMRTDB"
      },
      "source": [
        "**UNIVARIATE ANALYSIS**"
      ]
    },
    {
      "cell_type": "markdown",
      "metadata": {
        "id": "A6CL3DBS7dZd",
        "colab_type": "text"
      },
      "source": [
        "- **train data**"
      ]
    },
    {
      "cell_type": "code",
      "metadata": {
        "colab_type": "code",
        "id": "R8d3JMqhRjeD",
        "colab": {
          "base_uri": "https://localhost:8080/",
          "height": 68
        },
        "outputId": "399165c8-1b10-4457-d46f-1dcf6c0d8fff"
      },
      "source": [
        "# TARGET VARIABLE\n",
        "# redemption_status\n",
        "train['redemption_status'].value_counts(normalize=True)*100   # percentage wise"
      ],
      "execution_count": 112,
      "outputs": [
        {
          "output_type": "execute_result",
          "data": {
            "text/plain": [
              "0    99.069785\n",
              "1     0.930215\n",
              "Name: redemption_status, dtype: float64"
            ]
          },
          "metadata": {
            "tags": []
          },
          "execution_count": 112
        }
      ]
    },
    {
      "cell_type": "code",
      "metadata": {
        "colab_type": "code",
        "id": "1HWkfKYSR-Li",
        "colab": {
          "base_uri": "https://localhost:8080/",
          "height": 295
        },
        "outputId": "88b1653e-4000-4f77-af0f-830cbf6e19ef"
      },
      "source": [
        "train['redemption_status'].value_counts(normalize=True).plot.bar(title = \"redemption_status\")"
      ],
      "execution_count": 113,
      "outputs": [
        {
          "output_type": "execute_result",
          "data": {
            "text/plain": [
              "<matplotlib.axes._subplots.AxesSubplot at 0x7f33e31c2908>"
            ]
          },
          "metadata": {
            "tags": []
          },
          "execution_count": 113
        },
        {
          "output_type": "display_data",
          "data": {
            "image/png": "[encoded data removed]",
            "text/plain": [
              "<Figure size 432x288 with 1 Axes>"
            ]
          },
          "metadata": {
            "tags": [],
            "needs_background": "light"
          }
        }
      ]
    },
    {
      "cell_type": "markdown",
      "metadata": {
        "colab_type": "text",
        "id": "J-kxBfeVRqPa"
      },
      "source": [
        "- `Imbalance Data` as '0' has 99% of data as majority class. We will be needing Stratified K fold Cross Validation technique because it handles Imbalance Dataset as it tries to make each sample to be a good representative as a whole."
      ]
    },
    {
      "cell_type": "markdown",
      "metadata": {
        "colab_type": "text",
        "id": "xvEv7j8DS-Oe"
      },
      "source": [
        "- **campaign_data**"
      ]
    },
    {
      "cell_type": "code",
      "metadata": {
        "colab_type": "code",
        "id": "Mw43pHvgSEsB",
        "colab": {
          "base_uri": "https://localhost:8080/",
          "height": 346
        },
        "outputId": "2801babd-8ef7-46f1-bfdc-b6148ad7e769"
      },
      "source": [
        "# campaign_type\n",
        "print(camp['campaign_type'].value_counts(normalize=True)*100)   # percentage wise\n",
        "camp['campaign_type'].value_counts(normalize=True).plot.bar(title = \"campaign_type\")"
      ],
      "execution_count": 114,
      "outputs": [
        {
          "output_type": "stream",
          "text": [
            "Y    78.571429\n",
            "X    21.428571\n",
            "Name: campaign_type, dtype: float64\n"
          ],
          "name": "stdout"
        },
        {
          "output_type": "execute_result",
          "data": {
            "text/plain": [
              "<matplotlib.axes._subplots.AxesSubplot at 0x7f33d861def0>"
            ]
          },
          "metadata": {
            "tags": []
          },
          "execution_count": 114
        },
        {
          "output_type": "display_data",
          "data": {
            "image/png": "[encoded data removed]",
            "text/plain": [
              "<Figure size 432x288 with 1 Axes>"
            ]
          },
          "metadata": {
            "tags": [],
            "needs_background": "light"
          }
        }
      ]
    },
    {
      "cell_type": "markdown",
      "metadata": {
        "id": "2KGkJvmx7dZy",
        "colab_type": "text"
      },
      "source": [
        "- `campaign_type` has two categories being 'X' and 'Y' in 21% and ~79% proportion respectively."
      ]
    },
    {
      "cell_type": "code",
      "metadata": {
        "colab_type": "code",
        "id": "6Kfy-y2UTf_3",
        "colab": {
          "base_uri": "https://localhost:8080/",
          "height": 775
        },
        "outputId": "09f7189a-a4f1-4f23-d87a-c83ed95a39e3"
      },
      "source": [
        "# start_date\n",
        "print(camp['start_date'].value_counts(normalize=True)*100)   # percentage wise\n",
        "camp['start_date'].value_counts(normalize=True).plot.bar(title = \"start_date\")"
      ],
      "execution_count": 115,
      "outputs": [
        {
          "output_type": "stream",
          "text": [
            "16/09/13    7.142857\n",
            "21/10/13    7.142857\n",
            "22/04/13    7.142857\n",
            "12/12/12    3.571429\n",
            "22/12/12    3.571429\n",
            "08/04/13    3.571429\n",
            "28/01/13    3.571429\n",
            "17/12/12    3.571429\n",
            "07/01/13    3.571429\n",
            "08/10/13    3.571429\n",
            "15/07/13    3.571429\n",
            "12/08/12    3.571429\n",
            "07/09/13    3.571429\n",
            "08/10/12    3.571429\n",
            "16/09/12    3.571429\n",
            "19/05/13    3.571429\n",
            "02/02/13    3.571429\n",
            "19/11/12    3.571429\n",
            "29/07/13    3.571429\n",
            "16/02/13    3.571429\n",
            "11/03/13    3.571429\n",
            "12/01/13    3.571429\n",
            "25/08/12    3.571429\n",
            "10/08/13    3.571429\n",
            "26/08/13    3.571429\n",
            "Name: start_date, dtype: float64\n"
          ],
          "name": "stdout"
        },
        {
          "output_type": "execute_result",
          "data": {
            "text/plain": [
              "<matplotlib.axes._subplots.AxesSubplot at 0x7f33e46fe6a0>"
            ]
          },
          "metadata": {
            "tags": []
          },
          "execution_count": 115
        },
        {
          "output_type": "display_data",
          "data": {
            "image/png": "[encoded data removed]",
            "text/plain": [
              "<Figure size 432x288 with 1 Axes>"
            ]
          },
          "metadata": {
            "tags": [],
            "needs_background": "light"
          }
        }
      ]
    },
    {
      "cell_type": "code",
      "metadata": {
        "colab_type": "code",
        "id": "ntyH5Oa9Tvi9",
        "colab": {
          "base_uri": "https://localhost:8080/",
          "height": 792
        },
        "outputId": "82f293b0-817b-4ef1-f7ad-462c16c5e07f"
      },
      "source": [
        "# end_date\n",
        "print(camp['end_date'].value_counts(normalize=True)*100)   # percentage wise\n",
        "camp['end_date'].value_counts(normalize=True).plot.bar(title = \"end_date\")"
      ],
      "execution_count": 116,
      "outputs": [
        {
          "output_type": "stream",
          "text": [
            "18/01/13    7.142857\n",
            "18/10/13    7.142857\n",
            "24/05/13    3.571429\n",
            "22/11/13    3.571429\n",
            "07/06/13    3.571429\n",
            "01/03/13    3.571429\n",
            "16/11/12    3.571429\n",
            "16/08/13    3.571429\n",
            "04/01/13    3.571429\n",
            "08/02/13    3.571429\n",
            "16/11/13    3.571429\n",
            "16/02/13    3.571429\n",
            "30/11/12    3.571429\n",
            "10/05/13    3.571429\n",
            "15/02/13    3.571429\n",
            "15/11/13    3.571429\n",
            "05/04/13    3.571429\n",
            "30/08/13    3.571429\n",
            "08/03/13    3.571429\n",
            "21/09/12    3.571429\n",
            "27/10/12    3.571429\n",
            "04/10/13    3.571429\n",
            "27/09/13    3.571429\n",
            "12/04/13    3.571429\n",
            "05/07/13    3.571429\n",
            "20/12/13    3.571429\n",
            "Name: end_date, dtype: float64\n"
          ],
          "name": "stdout"
        },
        {
          "output_type": "execute_result",
          "data": {
            "text/plain": [
              "<matplotlib.axes._subplots.AxesSubplot at 0x7f33d86519b0>"
            ]
          },
          "metadata": {
            "tags": []
          },
          "execution_count": 116
        },
        {
          "output_type": "display_data",
          "data": {
            "image/png": "[encoded data removed]",
            "text/plain": [
              "<Figure size 432x288 with 1 Axes>"
            ]
          },
          "metadata": {
            "tags": [],
            "needs_background": "light"
          }
        }
      ]
    },
    {
      "cell_type": "markdown",
      "metadata": {
        "id": "YYFm2H3e7daC",
        "colab_type": "text"
      },
      "source": [
        "- **16/09/13, 22/04/13, and 21/10/13** carries largest proportion being the starting data of campaigns and **18/01/13, 18/10/13** carries the largest proportion being the ending date for the campaign.\n",
        "\n",
        "- I will convert these dates from object into pandas date time format later for feature engineering and manipulations, like day of week, differences between campaigns, etc."
      ]
    },
    {
      "cell_type": "markdown",
      "metadata": {
        "colab_type": "text",
        "id": "qNZGQwA2UAbc"
      },
      "source": [
        "- **customer demographic data**"
      ]
    },
    {
      "cell_type": "code",
      "metadata": {
        "colab_type": "code",
        "id": "WRbL1_PNT4L8",
        "colab": {
          "base_uri": "https://localhost:8080/",
          "height": 204
        },
        "outputId": "6af2d1ef-e564-4d19-81f8-0d51c69f59d9"
      },
      "source": [
        "demo.head()"
      ],
      "execution_count": 117,
      "outputs": [
        {
          "output_type": "execute_result",
          "data": {
            "text/html": [
              "<div>\n",
              "<style scoped>\n",
              "    .dataframe tbody tr th:only-of-type {\n",
              "        vertical-align: middle;\n",
              "    }\n",
              "\n",
              "    .dataframe tbody tr th {\n",
              "        vertical-align: top;\n",
              "    }\n",
              "\n",
              "    .dataframe thead th {\n",
              "        text-align: right;\n",
              "    }\n",
              "</style>\n",
              "<table border=\"1\" class=\"dataframe\">\n",
              "  <thead>\n",
              "    <tr style=\"text-align: right;\">\n",
              "      <th></th>\n",
              "      <th>customer_id</th>\n",
              "      <th>age_range</th>\n",
              "      <th>marital_status</th>\n",
              "      <th>rented</th>\n",
              "      <th>family_size</th>\n",
              "      <th>no_of_children</th>\n",
              "      <th>income_bracket</th>\n",
              "    </tr>\n",
              "  </thead>\n",
              "  <tbody>\n",
              "    <tr>\n",
              "      <th>0</th>\n",
              "      <td>1</td>\n",
              "      <td>70+</td>\n",
              "      <td>Married</td>\n",
              "      <td>0</td>\n",
              "      <td>2</td>\n",
              "      <td>NaN</td>\n",
              "      <td>4</td>\n",
              "    </tr>\n",
              "    <tr>\n",
              "      <th>1</th>\n",
              "      <td>6</td>\n",
              "      <td>46-55</td>\n",
              "      <td>Married</td>\n",
              "      <td>0</td>\n",
              "      <td>2</td>\n",
              "      <td>NaN</td>\n",
              "      <td>5</td>\n",
              "    </tr>\n",
              "    <tr>\n",
              "      <th>2</th>\n",
              "      <td>7</td>\n",
              "      <td>26-35</td>\n",
              "      <td>NaN</td>\n",
              "      <td>0</td>\n",
              "      <td>3</td>\n",
              "      <td>1</td>\n",
              "      <td>3</td>\n",
              "    </tr>\n",
              "    <tr>\n",
              "      <th>3</th>\n",
              "      <td>8</td>\n",
              "      <td>26-35</td>\n",
              "      <td>NaN</td>\n",
              "      <td>0</td>\n",
              "      <td>4</td>\n",
              "      <td>2</td>\n",
              "      <td>6</td>\n",
              "    </tr>\n",
              "    <tr>\n",
              "      <th>4</th>\n",
              "      <td>10</td>\n",
              "      <td>46-55</td>\n",
              "      <td>Single</td>\n",
              "      <td>0</td>\n",
              "      <td>1</td>\n",
              "      <td>NaN</td>\n",
              "      <td>5</td>\n",
              "    </tr>\n",
              "  </tbody>\n",
              "</table>\n",
              "</div>"
            ],
            "text/plain": [
              "   customer_id age_range  ... no_of_children  income_bracket\n",
              "0            1       70+  ...            NaN               4\n",
              "1            6     46-55  ...            NaN               5\n",
              "2            7     26-35  ...              1               3\n",
              "3            8     26-35  ...              2               6\n",
              "4           10     46-55  ...            NaN               5\n",
              "\n",
              "[5 rows x 7 columns]"
            ]
          },
          "metadata": {
            "tags": []
          },
          "execution_count": 117
        }
      ]
    },
    {
      "cell_type": "code",
      "metadata": {
        "colab_type": "code",
        "id": "-BXyITwKUFAq",
        "colab": {
          "base_uri": "https://localhost:8080/",
          "height": 436
        },
        "outputId": "f86c94da-a882-4261-dbe3-8e299031efa4"
      },
      "source": [
        "# age_range\n",
        "print(demo['age_range'].value_counts(normalize=True)*100)   # percentage wise\n",
        "demo['age_range'].value_counts(normalize=True).plot.bar(title = \"age_range\")"
      ],
      "execution_count": 118,
      "outputs": [
        {
          "output_type": "stream",
          "text": [
            "46-55    35.657895\n",
            "36-45    24.605263\n",
            "26-35    17.105263\n",
            "70+       8.947368\n",
            "56-70     7.763158\n",
            "18-25     5.921053\n",
            "Name: age_range, dtype: float64\n"
          ],
          "name": "stdout"
        },
        {
          "output_type": "execute_result",
          "data": {
            "text/plain": [
              "<matplotlib.axes._subplots.AxesSubplot at 0x7f33e0c54278>"
            ]
          },
          "metadata": {
            "tags": []
          },
          "execution_count": 118
        },
        {
          "output_type": "display_data",
          "data": {
            "image/png": "[encoded data removed]",
            "text/plain": [
              "<Figure size 432x288 with 1 Axes>"
            ]
          },
          "metadata": {
            "tags": [],
            "needs_background": "light"
          }
        }
      ]
    },
    {
      "cell_type": "markdown",
      "metadata": {
        "id": "G2vXFlC-7daP",
        "colab_type": "text"
      },
      "source": [
        "- There are 6 age ranges bins here, `46-55` being the highest and `18-25` being the lowest."
      ]
    },
    {
      "cell_type": "code",
      "metadata": {
        "colab_type": "code",
        "id": "z2deEAvMUdKi",
        "colab": {
          "base_uri": "https://localhost:8080/",
          "height": 378
        },
        "outputId": "a8a61793-93b5-4c35-8db7-6531bae25dce"
      },
      "source": [
        "# marital_status\n",
        "print(demo['marital_status'].value_counts(normalize=True)*100)   # percentage wise\n",
        "demo['marital_status'].value_counts(normalize=True).plot.bar(title = \"marital_status\")"
      ],
      "execution_count": 119,
      "outputs": [
        {
          "output_type": "stream",
          "text": [
            "Married    73.549884\n",
            "Single     26.450116\n",
            "Name: marital_status, dtype: float64\n"
          ],
          "name": "stdout"
        },
        {
          "output_type": "execute_result",
          "data": {
            "text/plain": [
              "<matplotlib.axes._subplots.AxesSubplot at 0x7f33dc7f2ac8>"
            ]
          },
          "metadata": {
            "tags": []
          },
          "execution_count": 119
        },
        {
          "output_type": "display_data",
          "data": {
            "image/png": "[encoded data removed]",
            "text/plain": [
              "<Figure size 432x288 with 1 Axes>"
            ]
          },
          "metadata": {
            "tags": [],
            "needs_background": "light"
          }
        }
      ]
    },
    {
      "cell_type": "markdown",
      "metadata": {
        "id": "la20siC67daV",
        "colab_type": "text"
      },
      "source": [
        "- More than 70% of the population is **Married** here."
      ]
    },
    {
      "cell_type": "code",
      "metadata": {
        "colab_type": "code",
        "id": "5946svwHUjGQ",
        "colab": {
          "base_uri": "https://localhost:8080/",
          "height": 346
        },
        "outputId": "23c20365-1399-4250-c106-b19d0126f81f"
      },
      "source": [
        "# rented\n",
        "print(demo['rented'].value_counts(normalize=True)*100)   # percentage wise\n",
        "demo['rented'].value_counts(normalize=True).plot.bar(title = \"rented\")"
      ],
      "execution_count": 120,
      "outputs": [
        {
          "output_type": "stream",
          "text": [
            "0    94.605263\n",
            "1     5.394737\n",
            "Name: rented, dtype: float64\n"
          ],
          "name": "stdout"
        },
        {
          "output_type": "execute_result",
          "data": {
            "text/plain": [
              "<matplotlib.axes._subplots.AxesSubplot at 0x7f33e0176438>"
            ]
          },
          "metadata": {
            "tags": []
          },
          "execution_count": 120
        },
        {
          "output_type": "display_data",
          "data": {
            "image/png": "[encoded data removed]",
            "text/plain": [
              "<Figure size 432x288 with 1 Axes>"
            ]
          },
          "metadata": {
            "tags": [],
            "needs_background": "light"
          }
        }
      ]
    },
    {
      "cell_type": "markdown",
      "metadata": {
        "id": "S-7Xq1wr7dae",
        "colab_type": "text"
      },
      "source": [
        "- Only 5.39% of the people live in rented houses, suggests good stability of the people."
      ]
    },
    {
      "cell_type": "code",
      "metadata": {
        "colab_type": "code",
        "id": "_hQ6KGuzUo6e",
        "colab": {
          "base_uri": "https://localhost:8080/",
          "height": 522
        },
        "outputId": "79f7f59c-7982-41ab-bffe-b3f77c8f337e"
      },
      "source": [
        "# income_bracket\n",
        "print(demo['income_bracket'].value_counts(normalize=True)*100)   # percentage wise\n",
        "demo['income_bracket'].value_counts(normalize=True).plot.bar(title = \"income_bracket\")"
      ],
      "execution_count": 121,
      "outputs": [
        {
          "output_type": "stream",
          "text": [
            "5     24.605263\n",
            "4     21.710526\n",
            "6     11.578947\n",
            "3      9.210526\n",
            "2      8.947368\n",
            "1      7.763158\n",
            "8      4.868421\n",
            "7      4.210526\n",
            "9      3.815789\n",
            "12     1.315789\n",
            "10     1.315789\n",
            "11     0.657895\n",
            "Name: income_bracket, dtype: float64\n"
          ],
          "name": "stdout"
        },
        {
          "output_type": "execute_result",
          "data": {
            "text/plain": [
              "<matplotlib.axes._subplots.AxesSubplot at 0x7f33e32b9d68>"
            ]
          },
          "metadata": {
            "tags": []
          },
          "execution_count": 121
        },
        {
          "output_type": "display_data",
          "data": {
            "image/png": "[encoded data removed]",
            "text/plain": [
              "<Figure size 432x288 with 1 Axes>"
            ]
          },
          "metadata": {
            "tags": [],
            "needs_background": "light"
          }
        }
      ]
    },
    {
      "cell_type": "markdown",
      "metadata": {
        "id": "dtLz5x4z7dap",
        "colab_type": "text"
      },
      "source": [
        "- 12 income brackets are there and majority of people lies in 5th income bracket."
      ]
    },
    {
      "cell_type": "code",
      "metadata": {
        "colab_type": "code",
        "id": "MxDoLsWUUzGZ",
        "colab": {
          "base_uri": "https://localhost:8080/",
          "height": 405
        },
        "outputId": "826a56a4-c34d-43d1-e6f6-15d2840e4ba5"
      },
      "source": [
        "# family_size\n",
        "print(demo['family_size'].value_counts(normalize=True)*100)   # percentage wise\n",
        "demo['family_size'].value_counts(normalize=True).plot.bar(title = \"family_size\")"
      ],
      "execution_count": 122,
      "outputs": [
        {
          "output_type": "stream",
          "text": [
            "2     39.868421\n",
            "1     32.631579\n",
            "3     13.684211\n",
            "5+     7.500000\n",
            "4      6.315789\n",
            "Name: family_size, dtype: float64\n"
          ],
          "name": "stdout"
        },
        {
          "output_type": "execute_result",
          "data": {
            "text/plain": [
              "<matplotlib.axes._subplots.AxesSubplot at 0x7f33d7db6c88>"
            ]
          },
          "metadata": {
            "tags": []
          },
          "execution_count": 122
        },
        {
          "output_type": "display_data",
          "data": {
            "image/png": "[encoded data removed]",
            "text/plain": [
              "<Figure size 432x288 with 1 Axes>"
            ]
          },
          "metadata": {
            "tags": [],
            "needs_background": "light"
          }
        }
      ]
    },
    {
      "cell_type": "markdown",
      "metadata": {
        "id": "7Po-_LJP7da2",
        "colab_type": "text"
      },
      "source": [
        "- 5 categories for family sizes where **2** being the majority."
      ]
    },
    {
      "cell_type": "code",
      "metadata": {
        "colab_type": "code",
        "id": "_qLLVZ9XVDBn",
        "colab": {
          "base_uri": "https://localhost:8080/",
          "height": 371
        },
        "outputId": "fe75b624-fc74-4de2-8109-47d105090e72"
      },
      "source": [
        "# no_of_children\n",
        "print(demo['no_of_children'].value_counts(normalize=True)*100)   # percentage wise\n",
        "demo['no_of_children'].value_counts(normalize=True).plot.bar(title = \"no_of_children\")"
      ],
      "execution_count": 123,
      "outputs": [
        {
          "output_type": "stream",
          "text": [
            "1     48.198198\n",
            "3+    27.027027\n",
            "2     24.774775\n",
            "Name: no_of_children, dtype: float64\n"
          ],
          "name": "stdout"
        },
        {
          "output_type": "execute_result",
          "data": {
            "text/plain": [
              "<matplotlib.axes._subplots.AxesSubplot at 0x7f33dff443c8>"
            ]
          },
          "metadata": {
            "tags": []
          },
          "execution_count": 123
        },
        {
          "output_type": "display_data",
          "data": {
            "image/png": "[encoded data removed]",
            "text/plain": [
              "<Figure size 432x288 with 1 Axes>"
            ]
          },
          "metadata": {
            "tags": [],
            "needs_background": "light"
          }
        }
      ]
    },
    {
      "cell_type": "markdown",
      "metadata": {
        "id": "MfdhNY9c7da9",
        "colab_type": "text"
      },
      "source": [
        "- 3 categories in number of children."
      ]
    },
    {
      "cell_type": "markdown",
      "metadata": {
        "colab_type": "text",
        "id": "GnCM4FjKVq-V"
      },
      "source": [
        "- **customer_transaction_data**"
      ]
    },
    {
      "cell_type": "code",
      "metadata": {
        "colab_type": "code",
        "id": "C3ob5ltqV2Cy",
        "colab": {
          "base_uri": "https://localhost:8080/",
          "height": 204
        },
        "outputId": "835ebe38-4720-4c11-9aa3-febed2d9db23"
      },
      "source": [
        "trans.head()"
      ],
      "execution_count": 124,
      "outputs": [
        {
          "output_type": "execute_result",
          "data": {
            "text/html": [
              "<div>\n",
              "<style scoped>\n",
              "    .dataframe tbody tr th:only-of-type {\n",
              "        vertical-align: middle;\n",
              "    }\n",
              "\n",
              "    .dataframe tbody tr th {\n",
              "        vertical-align: top;\n",
              "    }\n",
              "\n",
              "    .dataframe thead th {\n",
              "        text-align: right;\n",
              "    }\n",
              "</style>\n",
              "<table border=\"1\" class=\"dataframe\">\n",
              "  <thead>\n",
              "    <tr style=\"text-align: right;\">\n",
              "      <th></th>\n",
              "      <th>date</th>\n",
              "      <th>customer_id</th>\n",
              "      <th>item_id</th>\n",
              "      <th>quantity</th>\n",
              "      <th>selling_price</th>\n",
              "      <th>other_discount</th>\n",
              "      <th>coupon_discount</th>\n",
              "    </tr>\n",
              "  </thead>\n",
              "  <tbody>\n",
              "    <tr>\n",
              "      <th>0</th>\n",
              "      <td>2012-01-02</td>\n",
              "      <td>1501</td>\n",
              "      <td>26830</td>\n",
              "      <td>1</td>\n",
              "      <td>35.26</td>\n",
              "      <td>-10.69</td>\n",
              "      <td>0.0</td>\n",
              "    </tr>\n",
              "    <tr>\n",
              "      <th>1</th>\n",
              "      <td>2012-01-02</td>\n",
              "      <td>1501</td>\n",
              "      <td>54253</td>\n",
              "      <td>1</td>\n",
              "      <td>53.43</td>\n",
              "      <td>-13.89</td>\n",
              "      <td>0.0</td>\n",
              "    </tr>\n",
              "    <tr>\n",
              "      <th>2</th>\n",
              "      <td>2012-01-02</td>\n",
              "      <td>1501</td>\n",
              "      <td>31962</td>\n",
              "      <td>1</td>\n",
              "      <td>106.50</td>\n",
              "      <td>-14.25</td>\n",
              "      <td>0.0</td>\n",
              "    </tr>\n",
              "    <tr>\n",
              "      <th>3</th>\n",
              "      <td>2012-01-02</td>\n",
              "      <td>1501</td>\n",
              "      <td>33647</td>\n",
              "      <td>1</td>\n",
              "      <td>67.32</td>\n",
              "      <td>0.00</td>\n",
              "      <td>0.0</td>\n",
              "    </tr>\n",
              "    <tr>\n",
              "      <th>4</th>\n",
              "      <td>2012-01-02</td>\n",
              "      <td>1501</td>\n",
              "      <td>48199</td>\n",
              "      <td>1</td>\n",
              "      <td>71.24</td>\n",
              "      <td>-28.14</td>\n",
              "      <td>0.0</td>\n",
              "    </tr>\n",
              "  </tbody>\n",
              "</table>\n",
              "</div>"
            ],
            "text/plain": [
              "         date  customer_id  ...  other_discount  coupon_discount\n",
              "0  2012-01-02         1501  ...          -10.69              0.0\n",
              "1  2012-01-02         1501  ...          -13.89              0.0\n",
              "2  2012-01-02         1501  ...          -14.25              0.0\n",
              "3  2012-01-02         1501  ...            0.00              0.0\n",
              "4  2012-01-02         1501  ...          -28.14              0.0\n",
              "\n",
              "[5 rows x 7 columns]"
            ]
          },
          "metadata": {
            "tags": []
          },
          "execution_count": 124
        }
      ]
    },
    {
      "cell_type": "code",
      "metadata": {
        "colab_type": "code",
        "id": "Bd3A_J7hVJ3E",
        "colab": {}
      },
      "source": [
        "# # trans\n",
        "# print(trans['date'].value_counts(normalize=True)*100)   # percentage wise\n",
        "# trans['date'].value_counts(normalize=True).plot.bar(title = \"date\")"
      ],
      "execution_count": 125,
      "outputs": []
    },
    {
      "cell_type": "code",
      "metadata": {
        "colab_type": "code",
        "id": "CBBKzN2MWEzA",
        "colab": {
          "base_uri": "https://localhost:8080/",
          "height": 279
        },
        "outputId": "e07e0ebd-05db-472c-86aa-95c5e6332490"
      },
      "source": [
        "# distplot gives the histogram\n",
        "plt.figure(1)\n",
        "plt.subplot(121)\n",
        "sns.distplot(trans['quantity']);\n",
        "plt.subplot(122)\n",
        "trans['quantity'].plot.box(figsize=(15,4)) \n",
        "plt.show()"
      ],
      "execution_count": 126,
      "outputs": [
        {
          "output_type": "display_data",
          "data": {
            "image/png": "[encoded data removed]",
            "text/plain": [
              "<Figure size 1080x288 with 2 Axes>"
            ]
          },
          "metadata": {
            "tags": [],
            "needs_background": "light"
          }
        }
      ]
    },
    {
      "cell_type": "markdown",
      "metadata": {
        "id": "nHIPCW__7dbQ",
        "colab_type": "text"
      },
      "source": [
        "- Unimodal"
      ]
    },
    {
      "cell_type": "code",
      "metadata": {
        "colab_type": "code",
        "id": "Bd6FHqZqWlku",
        "colab": {
          "base_uri": "https://localhost:8080/",
          "height": 280
        },
        "outputId": "69796598-1ce7-48db-899a-b7edfe0bd670"
      },
      "source": [
        "# distplot gives the histogram\n",
        "plt.figure(1)\n",
        "plt.subplot(121)\n",
        "sns.distplot(trans['selling_price']);\n",
        "plt.subplot(122)\n",
        "trans['selling_price'].plot.box(figsize=(15,4)) \n",
        "plt.show()"
      ],
      "execution_count": 127,
      "outputs": [
        {
          "output_type": "display_data",
          "data": {
            "image/png": "[encoded data removed]",
            "text/plain": [
              "<Figure size 1080x288 with 2 Axes>"
            ]
          },
          "metadata": {
            "tags": [],
            "needs_background": "light"
          }
        }
      ]
    },
    {
      "cell_type": "markdown",
      "metadata": {
        "id": "NfLxqk867dbY",
        "colab_type": "text"
      },
      "source": [
        "- Again, Unimodal data"
      ]
    },
    {
      "cell_type": "code",
      "metadata": {
        "colab_type": "code",
        "id": "bv5Yh_vsXLSd",
        "colab": {
          "base_uri": "https://localhost:8080/",
          "height": 280
        },
        "outputId": "faefa728-82ff-464f-a819-aa8e4f13af4c"
      },
      "source": [
        "# other_discount\n",
        "# distplot gives the histogram\n",
        "plt.figure(1)\n",
        "plt.subplot(121)\n",
        "sns.distplot(trans['other_discount']);\n",
        "plt.subplot(122)\n",
        "trans['other_discount'].plot.box(figsize=(15,4)) \n",
        "plt.show()"
      ],
      "execution_count": 128,
      "outputs": [
        {
          "output_type": "display_data",
          "data": {
            "image/png": "[encoded data removed]",
            "text/plain": [
              "<Figure size 1080x288 with 2 Axes>"
            ]
          },
          "metadata": {
            "tags": [],
            "needs_background": "light"
          }
        }
      ]
    },
    {
      "cell_type": "code",
      "metadata": {
        "colab_type": "code",
        "id": "6dxsVy4VXTaS",
        "colab": {
          "base_uri": "https://localhost:8080/",
          "height": 280
        },
        "outputId": "0920e6e8-61c2-4de1-ace6-e474d4380286"
      },
      "source": [
        "# distplot gives the histogram\n",
        "plt.figure(1)\n",
        "plt.subplot(121)\n",
        "sns.distplot(trans['coupon_discount']);\n",
        "plt.subplot(122)\n",
        "trans['coupon_discount'].plot.box(figsize=(15,4)) \n",
        "plt.show()"
      ],
      "execution_count": 129,
      "outputs": [
        {
          "output_type": "display_data",
          "data": {
            "image/png": "[encoded data removed]",
            "text/plain": [
              "<Figure size 1080x288 with 2 Axes>"
            ]
          },
          "metadata": {
            "tags": [],
            "needs_background": "light"
          }
        }
      ]
    },
    {
      "cell_type": "markdown",
      "metadata": {
        "colab_type": "text",
        "id": "zlM1uC2FXuHl"
      },
      "source": [
        "- **item_data**"
      ]
    },
    {
      "cell_type": "code",
      "metadata": {
        "colab_type": "code",
        "id": "-4FdK0GSXfkj",
        "colab": {
          "base_uri": "https://localhost:8080/",
          "height": 204
        },
        "outputId": "c5f27b72-95ce-417a-b452-b668f04599aa"
      },
      "source": [
        "item.head()"
      ],
      "execution_count": 130,
      "outputs": [
        {
          "output_type": "execute_result",
          "data": {
            "text/html": [
              "<div>\n",
              "<style scoped>\n",
              "    .dataframe tbody tr th:only-of-type {\n",
              "        vertical-align: middle;\n",
              "    }\n",
              "\n",
              "    .dataframe tbody tr th {\n",
              "        vertical-align: top;\n",
              "    }\n",
              "\n",
              "    .dataframe thead th {\n",
              "        text-align: right;\n",
              "    }\n",
              "</style>\n",
              "<table border=\"1\" class=\"dataframe\">\n",
              "  <thead>\n",
              "    <tr style=\"text-align: right;\">\n",
              "      <th></th>\n",
              "      <th>item_id</th>\n",
              "      <th>brand</th>\n",
              "      <th>brand_type</th>\n",
              "      <th>category</th>\n",
              "    </tr>\n",
              "  </thead>\n",
              "  <tbody>\n",
              "    <tr>\n",
              "      <th>0</th>\n",
              "      <td>1</td>\n",
              "      <td>1</td>\n",
              "      <td>Established</td>\n",
              "      <td>Grocery</td>\n",
              "    </tr>\n",
              "    <tr>\n",
              "      <th>1</th>\n",
              "      <td>2</td>\n",
              "      <td>1</td>\n",
              "      <td>Established</td>\n",
              "      <td>Miscellaneous</td>\n",
              "    </tr>\n",
              "    <tr>\n",
              "      <th>2</th>\n",
              "      <td>3</td>\n",
              "      <td>56</td>\n",
              "      <td>Local</td>\n",
              "      <td>Bakery</td>\n",
              "    </tr>\n",
              "    <tr>\n",
              "      <th>3</th>\n",
              "      <td>4</td>\n",
              "      <td>56</td>\n",
              "      <td>Local</td>\n",
              "      <td>Grocery</td>\n",
              "    </tr>\n",
              "    <tr>\n",
              "      <th>4</th>\n",
              "      <td>5</td>\n",
              "      <td>56</td>\n",
              "      <td>Local</td>\n",
              "      <td>Grocery</td>\n",
              "    </tr>\n",
              "  </tbody>\n",
              "</table>\n",
              "</div>"
            ],
            "text/plain": [
              "   item_id  brand   brand_type       category\n",
              "0        1      1  Established        Grocery\n",
              "1        2      1  Established  Miscellaneous\n",
              "2        3     56        Local         Bakery\n",
              "3        4     56        Local        Grocery\n",
              "4        5     56        Local        Grocery"
            ]
          },
          "metadata": {
            "tags": []
          },
          "execution_count": 130
        }
      ]
    },
    {
      "cell_type": "code",
      "metadata": {
        "colab_type": "code",
        "id": "y6_dh8H2X0wk",
        "colab": {
          "base_uri": "https://localhost:8080/",
          "height": 279
        },
        "outputId": "d3f5719e-7a8b-44c9-91fc-f9558e13f239"
      },
      "source": [
        "# distplot gives the histogram\n",
        "plt.figure(1)\n",
        "plt.subplot(121)\n",
        "sns.distplot(item['brand']);\n",
        "plt.subplot(122)\n",
        "item['brand'].plot.box(figsize=(15,4)) \n",
        "plt.show()"
      ],
      "execution_count": 131,
      "outputs": [
        {
          "output_type": "display_data",
          "data": {
            "image/png": "[encoded data removed]",
            "text/plain": [
              "<Figure size 1080x288 with 2 Axes>"
            ]
          },
          "metadata": {
            "tags": [],
            "needs_background": "light"
          }
        }
      ]
    },
    {
      "cell_type": "code",
      "metadata": {
        "id": "V09vM3_h7dbt",
        "colab_type": "code",
        "colab": {
          "base_uri": "https://localhost:8080/",
          "height": 34
        },
        "outputId": "c090219b-e26a-4625-a163-5c0e81f399bc"
      },
      "source": [
        "item['brand'].nunique()"
      ],
      "execution_count": 132,
      "outputs": [
        {
          "output_type": "execute_result",
          "data": {
            "text/plain": [
              "5528"
            ]
          },
          "metadata": {
            "tags": []
          },
          "execution_count": 132
        }
      ]
    },
    {
      "cell_type": "markdown",
      "metadata": {
        "id": "ZdU4074y7dbw",
        "colab_type": "text"
      },
      "source": [
        "- Though 'brand' is an int64 dtype but, I will use it as a categorical variable denoting the Brand Names like `Cadbury`, `CocoCola`, etc. being 5528 different brands in total."
      ]
    },
    {
      "cell_type": "code",
      "metadata": {
        "colab_type": "code",
        "id": "I4yXuIbIYA7B",
        "colab": {
          "base_uri": "https://localhost:8080/",
          "height": 397
        },
        "outputId": "174f4de5-8b67-4779-af62-dc9f2c0e37bb"
      },
      "source": [
        "# brand_type\n",
        "print(item['brand_type'].value_counts(normalize=True)*100)   # percentage wise\n",
        "item['brand_type'].value_counts(normalize=True).plot.bar(title = \"brand_type\")"
      ],
      "execution_count": 133,
      "outputs": [
        {
          "output_type": "stream",
          "text": [
            "Established    84.845948\n",
            "Local          15.154052\n",
            "Name: brand_type, dtype: float64\n"
          ],
          "name": "stdout"
        },
        {
          "output_type": "execute_result",
          "data": {
            "text/plain": [
              "<matplotlib.axes._subplots.AxesSubplot at 0x7f33da7c1320>"
            ]
          },
          "metadata": {
            "tags": []
          },
          "execution_count": 133
        },
        {
          "output_type": "display_data",
          "data": {
            "image/png": "[encoded data removed]",
            "text/plain": [
              "<Figure size 432x288 with 1 Axes>"
            ]
          },
          "metadata": {
            "tags": [],
            "needs_background": "light"
          }
        }
      ]
    },
    {
      "cell_type": "markdown",
      "metadata": {
        "id": "lPi4Xe_n7dbz",
        "colab_type": "text"
      },
      "source": [
        "- **brand_type** being 84% Established brands in the items store. More Established brands are there as compared to Local brands."
      ]
    },
    {
      "cell_type": "code",
      "metadata": {
        "colab_type": "code",
        "id": "jmZffUVgYQtR",
        "colab": {
          "base_uri": "https://localhost:8080/",
          "height": 740
        },
        "outputId": "c30d1f65-4136-49bd-b4ba-d1ecdca79fd8"
      },
      "source": [
        "# category\n",
        "print(item['category'].value_counts(normalize=True)*100)   # percentage wise\n",
        "item['category'].value_counts(normalize=True).plot.bar(title = \"category\")"
      ],
      "execution_count": 134,
      "outputs": [
        {
          "output_type": "stream",
          "text": [
            "Grocery                   43.809575\n",
            "Pharmaceutical            33.039451\n",
            "Natural Products           3.419923\n",
            "Dairy, Juices & Snacks     3.274107\n",
            "Skin & Hair Care           3.029730\n",
            "Meat                       2.808306\n",
            "Packaged Meat              2.654389\n",
            "Prepared Food              2.538277\n",
            "Bakery                     2.266897\n",
            "Seafood                    0.982907\n",
            "Flowers & Plants           0.896498\n",
            "Miscellaneous              0.519807\n",
            "Alcohol                    0.409095\n",
            "Garden                     0.137715\n",
            "Restauarant                0.105311\n",
            "Salads                     0.054006\n",
            "Travel                     0.025653\n",
            "Fuel                       0.018902\n",
            "Vegetables (cut)           0.009451\n",
            "Name: category, dtype: float64\n"
          ],
          "name": "stdout"
        },
        {
          "output_type": "execute_result",
          "data": {
            "text/plain": [
              "<matplotlib.axes._subplots.AxesSubplot at 0x7f33da79bf98>"
            ]
          },
          "metadata": {
            "tags": []
          },
          "execution_count": 134
        },
        {
          "output_type": "display_data",
          "data": {
            "image/png": "[encoded data removed]",
            "text/plain": [
              "<Figure size 432x288 with 1 Axes>"
            ]
          },
          "metadata": {
            "tags": [],
            "needs_background": "light"
          }
        }
      ]
    },
    {
      "cell_type": "code",
      "metadata": {
        "id": "DYHDs9IU7db2",
        "colab_type": "code",
        "colab": {
          "base_uri": "https://localhost:8080/",
          "height": 34
        },
        "outputId": "ece00a77-04b6-4aa4-efdf-c0148291596e"
      },
      "source": [
        "item['category'].nunique()"
      ],
      "execution_count": 135,
      "outputs": [
        {
          "output_type": "execute_result",
          "data": {
            "text/plain": [
              "19"
            ]
          },
          "metadata": {
            "tags": []
          },
          "execution_count": 135
        }
      ]
    },
    {
      "cell_type": "markdown",
      "metadata": {
        "id": "8pIrq4v87db4",
        "colab_type": "text"
      },
      "source": [
        "- There are **19** unique categories for items in the store and `Grocery`, `Pharmaceutical` are present in the largest proportion."
      ]
    },
    {
      "cell_type": "markdown",
      "metadata": {
        "colab_type": "text",
        "id": "DansF47aYjUK"
      },
      "source": [
        "**BIVARIATE ANALYSIS**"
      ]
    },
    {
      "cell_type": "code",
      "metadata": {
        "colab_type": "code",
        "id": "NmmWddMcZUjv",
        "colab": {
          "base_uri": "https://localhost:8080/",
          "height": 332
        },
        "outputId": "e23f0060-0a05-4a78-909e-122845260ba6"
      },
      "source": [
        "plt.figure(figsize=(10,10))\n",
        "df = pd.crosstab(demo['age_range'],demo['marital_status'])\n",
        "df.plot(kind='bar', stacked= True ,color =['green','orange'],grid=False)"
      ],
      "execution_count": 136,
      "outputs": [
        {
          "output_type": "execute_result",
          "data": {
            "text/plain": [
              "<matplotlib.axes._subplots.AxesSubplot at 0x7f33dcb6cfd0>"
            ]
          },
          "metadata": {
            "tags": []
          },
          "execution_count": 136
        },
        {
          "output_type": "display_data",
          "data": {
            "text/plain": [
              "<Figure size 720x720 with 0 Axes>"
            ]
          },
          "metadata": {
            "tags": []
          }
        },
        {
          "output_type": "display_data",
          "data": {
            "image/png": "[encoded data removed]",
            "text/plain": [
              "<Figure size 432x288 with 1 Axes>"
            ]
          },
          "metadata": {
            "tags": [],
            "needs_background": "light"
          }
        }
      ]
    },
    {
      "cell_type": "markdown",
      "metadata": {
        "id": "yROBjdVl7dcB",
        "colab_type": "text"
      },
      "source": [
        "- Across all age ranges, Married people are present in the majority."
      ]
    },
    {
      "cell_type": "code",
      "metadata": {
        "colab_type": "code",
        "id": "Jf0SxgFDaw02",
        "colab": {
          "base_uri": "https://localhost:8080/",
          "height": 332
        },
        "outputId": "6928f9c1-bb1a-4515-d95c-9bf4056ce25a"
      },
      "source": [
        "plt.figure(figsize=(10,10))\n",
        "df = pd.crosstab(demo['age_range'],demo['rented'])\n",
        "df.plot(kind='bar', stacked= True ,color =['green','orange'],grid=False)"
      ],
      "execution_count": 137,
      "outputs": [
        {
          "output_type": "execute_result",
          "data": {
            "text/plain": [
              "<matplotlib.axes._subplots.AxesSubplot at 0x7f33e12629b0>"
            ]
          },
          "metadata": {
            "tags": []
          },
          "execution_count": 137
        },
        {
          "output_type": "display_data",
          "data": {
            "text/plain": [
              "<Figure size 720x720 with 0 Axes>"
            ]
          },
          "metadata": {
            "tags": []
          }
        },
        {
          "output_type": "display_data",
          "data": {
            "image/png": "[encoded data removed]",
            "text/plain": [
              "<Figure size 432x288 with 1 Axes>"
            ]
          },
          "metadata": {
            "tags": [],
            "needs_background": "light"
          }
        }
      ]
    },
    {
      "cell_type": "markdown",
      "metadata": {
        "id": "7AvON_aW7dcE",
        "colab_type": "text"
      },
      "source": [
        "- Across all age ranges, people live in their own houses."
      ]
    },
    {
      "cell_type": "code",
      "metadata": {
        "colab_type": "code",
        "id": "OF0XVqPobAuP",
        "colab": {
          "base_uri": "https://localhost:8080/",
          "height": 332
        },
        "outputId": "59dc4bb6-45d4-40c4-a5d3-612e87855e36"
      },
      "source": [
        "plt.figure(figsize=(10,10))\n",
        "df = pd.crosstab(demo['age_range'],demo['family_size'])\n",
        "df.plot(kind='bar', stacked= True ,color =['green','orange', 'blue', 'red', 'yellow'],grid=False)"
      ],
      "execution_count": 138,
      "outputs": [
        {
          "output_type": "execute_result",
          "data": {
            "text/plain": [
              "<matplotlib.axes._subplots.AxesSubplot at 0x7f33e31e85f8>"
            ]
          },
          "metadata": {
            "tags": []
          },
          "execution_count": 138
        },
        {
          "output_type": "display_data",
          "data": {
            "text/plain": [
              "<Figure size 720x720 with 0 Axes>"
            ]
          },
          "metadata": {
            "tags": []
          }
        },
        {
          "output_type": "display_data",
          "data": {
            "image/png": "[encoded data removed]",
            "text/plain": [
              "<Figure size 432x288 with 1 Axes>"
            ]
          },
          "metadata": {
            "tags": [],
            "needs_background": "light"
          }
        }
      ]
    },
    {
      "cell_type": "markdown",
      "metadata": {
        "id": "NVKXWJfA7dcL",
        "colab_type": "text"
      },
      "source": [
        "- Family size of `2` is majorly present."
      ]
    },
    {
      "cell_type": "code",
      "metadata": {
        "colab_type": "code",
        "id": "2Eac9N1xbGIY",
        "colab": {
          "base_uri": "https://localhost:8080/",
          "height": 332
        },
        "outputId": "553c3a37-9bde-4e1d-915f-23f750587abd"
      },
      "source": [
        "plt.figure(figsize=(10,10))\n",
        "df = pd.crosstab(demo['age_range'],demo['no_of_children'])\n",
        "df.plot(kind='bar', stacked= True ,color =['green','orange', 'yellow'],grid=False)"
      ],
      "execution_count": 139,
      "outputs": [
        {
          "output_type": "execute_result",
          "data": {
            "text/plain": [
              "<matplotlib.axes._subplots.AxesSubplot at 0x7f33d786dfd0>"
            ]
          },
          "metadata": {
            "tags": []
          },
          "execution_count": 139
        },
        {
          "output_type": "display_data",
          "data": {
            "text/plain": [
              "<Figure size 720x720 with 0 Axes>"
            ]
          },
          "metadata": {
            "tags": []
          }
        },
        {
          "output_type": "display_data",
          "data": {
            "image/png": "[encoded data removed]",
            "text/plain": [
              "<Figure size 432x288 with 1 Axes>"
            ]
          },
          "metadata": {
            "tags": [],
            "needs_background": "light"
          }
        }
      ]
    },
    {
      "cell_type": "markdown",
      "metadata": {
        "id": "R2XtPwku7dcR",
        "colab_type": "text"
      },
      "source": [
        "- maximum people have `1` child, followed by `3+`, majorly."
      ]
    },
    {
      "cell_type": "code",
      "metadata": {
        "colab_type": "code",
        "id": "kYJuWVgIbgcX",
        "colab": {
          "base_uri": "https://localhost:8080/",
          "height": 332
        },
        "outputId": "bf02521e-b3af-4130-8bdd-518b10ddc9b3"
      },
      "source": [
        "# income_bracket\n",
        "plt.figure(figsize=(10,10))\n",
        "df = pd.crosstab(demo['age_range'],demo['income_bracket'])\n",
        "df.plot(kind='bar', stacked= True ,color =['green','orange', 'yellow','blue', 'red', 'cyan', 'magenta', 'dimgrey', 'darkviolet', 'darkgreen', 'orchid', 'lightgreen'],grid=False)"
      ],
      "execution_count": 140,
      "outputs": [
        {
          "output_type": "execute_result",
          "data": {
            "text/plain": [
              "<matplotlib.axes._subplots.AxesSubplot at 0x7f33db744a90>"
            ]
          },
          "metadata": {
            "tags": []
          },
          "execution_count": 140
        },
        {
          "output_type": "display_data",
          "data": {
            "text/plain": [
              "<Figure size 720x720 with 0 Axes>"
            ]
          },
          "metadata": {
            "tags": []
          }
        },
        {
          "output_type": "display_data",
          "data": {
            "image/png": "[encoded data removed]",
            "text/plain": [
              "<Figure size 432x288 with 1 Axes>"
            ]
          },
          "metadata": {
            "tags": [],
            "needs_background": "light"
          }
        }
      ]
    },
    {
      "cell_type": "code",
      "metadata": {
        "colab_type": "code",
        "id": "2dlnKdnPbtpy",
        "colab": {
          "base_uri": "https://localhost:8080/",
          "height": 372
        },
        "outputId": "717194ae-ea6d-40dd-dfe9-06a343438e16"
      },
      "source": [
        "plt.title('Correlation Matrix')\n",
        "sns.heatmap(trans.corr(),annot=True)"
      ],
      "execution_count": 141,
      "outputs": [
        {
          "output_type": "execute_result",
          "data": {
            "text/plain": [
              "<matplotlib.axes._subplots.AxesSubplot at 0x7f33d9adc7b8>"
            ]
          },
          "metadata": {
            "tags": []
          },
          "execution_count": 141
        },
        {
          "output_type": "display_data",
          "data": {
            "image/png": "[encoded data removed]",
            "text/plain": [
              "<Figure size 432x288 with 2 Axes>"
            ]
          },
          "metadata": {
            "tags": [],
            "needs_background": "light"
          }
        }
      ]
    },
    {
      "cell_type": "markdown",
      "metadata": {
        "id": "btQa2qqH7dcY",
        "colab_type": "text"
      },
      "source": [
        "- high correlation between selling price and quantity."
      ]
    },
    {
      "cell_type": "markdown",
      "metadata": {
        "colab_type": "text",
        "id": "Bk0GDAGpeGz0"
      },
      "source": [
        "**FINDING DUPLICATED ROWS BASED ON ALL COLUMNS**"
      ]
    },
    {
      "cell_type": "code",
      "metadata": {
        "colab_type": "code",
        "id": "XWMt7K5tdCOW",
        "colab": {
          "base_uri": "https://localhost:8080/",
          "height": 85
        },
        "outputId": "6252254b-459b-4a97-e270-30bd2bf72081"
      },
      "source": [
        "# Select duplicate rows except first occurrence based on all columns\n",
        "duplicateRowsDF_camp = camp[camp.duplicated()]\n",
        "print(\"Duplicate Rows except first occurrence based on all columns are :\")\n",
        "print(duplicateRowsDF_camp)"
      ],
      "execution_count": 142,
      "outputs": [
        {
          "output_type": "stream",
          "text": [
            "Duplicate Rows except first occurrence based on all columns are :\n",
            "Empty DataFrame\n",
            "Columns: [campaign_id, campaign_type, start_date, end_date]\n",
            "Index: []\n"
          ],
          "name": "stdout"
        }
      ]
    },
    {
      "cell_type": "code",
      "metadata": {
        "colab_type": "code",
        "id": "693HJQp4eWqU",
        "colab": {
          "base_uri": "https://localhost:8080/",
          "height": 85
        },
        "outputId": "577e8947-be7c-4711-d4f9-322c0f85212a"
      },
      "source": [
        "# Select duplicate rows except first occurrence based on all columns\n",
        "duplicateRowsDF_coupon = coupon[coupon.duplicated()]\n",
        "print(\"Duplicate Rows except first occurrence based on all columns are :\")\n",
        "print(duplicateRowsDF_coupon)"
      ],
      "execution_count": 143,
      "outputs": [
        {
          "output_type": "stream",
          "text": [
            "Duplicate Rows except first occurrence based on all columns are :\n",
            "Empty DataFrame\n",
            "Columns: [coupon_id, item_id]\n",
            "Index: []\n"
          ],
          "name": "stdout"
        }
      ]
    },
    {
      "cell_type": "code",
      "metadata": {
        "colab_type": "code",
        "id": "cIL9eMUkeay-",
        "colab": {
          "base_uri": "https://localhost:8080/",
          "height": 85
        },
        "outputId": "715c2be3-f0bc-48c1-edb2-4b13537ef8ce"
      },
      "source": [
        "# Select duplicate rows except first occurrence based on all columns\n",
        "duplicateRowsDF_demo = demo[demo.duplicated()]\n",
        "print(\"Duplicate Rows except first occurrence based on all columns are :\")\n",
        "print(duplicateRowsDF_demo)"
      ],
      "execution_count": 144,
      "outputs": [
        {
          "output_type": "stream",
          "text": [
            "Duplicate Rows except first occurrence based on all columns are :\n",
            "Empty DataFrame\n",
            "Columns: [customer_id, age_range, marital_status, rented, family_size, no_of_children, income_bracket]\n",
            "Index: []\n"
          ],
          "name": "stdout"
        }
      ]
    },
    {
      "cell_type": "code",
      "metadata": {
        "colab_type": "code",
        "id": "Y_g-Fk3DeoGd",
        "colab": {
          "base_uri": "https://localhost:8080/",
          "height": 272
        },
        "outputId": "3043d7fb-3572-4052-f10b-f4db41b31f42"
      },
      "source": [
        "# Select duplicate rows except first occurrence based on all columns\n",
        "duplicateRowsDF_trans = trans[trans.duplicated()]\n",
        "print(\"Duplicate Rows except first occurrence based on all columns are :\")\n",
        "print(duplicateRowsDF_trans)"
      ],
      "execution_count": 145,
      "outputs": [
        {
          "output_type": "stream",
          "text": [
            "Duplicate Rows except first occurrence based on all columns are :\n",
            "               date  customer_id  ...  other_discount  coupon_discount\n",
            "5465     2012-01-19          801  ...         -159.22             0.00\n",
            "5497     2012-01-19          814  ...            0.00             0.00\n",
            "5502     2012-01-19          814  ...            0.00             0.00\n",
            "5514     2012-01-19          433  ...          -17.45             0.00\n",
            "6038     2012-01-20         1140  ...            0.00             0.00\n",
            "...             ...          ...  ...             ...              ...\n",
            "1322168  2013-07-02         1085  ...          -56.64             0.00\n",
            "1322865  2013-07-03          627  ...            0.00           -17.81\n",
            "1323178  2013-07-03         1485  ...          -35.62           -71.24\n",
            "1323391  2013-07-03         1558  ...          -20.66           -71.24\n",
            "1323413  2013-07-03          998  ...            0.00           -17.81\n",
            "\n",
            "[2916 rows x 7 columns]\n"
          ],
          "name": "stdout"
        }
      ]
    },
    {
      "cell_type": "markdown",
      "metadata": {
        "colab_type": "text",
        "id": "0J_6YEMce9R4"
      },
      "source": [
        "There are Duplicate rows in Transaction Table"
      ]
    },
    {
      "cell_type": "code",
      "metadata": {
        "colab_type": "code",
        "id": "3BxE3H2FeuEW",
        "colab": {
          "base_uri": "https://localhost:8080/",
          "height": 85
        },
        "outputId": "46537bd7-4702-450b-9bfc-53fc8e3bfc3a"
      },
      "source": [
        "# Select duplicate rows except first occurrence based on all columns\n",
        "duplicateRowsDF_train = train[train.duplicated()]\n",
        "print(\"Duplicate Rows except first occurrence based on all columns are :\")\n",
        "print(duplicateRowsDF_train)"
      ],
      "execution_count": 146,
      "outputs": [
        {
          "output_type": "stream",
          "text": [
            "Duplicate Rows except first occurrence based on all columns are :\n",
            "Empty DataFrame\n",
            "Columns: [id, campaign_id, coupon_id, customer_id, redemption_status]\n",
            "Index: []\n"
          ],
          "name": "stdout"
        }
      ]
    },
    {
      "cell_type": "code",
      "metadata": {
        "colab_type": "code",
        "id": "LJnX4BsffNW8",
        "colab": {
          "base_uri": "https://localhost:8080/",
          "height": 85
        },
        "outputId": "fd656548-d215-48ae-f5ab-c86775e2b362"
      },
      "source": [
        "# Select duplicate rows except first occurrence based on all columns\n",
        "duplicateRowsDF_item = item[item.duplicated()]\n",
        "print(\"Duplicate Rows except first occurrence based on all columns are :\")\n",
        "print(duplicateRowsDF_item)"
      ],
      "execution_count": 147,
      "outputs": [
        {
          "output_type": "stream",
          "text": [
            "Duplicate Rows except first occurrence based on all columns are :\n",
            "Empty DataFrame\n",
            "Columns: [item_id, brand, brand_type, category]\n",
            "Index: []\n"
          ],
          "name": "stdout"
        }
      ]
    },
    {
      "cell_type": "markdown",
      "metadata": {
        "colab_type": "text",
        "id": "qS58S2IihYSN"
      },
      "source": [
        "**Checking Missing Values in Data Frames**"
      ]
    },
    {
      "cell_type": "code",
      "metadata": {
        "colab_type": "code",
        "id": "ljtq17IsfWXR",
        "colab": {}
      },
      "source": [
        "# checking missing data percentage in data\n",
        "def misssing_values(df):\n",
        "  total = df.isnull().sum().sort_values(ascending = False)\n",
        "  percent = (df.isnull().sum()/df.isnull().count()*100).sort_values(ascending = False)\n",
        "  missing_Data = pd.concat([total, percent], axis=1, keys=['Total', 'Percent'])\n",
        "\n",
        "  return missing_Data"
      ],
      "execution_count": 148,
      "outputs": []
    },
    {
      "cell_type": "code",
      "metadata": {
        "colab_type": "code",
        "id": "0smHiZsmht5i",
        "colab": {
          "base_uri": "https://localhost:8080/",
          "height": 207
        },
        "outputId": "eff98ec4-ecb7-45bd-cc96-0c103ade7338"
      },
      "source": [
        "campaign_data_missing = misssing_values(camp)\n",
        "print(\"Missing values in Campaign Data\\n\")\n",
        "campaign_data_missing.head()"
      ],
      "execution_count": 149,
      "outputs": [
        {
          "output_type": "stream",
          "text": [
            "Missing values in Campaign Data\n",
            "\n"
          ],
          "name": "stdout"
        },
        {
          "output_type": "execute_result",
          "data": {
            "text/html": [
              "<div>\n",
              "<style scoped>\n",
              "    .dataframe tbody tr th:only-of-type {\n",
              "        vertical-align: middle;\n",
              "    }\n",
              "\n",
              "    .dataframe tbody tr th {\n",
              "        vertical-align: top;\n",
              "    }\n",
              "\n",
              "    .dataframe thead th {\n",
              "        text-align: right;\n",
              "    }\n",
              "</style>\n",
              "<table border=\"1\" class=\"dataframe\">\n",
              "  <thead>\n",
              "    <tr style=\"text-align: right;\">\n",
              "      <th></th>\n",
              "      <th>Total</th>\n",
              "      <th>Percent</th>\n",
              "    </tr>\n",
              "  </thead>\n",
              "  <tbody>\n",
              "    <tr>\n",
              "      <th>end_date</th>\n",
              "      <td>0</td>\n",
              "      <td>0.0</td>\n",
              "    </tr>\n",
              "    <tr>\n",
              "      <th>start_date</th>\n",
              "      <td>0</td>\n",
              "      <td>0.0</td>\n",
              "    </tr>\n",
              "    <tr>\n",
              "      <th>campaign_type</th>\n",
              "      <td>0</td>\n",
              "      <td>0.0</td>\n",
              "    </tr>\n",
              "    <tr>\n",
              "      <th>campaign_id</th>\n",
              "      <td>0</td>\n",
              "      <td>0.0</td>\n",
              "    </tr>\n",
              "  </tbody>\n",
              "</table>\n",
              "</div>"
            ],
            "text/plain": [
              "               Total  Percent\n",
              "end_date           0      0.0\n",
              "start_date         0      0.0\n",
              "campaign_type      0      0.0\n",
              "campaign_id        0      0.0"
            ]
          },
          "metadata": {
            "tags": []
          },
          "execution_count": 149
        }
      ]
    },
    {
      "cell_type": "code",
      "metadata": {
        "colab_type": "code",
        "id": "M_EQWYbHh0aZ",
        "colab": {
          "base_uri": "https://localhost:8080/",
          "height": 145
        },
        "outputId": "8ab5a6e6-1904-4bd1-e2a8-a3668cdcb263"
      },
      "source": [
        "coupon_item_missing = misssing_values(coupon)\n",
        "print(\"Missing values in Coupon Item Mapping Data\\n\")\n",
        "coupon_item_missing.head()"
      ],
      "execution_count": 150,
      "outputs": [
        {
          "output_type": "stream",
          "text": [
            "Missing values in Coupon Item Mapping Data\n",
            "\n"
          ],
          "name": "stdout"
        },
        {
          "output_type": "execute_result",
          "data": {
            "text/html": [
              "<div>\n",
              "<style scoped>\n",
              "    .dataframe tbody tr th:only-of-type {\n",
              "        vertical-align: middle;\n",
              "    }\n",
              "\n",
              "    .dataframe tbody tr th {\n",
              "        vertical-align: top;\n",
              "    }\n",
              "\n",
              "    .dataframe thead th {\n",
              "        text-align: right;\n",
              "    }\n",
              "</style>\n",
              "<table border=\"1\" class=\"dataframe\">\n",
              "  <thead>\n",
              "    <tr style=\"text-align: right;\">\n",
              "      <th></th>\n",
              "      <th>Total</th>\n",
              "      <th>Percent</th>\n",
              "    </tr>\n",
              "  </thead>\n",
              "  <tbody>\n",
              "    <tr>\n",
              "      <th>item_id</th>\n",
              "      <td>0</td>\n",
              "      <td>0.0</td>\n",
              "    </tr>\n",
              "    <tr>\n",
              "      <th>coupon_id</th>\n",
              "      <td>0</td>\n",
              "      <td>0.0</td>\n",
              "    </tr>\n",
              "  </tbody>\n",
              "</table>\n",
              "</div>"
            ],
            "text/plain": [
              "           Total  Percent\n",
              "item_id        0      0.0\n",
              "coupon_id      0      0.0"
            ]
          },
          "metadata": {
            "tags": []
          },
          "execution_count": 150
        }
      ]
    },
    {
      "cell_type": "code",
      "metadata": {
        "colab_type": "code",
        "id": "BBS3FkMsiDcZ",
        "colab": {
          "base_uri": "https://localhost:8080/",
          "height": 238
        },
        "outputId": "2166dfb7-d360-4926-9a5c-b38a56110d02"
      },
      "source": [
        "customer_demographics_missing = misssing_values(demo)\n",
        "print(\"Missing values in Customer Demographics Data\\n\")\n",
        "customer_demographics_missing.head()"
      ],
      "execution_count": 151,
      "outputs": [
        {
          "output_type": "stream",
          "text": [
            "Missing values in Customer Demographics Data\n",
            "\n"
          ],
          "name": "stdout"
        },
        {
          "output_type": "execute_result",
          "data": {
            "text/html": [
              "<div>\n",
              "<style scoped>\n",
              "    .dataframe tbody tr th:only-of-type {\n",
              "        vertical-align: middle;\n",
              "    }\n",
              "\n",
              "    .dataframe tbody tr th {\n",
              "        vertical-align: top;\n",
              "    }\n",
              "\n",
              "    .dataframe thead th {\n",
              "        text-align: right;\n",
              "    }\n",
              "</style>\n",
              "<table border=\"1\" class=\"dataframe\">\n",
              "  <thead>\n",
              "    <tr style=\"text-align: right;\">\n",
              "      <th></th>\n",
              "      <th>Total</th>\n",
              "      <th>Percent</th>\n",
              "    </tr>\n",
              "  </thead>\n",
              "  <tbody>\n",
              "    <tr>\n",
              "      <th>no_of_children</th>\n",
              "      <td>538</td>\n",
              "      <td>70.789474</td>\n",
              "    </tr>\n",
              "    <tr>\n",
              "      <th>marital_status</th>\n",
              "      <td>329</td>\n",
              "      <td>43.289474</td>\n",
              "    </tr>\n",
              "    <tr>\n",
              "      <th>income_bracket</th>\n",
              "      <td>0</td>\n",
              "      <td>0.000000</td>\n",
              "    </tr>\n",
              "    <tr>\n",
              "      <th>family_size</th>\n",
              "      <td>0</td>\n",
              "      <td>0.000000</td>\n",
              "    </tr>\n",
              "    <tr>\n",
              "      <th>rented</th>\n",
              "      <td>0</td>\n",
              "      <td>0.000000</td>\n",
              "    </tr>\n",
              "  </tbody>\n",
              "</table>\n",
              "</div>"
            ],
            "text/plain": [
              "                Total    Percent\n",
              "no_of_children    538  70.789474\n",
              "marital_status    329  43.289474\n",
              "income_bracket      0   0.000000\n",
              "family_size         0   0.000000\n",
              "rented              0   0.000000"
            ]
          },
          "metadata": {
            "tags": []
          },
          "execution_count": 151
        }
      ]
    },
    {
      "cell_type": "code",
      "metadata": {
        "colab_type": "code",
        "id": "iD3vbS1viZlC",
        "colab": {
          "base_uri": "https://localhost:8080/",
          "height": 238
        },
        "outputId": "721fa084-fa65-41f9-ea86-a0cc83bb0f16"
      },
      "source": [
        "customer_transaction_missing = misssing_values(trans)\n",
        "print(\"Missing values in Customer Transaction Data\\n\")\n",
        "customer_transaction_missing.head()"
      ],
      "execution_count": 152,
      "outputs": [
        {
          "output_type": "stream",
          "text": [
            "Missing values in Customer Transaction Data\n",
            "\n"
          ],
          "name": "stdout"
        },
        {
          "output_type": "execute_result",
          "data": {
            "text/html": [
              "<div>\n",
              "<style scoped>\n",
              "    .dataframe tbody tr th:only-of-type {\n",
              "        vertical-align: middle;\n",
              "    }\n",
              "\n",
              "    .dataframe tbody tr th {\n",
              "        vertical-align: top;\n",
              "    }\n",
              "\n",
              "    .dataframe thead th {\n",
              "        text-align: right;\n",
              "    }\n",
              "</style>\n",
              "<table border=\"1\" class=\"dataframe\">\n",
              "  <thead>\n",
              "    <tr style=\"text-align: right;\">\n",
              "      <th></th>\n",
              "      <th>Total</th>\n",
              "      <th>Percent</th>\n",
              "    </tr>\n",
              "  </thead>\n",
              "  <tbody>\n",
              "    <tr>\n",
              "      <th>coupon_discount</th>\n",
              "      <td>0</td>\n",
              "      <td>0.0</td>\n",
              "    </tr>\n",
              "    <tr>\n",
              "      <th>other_discount</th>\n",
              "      <td>0</td>\n",
              "      <td>0.0</td>\n",
              "    </tr>\n",
              "    <tr>\n",
              "      <th>selling_price</th>\n",
              "      <td>0</td>\n",
              "      <td>0.0</td>\n",
              "    </tr>\n",
              "    <tr>\n",
              "      <th>quantity</th>\n",
              "      <td>0</td>\n",
              "      <td>0.0</td>\n",
              "    </tr>\n",
              "    <tr>\n",
              "      <th>item_id</th>\n",
              "      <td>0</td>\n",
              "      <td>0.0</td>\n",
              "    </tr>\n",
              "  </tbody>\n",
              "</table>\n",
              "</div>"
            ],
            "text/plain": [
              "                 Total  Percent\n",
              "coupon_discount      0      0.0\n",
              "other_discount       0      0.0\n",
              "selling_price        0      0.0\n",
              "quantity             0      0.0\n",
              "item_id              0      0.0"
            ]
          },
          "metadata": {
            "tags": []
          },
          "execution_count": 152
        }
      ]
    },
    {
      "cell_type": "code",
      "metadata": {
        "colab_type": "code",
        "id": "JKzBbO1Xiie5",
        "colab": {
          "base_uri": "https://localhost:8080/",
          "height": 207
        },
        "outputId": "b90eec3a-192e-452a-848c-11628a00db7e"
      },
      "source": [
        "item_data_missing = misssing_values(item)\n",
        "print(\"Missing values in Item Data\\n\")\n",
        "item_data_missing.head()"
      ],
      "execution_count": 153,
      "outputs": [
        {
          "output_type": "stream",
          "text": [
            "Missing values in Item Data\n",
            "\n"
          ],
          "name": "stdout"
        },
        {
          "output_type": "execute_result",
          "data": {
            "text/html": [
              "<div>\n",
              "<style scoped>\n",
              "    .dataframe tbody tr th:only-of-type {\n",
              "        vertical-align: middle;\n",
              "    }\n",
              "\n",
              "    .dataframe tbody tr th {\n",
              "        vertical-align: top;\n",
              "    }\n",
              "\n",
              "    .dataframe thead th {\n",
              "        text-align: right;\n",
              "    }\n",
              "</style>\n",
              "<table border=\"1\" class=\"dataframe\">\n",
              "  <thead>\n",
              "    <tr style=\"text-align: right;\">\n",
              "      <th></th>\n",
              "      <th>Total</th>\n",
              "      <th>Percent</th>\n",
              "    </tr>\n",
              "  </thead>\n",
              "  <tbody>\n",
              "    <tr>\n",
              "      <th>category</th>\n",
              "      <td>0</td>\n",
              "      <td>0.0</td>\n",
              "    </tr>\n",
              "    <tr>\n",
              "      <th>brand_type</th>\n",
              "      <td>0</td>\n",
              "      <td>0.0</td>\n",
              "    </tr>\n",
              "    <tr>\n",
              "      <th>brand</th>\n",
              "      <td>0</td>\n",
              "      <td>0.0</td>\n",
              "    </tr>\n",
              "    <tr>\n",
              "      <th>item_id</th>\n",
              "      <td>0</td>\n",
              "      <td>0.0</td>\n",
              "    </tr>\n",
              "  </tbody>\n",
              "</table>\n",
              "</div>"
            ],
            "text/plain": [
              "            Total  Percent\n",
              "category        0      0.0\n",
              "brand_type      0      0.0\n",
              "brand           0      0.0\n",
              "item_id         0      0.0"
            ]
          },
          "metadata": {
            "tags": []
          },
          "execution_count": 153
        }
      ]
    },
    {
      "cell_type": "code",
      "metadata": {
        "colab_type": "code",
        "id": "7JxxMRFFipxe",
        "colab": {
          "base_uri": "https://localhost:8080/",
          "height": 238
        },
        "outputId": "dd503da3-61a5-4be2-d840-248fc794ee81"
      },
      "source": [
        "train_data_missing = misssing_values(train)\n",
        "print(\"Missing values in train data\\n\")\n",
        "train_data_missing.head()"
      ],
      "execution_count": 154,
      "outputs": [
        {
          "output_type": "stream",
          "text": [
            "Missing values in train data\n",
            "\n"
          ],
          "name": "stdout"
        },
        {
          "output_type": "execute_result",
          "data": {
            "text/html": [
              "<div>\n",
              "<style scoped>\n",
              "    .dataframe tbody tr th:only-of-type {\n",
              "        vertical-align: middle;\n",
              "    }\n",
              "\n",
              "    .dataframe tbody tr th {\n",
              "        vertical-align: top;\n",
              "    }\n",
              "\n",
              "    .dataframe thead th {\n",
              "        text-align: right;\n",
              "    }\n",
              "</style>\n",
              "<table border=\"1\" class=\"dataframe\">\n",
              "  <thead>\n",
              "    <tr style=\"text-align: right;\">\n",
              "      <th></th>\n",
              "      <th>Total</th>\n",
              "      <th>Percent</th>\n",
              "    </tr>\n",
              "  </thead>\n",
              "  <tbody>\n",
              "    <tr>\n",
              "      <th>redemption_status</th>\n",
              "      <td>0</td>\n",
              "      <td>0.0</td>\n",
              "    </tr>\n",
              "    <tr>\n",
              "      <th>customer_id</th>\n",
              "      <td>0</td>\n",
              "      <td>0.0</td>\n",
              "    </tr>\n",
              "    <tr>\n",
              "      <th>coupon_id</th>\n",
              "      <td>0</td>\n",
              "      <td>0.0</td>\n",
              "    </tr>\n",
              "    <tr>\n",
              "      <th>campaign_id</th>\n",
              "      <td>0</td>\n",
              "      <td>0.0</td>\n",
              "    </tr>\n",
              "    <tr>\n",
              "      <th>id</th>\n",
              "      <td>0</td>\n",
              "      <td>0.0</td>\n",
              "    </tr>\n",
              "  </tbody>\n",
              "</table>\n",
              "</div>"
            ],
            "text/plain": [
              "                   Total  Percent\n",
              "redemption_status      0      0.0\n",
              "customer_id            0      0.0\n",
              "coupon_id              0      0.0\n",
              "campaign_id            0      0.0\n",
              "id                     0      0.0"
            ]
          },
          "metadata": {
            "tags": []
          },
          "execution_count": 154
        }
      ]
    },
    {
      "cell_type": "markdown",
      "metadata": {
        "id": "B6Xb9Uoa7ddJ",
        "colab_type": "text"
      },
      "source": [
        "- **Customer Demographics Data** has missing values."
      ]
    },
    {
      "cell_type": "code",
      "metadata": {
        "colab_type": "code",
        "id": "d0LLYeo9ixMm",
        "colab": {
          "base_uri": "https://localhost:8080/",
          "height": 680
        },
        "outputId": "a3fee0fa-7303-4a24-cb9f-3e69e18946a8"
      },
      "source": [
        "train_campaign  = train['campaign_id'].unique()\n",
        "print(\"\\n\\n Campaign id's which are present in train data and campaign data : \\n\")\n",
        "print(camp[camp['campaign_id'].isin(train_campaign)])\n",
        "print(\"---------------------------------------------------------------------------------------------------------------\")\n",
        "\n",
        "print(\"\\n Unique no of values in Train Campaign_id\\n\", train['campaign_id'].nunique())\n",
        "print(\"\\n Uniques list\\n\", train['campaign_id'].unique())\n",
        "print(\"---------------------------------------------------------------------------------------------------------------\")\n",
        "\n",
        "print(\"\\n Unique no of values in Campaign Data Campaign_id \\n\", camp['campaign_id'].nunique())\n",
        "print(\"\\n Uniques list\\n\", camp['campaign_id'].unique())\n",
        "print(\"---------------------------------------------------------------------------------------------------------------\")"
      ],
      "execution_count": 155,
      "outputs": [
        {
          "output_type": "stream",
          "text": [
            "\n",
            "\n",
            " Campaign id's which are present in train data and campaign data : \n",
            "\n",
            "    campaign_id campaign_type start_date  end_date\n",
            "10           13             X   19/05/13  05/07/13\n",
            "11           11             Y   22/04/13  07/06/13\n",
            "12           12             Y   22/04/13  24/05/13\n",
            "13           10             Y   08/04/13  10/05/13\n",
            "14            9             Y   11/03/13  12/04/13\n",
            "15            8             X   16/02/13  05/04/13\n",
            "16            7             Y   02/02/13  08/03/13\n",
            "17            6             Y   28/01/13  01/03/13\n",
            "18            3             Y   22/12/12  16/02/13\n",
            "19            5             Y   12/01/13  15/02/13\n",
            "20            4             Y   07/01/13  08/02/13\n",
            "21            1             Y   12/12/12  18/01/13\n",
            "22            2             Y   17/12/12  18/01/13\n",
            "23           30             X   19/11/12  04/01/13\n",
            "24           29             Y   08/10/12  30/11/12\n",
            "25           28             Y   16/09/12  16/11/12\n",
            "26           27             Y   25/08/12  27/10/12\n",
            "27           26             X   12/08/12  21/09/12\n",
            "---------------------------------------------------------------------------------------------------------------\n",
            "\n",
            " Unique no of values in Train Campaign_id\n",
            " 18\n",
            "\n",
            " Uniques list\n",
            " [13  9  8 11 29 30  2  5 12 26  3  4 10  7 28 27  6  1]\n",
            "---------------------------------------------------------------------------------------------------------------\n",
            "\n",
            " Unique no of values in Campaign Data Campaign_id \n",
            " 28\n",
            "\n",
            " Uniques list\n",
            " [24 25 20 23 21 22 18 19 17 16 13 11 12 10  9  8  7  6  3  5  4  1  2 30\n",
            " 29 28 27 26]\n",
            "---------------------------------------------------------------------------------------------------------------\n"
          ],
          "name": "stdout"
        }
      ]
    },
    {
      "cell_type": "markdown",
      "metadata": {
        "colab_type": "text",
        "id": "1SptMw-Fjdgm"
      },
      "source": [
        "**Let's Look at the Unique ID's in the Data**"
      ]
    },
    {
      "cell_type": "code",
      "metadata": {
        "colab_type": "code",
        "id": "4Y9jGJqijNfk",
        "colab": {
          "base_uri": "https://localhost:8080/",
          "height": 612
        },
        "outputId": "507f4418-ac1f-4ea8-a2b8-79818f0bf889"
      },
      "source": [
        "print(\"---------------------------------------------------------------------------------------------------------------\")\n",
        "print(\"\\n Number of Unique Train campaign_id Values Are : \\n\", train[\"campaign_id\"].nunique())\n",
        "\n",
        "print(\"\\n Number of Unique Campaign Data campaign_id Values Are : \\n\", camp[\"campaign_id\"].nunique())\n",
        "print(\"---------------------------------------------------------------------------------------------------------------\")\n",
        "\n",
        "print(\"\\n Number of Unique Train coupon_id Values Are : \\n\", train[\"coupon_id\"].nunique())\n",
        "print(\"\\n Number of Unique Coupon Item Mapping coupon_id Values Are : \\n\", coupon[\"coupon_id\"].nunique())\n",
        "print(\"---------------------------------------------------------------------------------------------------------------\")\n",
        "\n",
        "print(\"\\n Number of Unique Train customer_id Values Are : \\n\", train[\"customer_id\"].nunique())\n",
        "print(\"\\n Number of Unique Customer Demographics customer_id Values Are : \\n\", demo[\"customer_id\"].nunique())\n",
        "print(\"\\n Number of Unique Transaction Data customer_id Values Are : \\n\", trans[\"customer_id\"].nunique())\n",
        "\n",
        "print(\"---------------------------------------------------------------------------------------------------------------\")\n",
        "\n",
        "print(\"\\n Number of Unique Coupon Item Mapping item_id Values Are : \\n\", coupon[\"item_id\"].nunique())\n",
        "print(\"\\n Number of Unique Transaction Data item_id Values Are : \\n\", trans[\"item_id\"].nunique())\n",
        "print(\"\\n Number of Unique Item Data item_id Values Are : \\n\", item[\"item_id\"].nunique())\n",
        "\n",
        "print(\"---------------------------------------------------------------------------------------------------------------\")"
      ],
      "execution_count": 156,
      "outputs": [
        {
          "output_type": "stream",
          "text": [
            "---------------------------------------------------------------------------------------------------------------\n",
            "\n",
            " Number of Unique Train campaign_id Values Are : \n",
            " 18\n",
            "\n",
            " Number of Unique Campaign Data campaign_id Values Are : \n",
            " 28\n",
            "---------------------------------------------------------------------------------------------------------------\n",
            "\n",
            " Number of Unique Train coupon_id Values Are : \n",
            " 866\n",
            "\n",
            " Number of Unique Coupon Item Mapping coupon_id Values Are : \n",
            " 1116\n",
            "---------------------------------------------------------------------------------------------------------------\n",
            "\n",
            " Number of Unique Train customer_id Values Are : \n",
            " 1428\n",
            "\n",
            " Number of Unique Customer Demographics customer_id Values Are : \n",
            " 760\n",
            "\n",
            " Number of Unique Transaction Data customer_id Values Are : \n",
            " 1582\n",
            "---------------------------------------------------------------------------------------------------------------\n",
            "\n",
            " Number of Unique Coupon Item Mapping item_id Values Are : \n",
            " 36289\n",
            "\n",
            " Number of Unique Transaction Data item_id Values Are : \n",
            " 74063\n",
            "\n",
            " Number of Unique Item Data item_id Values Are : \n",
            " 74066\n",
            "---------------------------------------------------------------------------------------------------------------\n"
          ],
          "name": "stdout"
        }
      ]
    },
    {
      "cell_type": "markdown",
      "metadata": {
        "colab_type": "text",
        "id": "oxhssYfgsvnb"
      },
      "source": [
        "**DATA PREPROCESSING**"
      ]
    },
    {
      "cell_type": "code",
      "metadata": {
        "colab_type": "code",
        "id": "4MF_HHGJkoUq",
        "colab": {}
      },
      "source": [
        "# # Dropping Duplicate rows in dataframes before merging\n",
        "# print(\"Before Dropping\\n\",train.shape)\n",
        "# train = train.drop('id',axis=1)\n",
        "# train = train.drop_duplicates()\n",
        "# print(\"After Dropping\\n\", train.shape)"
      ],
      "execution_count": 157,
      "outputs": []
    },
    {
      "cell_type": "code",
      "metadata": {
        "colab_type": "code",
        "id": "LrOLxbgSAU-y",
        "colab": {
          "base_uri": "https://localhost:8080/",
          "height": 85
        },
        "outputId": "4238e4dd-f6d6-4276-d741-be1357d65457"
      },
      "source": [
        "# Dropping Duplicate rows in dataframes before merging\n",
        "print(\"Before Dropping\\n\",trans.shape)\n",
        "trans = trans.drop_duplicates()\n",
        "print(\"After Dropping\\n\", trans.shape)"
      ],
      "execution_count": 158,
      "outputs": [
        {
          "output_type": "stream",
          "text": [
            "Before Dropping\n",
            " (1324566, 7)\n",
            "After Dropping\n",
            " (1321650, 7)\n"
          ],
          "name": "stdout"
        }
      ]
    },
    {
      "cell_type": "code",
      "metadata": {
        "colab_type": "code",
        "id": "OETz_EIlAyrK",
        "colab": {}
      },
      "source": [
        "# !pip3 freeze > requirements.txt"
      ],
      "execution_count": 159,
      "outputs": []
    },
    {
      "cell_type": "markdown",
      "metadata": {
        "colab_type": "text",
        "id": "uFIRiUwS82kl"
      },
      "source": [
        "- Campaign_data Feature Creations"
      ]
    },
    {
      "cell_type": "markdown",
      "metadata": {
        "colab_type": "text",
        "id": "SBP04jCH9CNc"
      },
      "source": [
        "We will be converting dates into pandas datetime format from categorical format for further feature engineering"
      ]
    },
    {
      "cell_type": "code",
      "metadata": {
        "colab_type": "code",
        "id": "zWu9PYvr8zJA",
        "colab": {}
      },
      "source": [
        "camp['start_date']=pd.to_datetime(camp['start_date'],format='%d/%m/%y',dayfirst=True)\n",
        "camp['end_date']=pd.to_datetime(camp['end_date'],format='%d/%m/%y',dayfirst=True)"
      ],
      "execution_count": 160,
      "outputs": []
    },
    {
      "cell_type": "markdown",
      "metadata": {
        "colab_type": "text",
        "id": "yn48MB6z9-fS"
      },
      "source": [
        "- Creating NEW Features here...."
      ]
    },
    {
      "cell_type": "code",
      "metadata": {
        "colab_type": "code",
        "id": "G2z7Ht2y90z8",
        "colab": {}
      },
      "source": [
        "# Duration of Campaigns\n",
        "camp['Camp_Duration_by_days']=(camp['end_date']-camp['start_date'])/np.timedelta64(1,'D')\n",
        "camp['Camp_Duration_by_month']=(camp['end_date']-camp['start_date'])/np.timedelta64(1,'M')\n",
        "camp['Camp_Duration_by_week']=(camp['end_date']-camp['start_date'])/np.timedelta64(1,'W')"
      ],
      "execution_count": 161,
      "outputs": []
    },
    {
      "cell_type": "code",
      "metadata": {
        "colab_type": "code",
        "id": "om7YmXHD-UG1",
        "colab": {
          "base_uri": "https://localhost:8080/",
          "height": 289
        },
        "outputId": "b866ab40-275a-4e5d-da50-c0c0aa765b74"
      },
      "source": [
        "camp.head()"
      ],
      "execution_count": 162,
      "outputs": [
        {
          "output_type": "execute_result",
          "data": {
            "text/html": [
              "<div>\n",
              "<style scoped>\n",
              "    .dataframe tbody tr th:only-of-type {\n",
              "        vertical-align: middle;\n",
              "    }\n",
              "\n",
              "    .dataframe tbody tr th {\n",
              "        vertical-align: top;\n",
              "    }\n",
              "\n",
              "    .dataframe thead th {\n",
              "        text-align: right;\n",
              "    }\n",
              "</style>\n",
              "<table border=\"1\" class=\"dataframe\">\n",
              "  <thead>\n",
              "    <tr style=\"text-align: right;\">\n",
              "      <th></th>\n",
              "      <th>campaign_id</th>\n",
              "      <th>campaign_type</th>\n",
              "      <th>start_date</th>\n",
              "      <th>end_date</th>\n",
              "      <th>Camp_Duration_by_days</th>\n",
              "      <th>Camp_Duration_by_month</th>\n",
              "      <th>Camp_Duration_by_week</th>\n",
              "    </tr>\n",
              "  </thead>\n",
              "  <tbody>\n",
              "    <tr>\n",
              "      <th>0</th>\n",
              "      <td>24</td>\n",
              "      <td>Y</td>\n",
              "      <td>2013-10-21</td>\n",
              "      <td>2013-12-20</td>\n",
              "      <td>60.0</td>\n",
              "      <td>1.971293</td>\n",
              "      <td>8.571429</td>\n",
              "    </tr>\n",
              "    <tr>\n",
              "      <th>1</th>\n",
              "      <td>25</td>\n",
              "      <td>Y</td>\n",
              "      <td>2013-10-21</td>\n",
              "      <td>2013-11-22</td>\n",
              "      <td>32.0</td>\n",
              "      <td>1.051356</td>\n",
              "      <td>4.571429</td>\n",
              "    </tr>\n",
              "    <tr>\n",
              "      <th>2</th>\n",
              "      <td>20</td>\n",
              "      <td>Y</td>\n",
              "      <td>2013-09-07</td>\n",
              "      <td>2013-11-16</td>\n",
              "      <td>70.0</td>\n",
              "      <td>2.299842</td>\n",
              "      <td>10.000000</td>\n",
              "    </tr>\n",
              "    <tr>\n",
              "      <th>3</th>\n",
              "      <td>23</td>\n",
              "      <td>Y</td>\n",
              "      <td>2013-10-08</td>\n",
              "      <td>2013-11-15</td>\n",
              "      <td>38.0</td>\n",
              "      <td>1.248486</td>\n",
              "      <td>5.428571</td>\n",
              "    </tr>\n",
              "    <tr>\n",
              "      <th>4</th>\n",
              "      <td>21</td>\n",
              "      <td>Y</td>\n",
              "      <td>2013-09-16</td>\n",
              "      <td>2013-10-18</td>\n",
              "      <td>32.0</td>\n",
              "      <td>1.051356</td>\n",
              "      <td>4.571429</td>\n",
              "    </tr>\n",
              "  </tbody>\n",
              "</table>\n",
              "</div>"
            ],
            "text/plain": [
              "   campaign_id campaign_type  ... Camp_Duration_by_month Camp_Duration_by_week\n",
              "0           24             Y  ...               1.971293              8.571429\n",
              "1           25             Y  ...               1.051356              4.571429\n",
              "2           20             Y  ...               2.299842             10.000000\n",
              "3           23             Y  ...               1.248486              5.428571\n",
              "4           21             Y  ...               1.051356              4.571429\n",
              "\n",
              "[5 rows x 7 columns]"
            ]
          },
          "metadata": {
            "tags": []
          },
          "execution_count": 162
        }
      ]
    },
    {
      "cell_type": "code",
      "metadata": {
        "id": "19TvxGUL7ddh",
        "colab_type": "code",
        "colab": {
          "base_uri": "https://localhost:8080/",
          "height": 153
        },
        "outputId": "1d44a599-25d8-461b-b8f4-7a7c48444462"
      },
      "source": [
        "camp.dtypes"
      ],
      "execution_count": 163,
      "outputs": [
        {
          "output_type": "execute_result",
          "data": {
            "text/plain": [
              "campaign_id                        int64\n",
              "campaign_type                     object\n",
              "start_date                datetime64[ns]\n",
              "end_date                  datetime64[ns]\n",
              "Camp_Duration_by_days            float64\n",
              "Camp_Duration_by_month           float64\n",
              "Camp_Duration_by_week            float64\n",
              "dtype: object"
            ]
          },
          "metadata": {
            "tags": []
          },
          "execution_count": 163
        }
      ]
    },
    {
      "cell_type": "markdown",
      "metadata": {
        "id": "KfvMaHFX9ioE",
        "colab_type": "text"
      },
      "source": [
        "**Merging Process**\n",
        "\n",
        "There are different types of table relationships possible betweek the Entity Relationship Diagram:\n",
        "\n",
        "| Relationship      |Description  |\n",
        "|----------------------|-------------------------------|\n",
        "|`one-to-one`        |Both tables can have only one record on either side of the relationship. Each primary key value relates to only one (or no) record in the related table \n",
        "|`one-to-many`        |The parent table (or primary key table) contains only one record that relates to none, one, or many records in the child table \n",
        "|`many-to-many`        |Each record in both tables can relate to any number of records (or no records) in the other table.\n",
        "\n",
        "The following depicts the type of table relationships.\n",
        "\n",
        "**one-to-many relationship tables**\n",
        "\n",
        "| Tables|  Key\n",
        "|----------------------|-------------------------------|\n",
        "|`train` and `campaign_data`        |campaign_id\n",
        "|`train` and `customer_demographics`         |customer_id\n",
        "|`item_data`  and `customer_transaction_data`         |item_id\n",
        "|`customer_demographics` and `customer_transaction_data`       |customer_id\n",
        "\n",
        "\n",
        "**many-to-many relationship tables**\n",
        "\n",
        "\n",
        "| Tables|  Key\n",
        "|----------------------|-------------------------------|\n",
        "|`train` and `customer_transaction_data`          | customer_id |\n",
        "|`coupon_item_mapping` and `item_data`        | item_id |\n",
        "|`coupon_item_mapping`  and `customer_transaction_data`         |item_id  |"
      ]
    },
    {
      "cell_type": "markdown",
      "metadata": {
        "id": "cxmRV8UN99H9",
        "colab_type": "text"
      },
      "source": [
        "\n",
        "**Multi level relationship**\n",
        "\n",
        "There are also following relationships which goes upto 2 levels.\n",
        "\n",
        " - `train`   ->`coupon_item_mapping` on coupon_id and `coupon_item_mapping` ->`customer_transaction_data` on item_id\n",
        " - `train` ->`coupon_item_mapping` on coupon_id and `coupon_item_mapping` ->`item_data` on item_id\n",
        "\n",
        "Hence from the above multi-level relationship, it can be seen that there is an indirect `many-to-many` relationship between `train` and `item_data` tables."
      ]
    },
    {
      "cell_type": "markdown",
      "metadata": {
        "id": "uVfoFY2L-GIY",
        "colab_type": "text"
      },
      "source": [
        "**Merging techniques**\n",
        "\n",
        "Separate merging process will be applied for one-to-many and many-to-one relationships. \n",
        "- For `one-to-many`, simple merge of both tables will provide combined features and \n",
        "- for `many-to-many`, aggregation of columns such as mean, min, max, std, quanrtile, etc need to be performed on the table that will be joined followed by a groupby priorly.\n",
        "\n",
        "\n",
        "**Merging Process**\n",
        "\n",
        "- Simple merge of `train` table with `campaign_data` is performed.\n",
        "- Simple merge of `coupon_item_mapping` table with `item_data` is performed.\n",
        "- Simple merge of `customer_transaction_data` table with `coupon_item_mapping` is performed.\n",
        "\n",
        "- Then Aggregation of `customer_transaction_data` is generated from `customer_transaction_data` itself precided by a **groupby** operation on `customer_id`, and `date` stating the customer's transactions on specified dates.eg `X` Customer on `Y` date has this Transaction Data aggregated.\n",
        "\n",
        "- Merge of `Train` and aggregated `customer_transaction_data` is performed where new features are being added using mode, mean, etc measures for categorical and continuous variables .\n",
        "\n",
        "- Though, as of now, `Customer_demographics_Data` is not included but given the time, I can try by merging it also."
      ]
    },
    {
      "cell_type": "code",
      "metadata": {
        "colab_type": "code",
        "id": "ZxKmnq9B-Z_2",
        "colab": {
          "base_uri": "https://localhost:8080/",
          "height": 309
        },
        "outputId": "edcb4235-b028-4d7d-c651-51d4076d3dd2"
      },
      "source": [
        "train = train.merge(camp, on = \"campaign_id\", how = \"left\")\n",
        "train.head()"
      ],
      "execution_count": 164,
      "outputs": [
        {
          "output_type": "execute_result",
          "data": {
            "text/html": [
              "<div>\n",
              "<style scoped>\n",
              "    .dataframe tbody tr th:only-of-type {\n",
              "        vertical-align: middle;\n",
              "    }\n",
              "\n",
              "    .dataframe tbody tr th {\n",
              "        vertical-align: top;\n",
              "    }\n",
              "\n",
              "    .dataframe thead th {\n",
              "        text-align: right;\n",
              "    }\n",
              "</style>\n",
              "<table border=\"1\" class=\"dataframe\">\n",
              "  <thead>\n",
              "    <tr style=\"text-align: right;\">\n",
              "      <th></th>\n",
              "      <th>id</th>\n",
              "      <th>campaign_id</th>\n",
              "      <th>coupon_id</th>\n",
              "      <th>customer_id</th>\n",
              "      <th>redemption_status</th>\n",
              "      <th>campaign_type</th>\n",
              "      <th>start_date</th>\n",
              "      <th>end_date</th>\n",
              "      <th>Camp_Duration_by_days</th>\n",
              "      <th>Camp_Duration_by_month</th>\n",
              "      <th>Camp_Duration_by_week</th>\n",
              "    </tr>\n",
              "  </thead>\n",
              "  <tbody>\n",
              "    <tr>\n",
              "      <th>0</th>\n",
              "      <td>1</td>\n",
              "      <td>13</td>\n",
              "      <td>27</td>\n",
              "      <td>1053</td>\n",
              "      <td>0</td>\n",
              "      <td>X</td>\n",
              "      <td>2013-05-19</td>\n",
              "      <td>2013-07-05</td>\n",
              "      <td>47.0</td>\n",
              "      <td>1.544180</td>\n",
              "      <td>6.714286</td>\n",
              "    </tr>\n",
              "    <tr>\n",
              "      <th>1</th>\n",
              "      <td>2</td>\n",
              "      <td>13</td>\n",
              "      <td>116</td>\n",
              "      <td>48</td>\n",
              "      <td>0</td>\n",
              "      <td>X</td>\n",
              "      <td>2013-05-19</td>\n",
              "      <td>2013-07-05</td>\n",
              "      <td>47.0</td>\n",
              "      <td>1.544180</td>\n",
              "      <td>6.714286</td>\n",
              "    </tr>\n",
              "    <tr>\n",
              "      <th>2</th>\n",
              "      <td>6</td>\n",
              "      <td>9</td>\n",
              "      <td>635</td>\n",
              "      <td>205</td>\n",
              "      <td>0</td>\n",
              "      <td>Y</td>\n",
              "      <td>2013-03-11</td>\n",
              "      <td>2013-04-12</td>\n",
              "      <td>32.0</td>\n",
              "      <td>1.051356</td>\n",
              "      <td>4.571429</td>\n",
              "    </tr>\n",
              "    <tr>\n",
              "      <th>3</th>\n",
              "      <td>7</td>\n",
              "      <td>13</td>\n",
              "      <td>644</td>\n",
              "      <td>1050</td>\n",
              "      <td>0</td>\n",
              "      <td>X</td>\n",
              "      <td>2013-05-19</td>\n",
              "      <td>2013-07-05</td>\n",
              "      <td>47.0</td>\n",
              "      <td>1.544180</td>\n",
              "      <td>6.714286</td>\n",
              "    </tr>\n",
              "    <tr>\n",
              "      <th>4</th>\n",
              "      <td>9</td>\n",
              "      <td>8</td>\n",
              "      <td>1017</td>\n",
              "      <td>1489</td>\n",
              "      <td>0</td>\n",
              "      <td>X</td>\n",
              "      <td>2013-02-16</td>\n",
              "      <td>2013-04-05</td>\n",
              "      <td>48.0</td>\n",
              "      <td>1.577034</td>\n",
              "      <td>6.857143</td>\n",
              "    </tr>\n",
              "  </tbody>\n",
              "</table>\n",
              "</div>"
            ],
            "text/plain": [
              "   id  campaign_id  ...  Camp_Duration_by_month  Camp_Duration_by_week\n",
              "0   1           13  ...                1.544180               6.714286\n",
              "1   2           13  ...                1.544180               6.714286\n",
              "2   6            9  ...                1.051356               4.571429\n",
              "3   7           13  ...                1.544180               6.714286\n",
              "4   9            8  ...                1.577034               6.857143\n",
              "\n",
              "[5 rows x 11 columns]"
            ]
          },
          "metadata": {
            "tags": []
          },
          "execution_count": 164
        }
      ]
    },
    {
      "cell_type": "code",
      "metadata": {
        "id": "-8WS0O8u7ddp",
        "colab_type": "code",
        "colab": {
          "base_uri": "https://localhost:8080/",
          "height": 51
        },
        "outputId": "61b123c8-affe-41e3-d206-fdcef8768d9d"
      },
      "source": [
        "print(\"After Merging Size\\n\", train.shape)"
      ],
      "execution_count": 165,
      "outputs": [
        {
          "output_type": "stream",
          "text": [
            "After Merging Size\n",
            " (78369, 11)\n"
          ],
          "name": "stdout"
        }
      ]
    },
    {
      "cell_type": "markdown",
      "metadata": {
        "id": "95hRuFRy7ddr",
        "colab_type": "text"
      },
      "source": [
        "MERGE 2"
      ]
    },
    {
      "cell_type": "code",
      "metadata": {
        "colab_type": "code",
        "id": "zcTFPMxF-079",
        "colab": {
          "base_uri": "https://localhost:8080/",
          "height": 204
        },
        "outputId": "bdbdffa8-8594-4b9c-ef60-841da493c86b"
      },
      "source": [
        "# merge of coupon_item_mapping and item_data\n",
        "for i in ['brand', 'brand_type', 'category']:\n",
        "    item[i]=item[i].astype('category')\n",
        "    \n",
        "coupon = coupon.merge(item,on='item_id',how='left')\n",
        "coupon.head()"
      ],
      "execution_count": 166,
      "outputs": [
        {
          "output_type": "execute_result",
          "data": {
            "text/html": [
              "<div>\n",
              "<style scoped>\n",
              "    .dataframe tbody tr th:only-of-type {\n",
              "        vertical-align: middle;\n",
              "    }\n",
              "\n",
              "    .dataframe tbody tr th {\n",
              "        vertical-align: top;\n",
              "    }\n",
              "\n",
              "    .dataframe thead th {\n",
              "        text-align: right;\n",
              "    }\n",
              "</style>\n",
              "<table border=\"1\" class=\"dataframe\">\n",
              "  <thead>\n",
              "    <tr style=\"text-align: right;\">\n",
              "      <th></th>\n",
              "      <th>coupon_id</th>\n",
              "      <th>item_id</th>\n",
              "      <th>brand</th>\n",
              "      <th>brand_type</th>\n",
              "      <th>category</th>\n",
              "    </tr>\n",
              "  </thead>\n",
              "  <tbody>\n",
              "    <tr>\n",
              "      <th>0</th>\n",
              "      <td>105</td>\n",
              "      <td>37</td>\n",
              "      <td>56</td>\n",
              "      <td>Local</td>\n",
              "      <td>Grocery</td>\n",
              "    </tr>\n",
              "    <tr>\n",
              "      <th>1</th>\n",
              "      <td>107</td>\n",
              "      <td>75</td>\n",
              "      <td>56</td>\n",
              "      <td>Local</td>\n",
              "      <td>Grocery</td>\n",
              "    </tr>\n",
              "    <tr>\n",
              "      <th>2</th>\n",
              "      <td>494</td>\n",
              "      <td>76</td>\n",
              "      <td>209</td>\n",
              "      <td>Established</td>\n",
              "      <td>Grocery</td>\n",
              "    </tr>\n",
              "    <tr>\n",
              "      <th>3</th>\n",
              "      <td>522</td>\n",
              "      <td>77</td>\n",
              "      <td>278</td>\n",
              "      <td>Established</td>\n",
              "      <td>Grocery</td>\n",
              "    </tr>\n",
              "    <tr>\n",
              "      <th>4</th>\n",
              "      <td>518</td>\n",
              "      <td>77</td>\n",
              "      <td>278</td>\n",
              "      <td>Established</td>\n",
              "      <td>Grocery</td>\n",
              "    </tr>\n",
              "  </tbody>\n",
              "</table>\n",
              "</div>"
            ],
            "text/plain": [
              "   coupon_id  item_id brand   brand_type category\n",
              "0        105       37    56        Local  Grocery\n",
              "1        107       75    56        Local  Grocery\n",
              "2        494       76   209  Established  Grocery\n",
              "3        522       77   278  Established  Grocery\n",
              "4        518       77   278  Established  Grocery"
            ]
          },
          "metadata": {
            "tags": []
          },
          "execution_count": 166
        }
      ]
    },
    {
      "cell_type": "code",
      "metadata": {
        "colab_type": "code",
        "id": "vkFP73eOBTX_",
        "colab": {
          "base_uri": "https://localhost:8080/",
          "height": 119
        },
        "outputId": "d5726c7d-1aec-4b46-f306-786bc9fbe7cb"
      },
      "source": [
        "coupon.dtypes"
      ],
      "execution_count": 167,
      "outputs": [
        {
          "output_type": "execute_result",
          "data": {
            "text/plain": [
              "coupon_id        int64\n",
              "item_id          int64\n",
              "brand         category\n",
              "brand_type    category\n",
              "category      category\n",
              "dtype: object"
            ]
          },
          "metadata": {
            "tags": []
          },
          "execution_count": 167
        }
      ]
    },
    {
      "cell_type": "markdown",
      "metadata": {
        "colab_type": "text",
        "id": "pHwmSkhEBOm8"
      },
      "source": [
        "CUSTOMER TRANSACTION DATA"
      ]
    },
    {
      "cell_type": "markdown",
      "metadata": {
        "id": "eJ1jZksR7dd4",
        "colab_type": "text"
      },
      "source": [
        "- Creating NEW Features..."
      ]
    },
    {
      "cell_type": "code",
      "metadata": {
        "colab_type": "code",
        "id": "hAKQJQvXAvJ1",
        "colab": {}
      },
      "source": [
        "trans['date']=pd.to_datetime(trans['date'],format='%Y-%m-%d')\n",
        "trans['day_no']=trans['date'].dt.day.astype('category')\n",
        "trans['month_no']=trans['date'].dt.month.astype('category')\n",
        "trans['week_no']=trans['date'].dt.week.astype('category')"
      ],
      "execution_count": 168,
      "outputs": []
    },
    {
      "cell_type": "code",
      "metadata": {
        "colab_type": "code",
        "id": "7ugdN_vyB3kn",
        "colab": {
          "base_uri": "https://localhost:8080/",
          "height": 204
        },
        "outputId": "dbe5539f-2e6f-4660-ed15-f0af51f7fe8b"
      },
      "source": [
        "trans.head()"
      ],
      "execution_count": 169,
      "outputs": [
        {
          "output_type": "execute_result",
          "data": {
            "text/html": [
              "<div>\n",
              "<style scoped>\n",
              "    .dataframe tbody tr th:only-of-type {\n",
              "        vertical-align: middle;\n",
              "    }\n",
              "\n",
              "    .dataframe tbody tr th {\n",
              "        vertical-align: top;\n",
              "    }\n",
              "\n",
              "    .dataframe thead th {\n",
              "        text-align: right;\n",
              "    }\n",
              "</style>\n",
              "<table border=\"1\" class=\"dataframe\">\n",
              "  <thead>\n",
              "    <tr style=\"text-align: right;\">\n",
              "      <th></th>\n",
              "      <th>date</th>\n",
              "      <th>customer_id</th>\n",
              "      <th>item_id</th>\n",
              "      <th>quantity</th>\n",
              "      <th>selling_price</th>\n",
              "      <th>other_discount</th>\n",
              "      <th>coupon_discount</th>\n",
              "      <th>day_no</th>\n",
              "      <th>month_no</th>\n",
              "      <th>week_no</th>\n",
              "    </tr>\n",
              "  </thead>\n",
              "  <tbody>\n",
              "    <tr>\n",
              "      <th>0</th>\n",
              "      <td>2012-01-02</td>\n",
              "      <td>1501</td>\n",
              "      <td>26830</td>\n",
              "      <td>1</td>\n",
              "      <td>35.26</td>\n",
              "      <td>-10.69</td>\n",
              "      <td>0.0</td>\n",
              "      <td>2</td>\n",
              "      <td>1</td>\n",
              "      <td>1</td>\n",
              "    </tr>\n",
              "    <tr>\n",
              "      <th>1</th>\n",
              "      <td>2012-01-02</td>\n",
              "      <td>1501</td>\n",
              "      <td>54253</td>\n",
              "      <td>1</td>\n",
              "      <td>53.43</td>\n",
              "      <td>-13.89</td>\n",
              "      <td>0.0</td>\n",
              "      <td>2</td>\n",
              "      <td>1</td>\n",
              "      <td>1</td>\n",
              "    </tr>\n",
              "    <tr>\n",
              "      <th>2</th>\n",
              "      <td>2012-01-02</td>\n",
              "      <td>1501</td>\n",
              "      <td>31962</td>\n",
              "      <td>1</td>\n",
              "      <td>106.50</td>\n",
              "      <td>-14.25</td>\n",
              "      <td>0.0</td>\n",
              "      <td>2</td>\n",
              "      <td>1</td>\n",
              "      <td>1</td>\n",
              "    </tr>\n",
              "    <tr>\n",
              "      <th>3</th>\n",
              "      <td>2012-01-02</td>\n",
              "      <td>1501</td>\n",
              "      <td>33647</td>\n",
              "      <td>1</td>\n",
              "      <td>67.32</td>\n",
              "      <td>0.00</td>\n",
              "      <td>0.0</td>\n",
              "      <td>2</td>\n",
              "      <td>1</td>\n",
              "      <td>1</td>\n",
              "    </tr>\n",
              "    <tr>\n",
              "      <th>4</th>\n",
              "      <td>2012-01-02</td>\n",
              "      <td>1501</td>\n",
              "      <td>48199</td>\n",
              "      <td>1</td>\n",
              "      <td>71.24</td>\n",
              "      <td>-28.14</td>\n",
              "      <td>0.0</td>\n",
              "      <td>2</td>\n",
              "      <td>1</td>\n",
              "      <td>1</td>\n",
              "    </tr>\n",
              "  </tbody>\n",
              "</table>\n",
              "</div>"
            ],
            "text/plain": [
              "        date  customer_id  item_id  ...  day_no  month_no  week_no\n",
              "0 2012-01-02         1501    26830  ...       2         1        1\n",
              "1 2012-01-02         1501    54253  ...       2         1        1\n",
              "2 2012-01-02         1501    31962  ...       2         1        1\n",
              "3 2012-01-02         1501    33647  ...       2         1        1\n",
              "4 2012-01-02         1501    48199  ...       2         1        1\n",
              "\n",
              "[5 rows x 10 columns]"
            ]
          },
          "metadata": {
            "tags": []
          },
          "execution_count": 169
        }
      ]
    },
    {
      "cell_type": "markdown",
      "metadata": {
        "colab_type": "text",
        "id": "urwm7wkWCxUL"
      },
      "source": [
        "Creating new features from Transaction Data"
      ]
    },
    {
      "cell_type": "code",
      "metadata": {
        "colab_type": "code",
        "id": "eNIZBlurCFi1",
        "colab": {}
      },
      "source": [
        "# coupon_discount is an important feature through which Data Leakage can occur\n",
        "trans['discount_column']=trans['coupon_discount'].apply(lambda x: 0 if x>=0 else 1)\n",
        "trans['new_price_marked']=trans['selling_price']-trans['other_discount']-trans['coupon_discount']\n",
        "trans['discount_percent']=(trans['new_price_marked']-trans['selling_price'])/trans['selling_price']\n",
        "trans['price_per_quantity']=trans['new_price_marked']/trans['quantity']\n",
        "trans['Sale_price_marked']=trans['new_price_marked']/trans['selling_price']"
      ],
      "execution_count": 170,
      "outputs": []
    },
    {
      "cell_type": "code",
      "metadata": {
        "colab_type": "code",
        "id": "Qv9WbcNfDakc",
        "colab": {
          "base_uri": "https://localhost:8080/",
          "height": 309
        },
        "outputId": "62807adf-51aa-4990-80bf-55245b624280"
      },
      "source": [
        "trans.head()"
      ],
      "execution_count": 171,
      "outputs": [
        {
          "output_type": "execute_result",
          "data": {
            "text/html": [
              "<div>\n",
              "<style scoped>\n",
              "    .dataframe tbody tr th:only-of-type {\n",
              "        vertical-align: middle;\n",
              "    }\n",
              "\n",
              "    .dataframe tbody tr th {\n",
              "        vertical-align: top;\n",
              "    }\n",
              "\n",
              "    .dataframe thead th {\n",
              "        text-align: right;\n",
              "    }\n",
              "</style>\n",
              "<table border=\"1\" class=\"dataframe\">\n",
              "  <thead>\n",
              "    <tr style=\"text-align: right;\">\n",
              "      <th></th>\n",
              "      <th>date</th>\n",
              "      <th>customer_id</th>\n",
              "      <th>item_id</th>\n",
              "      <th>quantity</th>\n",
              "      <th>selling_price</th>\n",
              "      <th>other_discount</th>\n",
              "      <th>coupon_discount</th>\n",
              "      <th>day_no</th>\n",
              "      <th>month_no</th>\n",
              "      <th>week_no</th>\n",
              "      <th>discount_column</th>\n",
              "      <th>new_price_marked</th>\n",
              "      <th>discount_percent</th>\n",
              "      <th>price_per_quantity</th>\n",
              "      <th>Sale_price_marked</th>\n",
              "    </tr>\n",
              "  </thead>\n",
              "  <tbody>\n",
              "    <tr>\n",
              "      <th>0</th>\n",
              "      <td>2012-01-02</td>\n",
              "      <td>1501</td>\n",
              "      <td>26830</td>\n",
              "      <td>1</td>\n",
              "      <td>35.26</td>\n",
              "      <td>-10.69</td>\n",
              "      <td>0.0</td>\n",
              "      <td>2</td>\n",
              "      <td>1</td>\n",
              "      <td>1</td>\n",
              "      <td>0</td>\n",
              "      <td>45.95</td>\n",
              "      <td>0.303176</td>\n",
              "      <td>45.95</td>\n",
              "      <td>1.303176</td>\n",
              "    </tr>\n",
              "    <tr>\n",
              "      <th>1</th>\n",
              "      <td>2012-01-02</td>\n",
              "      <td>1501</td>\n",
              "      <td>54253</td>\n",
              "      <td>1</td>\n",
              "      <td>53.43</td>\n",
              "      <td>-13.89</td>\n",
              "      <td>0.0</td>\n",
              "      <td>2</td>\n",
              "      <td>1</td>\n",
              "      <td>1</td>\n",
              "      <td>0</td>\n",
              "      <td>67.32</td>\n",
              "      <td>0.259966</td>\n",
              "      <td>67.32</td>\n",
              "      <td>1.259966</td>\n",
              "    </tr>\n",
              "    <tr>\n",
              "      <th>2</th>\n",
              "      <td>2012-01-02</td>\n",
              "      <td>1501</td>\n",
              "      <td>31962</td>\n",
              "      <td>1</td>\n",
              "      <td>106.50</td>\n",
              "      <td>-14.25</td>\n",
              "      <td>0.0</td>\n",
              "      <td>2</td>\n",
              "      <td>1</td>\n",
              "      <td>1</td>\n",
              "      <td>0</td>\n",
              "      <td>120.75</td>\n",
              "      <td>0.133803</td>\n",
              "      <td>120.75</td>\n",
              "      <td>1.133803</td>\n",
              "    </tr>\n",
              "    <tr>\n",
              "      <th>3</th>\n",
              "      <td>2012-01-02</td>\n",
              "      <td>1501</td>\n",
              "      <td>33647</td>\n",
              "      <td>1</td>\n",
              "      <td>67.32</td>\n",
              "      <td>0.00</td>\n",
              "      <td>0.0</td>\n",
              "      <td>2</td>\n",
              "      <td>1</td>\n",
              "      <td>1</td>\n",
              "      <td>0</td>\n",
              "      <td>67.32</td>\n",
              "      <td>0.000000</td>\n",
              "      <td>67.32</td>\n",
              "      <td>1.000000</td>\n",
              "    </tr>\n",
              "    <tr>\n",
              "      <th>4</th>\n",
              "      <td>2012-01-02</td>\n",
              "      <td>1501</td>\n",
              "      <td>48199</td>\n",
              "      <td>1</td>\n",
              "      <td>71.24</td>\n",
              "      <td>-28.14</td>\n",
              "      <td>0.0</td>\n",
              "      <td>2</td>\n",
              "      <td>1</td>\n",
              "      <td>1</td>\n",
              "      <td>0</td>\n",
              "      <td>99.38</td>\n",
              "      <td>0.395003</td>\n",
              "      <td>99.38</td>\n",
              "      <td>1.395003</td>\n",
              "    </tr>\n",
              "  </tbody>\n",
              "</table>\n",
              "</div>"
            ],
            "text/plain": [
              "        date  customer_id  ...  price_per_quantity  Sale_price_marked\n",
              "0 2012-01-02         1501  ...               45.95           1.303176\n",
              "1 2012-01-02         1501  ...               67.32           1.259966\n",
              "2 2012-01-02         1501  ...              120.75           1.133803\n",
              "3 2012-01-02         1501  ...               67.32           1.000000\n",
              "4 2012-01-02         1501  ...               99.38           1.395003\n",
              "\n",
              "[5 rows x 15 columns]"
            ]
          },
          "metadata": {
            "tags": []
          },
          "execution_count": 171
        }
      ]
    },
    {
      "cell_type": "code",
      "metadata": {
        "colab_type": "code",
        "id": "iMXfe5bRDsk6",
        "colab": {
          "base_uri": "https://localhost:8080/",
          "height": 309
        },
        "outputId": "7bd4e26c-c3e1-4839-88fb-5a5f9424d1f4"
      },
      "source": [
        "trans = trans.merge(coupon,on='item_id',how='left')\n",
        "trans.head()"
      ],
      "execution_count": 172,
      "outputs": [
        {
          "output_type": "execute_result",
          "data": {
            "text/html": [
              "<div>\n",
              "<style scoped>\n",
              "    .dataframe tbody tr th:only-of-type {\n",
              "        vertical-align: middle;\n",
              "    }\n",
              "\n",
              "    .dataframe tbody tr th {\n",
              "        vertical-align: top;\n",
              "    }\n",
              "\n",
              "    .dataframe thead th {\n",
              "        text-align: right;\n",
              "    }\n",
              "</style>\n",
              "<table border=\"1\" class=\"dataframe\">\n",
              "  <thead>\n",
              "    <tr style=\"text-align: right;\">\n",
              "      <th></th>\n",
              "      <th>date</th>\n",
              "      <th>customer_id</th>\n",
              "      <th>item_id</th>\n",
              "      <th>quantity</th>\n",
              "      <th>selling_price</th>\n",
              "      <th>other_discount</th>\n",
              "      <th>coupon_discount</th>\n",
              "      <th>day_no</th>\n",
              "      <th>month_no</th>\n",
              "      <th>week_no</th>\n",
              "      <th>discount_column</th>\n",
              "      <th>new_price_marked</th>\n",
              "      <th>discount_percent</th>\n",
              "      <th>price_per_quantity</th>\n",
              "      <th>Sale_price_marked</th>\n",
              "      <th>coupon_id</th>\n",
              "      <th>brand</th>\n",
              "      <th>brand_type</th>\n",
              "      <th>category</th>\n",
              "    </tr>\n",
              "  </thead>\n",
              "  <tbody>\n",
              "    <tr>\n",
              "      <th>0</th>\n",
              "      <td>2012-01-02</td>\n",
              "      <td>1501</td>\n",
              "      <td>26830</td>\n",
              "      <td>1</td>\n",
              "      <td>35.26</td>\n",
              "      <td>-10.69</td>\n",
              "      <td>0.0</td>\n",
              "      <td>2</td>\n",
              "      <td>1</td>\n",
              "      <td>1</td>\n",
              "      <td>0</td>\n",
              "      <td>45.95</td>\n",
              "      <td>0.303176</td>\n",
              "      <td>45.95</td>\n",
              "      <td>1.303176</td>\n",
              "      <td>7.0</td>\n",
              "      <td>56</td>\n",
              "      <td>Local</td>\n",
              "      <td>Natural Products</td>\n",
              "    </tr>\n",
              "    <tr>\n",
              "      <th>1</th>\n",
              "      <td>2012-01-02</td>\n",
              "      <td>1501</td>\n",
              "      <td>26830</td>\n",
              "      <td>1</td>\n",
              "      <td>35.26</td>\n",
              "      <td>-10.69</td>\n",
              "      <td>0.0</td>\n",
              "      <td>2</td>\n",
              "      <td>1</td>\n",
              "      <td>1</td>\n",
              "      <td>0</td>\n",
              "      <td>45.95</td>\n",
              "      <td>0.303176</td>\n",
              "      <td>45.95</td>\n",
              "      <td>1.303176</td>\n",
              "      <td>20.0</td>\n",
              "      <td>56</td>\n",
              "      <td>Local</td>\n",
              "      <td>Natural Products</td>\n",
              "    </tr>\n",
              "    <tr>\n",
              "      <th>2</th>\n",
              "      <td>2012-01-02</td>\n",
              "      <td>1501</td>\n",
              "      <td>26830</td>\n",
              "      <td>1</td>\n",
              "      <td>35.26</td>\n",
              "      <td>-10.69</td>\n",
              "      <td>0.0</td>\n",
              "      <td>2</td>\n",
              "      <td>1</td>\n",
              "      <td>1</td>\n",
              "      <td>0</td>\n",
              "      <td>45.95</td>\n",
              "      <td>0.303176</td>\n",
              "      <td>45.95</td>\n",
              "      <td>1.303176</td>\n",
              "      <td>29.0</td>\n",
              "      <td>56</td>\n",
              "      <td>Local</td>\n",
              "      <td>Natural Products</td>\n",
              "    </tr>\n",
              "    <tr>\n",
              "      <th>3</th>\n",
              "      <td>2012-01-02</td>\n",
              "      <td>1501</td>\n",
              "      <td>54253</td>\n",
              "      <td>1</td>\n",
              "      <td>53.43</td>\n",
              "      <td>-13.89</td>\n",
              "      <td>0.0</td>\n",
              "      <td>2</td>\n",
              "      <td>1</td>\n",
              "      <td>1</td>\n",
              "      <td>0</td>\n",
              "      <td>67.32</td>\n",
              "      <td>0.259966</td>\n",
              "      <td>67.32</td>\n",
              "      <td>1.259966</td>\n",
              "      <td>7.0</td>\n",
              "      <td>56</td>\n",
              "      <td>Local</td>\n",
              "      <td>Natural Products</td>\n",
              "    </tr>\n",
              "    <tr>\n",
              "      <th>4</th>\n",
              "      <td>2012-01-02</td>\n",
              "      <td>1501</td>\n",
              "      <td>54253</td>\n",
              "      <td>1</td>\n",
              "      <td>53.43</td>\n",
              "      <td>-13.89</td>\n",
              "      <td>0.0</td>\n",
              "      <td>2</td>\n",
              "      <td>1</td>\n",
              "      <td>1</td>\n",
              "      <td>0</td>\n",
              "      <td>67.32</td>\n",
              "      <td>0.259966</td>\n",
              "      <td>67.32</td>\n",
              "      <td>1.259966</td>\n",
              "      <td>20.0</td>\n",
              "      <td>56</td>\n",
              "      <td>Local</td>\n",
              "      <td>Natural Products</td>\n",
              "    </tr>\n",
              "  </tbody>\n",
              "</table>\n",
              "</div>"
            ],
            "text/plain": [
              "        date  customer_id  item_id  ...  brand  brand_type          category\n",
              "0 2012-01-02         1501    26830  ...     56       Local  Natural Products\n",
              "1 2012-01-02         1501    26830  ...     56       Local  Natural Products\n",
              "2 2012-01-02         1501    26830  ...     56       Local  Natural Products\n",
              "3 2012-01-02         1501    54253  ...     56       Local  Natural Products\n",
              "4 2012-01-02         1501    54253  ...     56       Local  Natural Products\n",
              "\n",
              "[5 rows x 19 columns]"
            ]
          },
          "metadata": {
            "tags": []
          },
          "execution_count": 172
        }
      ]
    },
    {
      "cell_type": "code",
      "metadata": {
        "id": "F0C8_OJI7deD",
        "colab_type": "code",
        "colab": {
          "base_uri": "https://localhost:8080/",
          "height": 357
        },
        "outputId": "49059efd-1f55-4d69-e879-b9d4a9d5ed22"
      },
      "source": [
        "trans.dtypes"
      ],
      "execution_count": 173,
      "outputs": [
        {
          "output_type": "execute_result",
          "data": {
            "text/plain": [
              "date                  datetime64[ns]\n",
              "customer_id                    int64\n",
              "item_id                        int64\n",
              "quantity                       int64\n",
              "selling_price                float64\n",
              "other_discount               float64\n",
              "coupon_discount              float64\n",
              "day_no                      category\n",
              "month_no                    category\n",
              "week_no                     category\n",
              "discount_column                int64\n",
              "new_price_marked             float64\n",
              "discount_percent             float64\n",
              "price_per_quantity           float64\n",
              "Sale_price_marked            float64\n",
              "coupon_id                    float64\n",
              "brand                       category\n",
              "brand_type                  category\n",
              "category                    category\n",
              "dtype: object"
            ]
          },
          "metadata": {
            "tags": []
          },
          "execution_count": 173
        }
      ]
    },
    {
      "cell_type": "code",
      "metadata": {
        "colab_type": "code",
        "id": "3eMDkqOxEUKV",
        "colab": {}
      },
      "source": [
        "trans=trans.merge(trans.groupby(['customer_id','date']).agg({'coupon_id':'count','item_id':'count','discount_percent':sum}).reset_index().rename(columns={'coupon_id':'coupon_acquired','item_id':'item_bought','discount_percent':'total_discount'}),on=['customer_id','date'],how='left')"
      ],
      "execution_count": 174,
      "outputs": []
    },
    {
      "cell_type": "code",
      "metadata": {
        "colab_type": "code",
        "id": "ftl45YSIEnBl",
        "colab": {}
      },
      "source": [
        "trans['coupon_to_item_redeemed']=trans['item_bought']-trans['coupon_acquired']"
      ],
      "execution_count": 175,
      "outputs": []
    },
    {
      "cell_type": "code",
      "metadata": {
        "colab_type": "code",
        "id": "9mEMIslbEwoK",
        "colab": {
          "base_uri": "https://localhost:8080/",
          "height": 309
        },
        "outputId": "4e0a7f44-8ab8-4c79-9850-78a8daf3e86b"
      },
      "source": [
        "trans.head()"
      ],
      "execution_count": 176,
      "outputs": [
        {
          "output_type": "execute_result",
          "data": {
            "text/html": [
              "<div>\n",
              "<style scoped>\n",
              "    .dataframe tbody tr th:only-of-type {\n",
              "        vertical-align: middle;\n",
              "    }\n",
              "\n",
              "    .dataframe tbody tr th {\n",
              "        vertical-align: top;\n",
              "    }\n",
              "\n",
              "    .dataframe thead th {\n",
              "        text-align: right;\n",
              "    }\n",
              "</style>\n",
              "<table border=\"1\" class=\"dataframe\">\n",
              "  <thead>\n",
              "    <tr style=\"text-align: right;\">\n",
              "      <th></th>\n",
              "      <th>date</th>\n",
              "      <th>customer_id</th>\n",
              "      <th>item_id</th>\n",
              "      <th>quantity</th>\n",
              "      <th>selling_price</th>\n",
              "      <th>other_discount</th>\n",
              "      <th>coupon_discount</th>\n",
              "      <th>day_no</th>\n",
              "      <th>month_no</th>\n",
              "      <th>week_no</th>\n",
              "      <th>discount_column</th>\n",
              "      <th>new_price_marked</th>\n",
              "      <th>discount_percent</th>\n",
              "      <th>price_per_quantity</th>\n",
              "      <th>Sale_price_marked</th>\n",
              "      <th>coupon_id</th>\n",
              "      <th>brand</th>\n",
              "      <th>brand_type</th>\n",
              "      <th>category</th>\n",
              "      <th>coupon_acquired</th>\n",
              "      <th>item_bought</th>\n",
              "      <th>total_discount</th>\n",
              "      <th>coupon_to_item_redeemed</th>\n",
              "    </tr>\n",
              "  </thead>\n",
              "  <tbody>\n",
              "    <tr>\n",
              "      <th>0</th>\n",
              "      <td>2012-01-02</td>\n",
              "      <td>1501</td>\n",
              "      <td>26830</td>\n",
              "      <td>1</td>\n",
              "      <td>35.26</td>\n",
              "      <td>-10.69</td>\n",
              "      <td>0.0</td>\n",
              "      <td>2</td>\n",
              "      <td>1</td>\n",
              "      <td>1</td>\n",
              "      <td>0</td>\n",
              "      <td>45.95</td>\n",
              "      <td>0.303176</td>\n",
              "      <td>45.95</td>\n",
              "      <td>1.303176</td>\n",
              "      <td>7.0</td>\n",
              "      <td>56</td>\n",
              "      <td>Local</td>\n",
              "      <td>Natural Products</td>\n",
              "      <td>11</td>\n",
              "      <td>12</td>\n",
              "      <td>3.403242</td>\n",
              "      <td>1</td>\n",
              "    </tr>\n",
              "    <tr>\n",
              "      <th>1</th>\n",
              "      <td>2012-01-02</td>\n",
              "      <td>1501</td>\n",
              "      <td>26830</td>\n",
              "      <td>1</td>\n",
              "      <td>35.26</td>\n",
              "      <td>-10.69</td>\n",
              "      <td>0.0</td>\n",
              "      <td>2</td>\n",
              "      <td>1</td>\n",
              "      <td>1</td>\n",
              "      <td>0</td>\n",
              "      <td>45.95</td>\n",
              "      <td>0.303176</td>\n",
              "      <td>45.95</td>\n",
              "      <td>1.303176</td>\n",
              "      <td>20.0</td>\n",
              "      <td>56</td>\n",
              "      <td>Local</td>\n",
              "      <td>Natural Products</td>\n",
              "      <td>11</td>\n",
              "      <td>12</td>\n",
              "      <td>3.403242</td>\n",
              "      <td>1</td>\n",
              "    </tr>\n",
              "    <tr>\n",
              "      <th>2</th>\n",
              "      <td>2012-01-02</td>\n",
              "      <td>1501</td>\n",
              "      <td>26830</td>\n",
              "      <td>1</td>\n",
              "      <td>35.26</td>\n",
              "      <td>-10.69</td>\n",
              "      <td>0.0</td>\n",
              "      <td>2</td>\n",
              "      <td>1</td>\n",
              "      <td>1</td>\n",
              "      <td>0</td>\n",
              "      <td>45.95</td>\n",
              "      <td>0.303176</td>\n",
              "      <td>45.95</td>\n",
              "      <td>1.303176</td>\n",
              "      <td>29.0</td>\n",
              "      <td>56</td>\n",
              "      <td>Local</td>\n",
              "      <td>Natural Products</td>\n",
              "      <td>11</td>\n",
              "      <td>12</td>\n",
              "      <td>3.403242</td>\n",
              "      <td>1</td>\n",
              "    </tr>\n",
              "    <tr>\n",
              "      <th>3</th>\n",
              "      <td>2012-01-02</td>\n",
              "      <td>1501</td>\n",
              "      <td>54253</td>\n",
              "      <td>1</td>\n",
              "      <td>53.43</td>\n",
              "      <td>-13.89</td>\n",
              "      <td>0.0</td>\n",
              "      <td>2</td>\n",
              "      <td>1</td>\n",
              "      <td>1</td>\n",
              "      <td>0</td>\n",
              "      <td>67.32</td>\n",
              "      <td>0.259966</td>\n",
              "      <td>67.32</td>\n",
              "      <td>1.259966</td>\n",
              "      <td>7.0</td>\n",
              "      <td>56</td>\n",
              "      <td>Local</td>\n",
              "      <td>Natural Products</td>\n",
              "      <td>11</td>\n",
              "      <td>12</td>\n",
              "      <td>3.403242</td>\n",
              "      <td>1</td>\n",
              "    </tr>\n",
              "    <tr>\n",
              "      <th>4</th>\n",
              "      <td>2012-01-02</td>\n",
              "      <td>1501</td>\n",
              "      <td>54253</td>\n",
              "      <td>1</td>\n",
              "      <td>53.43</td>\n",
              "      <td>-13.89</td>\n",
              "      <td>0.0</td>\n",
              "      <td>2</td>\n",
              "      <td>1</td>\n",
              "      <td>1</td>\n",
              "      <td>0</td>\n",
              "      <td>67.32</td>\n",
              "      <td>0.259966</td>\n",
              "      <td>67.32</td>\n",
              "      <td>1.259966</td>\n",
              "      <td>20.0</td>\n",
              "      <td>56</td>\n",
              "      <td>Local</td>\n",
              "      <td>Natural Products</td>\n",
              "      <td>11</td>\n",
              "      <td>12</td>\n",
              "      <td>3.403242</td>\n",
              "      <td>1</td>\n",
              "    </tr>\n",
              "  </tbody>\n",
              "</table>\n",
              "</div>"
            ],
            "text/plain": [
              "        date  customer_id  ...  total_discount  coupon_to_item_redeemed\n",
              "0 2012-01-02         1501  ...        3.403242                        1\n",
              "1 2012-01-02         1501  ...        3.403242                        1\n",
              "2 2012-01-02         1501  ...        3.403242                        1\n",
              "3 2012-01-02         1501  ...        3.403242                        1\n",
              "4 2012-01-02         1501  ...        3.403242                        1\n",
              "\n",
              "[5 rows x 23 columns]"
            ]
          },
          "metadata": {
            "tags": []
          },
          "execution_count": 176
        }
      ]
    },
    {
      "cell_type": "code",
      "metadata": {
        "colab_type": "code",
        "id": "VTEhMNcjE1jV",
        "colab": {
          "base_uri": "https://localhost:8080/",
          "height": 309
        },
        "outputId": "d4d9dae2-0ad6-4bec-cf0d-97bc81e17b21"
      },
      "source": [
        "train.head()"
      ],
      "execution_count": 177,
      "outputs": [
        {
          "output_type": "execute_result",
          "data": {
            "text/html": [
              "<div>\n",
              "<style scoped>\n",
              "    .dataframe tbody tr th:only-of-type {\n",
              "        vertical-align: middle;\n",
              "    }\n",
              "\n",
              "    .dataframe tbody tr th {\n",
              "        vertical-align: top;\n",
              "    }\n",
              "\n",
              "    .dataframe thead th {\n",
              "        text-align: right;\n",
              "    }\n",
              "</style>\n",
              "<table border=\"1\" class=\"dataframe\">\n",
              "  <thead>\n",
              "    <tr style=\"text-align: right;\">\n",
              "      <th></th>\n",
              "      <th>id</th>\n",
              "      <th>campaign_id</th>\n",
              "      <th>coupon_id</th>\n",
              "      <th>customer_id</th>\n",
              "      <th>redemption_status</th>\n",
              "      <th>campaign_type</th>\n",
              "      <th>start_date</th>\n",
              "      <th>end_date</th>\n",
              "      <th>Camp_Duration_by_days</th>\n",
              "      <th>Camp_Duration_by_month</th>\n",
              "      <th>Camp_Duration_by_week</th>\n",
              "    </tr>\n",
              "  </thead>\n",
              "  <tbody>\n",
              "    <tr>\n",
              "      <th>0</th>\n",
              "      <td>1</td>\n",
              "      <td>13</td>\n",
              "      <td>27</td>\n",
              "      <td>1053</td>\n",
              "      <td>0</td>\n",
              "      <td>X</td>\n",
              "      <td>2013-05-19</td>\n",
              "      <td>2013-07-05</td>\n",
              "      <td>47.0</td>\n",
              "      <td>1.544180</td>\n",
              "      <td>6.714286</td>\n",
              "    </tr>\n",
              "    <tr>\n",
              "      <th>1</th>\n",
              "      <td>2</td>\n",
              "      <td>13</td>\n",
              "      <td>116</td>\n",
              "      <td>48</td>\n",
              "      <td>0</td>\n",
              "      <td>X</td>\n",
              "      <td>2013-05-19</td>\n",
              "      <td>2013-07-05</td>\n",
              "      <td>47.0</td>\n",
              "      <td>1.544180</td>\n",
              "      <td>6.714286</td>\n",
              "    </tr>\n",
              "    <tr>\n",
              "      <th>2</th>\n",
              "      <td>6</td>\n",
              "      <td>9</td>\n",
              "      <td>635</td>\n",
              "      <td>205</td>\n",
              "      <td>0</td>\n",
              "      <td>Y</td>\n",
              "      <td>2013-03-11</td>\n",
              "      <td>2013-04-12</td>\n",
              "      <td>32.0</td>\n",
              "      <td>1.051356</td>\n",
              "      <td>4.571429</td>\n",
              "    </tr>\n",
              "    <tr>\n",
              "      <th>3</th>\n",
              "      <td>7</td>\n",
              "      <td>13</td>\n",
              "      <td>644</td>\n",
              "      <td>1050</td>\n",
              "      <td>0</td>\n",
              "      <td>X</td>\n",
              "      <td>2013-05-19</td>\n",
              "      <td>2013-07-05</td>\n",
              "      <td>47.0</td>\n",
              "      <td>1.544180</td>\n",
              "      <td>6.714286</td>\n",
              "    </tr>\n",
              "    <tr>\n",
              "      <th>4</th>\n",
              "      <td>9</td>\n",
              "      <td>8</td>\n",
              "      <td>1017</td>\n",
              "      <td>1489</td>\n",
              "      <td>0</td>\n",
              "      <td>X</td>\n",
              "      <td>2013-02-16</td>\n",
              "      <td>2013-04-05</td>\n",
              "      <td>48.0</td>\n",
              "      <td>1.577034</td>\n",
              "      <td>6.857143</td>\n",
              "    </tr>\n",
              "  </tbody>\n",
              "</table>\n",
              "</div>"
            ],
            "text/plain": [
              "   id  campaign_id  ...  Camp_Duration_by_month  Camp_Duration_by_week\n",
              "0   1           13  ...                1.544180               6.714286\n",
              "1   2           13  ...                1.544180               6.714286\n",
              "2   6            9  ...                1.051356               4.571429\n",
              "3   7           13  ...                1.544180               6.714286\n",
              "4   9            8  ...                1.577034               6.857143\n",
              "\n",
              "[5 rows x 11 columns]"
            ]
          },
          "metadata": {
            "tags": []
          },
          "execution_count": 177
        }
      ]
    },
    {
      "cell_type": "markdown",
      "metadata": {
        "colab_type": "text",
        "id": "sCLqfk7TFFRq"
      },
      "source": [
        "Aggregation on transaction data"
      ]
    },
    {
      "cell_type": "code",
      "metadata": {
        "colab_type": "code",
        "id": "J9CvMCILE9Gc",
        "colab": {
          "base_uri": "https://localhost:8080/",
          "height": 719
        },
        "outputId": "f1850590-8dd7-4099-c1c1-44e7542975e6"
      },
      "source": [
        "df_agg=train.merge(trans.groupby(['customer_id','coupon_id']).agg({'date':set,'discount_column':sum,'quantity':sum,'item_id':'count',\n",
        "                                                            'coupon_acquired':sum,'item_bought':'mean','total_discount':sum}).reset_index(),on=['customer_id','coupon_id'],how='left')\n",
        "df_agg.sample(10)"
      ],
      "execution_count": 178,
      "outputs": [
        {
          "output_type": "execute_result",
          "data": {
            "text/html": [
              "<div>\n",
              "<style scoped>\n",
              "    .dataframe tbody tr th:only-of-type {\n",
              "        vertical-align: middle;\n",
              "    }\n",
              "\n",
              "    .dataframe tbody tr th {\n",
              "        vertical-align: top;\n",
              "    }\n",
              "\n",
              "    .dataframe thead th {\n",
              "        text-align: right;\n",
              "    }\n",
              "</style>\n",
              "<table border=\"1\" class=\"dataframe\">\n",
              "  <thead>\n",
              "    <tr style=\"text-align: right;\">\n",
              "      <th></th>\n",
              "      <th>id</th>\n",
              "      <th>campaign_id</th>\n",
              "      <th>coupon_id</th>\n",
              "      <th>customer_id</th>\n",
              "      <th>redemption_status</th>\n",
              "      <th>campaign_type</th>\n",
              "      <th>start_date</th>\n",
              "      <th>end_date</th>\n",
              "      <th>Camp_Duration_by_days</th>\n",
              "      <th>Camp_Duration_by_month</th>\n",
              "      <th>Camp_Duration_by_week</th>\n",
              "      <th>date</th>\n",
              "      <th>discount_column</th>\n",
              "      <th>quantity</th>\n",
              "      <th>item_id</th>\n",
              "      <th>coupon_acquired</th>\n",
              "      <th>item_bought</th>\n",
              "      <th>total_discount</th>\n",
              "    </tr>\n",
              "  </thead>\n",
              "  <tbody>\n",
              "    <tr>\n",
              "      <th>40130</th>\n",
              "      <td>65901</td>\n",
              "      <td>13</td>\n",
              "      <td>151</td>\n",
              "      <td>819</td>\n",
              "      <td>0</td>\n",
              "      <td>X</td>\n",
              "      <td>2013-05-19</td>\n",
              "      <td>2013-07-05</td>\n",
              "      <td>47.0</td>\n",
              "      <td>1.544180</td>\n",
              "      <td>6.714286</td>\n",
              "      <td>NaN</td>\n",
              "      <td>NaN</td>\n",
              "      <td>NaN</td>\n",
              "      <td>NaN</td>\n",
              "      <td>NaN</td>\n",
              "      <td>NaN</td>\n",
              "      <td>NaN</td>\n",
              "    </tr>\n",
              "    <tr>\n",
              "      <th>17042</th>\n",
              "      <td>28038</td>\n",
              "      <td>29</td>\n",
              "      <td>800</td>\n",
              "      <td>386</td>\n",
              "      <td>0</td>\n",
              "      <td>Y</td>\n",
              "      <td>2012-10-08</td>\n",
              "      <td>2012-11-30</td>\n",
              "      <td>53.0</td>\n",
              "      <td>1.741309</td>\n",
              "      <td>7.571429</td>\n",
              "      <td>NaN</td>\n",
              "      <td>NaN</td>\n",
              "      <td>NaN</td>\n",
              "      <td>NaN</td>\n",
              "      <td>NaN</td>\n",
              "      <td>NaN</td>\n",
              "      <td>NaN</td>\n",
              "    </tr>\n",
              "    <tr>\n",
              "      <th>15159</th>\n",
              "      <td>24990</td>\n",
              "      <td>13</td>\n",
              "      <td>850</td>\n",
              "      <td>954</td>\n",
              "      <td>0</td>\n",
              "      <td>X</td>\n",
              "      <td>2013-05-19</td>\n",
              "      <td>2013-07-05</td>\n",
              "      <td>47.0</td>\n",
              "      <td>1.544180</td>\n",
              "      <td>6.714286</td>\n",
              "      <td>NaN</td>\n",
              "      <td>NaN</td>\n",
              "      <td>NaN</td>\n",
              "      <td>NaN</td>\n",
              "      <td>NaN</td>\n",
              "      <td>NaN</td>\n",
              "      <td>NaN</td>\n",
              "    </tr>\n",
              "    <tr>\n",
              "      <th>19656</th>\n",
              "      <td>32355</td>\n",
              "      <td>8</td>\n",
              "      <td>604</td>\n",
              "      <td>294</td>\n",
              "      <td>0</td>\n",
              "      <td>X</td>\n",
              "      <td>2013-02-16</td>\n",
              "      <td>2013-04-05</td>\n",
              "      <td>48.0</td>\n",
              "      <td>1.577034</td>\n",
              "      <td>6.857143</td>\n",
              "      <td>{2012-02-20 00:00:00, 2012-11-16 00:00:00, 201...</td>\n",
              "      <td>0.0</td>\n",
              "      <td>5.0</td>\n",
              "      <td>5.0</td>\n",
              "      <td>110.0</td>\n",
              "      <td>28.6</td>\n",
              "      <td>31.556131</td>\n",
              "    </tr>\n",
              "    <tr>\n",
              "      <th>19442</th>\n",
              "      <td>32021</td>\n",
              "      <td>8</td>\n",
              "      <td>722</td>\n",
              "      <td>1071</td>\n",
              "      <td>0</td>\n",
              "      <td>X</td>\n",
              "      <td>2013-02-16</td>\n",
              "      <td>2013-04-05</td>\n",
              "      <td>48.0</td>\n",
              "      <td>1.577034</td>\n",
              "      <td>6.857143</td>\n",
              "      <td>NaN</td>\n",
              "      <td>NaN</td>\n",
              "      <td>NaN</td>\n",
              "      <td>NaN</td>\n",
              "      <td>NaN</td>\n",
              "      <td>NaN</td>\n",
              "      <td>NaN</td>\n",
              "    </tr>\n",
              "    <tr>\n",
              "      <th>49628</th>\n",
              "      <td>81397</td>\n",
              "      <td>13</td>\n",
              "      <td>909</td>\n",
              "      <td>379</td>\n",
              "      <td>0</td>\n",
              "      <td>X</td>\n",
              "      <td>2013-05-19</td>\n",
              "      <td>2013-07-05</td>\n",
              "      <td>47.0</td>\n",
              "      <td>1.544180</td>\n",
              "      <td>6.714286</td>\n",
              "      <td>NaN</td>\n",
              "      <td>NaN</td>\n",
              "      <td>NaN</td>\n",
              "      <td>NaN</td>\n",
              "      <td>NaN</td>\n",
              "      <td>NaN</td>\n",
              "      <td>NaN</td>\n",
              "    </tr>\n",
              "    <tr>\n",
              "      <th>15678</th>\n",
              "      <td>25869</td>\n",
              "      <td>8</td>\n",
              "      <td>1000</td>\n",
              "      <td>1069</td>\n",
              "      <td>0</td>\n",
              "      <td>X</td>\n",
              "      <td>2013-02-16</td>\n",
              "      <td>2013-04-05</td>\n",
              "      <td>48.0</td>\n",
              "      <td>1.577034</td>\n",
              "      <td>6.857143</td>\n",
              "      <td>NaN</td>\n",
              "      <td>NaN</td>\n",
              "      <td>NaN</td>\n",
              "      <td>NaN</td>\n",
              "      <td>NaN</td>\n",
              "      <td>NaN</td>\n",
              "      <td>NaN</td>\n",
              "    </tr>\n",
              "    <tr>\n",
              "      <th>58629</th>\n",
              "      <td>96349</td>\n",
              "      <td>29</td>\n",
              "      <td>597</td>\n",
              "      <td>1106</td>\n",
              "      <td>0</td>\n",
              "      <td>Y</td>\n",
              "      <td>2012-10-08</td>\n",
              "      <td>2012-11-30</td>\n",
              "      <td>53.0</td>\n",
              "      <td>1.741309</td>\n",
              "      <td>7.571429</td>\n",
              "      <td>{2012-10-16 00:00:00, 2012-05-31 00:00:00, 201...</td>\n",
              "      <td>0.0</td>\n",
              "      <td>5.0</td>\n",
              "      <td>5.0</td>\n",
              "      <td>121.0</td>\n",
              "      <td>30.8</td>\n",
              "      <td>30.404634</td>\n",
              "    </tr>\n",
              "    <tr>\n",
              "      <th>20520</th>\n",
              "      <td>33736</td>\n",
              "      <td>30</td>\n",
              "      <td>351</td>\n",
              "      <td>1017</td>\n",
              "      <td>0</td>\n",
              "      <td>X</td>\n",
              "      <td>2012-11-19</td>\n",
              "      <td>2013-01-04</td>\n",
              "      <td>46.0</td>\n",
              "      <td>1.511325</td>\n",
              "      <td>6.571429</td>\n",
              "      <td>NaN</td>\n",
              "      <td>NaN</td>\n",
              "      <td>NaN</td>\n",
              "      <td>NaN</td>\n",
              "      <td>NaN</td>\n",
              "      <td>NaN</td>\n",
              "      <td>NaN</td>\n",
              "    </tr>\n",
              "    <tr>\n",
              "      <th>69657</th>\n",
              "      <td>114420</td>\n",
              "      <td>30</td>\n",
              "      <td>858</td>\n",
              "      <td>419</td>\n",
              "      <td>0</td>\n",
              "      <td>X</td>\n",
              "      <td>2012-11-19</td>\n",
              "      <td>2013-01-04</td>\n",
              "      <td>46.0</td>\n",
              "      <td>1.511325</td>\n",
              "      <td>6.571429</td>\n",
              "      <td>NaN</td>\n",
              "      <td>NaN</td>\n",
              "      <td>NaN</td>\n",
              "      <td>NaN</td>\n",
              "      <td>NaN</td>\n",
              "      <td>NaN</td>\n",
              "      <td>NaN</td>\n",
              "    </tr>\n",
              "  </tbody>\n",
              "</table>\n",
              "</div>"
            ],
            "text/plain": [
              "           id  campaign_id  ...  item_bought  total_discount\n",
              "40130   65901           13  ...          NaN             NaN\n",
              "17042   28038           29  ...          NaN             NaN\n",
              "15159   24990           13  ...          NaN             NaN\n",
              "19656   32355            8  ...         28.6       31.556131\n",
              "19442   32021            8  ...          NaN             NaN\n",
              "49628   81397           13  ...          NaN             NaN\n",
              "15678   25869            8  ...          NaN             NaN\n",
              "58629   96349           29  ...         30.8       30.404634\n",
              "20520   33736           30  ...          NaN             NaN\n",
              "69657  114420           30  ...          NaN             NaN\n",
              "\n",
              "[10 rows x 18 columns]"
            ]
          },
          "metadata": {
            "tags": []
          },
          "execution_count": 178
        }
      ]
    },
    {
      "cell_type": "code",
      "metadata": {
        "id": "Kmv-kVAu7deW",
        "colab_type": "code",
        "colab": {
          "base_uri": "https://localhost:8080/",
          "height": 204
        },
        "outputId": "76165df5-be43-4531-d212-1f9e2720acc1"
      },
      "source": [
        "df_agg_missing = misssing_values(df_agg)\n",
        "df_agg_missing.head()"
      ],
      "execution_count": 179,
      "outputs": [
        {
          "output_type": "execute_result",
          "data": {
            "text/html": [
              "<div>\n",
              "<style scoped>\n",
              "    .dataframe tbody tr th:only-of-type {\n",
              "        vertical-align: middle;\n",
              "    }\n",
              "\n",
              "    .dataframe tbody tr th {\n",
              "        vertical-align: top;\n",
              "    }\n",
              "\n",
              "    .dataframe thead th {\n",
              "        text-align: right;\n",
              "    }\n",
              "</style>\n",
              "<table border=\"1\" class=\"dataframe\">\n",
              "  <thead>\n",
              "    <tr style=\"text-align: right;\">\n",
              "      <th></th>\n",
              "      <th>Total</th>\n",
              "      <th>Percent</th>\n",
              "    </tr>\n",
              "  </thead>\n",
              "  <tbody>\n",
              "    <tr>\n",
              "      <th>total_discount</th>\n",
              "      <td>64489</td>\n",
              "      <td>82.288915</td>\n",
              "    </tr>\n",
              "    <tr>\n",
              "      <th>coupon_acquired</th>\n",
              "      <td>64489</td>\n",
              "      <td>82.288915</td>\n",
              "    </tr>\n",
              "    <tr>\n",
              "      <th>item_id</th>\n",
              "      <td>64489</td>\n",
              "      <td>82.288915</td>\n",
              "    </tr>\n",
              "    <tr>\n",
              "      <th>quantity</th>\n",
              "      <td>64489</td>\n",
              "      <td>82.288915</td>\n",
              "    </tr>\n",
              "    <tr>\n",
              "      <th>discount_column</th>\n",
              "      <td>64489</td>\n",
              "      <td>82.288915</td>\n",
              "    </tr>\n",
              "  </tbody>\n",
              "</table>\n",
              "</div>"
            ],
            "text/plain": [
              "                 Total    Percent\n",
              "total_discount   64489  82.288915\n",
              "coupon_acquired  64489  82.288915\n",
              "item_id          64489  82.288915\n",
              "quantity         64489  82.288915\n",
              "discount_column  64489  82.288915"
            ]
          },
          "metadata": {
            "tags": []
          },
          "execution_count": 179
        }
      ]
    },
    {
      "cell_type": "code",
      "metadata": {
        "colab_type": "code",
        "id": "2B9YzZa7FbQF",
        "colab": {
          "base_uri": "https://localhost:8080/",
          "height": 221
        },
        "outputId": "3b5bdde8-6be9-45fe-93b5-385881700033"
      },
      "source": [
        "#  mode\n",
        "# df_agg['coupon_acquired'].mode()\n",
        "df_agg['coupon_acquired'].fillna(0)"
      ],
      "execution_count": 180,
      "outputs": [
        {
          "output_type": "execute_result",
          "data": {
            "text/plain": [
              "0          0.0\n",
              "1          0.0\n",
              "2          0.0\n",
              "3          0.0\n",
              "4          0.0\n",
              "         ...  \n",
              "78364      0.0\n",
              "78365      0.0\n",
              "78366    138.0\n",
              "78367      0.0\n",
              "78368     23.0\n",
              "Name: coupon_acquired, Length: 78369, dtype: float64"
            ]
          },
          "metadata": {
            "tags": []
          },
          "execution_count": 180
        }
      ]
    },
    {
      "cell_type": "code",
      "metadata": {
        "colab_type": "code",
        "id": "Vg_V9QnTFqS6",
        "colab": {
          "base_uri": "https://localhost:8080/",
          "height": 34
        },
        "outputId": "99c08a4a-e9ab-4437-be83-e63571c362b9"
      },
      "source": [
        "print(df_agg.shape)\n",
        "df_agg['date'].replace(np.nan,0,inplace=True)\n",
        "df_agg['discount_column'].replace(np.nan,-1,inplace=True)\n",
        "\n",
        "train['within_date']=df_agg['date'].apply(lambda x: len(x) if x !=0 else 0)\n",
        "# if any transaction is there"
      ],
      "execution_count": 181,
      "outputs": [
        {
          "output_type": "stream",
          "text": [
            "(78369, 18)\n"
          ],
          "name": "stdout"
        }
      ]
    },
    {
      "cell_type": "code",
      "metadata": {
        "id": "JhyMjEXo7deb",
        "colab_type": "code",
        "colab": {
          "base_uri": "https://localhost:8080/",
          "height": 309
        },
        "outputId": "7d29ec80-a7cf-4c71-f129-5ef511f158d2"
      },
      "source": [
        "train.head()"
      ],
      "execution_count": 182,
      "outputs": [
        {
          "output_type": "execute_result",
          "data": {
            "text/html": [
              "<div>\n",
              "<style scoped>\n",
              "    .dataframe tbody tr th:only-of-type {\n",
              "        vertical-align: middle;\n",
              "    }\n",
              "\n",
              "    .dataframe tbody tr th {\n",
              "        vertical-align: top;\n",
              "    }\n",
              "\n",
              "    .dataframe thead th {\n",
              "        text-align: right;\n",
              "    }\n",
              "</style>\n",
              "<table border=\"1\" class=\"dataframe\">\n",
              "  <thead>\n",
              "    <tr style=\"text-align: right;\">\n",
              "      <th></th>\n",
              "      <th>id</th>\n",
              "      <th>campaign_id</th>\n",
              "      <th>coupon_id</th>\n",
              "      <th>customer_id</th>\n",
              "      <th>redemption_status</th>\n",
              "      <th>campaign_type</th>\n",
              "      <th>start_date</th>\n",
              "      <th>end_date</th>\n",
              "      <th>Camp_Duration_by_days</th>\n",
              "      <th>Camp_Duration_by_month</th>\n",
              "      <th>Camp_Duration_by_week</th>\n",
              "      <th>within_date</th>\n",
              "    </tr>\n",
              "  </thead>\n",
              "  <tbody>\n",
              "    <tr>\n",
              "      <th>0</th>\n",
              "      <td>1</td>\n",
              "      <td>13</td>\n",
              "      <td>27</td>\n",
              "      <td>1053</td>\n",
              "      <td>0</td>\n",
              "      <td>X</td>\n",
              "      <td>2013-05-19</td>\n",
              "      <td>2013-07-05</td>\n",
              "      <td>47.0</td>\n",
              "      <td>1.544180</td>\n",
              "      <td>6.714286</td>\n",
              "      <td>0</td>\n",
              "    </tr>\n",
              "    <tr>\n",
              "      <th>1</th>\n",
              "      <td>2</td>\n",
              "      <td>13</td>\n",
              "      <td>116</td>\n",
              "      <td>48</td>\n",
              "      <td>0</td>\n",
              "      <td>X</td>\n",
              "      <td>2013-05-19</td>\n",
              "      <td>2013-07-05</td>\n",
              "      <td>47.0</td>\n",
              "      <td>1.544180</td>\n",
              "      <td>6.714286</td>\n",
              "      <td>0</td>\n",
              "    </tr>\n",
              "    <tr>\n",
              "      <th>2</th>\n",
              "      <td>6</td>\n",
              "      <td>9</td>\n",
              "      <td>635</td>\n",
              "      <td>205</td>\n",
              "      <td>0</td>\n",
              "      <td>Y</td>\n",
              "      <td>2013-03-11</td>\n",
              "      <td>2013-04-12</td>\n",
              "      <td>32.0</td>\n",
              "      <td>1.051356</td>\n",
              "      <td>4.571429</td>\n",
              "      <td>0</td>\n",
              "    </tr>\n",
              "    <tr>\n",
              "      <th>3</th>\n",
              "      <td>7</td>\n",
              "      <td>13</td>\n",
              "      <td>644</td>\n",
              "      <td>1050</td>\n",
              "      <td>0</td>\n",
              "      <td>X</td>\n",
              "      <td>2013-05-19</td>\n",
              "      <td>2013-07-05</td>\n",
              "      <td>47.0</td>\n",
              "      <td>1.544180</td>\n",
              "      <td>6.714286</td>\n",
              "      <td>0</td>\n",
              "    </tr>\n",
              "    <tr>\n",
              "      <th>4</th>\n",
              "      <td>9</td>\n",
              "      <td>8</td>\n",
              "      <td>1017</td>\n",
              "      <td>1489</td>\n",
              "      <td>0</td>\n",
              "      <td>X</td>\n",
              "      <td>2013-02-16</td>\n",
              "      <td>2013-04-05</td>\n",
              "      <td>48.0</td>\n",
              "      <td>1.577034</td>\n",
              "      <td>6.857143</td>\n",
              "      <td>0</td>\n",
              "    </tr>\n",
              "  </tbody>\n",
              "</table>\n",
              "</div>"
            ],
            "text/plain": [
              "   id  campaign_id  ...  Camp_Duration_by_week  within_date\n",
              "0   1           13  ...               6.714286            0\n",
              "1   2           13  ...               6.714286            0\n",
              "2   6            9  ...               4.571429            0\n",
              "3   7           13  ...               6.714286            0\n",
              "4   9            8  ...               6.857143            0\n",
              "\n",
              "[5 rows x 12 columns]"
            ]
          },
          "metadata": {
            "tags": []
          },
          "execution_count": 182
        }
      ]
    },
    {
      "cell_type": "code",
      "metadata": {
        "colab_type": "code",
        "id": "9agU0DR4GBkh",
        "colab": {
          "base_uri": "https://localhost:8080/",
          "height": 309
        },
        "outputId": "3127eeb9-8d14-4700-832f-74f257c9ca02"
      },
      "source": [
        "df_agg.head()"
      ],
      "execution_count": 183,
      "outputs": [
        {
          "output_type": "execute_result",
          "data": {
            "text/html": [
              "<div>\n",
              "<style scoped>\n",
              "    .dataframe tbody tr th:only-of-type {\n",
              "        vertical-align: middle;\n",
              "    }\n",
              "\n",
              "    .dataframe tbody tr th {\n",
              "        vertical-align: top;\n",
              "    }\n",
              "\n",
              "    .dataframe thead th {\n",
              "        text-align: right;\n",
              "    }\n",
              "</style>\n",
              "<table border=\"1\" class=\"dataframe\">\n",
              "  <thead>\n",
              "    <tr style=\"text-align: right;\">\n",
              "      <th></th>\n",
              "      <th>id</th>\n",
              "      <th>campaign_id</th>\n",
              "      <th>coupon_id</th>\n",
              "      <th>customer_id</th>\n",
              "      <th>redemption_status</th>\n",
              "      <th>campaign_type</th>\n",
              "      <th>start_date</th>\n",
              "      <th>end_date</th>\n",
              "      <th>Camp_Duration_by_days</th>\n",
              "      <th>Camp_Duration_by_month</th>\n",
              "      <th>Camp_Duration_by_week</th>\n",
              "      <th>date</th>\n",
              "      <th>discount_column</th>\n",
              "      <th>quantity</th>\n",
              "      <th>item_id</th>\n",
              "      <th>coupon_acquired</th>\n",
              "      <th>item_bought</th>\n",
              "      <th>total_discount</th>\n",
              "    </tr>\n",
              "  </thead>\n",
              "  <tbody>\n",
              "    <tr>\n",
              "      <th>0</th>\n",
              "      <td>1</td>\n",
              "      <td>13</td>\n",
              "      <td>27</td>\n",
              "      <td>1053</td>\n",
              "      <td>0</td>\n",
              "      <td>X</td>\n",
              "      <td>2013-05-19</td>\n",
              "      <td>2013-07-05</td>\n",
              "      <td>47.0</td>\n",
              "      <td>1.544180</td>\n",
              "      <td>6.714286</td>\n",
              "      <td>0</td>\n",
              "      <td>-1.0</td>\n",
              "      <td>NaN</td>\n",
              "      <td>NaN</td>\n",
              "      <td>NaN</td>\n",
              "      <td>NaN</td>\n",
              "      <td>NaN</td>\n",
              "    </tr>\n",
              "    <tr>\n",
              "      <th>1</th>\n",
              "      <td>2</td>\n",
              "      <td>13</td>\n",
              "      <td>116</td>\n",
              "      <td>48</td>\n",
              "      <td>0</td>\n",
              "      <td>X</td>\n",
              "      <td>2013-05-19</td>\n",
              "      <td>2013-07-05</td>\n",
              "      <td>47.0</td>\n",
              "      <td>1.544180</td>\n",
              "      <td>6.714286</td>\n",
              "      <td>0</td>\n",
              "      <td>-1.0</td>\n",
              "      <td>NaN</td>\n",
              "      <td>NaN</td>\n",
              "      <td>NaN</td>\n",
              "      <td>NaN</td>\n",
              "      <td>NaN</td>\n",
              "    </tr>\n",
              "    <tr>\n",
              "      <th>2</th>\n",
              "      <td>6</td>\n",
              "      <td>9</td>\n",
              "      <td>635</td>\n",
              "      <td>205</td>\n",
              "      <td>0</td>\n",
              "      <td>Y</td>\n",
              "      <td>2013-03-11</td>\n",
              "      <td>2013-04-12</td>\n",
              "      <td>32.0</td>\n",
              "      <td>1.051356</td>\n",
              "      <td>4.571429</td>\n",
              "      <td>0</td>\n",
              "      <td>-1.0</td>\n",
              "      <td>NaN</td>\n",
              "      <td>NaN</td>\n",
              "      <td>NaN</td>\n",
              "      <td>NaN</td>\n",
              "      <td>NaN</td>\n",
              "    </tr>\n",
              "    <tr>\n",
              "      <th>3</th>\n",
              "      <td>7</td>\n",
              "      <td>13</td>\n",
              "      <td>644</td>\n",
              "      <td>1050</td>\n",
              "      <td>0</td>\n",
              "      <td>X</td>\n",
              "      <td>2013-05-19</td>\n",
              "      <td>2013-07-05</td>\n",
              "      <td>47.0</td>\n",
              "      <td>1.544180</td>\n",
              "      <td>6.714286</td>\n",
              "      <td>0</td>\n",
              "      <td>-1.0</td>\n",
              "      <td>NaN</td>\n",
              "      <td>NaN</td>\n",
              "      <td>NaN</td>\n",
              "      <td>NaN</td>\n",
              "      <td>NaN</td>\n",
              "    </tr>\n",
              "    <tr>\n",
              "      <th>4</th>\n",
              "      <td>9</td>\n",
              "      <td>8</td>\n",
              "      <td>1017</td>\n",
              "      <td>1489</td>\n",
              "      <td>0</td>\n",
              "      <td>X</td>\n",
              "      <td>2013-02-16</td>\n",
              "      <td>2013-04-05</td>\n",
              "      <td>48.0</td>\n",
              "      <td>1.577034</td>\n",
              "      <td>6.857143</td>\n",
              "      <td>0</td>\n",
              "      <td>-1.0</td>\n",
              "      <td>NaN</td>\n",
              "      <td>NaN</td>\n",
              "      <td>NaN</td>\n",
              "      <td>NaN</td>\n",
              "      <td>NaN</td>\n",
              "    </tr>\n",
              "  </tbody>\n",
              "</table>\n",
              "</div>"
            ],
            "text/plain": [
              "   id  campaign_id  coupon_id  ...  coupon_acquired  item_bought total_discount\n",
              "0   1           13         27  ...              NaN          NaN            NaN\n",
              "1   2           13        116  ...              NaN          NaN            NaN\n",
              "2   6            9        635  ...              NaN          NaN            NaN\n",
              "3   7           13        644  ...              NaN          NaN            NaN\n",
              "4   9            8       1017  ...              NaN          NaN            NaN\n",
              "\n",
              "[5 rows x 18 columns]"
            ]
          },
          "metadata": {
            "tags": []
          },
          "execution_count": 183
        }
      ]
    },
    {
      "cell_type": "markdown",
      "metadata": {
        "id": "r1v01Oie7def",
        "colab_type": "text"
      },
      "source": [
        "- Now, I will aggregate the data and will add new features such as max, mi, sum, std, etc followed by aggregation"
      ]
    },
    {
      "cell_type": "code",
      "metadata": {
        "colab_type": "code",
        "id": "DF9CeSsmGLWU",
        "colab": {
          "base_uri": "https://localhost:8080/",
          "height": 315
        },
        "outputId": "8d04f7fa-5032-4833-a046-847ea4665774"
      },
      "source": [
        "c=['count','nunique']\n",
        "n=['mean','max','min','sum','std']\n",
        "nn=['mean','max','min','sum','std','quantile']\n",
        "agg_c={'day_no':c,'month_no':c,'week_no':c,'quantity':n,'selling_price':n,'other_discount':n,'coupon_discount':n,'item_id':c,'brand':c,\n",
        "       'category':c,'coupon_id':c,'discount_column':nn,'new_price_marked':n,'discount_percent':n,'price_per_quantity':n,'brand_type':c,'Sale_price_marked':n,\n",
        "       'coupon_acquired':nn, 'item_bought':nn, 'total_discount':n, 'coupon_to_item_redeemed':nn}\n",
        "trans=trans.groupby(['customer_id']).agg(agg_c)\n",
        "trans.head()"
      ],
      "execution_count": 184,
      "outputs": [
        {
          "output_type": "execute_result",
          "data": {
            "text/html": [
              "<div>\n",
              "<style scoped>\n",
              "    .dataframe tbody tr th:only-of-type {\n",
              "        vertical-align: middle;\n",
              "    }\n",
              "\n",
              "    .dataframe tbody tr th {\n",
              "        vertical-align: top;\n",
              "    }\n",
              "\n",
              "    .dataframe thead tr th {\n",
              "        text-align: left;\n",
              "    }\n",
              "\n",
              "    .dataframe thead tr:last-of-type th {\n",
              "        text-align: right;\n",
              "    }\n",
              "</style>\n",
              "<table border=\"1\" class=\"dataframe\">\n",
              "  <thead>\n",
              "    <tr>\n",
              "      <th></th>\n",
              "      <th colspan=\"2\" halign=\"left\">day_no</th>\n",
              "      <th colspan=\"2\" halign=\"left\">month_no</th>\n",
              "      <th colspan=\"2\" halign=\"left\">week_no</th>\n",
              "      <th colspan=\"5\" halign=\"left\">quantity</th>\n",
              "      <th colspan=\"5\" halign=\"left\">selling_price</th>\n",
              "      <th colspan=\"5\" halign=\"left\">other_discount</th>\n",
              "      <th colspan=\"5\" halign=\"left\">coupon_discount</th>\n",
              "      <th colspan=\"2\" halign=\"left\">item_id</th>\n",
              "      <th colspan=\"2\" halign=\"left\">brand</th>\n",
              "      <th colspan=\"2\" halign=\"left\">category</th>\n",
              "      <th colspan=\"2\" halign=\"left\">coupon_id</th>\n",
              "      <th colspan=\"6\" halign=\"left\">discount_column</th>\n",
              "      <th>...</th>\n",
              "      <th colspan=\"5\" halign=\"left\">discount_percent</th>\n",
              "      <th colspan=\"5\" halign=\"left\">price_per_quantity</th>\n",
              "      <th colspan=\"2\" halign=\"left\">brand_type</th>\n",
              "      <th colspan=\"5\" halign=\"left\">Sale_price_marked</th>\n",
              "      <th colspan=\"6\" halign=\"left\">coupon_acquired</th>\n",
              "      <th colspan=\"6\" halign=\"left\">item_bought</th>\n",
              "      <th colspan=\"5\" halign=\"left\">total_discount</th>\n",
              "      <th colspan=\"6\" halign=\"left\">coupon_to_item_redeemed</th>\n",
              "    </tr>\n",
              "    <tr>\n",
              "      <th></th>\n",
              "      <th>count</th>\n",
              "      <th>nunique</th>\n",
              "      <th>count</th>\n",
              "      <th>nunique</th>\n",
              "      <th>count</th>\n",
              "      <th>nunique</th>\n",
              "      <th>mean</th>\n",
              "      <th>max</th>\n",
              "      <th>min</th>\n",
              "      <th>sum</th>\n",
              "      <th>std</th>\n",
              "      <th>mean</th>\n",
              "      <th>max</th>\n",
              "      <th>min</th>\n",
              "      <th>sum</th>\n",
              "      <th>std</th>\n",
              "      <th>mean</th>\n",
              "      <th>max</th>\n",
              "      <th>min</th>\n",
              "      <th>sum</th>\n",
              "      <th>std</th>\n",
              "      <th>mean</th>\n",
              "      <th>max</th>\n",
              "      <th>min</th>\n",
              "      <th>sum</th>\n",
              "      <th>std</th>\n",
              "      <th>count</th>\n",
              "      <th>nunique</th>\n",
              "      <th>count</th>\n",
              "      <th>nunique</th>\n",
              "      <th>count</th>\n",
              "      <th>nunique</th>\n",
              "      <th>count</th>\n",
              "      <th>nunique</th>\n",
              "      <th>mean</th>\n",
              "      <th>max</th>\n",
              "      <th>min</th>\n",
              "      <th>sum</th>\n",
              "      <th>std</th>\n",
              "      <th>quantile</th>\n",
              "      <th>...</th>\n",
              "      <th>mean</th>\n",
              "      <th>max</th>\n",
              "      <th>min</th>\n",
              "      <th>sum</th>\n",
              "      <th>std</th>\n",
              "      <th>mean</th>\n",
              "      <th>max</th>\n",
              "      <th>min</th>\n",
              "      <th>sum</th>\n",
              "      <th>std</th>\n",
              "      <th>count</th>\n",
              "      <th>nunique</th>\n",
              "      <th>mean</th>\n",
              "      <th>max</th>\n",
              "      <th>min</th>\n",
              "      <th>sum</th>\n",
              "      <th>std</th>\n",
              "      <th>mean</th>\n",
              "      <th>max</th>\n",
              "      <th>min</th>\n",
              "      <th>sum</th>\n",
              "      <th>std</th>\n",
              "      <th>quantile</th>\n",
              "      <th>mean</th>\n",
              "      <th>max</th>\n",
              "      <th>min</th>\n",
              "      <th>sum</th>\n",
              "      <th>std</th>\n",
              "      <th>quantile</th>\n",
              "      <th>mean</th>\n",
              "      <th>max</th>\n",
              "      <th>min</th>\n",
              "      <th>sum</th>\n",
              "      <th>std</th>\n",
              "      <th>mean</th>\n",
              "      <th>max</th>\n",
              "      <th>min</th>\n",
              "      <th>sum</th>\n",
              "      <th>std</th>\n",
              "      <th>quantile</th>\n",
              "    </tr>\n",
              "    <tr>\n",
              "      <th>customer_id</th>\n",
              "      <th></th>\n",
              "      <th></th>\n",
              "      <th></th>\n",
              "      <th></th>\n",
              "      <th></th>\n",
              "      <th></th>\n",
              "      <th></th>\n",
              "      <th></th>\n",
              "      <th></th>\n",
              "      <th></th>\n",
              "      <th></th>\n",
              "      <th></th>\n",
              "      <th></th>\n",
              "      <th></th>\n",
              "      <th></th>\n",
              "      <th></th>\n",
              "      <th></th>\n",
              "      <th></th>\n",
              "      <th></th>\n",
              "      <th></th>\n",
              "      <th></th>\n",
              "      <th></th>\n",
              "      <th></th>\n",
              "      <th></th>\n",
              "      <th></th>\n",
              "      <th></th>\n",
              "      <th></th>\n",
              "      <th></th>\n",
              "      <th></th>\n",
              "      <th></th>\n",
              "      <th></th>\n",
              "      <th></th>\n",
              "      <th></th>\n",
              "      <th></th>\n",
              "      <th></th>\n",
              "      <th></th>\n",
              "      <th></th>\n",
              "      <th></th>\n",
              "      <th></th>\n",
              "      <th></th>\n",
              "      <th></th>\n",
              "      <th></th>\n",
              "      <th></th>\n",
              "      <th></th>\n",
              "      <th></th>\n",
              "      <th></th>\n",
              "      <th></th>\n",
              "      <th></th>\n",
              "      <th></th>\n",
              "      <th></th>\n",
              "      <th></th>\n",
              "      <th></th>\n",
              "      <th></th>\n",
              "      <th></th>\n",
              "      <th></th>\n",
              "      <th></th>\n",
              "      <th></th>\n",
              "      <th></th>\n",
              "      <th></th>\n",
              "      <th></th>\n",
              "      <th></th>\n",
              "      <th></th>\n",
              "      <th></th>\n",
              "      <th></th>\n",
              "      <th></th>\n",
              "      <th></th>\n",
              "      <th></th>\n",
              "      <th></th>\n",
              "      <th></th>\n",
              "      <th></th>\n",
              "      <th></th>\n",
              "      <th></th>\n",
              "      <th></th>\n",
              "      <th></th>\n",
              "      <th></th>\n",
              "      <th></th>\n",
              "      <th></th>\n",
              "      <th></th>\n",
              "      <th></th>\n",
              "      <th></th>\n",
              "      <th></th>\n",
              "    </tr>\n",
              "  </thead>\n",
              "  <tbody>\n",
              "    <tr>\n",
              "      <th>1</th>\n",
              "      <td>2206</td>\n",
              "      <td>28</td>\n",
              "      <td>2206</td>\n",
              "      <td>12</td>\n",
              "      <td>2206</td>\n",
              "      <td>38</td>\n",
              "      <td>1.133726</td>\n",
              "      <td>5</td>\n",
              "      <td>1</td>\n",
              "      <td>2501</td>\n",
              "      <td>0.454532</td>\n",
              "      <td>94.922085</td>\n",
              "      <td>445.25</td>\n",
              "      <td>12.11</td>\n",
              "      <td>209398.12</td>\n",
              "      <td>53.310302</td>\n",
              "      <td>-20.228314</td>\n",
              "      <td>0.0</td>\n",
              "      <td>-372.23</td>\n",
              "      <td>-44623.66</td>\n",
              "      <td>36.111393</td>\n",
              "      <td>-1.864565</td>\n",
              "      <td>0.0</td>\n",
              "      <td>-106.86</td>\n",
              "      <td>-4113.23</td>\n",
              "      <td>8.521853</td>\n",
              "      <td>2206</td>\n",
              "      <td>463</td>\n",
              "      <td>1665</td>\n",
              "      <td>76</td>\n",
              "      <td>1665</td>\n",
              "      <td>6</td>\n",
              "      <td>1665</td>\n",
              "      <td>159</td>\n",
              "      <td>0.071623</td>\n",
              "      <td>1</td>\n",
              "      <td>0</td>\n",
              "      <td>158</td>\n",
              "      <td>0.257921</td>\n",
              "      <td>0.0</td>\n",
              "      <td>...</td>\n",
              "      <td>0.238737</td>\n",
              "      <td>1.792027</td>\n",
              "      <td>0.0</td>\n",
              "      <td>526.654601</td>\n",
              "      <td>0.286794</td>\n",
              "      <td>104.370662</td>\n",
              "      <td>494.76</td>\n",
              "      <td>12.110000</td>\n",
              "      <td>230241.681167</td>\n",
              "      <td>51.360053</td>\n",
              "      <td>1665</td>\n",
              "      <td>2</td>\n",
              "      <td>1.238737</td>\n",
              "      <td>2.792027</td>\n",
              "      <td>1.0</td>\n",
              "      <td>2732.654601</td>\n",
              "      <td>0.286794</td>\n",
              "      <td>42.207162</td>\n",
              "      <td>74</td>\n",
              "      <td>0</td>\n",
              "      <td>93109</td>\n",
              "      <td>16.721411</td>\n",
              "      <td>42.0</td>\n",
              "      <td>55.483228</td>\n",
              "      <td>93</td>\n",
              "      <td>1</td>\n",
              "      <td>122396</td>\n",
              "      <td>21.104973</td>\n",
              "      <td>57.0</td>\n",
              "      <td>13.392748</td>\n",
              "      <td>30.803886</td>\n",
              "      <td>0.0</td>\n",
              "      <td>29544.403002</td>\n",
              "      <td>6.798600</td>\n",
              "      <td>13.276065</td>\n",
              "      <td>23</td>\n",
              "      <td>0</td>\n",
              "      <td>29287</td>\n",
              "      <td>5.671542</td>\n",
              "      <td>14.0</td>\n",
              "    </tr>\n",
              "    <tr>\n",
              "      <th>2</th>\n",
              "      <td>823</td>\n",
              "      <td>19</td>\n",
              "      <td>823</td>\n",
              "      <td>11</td>\n",
              "      <td>823</td>\n",
              "      <td>27</td>\n",
              "      <td>1.117861</td>\n",
              "      <td>5</td>\n",
              "      <td>1</td>\n",
              "      <td>920</td>\n",
              "      <td>0.417919</td>\n",
              "      <td>103.368943</td>\n",
              "      <td>640.80</td>\n",
              "      <td>14.25</td>\n",
              "      <td>85072.64</td>\n",
              "      <td>71.076889</td>\n",
              "      <td>-16.798141</td>\n",
              "      <td>0.0</td>\n",
              "      <td>-312.03</td>\n",
              "      <td>-13824.87</td>\n",
              "      <td>33.011891</td>\n",
              "      <td>-0.302965</td>\n",
              "      <td>0.0</td>\n",
              "      <td>-89.05</td>\n",
              "      <td>-249.34</td>\n",
              "      <td>4.721158</td>\n",
              "      <td>823</td>\n",
              "      <td>352</td>\n",
              "      <td>672</td>\n",
              "      <td>103</td>\n",
              "      <td>672</td>\n",
              "      <td>8</td>\n",
              "      <td>672</td>\n",
              "      <td>137</td>\n",
              "      <td>0.004860</td>\n",
              "      <td>1</td>\n",
              "      <td>0</td>\n",
              "      <td>4</td>\n",
              "      <td>0.069588</td>\n",
              "      <td>0.0</td>\n",
              "      <td>...</td>\n",
              "      <td>0.190837</td>\n",
              "      <td>2.190062</td>\n",
              "      <td>0.0</td>\n",
              "      <td>157.058578</td>\n",
              "      <td>0.317185</td>\n",
              "      <td>109.641409</td>\n",
              "      <td>640.80</td>\n",
              "      <td>7.125000</td>\n",
              "      <td>90234.879833</td>\n",
              "      <td>68.545285</td>\n",
              "      <td>672</td>\n",
              "      <td>2</td>\n",
              "      <td>1.190837</td>\n",
              "      <td>3.190062</td>\n",
              "      <td>1.0</td>\n",
              "      <td>980.058578</td>\n",
              "      <td>0.317185</td>\n",
              "      <td>34.660996</td>\n",
              "      <td>65</td>\n",
              "      <td>0</td>\n",
              "      <td>28526</td>\n",
              "      <td>20.469680</td>\n",
              "      <td>31.0</td>\n",
              "      <td>42.475091</td>\n",
              "      <td>85</td>\n",
              "      <td>1</td>\n",
              "      <td>34957</td>\n",
              "      <td>25.705265</td>\n",
              "      <td>37.0</td>\n",
              "      <td>7.585469</td>\n",
              "      <td>16.836933</td>\n",
              "      <td>0.0</td>\n",
              "      <td>6242.841276</td>\n",
              "      <td>5.037921</td>\n",
              "      <td>7.814095</td>\n",
              "      <td>20</td>\n",
              "      <td>0</td>\n",
              "      <td>6431</td>\n",
              "      <td>6.097201</td>\n",
              "      <td>6.0</td>\n",
              "    </tr>\n",
              "    <tr>\n",
              "      <th>3</th>\n",
              "      <td>1351</td>\n",
              "      <td>23</td>\n",
              "      <td>1351</td>\n",
              "      <td>12</td>\n",
              "      <td>1351</td>\n",
              "      <td>30</td>\n",
              "      <td>6.861584</td>\n",
              "      <td>6949</td>\n",
              "      <td>1</td>\n",
              "      <td>9270</td>\n",
              "      <td>189.016329</td>\n",
              "      <td>113.680792</td>\n",
              "      <td>862.00</td>\n",
              "      <td>8.90</td>\n",
              "      <td>153582.75</td>\n",
              "      <td>85.572038</td>\n",
              "      <td>-24.400081</td>\n",
              "      <td>0.0</td>\n",
              "      <td>-463.06</td>\n",
              "      <td>-32964.51</td>\n",
              "      <td>40.760823</td>\n",
              "      <td>-2.578209</td>\n",
              "      <td>0.0</td>\n",
              "      <td>-142.48</td>\n",
              "      <td>-3483.16</td>\n",
              "      <td>11.568789</td>\n",
              "      <td>1351</td>\n",
              "      <td>406</td>\n",
              "      <td>1040</td>\n",
              "      <td>71</td>\n",
              "      <td>1040</td>\n",
              "      <td>7</td>\n",
              "      <td>1040</td>\n",
              "      <td>135</td>\n",
              "      <td>0.069578</td>\n",
              "      <td>1</td>\n",
              "      <td>0</td>\n",
              "      <td>94</td>\n",
              "      <td>0.254529</td>\n",
              "      <td>0.0</td>\n",
              "      <td>...</td>\n",
              "      <td>0.248346</td>\n",
              "      <td>2.967244</td>\n",
              "      <td>0.0</td>\n",
              "      <td>335.516066</td>\n",
              "      <td>0.317781</td>\n",
              "      <td>94.893123</td>\n",
              "      <td>1325.06</td>\n",
              "      <td>0.106107</td>\n",
              "      <td>128200.609334</td>\n",
              "      <td>86.349986</td>\n",
              "      <td>1040</td>\n",
              "      <td>2</td>\n",
              "      <td>1.248346</td>\n",
              "      <td>3.967244</td>\n",
              "      <td>1.0</td>\n",
              "      <td>1686.516066</td>\n",
              "      <td>0.317781</td>\n",
              "      <td>49.606958</td>\n",
              "      <td>102</td>\n",
              "      <td>0</td>\n",
              "      <td>67019</td>\n",
              "      <td>28.814249</td>\n",
              "      <td>43.0</td>\n",
              "      <td>63.566987</td>\n",
              "      <td>122</td>\n",
              "      <td>1</td>\n",
              "      <td>85879</td>\n",
              "      <td>35.276009</td>\n",
              "      <td>62.0</td>\n",
              "      <td>16.492685</td>\n",
              "      <td>46.132935</td>\n",
              "      <td>0.0</td>\n",
              "      <td>22281.617402</td>\n",
              "      <td>12.410100</td>\n",
              "      <td>13.960030</td>\n",
              "      <td>35</td>\n",
              "      <td>0</td>\n",
              "      <td>18860</td>\n",
              "      <td>9.525554</td>\n",
              "      <td>12.0</td>\n",
              "    </tr>\n",
              "    <tr>\n",
              "      <th>4</th>\n",
              "      <td>451</td>\n",
              "      <td>23</td>\n",
              "      <td>451</td>\n",
              "      <td>11</td>\n",
              "      <td>451</td>\n",
              "      <td>21</td>\n",
              "      <td>1.283814</td>\n",
              "      <td>5</td>\n",
              "      <td>1</td>\n",
              "      <td>579</td>\n",
              "      <td>0.624805</td>\n",
              "      <td>143.631774</td>\n",
              "      <td>1330.05</td>\n",
              "      <td>14.25</td>\n",
              "      <td>64777.93</td>\n",
              "      <td>147.361484</td>\n",
              "      <td>-15.565854</td>\n",
              "      <td>0.0</td>\n",
              "      <td>-390.04</td>\n",
              "      <td>-7020.20</td>\n",
              "      <td>31.132399</td>\n",
              "      <td>-0.197450</td>\n",
              "      <td>0.0</td>\n",
              "      <td>-89.05</td>\n",
              "      <td>-89.05</td>\n",
              "      <td>4.193201</td>\n",
              "      <td>451</td>\n",
              "      <td>125</td>\n",
              "      <td>360</td>\n",
              "      <td>48</td>\n",
              "      <td>360</td>\n",
              "      <td>7</td>\n",
              "      <td>360</td>\n",
              "      <td>66</td>\n",
              "      <td>0.002217</td>\n",
              "      <td>1</td>\n",
              "      <td>0</td>\n",
              "      <td>1</td>\n",
              "      <td>0.047088</td>\n",
              "      <td>0.0</td>\n",
              "      <td>...</td>\n",
              "      <td>0.137572</td>\n",
              "      <td>1.076002</td>\n",
              "      <td>0.0</td>\n",
              "      <td>62.044910</td>\n",
              "      <td>0.219462</td>\n",
              "      <td>129.504182</td>\n",
              "      <td>1330.05</td>\n",
              "      <td>21.020000</td>\n",
              "      <td>58406.386000</td>\n",
              "      <td>136.071134</td>\n",
              "      <td>360</td>\n",
              "      <td>2</td>\n",
              "      <td>1.137572</td>\n",
              "      <td>2.076002</td>\n",
              "      <td>1.0</td>\n",
              "      <td>513.044910</td>\n",
              "      <td>0.219462</td>\n",
              "      <td>24.913525</td>\n",
              "      <td>53</td>\n",
              "      <td>0</td>\n",
              "      <td>11236</td>\n",
              "      <td>16.479727</td>\n",
              "      <td>20.0</td>\n",
              "      <td>31.288248</td>\n",
              "      <td>63</td>\n",
              "      <td>1</td>\n",
              "      <td>14111</td>\n",
              "      <td>20.432791</td>\n",
              "      <td>22.0</td>\n",
              "      <td>4.272921</td>\n",
              "      <td>13.875339</td>\n",
              "      <td>0.0</td>\n",
              "      <td>1927.087224</td>\n",
              "      <td>4.159218</td>\n",
              "      <td>6.374723</td>\n",
              "      <td>13</td>\n",
              "      <td>0</td>\n",
              "      <td>2875</td>\n",
              "      <td>4.604267</td>\n",
              "      <td>4.0</td>\n",
              "    </tr>\n",
              "    <tr>\n",
              "      <th>5</th>\n",
              "      <td>1594</td>\n",
              "      <td>31</td>\n",
              "      <td>1594</td>\n",
              "      <td>12</td>\n",
              "      <td>1594</td>\n",
              "      <td>51</td>\n",
              "      <td>59.345671</td>\n",
              "      <td>14638</td>\n",
              "      <td>1</td>\n",
              "      <td>94597</td>\n",
              "      <td>826.140617</td>\n",
              "      <td>128.931066</td>\n",
              "      <td>1485.35</td>\n",
              "      <td>12.11</td>\n",
              "      <td>205516.12</td>\n",
              "      <td>121.436279</td>\n",
              "      <td>-13.463024</td>\n",
              "      <td>0.0</td>\n",
              "      <td>-216.21</td>\n",
              "      <td>-21460.06</td>\n",
              "      <td>28.304603</td>\n",
              "      <td>-0.126255</td>\n",
              "      <td>0.0</td>\n",
              "      <td>-71.24</td>\n",
              "      <td>-201.25</td>\n",
              "      <td>2.660559</td>\n",
              "      <td>1594</td>\n",
              "      <td>490</td>\n",
              "      <td>1301</td>\n",
              "      <td>108</td>\n",
              "      <td>1301</td>\n",
              "      <td>12</td>\n",
              "      <td>1301</td>\n",
              "      <td>121</td>\n",
              "      <td>0.003137</td>\n",
              "      <td>1</td>\n",
              "      <td>0</td>\n",
              "      <td>5</td>\n",
              "      <td>0.055936</td>\n",
              "      <td>0.0</td>\n",
              "      <td>...</td>\n",
              "      <td>0.125802</td>\n",
              "      <td>1.488595</td>\n",
              "      <td>0.0</td>\n",
              "      <td>200.528918</td>\n",
              "      <td>0.236212</td>\n",
              "      <td>114.780242</td>\n",
              "      <td>640.80</td>\n",
              "      <td>0.087627</td>\n",
              "      <td>182959.705287</td>\n",
              "      <td>94.286883</td>\n",
              "      <td>1301</td>\n",
              "      <td>2</td>\n",
              "      <td>1.125802</td>\n",
              "      <td>2.488595</td>\n",
              "      <td>1.0</td>\n",
              "      <td>1794.528918</td>\n",
              "      <td>0.236212</td>\n",
              "      <td>14.772898</td>\n",
              "      <td>46</td>\n",
              "      <td>0</td>\n",
              "      <td>23548</td>\n",
              "      <td>10.931671</td>\n",
              "      <td>11.0</td>\n",
              "      <td>17.247177</td>\n",
              "      <td>51</td>\n",
              "      <td>1</td>\n",
              "      <td>27492</td>\n",
              "      <td>11.692240</td>\n",
              "      <td>14.0</td>\n",
              "      <td>2.388303</td>\n",
              "      <td>14.588230</td>\n",
              "      <td>0.0</td>\n",
              "      <td>3806.955362</td>\n",
              "      <td>3.228779</td>\n",
              "      <td>2.474279</td>\n",
              "      <td>11</td>\n",
              "      <td>0</td>\n",
              "      <td>3944</td>\n",
              "      <td>2.351349</td>\n",
              "      <td>2.0</td>\n",
              "    </tr>\n",
              "  </tbody>\n",
              "</table>\n",
              "<p>5 rows × 85 columns</p>\n",
              "</div>"
            ],
            "text/plain": [
              "            day_no         month_no          ... coupon_to_item_redeemed                          \n",
              "             count nunique    count nunique  ...                     min    sum       std quantile\n",
              "customer_id                                  ...                                                  \n",
              "1             2206      28     2206      12  ...                       0  29287  5.671542     14.0\n",
              "2              823      19      823      11  ...                       0   6431  6.097201      6.0\n",
              "3             1351      23     1351      12  ...                       0  18860  9.525554     12.0\n",
              "4              451      23      451      11  ...                       0   2875  4.604267      4.0\n",
              "5             1594      31     1594      12  ...                       0   3944  2.351349      2.0\n",
              "\n",
              "[5 rows x 85 columns]"
            ]
          },
          "metadata": {
            "tags": []
          },
          "execution_count": 184
        }
      ]
    },
    {
      "cell_type": "code",
      "metadata": {
        "colab_type": "code",
        "id": "Km22TZ2lHMsr",
        "colab": {
          "base_uri": "https://localhost:8080/",
          "height": 253
        },
        "outputId": "a3ad25dd-9d4b-4706-eefe-bbb0a985f9d1"
      },
      "source": [
        "# Expanding the columns\n",
        "trans.columns=['Transaction_' + '_'.join(col).strip() for col in trans.columns.values]\n",
        "trans.reset_index(inplace=True)\n",
        "trans.head()"
      ],
      "execution_count": 185,
      "outputs": [
        {
          "output_type": "execute_result",
          "data": {
            "text/html": [
              "<div>\n",
              "<style scoped>\n",
              "    .dataframe tbody tr th:only-of-type {\n",
              "        vertical-align: middle;\n",
              "    }\n",
              "\n",
              "    .dataframe tbody tr th {\n",
              "        vertical-align: top;\n",
              "    }\n",
              "\n",
              "    .dataframe thead th {\n",
              "        text-align: right;\n",
              "    }\n",
              "</style>\n",
              "<table border=\"1\" class=\"dataframe\">\n",
              "  <thead>\n",
              "    <tr style=\"text-align: right;\">\n",
              "      <th></th>\n",
              "      <th>customer_id</th>\n",
              "      <th>Transaction_day_no_count</th>\n",
              "      <th>Transaction_day_no_nunique</th>\n",
              "      <th>Transaction_month_no_count</th>\n",
              "      <th>Transaction_month_no_nunique</th>\n",
              "      <th>Transaction_week_no_count</th>\n",
              "      <th>Transaction_week_no_nunique</th>\n",
              "      <th>Transaction_quantity_mean</th>\n",
              "      <th>Transaction_quantity_max</th>\n",
              "      <th>Transaction_quantity_min</th>\n",
              "      <th>Transaction_quantity_sum</th>\n",
              "      <th>Transaction_quantity_std</th>\n",
              "      <th>Transaction_selling_price_mean</th>\n",
              "      <th>Transaction_selling_price_max</th>\n",
              "      <th>Transaction_selling_price_min</th>\n",
              "      <th>Transaction_selling_price_sum</th>\n",
              "      <th>Transaction_selling_price_std</th>\n",
              "      <th>Transaction_other_discount_mean</th>\n",
              "      <th>Transaction_other_discount_max</th>\n",
              "      <th>Transaction_other_discount_min</th>\n",
              "      <th>Transaction_other_discount_sum</th>\n",
              "      <th>Transaction_other_discount_std</th>\n",
              "      <th>Transaction_coupon_discount_mean</th>\n",
              "      <th>Transaction_coupon_discount_max</th>\n",
              "      <th>Transaction_coupon_discount_min</th>\n",
              "      <th>Transaction_coupon_discount_sum</th>\n",
              "      <th>Transaction_coupon_discount_std</th>\n",
              "      <th>Transaction_item_id_count</th>\n",
              "      <th>Transaction_item_id_nunique</th>\n",
              "      <th>Transaction_brand_count</th>\n",
              "      <th>Transaction_brand_nunique</th>\n",
              "      <th>Transaction_category_count</th>\n",
              "      <th>Transaction_category_nunique</th>\n",
              "      <th>Transaction_coupon_id_count</th>\n",
              "      <th>Transaction_coupon_id_nunique</th>\n",
              "      <th>Transaction_discount_column_mean</th>\n",
              "      <th>Transaction_discount_column_max</th>\n",
              "      <th>Transaction_discount_column_min</th>\n",
              "      <th>Transaction_discount_column_sum</th>\n",
              "      <th>Transaction_discount_column_std</th>\n",
              "      <th>...</th>\n",
              "      <th>Transaction_discount_percent_mean</th>\n",
              "      <th>Transaction_discount_percent_max</th>\n",
              "      <th>Transaction_discount_percent_min</th>\n",
              "      <th>Transaction_discount_percent_sum</th>\n",
              "      <th>Transaction_discount_percent_std</th>\n",
              "      <th>Transaction_price_per_quantity_mean</th>\n",
              "      <th>Transaction_price_per_quantity_max</th>\n",
              "      <th>Transaction_price_per_quantity_min</th>\n",
              "      <th>Transaction_price_per_quantity_sum</th>\n",
              "      <th>Transaction_price_per_quantity_std</th>\n",
              "      <th>Transaction_brand_type_count</th>\n",
              "      <th>Transaction_brand_type_nunique</th>\n",
              "      <th>Transaction_Sale_price_marked_mean</th>\n",
              "      <th>Transaction_Sale_price_marked_max</th>\n",
              "      <th>Transaction_Sale_price_marked_min</th>\n",
              "      <th>Transaction_Sale_price_marked_sum</th>\n",
              "      <th>Transaction_Sale_price_marked_std</th>\n",
              "      <th>Transaction_coupon_acquired_mean</th>\n",
              "      <th>Transaction_coupon_acquired_max</th>\n",
              "      <th>Transaction_coupon_acquired_min</th>\n",
              "      <th>Transaction_coupon_acquired_sum</th>\n",
              "      <th>Transaction_coupon_acquired_std</th>\n",
              "      <th>Transaction_coupon_acquired_quantile</th>\n",
              "      <th>Transaction_item_bought_mean</th>\n",
              "      <th>Transaction_item_bought_max</th>\n",
              "      <th>Transaction_item_bought_min</th>\n",
              "      <th>Transaction_item_bought_sum</th>\n",
              "      <th>Transaction_item_bought_std</th>\n",
              "      <th>Transaction_item_bought_quantile</th>\n",
              "      <th>Transaction_total_discount_mean</th>\n",
              "      <th>Transaction_total_discount_max</th>\n",
              "      <th>Transaction_total_discount_min</th>\n",
              "      <th>Transaction_total_discount_sum</th>\n",
              "      <th>Transaction_total_discount_std</th>\n",
              "      <th>Transaction_coupon_to_item_redeemed_mean</th>\n",
              "      <th>Transaction_coupon_to_item_redeemed_max</th>\n",
              "      <th>Transaction_coupon_to_item_redeemed_min</th>\n",
              "      <th>Transaction_coupon_to_item_redeemed_sum</th>\n",
              "      <th>Transaction_coupon_to_item_redeemed_std</th>\n",
              "      <th>Transaction_coupon_to_item_redeemed_quantile</th>\n",
              "    </tr>\n",
              "  </thead>\n",
              "  <tbody>\n",
              "    <tr>\n",
              "      <th>0</th>\n",
              "      <td>1</td>\n",
              "      <td>2206</td>\n",
              "      <td>28</td>\n",
              "      <td>2206</td>\n",
              "      <td>12</td>\n",
              "      <td>2206</td>\n",
              "      <td>38</td>\n",
              "      <td>1.133726</td>\n",
              "      <td>5</td>\n",
              "      <td>1</td>\n",
              "      <td>2501</td>\n",
              "      <td>0.454532</td>\n",
              "      <td>94.922085</td>\n",
              "      <td>445.25</td>\n",
              "      <td>12.11</td>\n",
              "      <td>209398.12</td>\n",
              "      <td>53.310302</td>\n",
              "      <td>-20.228314</td>\n",
              "      <td>0.0</td>\n",
              "      <td>-372.23</td>\n",
              "      <td>-44623.66</td>\n",
              "      <td>36.111393</td>\n",
              "      <td>-1.864565</td>\n",
              "      <td>0.0</td>\n",
              "      <td>-106.86</td>\n",
              "      <td>-4113.23</td>\n",
              "      <td>8.521853</td>\n",
              "      <td>2206</td>\n",
              "      <td>463</td>\n",
              "      <td>1665</td>\n",
              "      <td>76</td>\n",
              "      <td>1665</td>\n",
              "      <td>6</td>\n",
              "      <td>1665</td>\n",
              "      <td>159</td>\n",
              "      <td>0.071623</td>\n",
              "      <td>1</td>\n",
              "      <td>0</td>\n",
              "      <td>158</td>\n",
              "      <td>0.257921</td>\n",
              "      <td>...</td>\n",
              "      <td>0.238737</td>\n",
              "      <td>1.792027</td>\n",
              "      <td>0.0</td>\n",
              "      <td>526.654601</td>\n",
              "      <td>0.286794</td>\n",
              "      <td>104.370662</td>\n",
              "      <td>494.76</td>\n",
              "      <td>12.110000</td>\n",
              "      <td>230241.681167</td>\n",
              "      <td>51.360053</td>\n",
              "      <td>1665</td>\n",
              "      <td>2</td>\n",
              "      <td>1.238737</td>\n",
              "      <td>2.792027</td>\n",
              "      <td>1.0</td>\n",
              "      <td>2732.654601</td>\n",
              "      <td>0.286794</td>\n",
              "      <td>42.207162</td>\n",
              "      <td>74</td>\n",
              "      <td>0</td>\n",
              "      <td>93109</td>\n",
              "      <td>16.721411</td>\n",
              "      <td>42.0</td>\n",
              "      <td>55.483228</td>\n",
              "      <td>93</td>\n",
              "      <td>1</td>\n",
              "      <td>122396</td>\n",
              "      <td>21.104973</td>\n",
              "      <td>57.0</td>\n",
              "      <td>13.392748</td>\n",
              "      <td>30.803886</td>\n",
              "      <td>0.0</td>\n",
              "      <td>29544.403002</td>\n",
              "      <td>6.798600</td>\n",
              "      <td>13.276065</td>\n",
              "      <td>23</td>\n",
              "      <td>0</td>\n",
              "      <td>29287</td>\n",
              "      <td>5.671542</td>\n",
              "      <td>14.0</td>\n",
              "    </tr>\n",
              "    <tr>\n",
              "      <th>1</th>\n",
              "      <td>2</td>\n",
              "      <td>823</td>\n",
              "      <td>19</td>\n",
              "      <td>823</td>\n",
              "      <td>11</td>\n",
              "      <td>823</td>\n",
              "      <td>27</td>\n",
              "      <td>1.117861</td>\n",
              "      <td>5</td>\n",
              "      <td>1</td>\n",
              "      <td>920</td>\n",
              "      <td>0.417919</td>\n",
              "      <td>103.368943</td>\n",
              "      <td>640.80</td>\n",
              "      <td>14.25</td>\n",
              "      <td>85072.64</td>\n",
              "      <td>71.076889</td>\n",
              "      <td>-16.798141</td>\n",
              "      <td>0.0</td>\n",
              "      <td>-312.03</td>\n",
              "      <td>-13824.87</td>\n",
              "      <td>33.011891</td>\n",
              "      <td>-0.302965</td>\n",
              "      <td>0.0</td>\n",
              "      <td>-89.05</td>\n",
              "      <td>-249.34</td>\n",
              "      <td>4.721158</td>\n",
              "      <td>823</td>\n",
              "      <td>352</td>\n",
              "      <td>672</td>\n",
              "      <td>103</td>\n",
              "      <td>672</td>\n",
              "      <td>8</td>\n",
              "      <td>672</td>\n",
              "      <td>137</td>\n",
              "      <td>0.004860</td>\n",
              "      <td>1</td>\n",
              "      <td>0</td>\n",
              "      <td>4</td>\n",
              "      <td>0.069588</td>\n",
              "      <td>...</td>\n",
              "      <td>0.190837</td>\n",
              "      <td>2.190062</td>\n",
              "      <td>0.0</td>\n",
              "      <td>157.058578</td>\n",
              "      <td>0.317185</td>\n",
              "      <td>109.641409</td>\n",
              "      <td>640.80</td>\n",
              "      <td>7.125000</td>\n",
              "      <td>90234.879833</td>\n",
              "      <td>68.545285</td>\n",
              "      <td>672</td>\n",
              "      <td>2</td>\n",
              "      <td>1.190837</td>\n",
              "      <td>3.190062</td>\n",
              "      <td>1.0</td>\n",
              "      <td>980.058578</td>\n",
              "      <td>0.317185</td>\n",
              "      <td>34.660996</td>\n",
              "      <td>65</td>\n",
              "      <td>0</td>\n",
              "      <td>28526</td>\n",
              "      <td>20.469680</td>\n",
              "      <td>31.0</td>\n",
              "      <td>42.475091</td>\n",
              "      <td>85</td>\n",
              "      <td>1</td>\n",
              "      <td>34957</td>\n",
              "      <td>25.705265</td>\n",
              "      <td>37.0</td>\n",
              "      <td>7.585469</td>\n",
              "      <td>16.836933</td>\n",
              "      <td>0.0</td>\n",
              "      <td>6242.841276</td>\n",
              "      <td>5.037921</td>\n",
              "      <td>7.814095</td>\n",
              "      <td>20</td>\n",
              "      <td>0</td>\n",
              "      <td>6431</td>\n",
              "      <td>6.097201</td>\n",
              "      <td>6.0</td>\n",
              "    </tr>\n",
              "    <tr>\n",
              "      <th>2</th>\n",
              "      <td>3</td>\n",
              "      <td>1351</td>\n",
              "      <td>23</td>\n",
              "      <td>1351</td>\n",
              "      <td>12</td>\n",
              "      <td>1351</td>\n",
              "      <td>30</td>\n",
              "      <td>6.861584</td>\n",
              "      <td>6949</td>\n",
              "      <td>1</td>\n",
              "      <td>9270</td>\n",
              "      <td>189.016329</td>\n",
              "      <td>113.680792</td>\n",
              "      <td>862.00</td>\n",
              "      <td>8.90</td>\n",
              "      <td>153582.75</td>\n",
              "      <td>85.572038</td>\n",
              "      <td>-24.400081</td>\n",
              "      <td>0.0</td>\n",
              "      <td>-463.06</td>\n",
              "      <td>-32964.51</td>\n",
              "      <td>40.760823</td>\n",
              "      <td>-2.578209</td>\n",
              "      <td>0.0</td>\n",
              "      <td>-142.48</td>\n",
              "      <td>-3483.16</td>\n",
              "      <td>11.568789</td>\n",
              "      <td>1351</td>\n",
              "      <td>406</td>\n",
              "      <td>1040</td>\n",
              "      <td>71</td>\n",
              "      <td>1040</td>\n",
              "      <td>7</td>\n",
              "      <td>1040</td>\n",
              "      <td>135</td>\n",
              "      <td>0.069578</td>\n",
              "      <td>1</td>\n",
              "      <td>0</td>\n",
              "      <td>94</td>\n",
              "      <td>0.254529</td>\n",
              "      <td>...</td>\n",
              "      <td>0.248346</td>\n",
              "      <td>2.967244</td>\n",
              "      <td>0.0</td>\n",
              "      <td>335.516066</td>\n",
              "      <td>0.317781</td>\n",
              "      <td>94.893123</td>\n",
              "      <td>1325.06</td>\n",
              "      <td>0.106107</td>\n",
              "      <td>128200.609334</td>\n",
              "      <td>86.349986</td>\n",
              "      <td>1040</td>\n",
              "      <td>2</td>\n",
              "      <td>1.248346</td>\n",
              "      <td>3.967244</td>\n",
              "      <td>1.0</td>\n",
              "      <td>1686.516066</td>\n",
              "      <td>0.317781</td>\n",
              "      <td>49.606958</td>\n",
              "      <td>102</td>\n",
              "      <td>0</td>\n",
              "      <td>67019</td>\n",
              "      <td>28.814249</td>\n",
              "      <td>43.0</td>\n",
              "      <td>63.566987</td>\n",
              "      <td>122</td>\n",
              "      <td>1</td>\n",
              "      <td>85879</td>\n",
              "      <td>35.276009</td>\n",
              "      <td>62.0</td>\n",
              "      <td>16.492685</td>\n",
              "      <td>46.132935</td>\n",
              "      <td>0.0</td>\n",
              "      <td>22281.617402</td>\n",
              "      <td>12.410100</td>\n",
              "      <td>13.960030</td>\n",
              "      <td>35</td>\n",
              "      <td>0</td>\n",
              "      <td>18860</td>\n",
              "      <td>9.525554</td>\n",
              "      <td>12.0</td>\n",
              "    </tr>\n",
              "    <tr>\n",
              "      <th>3</th>\n",
              "      <td>4</td>\n",
              "      <td>451</td>\n",
              "      <td>23</td>\n",
              "      <td>451</td>\n",
              "      <td>11</td>\n",
              "      <td>451</td>\n",
              "      <td>21</td>\n",
              "      <td>1.283814</td>\n",
              "      <td>5</td>\n",
              "      <td>1</td>\n",
              "      <td>579</td>\n",
              "      <td>0.624805</td>\n",
              "      <td>143.631774</td>\n",
              "      <td>1330.05</td>\n",
              "      <td>14.25</td>\n",
              "      <td>64777.93</td>\n",
              "      <td>147.361484</td>\n",
              "      <td>-15.565854</td>\n",
              "      <td>0.0</td>\n",
              "      <td>-390.04</td>\n",
              "      <td>-7020.20</td>\n",
              "      <td>31.132399</td>\n",
              "      <td>-0.197450</td>\n",
              "      <td>0.0</td>\n",
              "      <td>-89.05</td>\n",
              "      <td>-89.05</td>\n",
              "      <td>4.193201</td>\n",
              "      <td>451</td>\n",
              "      <td>125</td>\n",
              "      <td>360</td>\n",
              "      <td>48</td>\n",
              "      <td>360</td>\n",
              "      <td>7</td>\n",
              "      <td>360</td>\n",
              "      <td>66</td>\n",
              "      <td>0.002217</td>\n",
              "      <td>1</td>\n",
              "      <td>0</td>\n",
              "      <td>1</td>\n",
              "      <td>0.047088</td>\n",
              "      <td>...</td>\n",
              "      <td>0.137572</td>\n",
              "      <td>1.076002</td>\n",
              "      <td>0.0</td>\n",
              "      <td>62.044910</td>\n",
              "      <td>0.219462</td>\n",
              "      <td>129.504182</td>\n",
              "      <td>1330.05</td>\n",
              "      <td>21.020000</td>\n",
              "      <td>58406.386000</td>\n",
              "      <td>136.071134</td>\n",
              "      <td>360</td>\n",
              "      <td>2</td>\n",
              "      <td>1.137572</td>\n",
              "      <td>2.076002</td>\n",
              "      <td>1.0</td>\n",
              "      <td>513.044910</td>\n",
              "      <td>0.219462</td>\n",
              "      <td>24.913525</td>\n",
              "      <td>53</td>\n",
              "      <td>0</td>\n",
              "      <td>11236</td>\n",
              "      <td>16.479727</td>\n",
              "      <td>20.0</td>\n",
              "      <td>31.288248</td>\n",
              "      <td>63</td>\n",
              "      <td>1</td>\n",
              "      <td>14111</td>\n",
              "      <td>20.432791</td>\n",
              "      <td>22.0</td>\n",
              "      <td>4.272921</td>\n",
              "      <td>13.875339</td>\n",
              "      <td>0.0</td>\n",
              "      <td>1927.087224</td>\n",
              "      <td>4.159218</td>\n",
              "      <td>6.374723</td>\n",
              "      <td>13</td>\n",
              "      <td>0</td>\n",
              "      <td>2875</td>\n",
              "      <td>4.604267</td>\n",
              "      <td>4.0</td>\n",
              "    </tr>\n",
              "    <tr>\n",
              "      <th>4</th>\n",
              "      <td>5</td>\n",
              "      <td>1594</td>\n",
              "      <td>31</td>\n",
              "      <td>1594</td>\n",
              "      <td>12</td>\n",
              "      <td>1594</td>\n",
              "      <td>51</td>\n",
              "      <td>59.345671</td>\n",
              "      <td>14638</td>\n",
              "      <td>1</td>\n",
              "      <td>94597</td>\n",
              "      <td>826.140617</td>\n",
              "      <td>128.931066</td>\n",
              "      <td>1485.35</td>\n",
              "      <td>12.11</td>\n",
              "      <td>205516.12</td>\n",
              "      <td>121.436279</td>\n",
              "      <td>-13.463024</td>\n",
              "      <td>0.0</td>\n",
              "      <td>-216.21</td>\n",
              "      <td>-21460.06</td>\n",
              "      <td>28.304603</td>\n",
              "      <td>-0.126255</td>\n",
              "      <td>0.0</td>\n",
              "      <td>-71.24</td>\n",
              "      <td>-201.25</td>\n",
              "      <td>2.660559</td>\n",
              "      <td>1594</td>\n",
              "      <td>490</td>\n",
              "      <td>1301</td>\n",
              "      <td>108</td>\n",
              "      <td>1301</td>\n",
              "      <td>12</td>\n",
              "      <td>1301</td>\n",
              "      <td>121</td>\n",
              "      <td>0.003137</td>\n",
              "      <td>1</td>\n",
              "      <td>0</td>\n",
              "      <td>5</td>\n",
              "      <td>0.055936</td>\n",
              "      <td>...</td>\n",
              "      <td>0.125802</td>\n",
              "      <td>1.488595</td>\n",
              "      <td>0.0</td>\n",
              "      <td>200.528918</td>\n",
              "      <td>0.236212</td>\n",
              "      <td>114.780242</td>\n",
              "      <td>640.80</td>\n",
              "      <td>0.087627</td>\n",
              "      <td>182959.705287</td>\n",
              "      <td>94.286883</td>\n",
              "      <td>1301</td>\n",
              "      <td>2</td>\n",
              "      <td>1.125802</td>\n",
              "      <td>2.488595</td>\n",
              "      <td>1.0</td>\n",
              "      <td>1794.528918</td>\n",
              "      <td>0.236212</td>\n",
              "      <td>14.772898</td>\n",
              "      <td>46</td>\n",
              "      <td>0</td>\n",
              "      <td>23548</td>\n",
              "      <td>10.931671</td>\n",
              "      <td>11.0</td>\n",
              "      <td>17.247177</td>\n",
              "      <td>51</td>\n",
              "      <td>1</td>\n",
              "      <td>27492</td>\n",
              "      <td>11.692240</td>\n",
              "      <td>14.0</td>\n",
              "      <td>2.388303</td>\n",
              "      <td>14.588230</td>\n",
              "      <td>0.0</td>\n",
              "      <td>3806.955362</td>\n",
              "      <td>3.228779</td>\n",
              "      <td>2.474279</td>\n",
              "      <td>11</td>\n",
              "      <td>0</td>\n",
              "      <td>3944</td>\n",
              "      <td>2.351349</td>\n",
              "      <td>2.0</td>\n",
              "    </tr>\n",
              "  </tbody>\n",
              "</table>\n",
              "<p>5 rows × 86 columns</p>\n",
              "</div>"
            ],
            "text/plain": [
              "   customer_id  ...  Transaction_coupon_to_item_redeemed_quantile\n",
              "0            1  ...                                          14.0\n",
              "1            2  ...                                           6.0\n",
              "2            3  ...                                          12.0\n",
              "3            4  ...                                           4.0\n",
              "4            5  ...                                           2.0\n",
              "\n",
              "[5 rows x 86 columns]"
            ]
          },
          "metadata": {
            "tags": []
          },
          "execution_count": 185
        }
      ]
    },
    {
      "cell_type": "code",
      "metadata": {
        "colab_type": "code",
        "id": "u6nLq1H9HpFv",
        "colab": {
          "base_uri": "https://localhost:8080/",
          "height": 34
        },
        "outputId": "50ddf7e6-59fd-46a4-a4d6-b948c6927f20"
      },
      "source": [
        "trans.shape"
      ],
      "execution_count": 186,
      "outputs": [
        {
          "output_type": "execute_result",
          "data": {
            "text/plain": [
              "(1582, 86)"
            ]
          },
          "metadata": {
            "tags": []
          },
          "execution_count": 186
        }
      ]
    },
    {
      "cell_type": "code",
      "metadata": {
        "colab_type": "code",
        "id": "kAp-7NDrHt-F",
        "colab": {}
      },
      "source": [
        "train=train.merge(trans,on=['customer_id'],how='left')"
      ],
      "execution_count": 187,
      "outputs": []
    },
    {
      "cell_type": "code",
      "metadata": {
        "colab_type": "code",
        "id": "ebHp6YUWHxlb",
        "colab": {}
      },
      "source": [
        "train['campaign_type']=train['campaign_type'].astype('category')\n"
      ],
      "execution_count": 188,
      "outputs": []
    },
    {
      "cell_type": "code",
      "metadata": {
        "colab_type": "code",
        "id": "FKPRc8m5H7N9",
        "colab": {
          "base_uri": "https://localhost:8080/",
          "height": 1000
        },
        "outputId": "72a5d2a2-08a4-4d44-a2a1-5633403e6966"
      },
      "source": [
        "train.info()"
      ],
      "execution_count": 189,
      "outputs": [
        {
          "output_type": "stream",
          "text": [
            "<class 'pandas.core.frame.DataFrame'>\n",
            "Int64Index: 78369 entries, 0 to 78368\n",
            "Data columns (total 97 columns):\n",
            " #   Column                                        Non-Null Count  Dtype         \n",
            "---  ------                                        --------------  -----         \n",
            " 0   id                                            78369 non-null  int64         \n",
            " 1   campaign_id                                   78369 non-null  int64         \n",
            " 2   coupon_id                                     78369 non-null  int64         \n",
            " 3   customer_id                                   78369 non-null  int64         \n",
            " 4   redemption_status                             78369 non-null  int64         \n",
            " 5   campaign_type                                 78369 non-null  category      \n",
            " 6   start_date                                    78369 non-null  datetime64[ns]\n",
            " 7   end_date                                      78369 non-null  datetime64[ns]\n",
            " 8   Camp_Duration_by_days                         78369 non-null  float64       \n",
            " 9   Camp_Duration_by_month                        78369 non-null  float64       \n",
            " 10  Camp_Duration_by_week                         78369 non-null  float64       \n",
            " 11  within_date                                   78369 non-null  int64         \n",
            " 12  Transaction_day_no_count                      78369 non-null  int64         \n",
            " 13  Transaction_day_no_nunique                    78369 non-null  int64         \n",
            " 14  Transaction_month_no_count                    78369 non-null  int64         \n",
            " 15  Transaction_month_no_nunique                  78369 non-null  int64         \n",
            " 16  Transaction_week_no_count                     78369 non-null  int64         \n",
            " 17  Transaction_week_no_nunique                   78369 non-null  int64         \n",
            " 18  Transaction_quantity_mean                     78369 non-null  float64       \n",
            " 19  Transaction_quantity_max                      78369 non-null  int64         \n",
            " 20  Transaction_quantity_min                      78369 non-null  int64         \n",
            " 21  Transaction_quantity_sum                      78369 non-null  int64         \n",
            " 22  Transaction_quantity_std                      78369 non-null  float64       \n",
            " 23  Transaction_selling_price_mean                78369 non-null  float64       \n",
            " 24  Transaction_selling_price_max                 78369 non-null  float64       \n",
            " 25  Transaction_selling_price_min                 78369 non-null  float64       \n",
            " 26  Transaction_selling_price_sum                 78369 non-null  float64       \n",
            " 27  Transaction_selling_price_std                 78369 non-null  float64       \n",
            " 28  Transaction_other_discount_mean               78369 non-null  float64       \n",
            " 29  Transaction_other_discount_max                78369 non-null  float64       \n",
            " 30  Transaction_other_discount_min                78369 non-null  float64       \n",
            " 31  Transaction_other_discount_sum                78369 non-null  float64       \n",
            " 32  Transaction_other_discount_std                78369 non-null  float64       \n",
            " 33  Transaction_coupon_discount_mean              78369 non-null  float64       \n",
            " 34  Transaction_coupon_discount_max               78369 non-null  float64       \n",
            " 35  Transaction_coupon_discount_min               78369 non-null  float64       \n",
            " 36  Transaction_coupon_discount_sum               78369 non-null  float64       \n",
            " 37  Transaction_coupon_discount_std               78369 non-null  float64       \n",
            " 38  Transaction_item_id_count                     78369 non-null  int64         \n",
            " 39  Transaction_item_id_nunique                   78369 non-null  int64         \n",
            " 40  Transaction_brand_count                       78369 non-null  int64         \n",
            " 41  Transaction_brand_nunique                     78369 non-null  int64         \n",
            " 42  Transaction_category_count                    78369 non-null  int64         \n",
            " 43  Transaction_category_nunique                  78369 non-null  int64         \n",
            " 44  Transaction_coupon_id_count                   78369 non-null  int64         \n",
            " 45  Transaction_coupon_id_nunique                 78369 non-null  int64         \n",
            " 46  Transaction_discount_column_mean              78369 non-null  float64       \n",
            " 47  Transaction_discount_column_max               78369 non-null  int64         \n",
            " 48  Transaction_discount_column_min               78369 non-null  int64         \n",
            " 49  Transaction_discount_column_sum               78369 non-null  int64         \n",
            " 50  Transaction_discount_column_std               78369 non-null  float64       \n",
            " 51  Transaction_discount_column_quantile          78369 non-null  float64       \n",
            " 52  Transaction_new_price_marked_mean             78369 non-null  float64       \n",
            " 53  Transaction_new_price_marked_max              78369 non-null  float64       \n",
            " 54  Transaction_new_price_marked_min              78369 non-null  float64       \n",
            " 55  Transaction_new_price_marked_sum              78369 non-null  float64       \n",
            " 56  Transaction_new_price_marked_std              78369 non-null  float64       \n",
            " 57  Transaction_discount_percent_mean             78369 non-null  float64       \n",
            " 58  Transaction_discount_percent_max              78369 non-null  float64       \n",
            " 59  Transaction_discount_percent_min              78369 non-null  float64       \n",
            " 60  Transaction_discount_percent_sum              78369 non-null  float64       \n",
            " 61  Transaction_discount_percent_std              78369 non-null  float64       \n",
            " 62  Transaction_price_per_quantity_mean           78369 non-null  float64       \n",
            " 63  Transaction_price_per_quantity_max            78369 non-null  float64       \n",
            " 64  Transaction_price_per_quantity_min            78369 non-null  float64       \n",
            " 65  Transaction_price_per_quantity_sum            78369 non-null  float64       \n",
            " 66  Transaction_price_per_quantity_std            78369 non-null  float64       \n",
            " 67  Transaction_brand_type_count                  78369 non-null  int64         \n",
            " 68  Transaction_brand_type_nunique                78369 non-null  int64         \n",
            " 69  Transaction_Sale_price_marked_mean            78369 non-null  float64       \n",
            " 70  Transaction_Sale_price_marked_max             78369 non-null  float64       \n",
            " 71  Transaction_Sale_price_marked_min             78369 non-null  float64       \n",
            " 72  Transaction_Sale_price_marked_sum             78369 non-null  float64       \n",
            " 73  Transaction_Sale_price_marked_std             78369 non-null  float64       \n",
            " 74  Transaction_coupon_acquired_mean              78369 non-null  float64       \n",
            " 75  Transaction_coupon_acquired_max               78369 non-null  int64         \n",
            " 76  Transaction_coupon_acquired_min               78369 non-null  int64         \n",
            " 77  Transaction_coupon_acquired_sum               78369 non-null  int64         \n",
            " 78  Transaction_coupon_acquired_std               78369 non-null  float64       \n",
            " 79  Transaction_coupon_acquired_quantile          78369 non-null  float64       \n",
            " 80  Transaction_item_bought_mean                  78369 non-null  float64       \n",
            " 81  Transaction_item_bought_max                   78369 non-null  int64         \n",
            " 82  Transaction_item_bought_min                   78369 non-null  int64         \n",
            " 83  Transaction_item_bought_sum                   78369 non-null  int64         \n",
            " 84  Transaction_item_bought_std                   78369 non-null  float64       \n",
            " 85  Transaction_item_bought_quantile              78369 non-null  float64       \n",
            " 86  Transaction_total_discount_mean               78369 non-null  float64       \n",
            " 87  Transaction_total_discount_max                78369 non-null  float64       \n",
            " 88  Transaction_total_discount_min                78369 non-null  float64       \n",
            " 89  Transaction_total_discount_sum                78369 non-null  float64       \n",
            " 90  Transaction_total_discount_std                78369 non-null  float64       \n",
            " 91  Transaction_coupon_to_item_redeemed_mean      78369 non-null  float64       \n",
            " 92  Transaction_coupon_to_item_redeemed_max       78369 non-null  int64         \n",
            " 93  Transaction_coupon_to_item_redeemed_min       78369 non-null  int64         \n",
            " 94  Transaction_coupon_to_item_redeemed_sum       78369 non-null  int64         \n",
            " 95  Transaction_coupon_to_item_redeemed_std       78369 non-null  float64       \n",
            " 96  Transaction_coupon_to_item_redeemed_quantile  78369 non-null  float64       \n",
            "dtypes: category(1), datetime64[ns](2), float64(57), int64(37)\n",
            "memory usage: 58.1 MB\n"
          ],
          "name": "stdout"
        }
      ]
    },
    {
      "cell_type": "code",
      "metadata": {
        "colab_type": "code",
        "id": "RljhqFfrIDEm",
        "colab": {
          "base_uri": "https://localhost:8080/",
          "height": 609
        },
        "outputId": "eb4bf233-3e7c-449f-b412-2d63f11d4c56"
      },
      "source": [
        "train.merge(train.drop(['id','redemption_status'],axis=1).groupby('campaign_id').mean().reset_index(),on='campaign_id',how='left')"
      ],
      "execution_count": 190,
      "outputs": [
        {
          "output_type": "execute_result",
          "data": {
            "text/html": [
              "<div>\n",
              "<style scoped>\n",
              "    .dataframe tbody tr th:only-of-type {\n",
              "        vertical-align: middle;\n",
              "    }\n",
              "\n",
              "    .dataframe tbody tr th {\n",
              "        vertical-align: top;\n",
              "    }\n",
              "\n",
              "    .dataframe thead th {\n",
              "        text-align: right;\n",
              "    }\n",
              "</style>\n",
              "<table border=\"1\" class=\"dataframe\">\n",
              "  <thead>\n",
              "    <tr style=\"text-align: right;\">\n",
              "      <th></th>\n",
              "      <th>id</th>\n",
              "      <th>campaign_id</th>\n",
              "      <th>coupon_id_x</th>\n",
              "      <th>customer_id_x</th>\n",
              "      <th>redemption_status</th>\n",
              "      <th>campaign_type</th>\n",
              "      <th>start_date</th>\n",
              "      <th>end_date</th>\n",
              "      <th>Camp_Duration_by_days_x</th>\n",
              "      <th>Camp_Duration_by_month_x</th>\n",
              "      <th>Camp_Duration_by_week_x</th>\n",
              "      <th>within_date_x</th>\n",
              "      <th>Transaction_day_no_count_x</th>\n",
              "      <th>Transaction_day_no_nunique_x</th>\n",
              "      <th>Transaction_month_no_count_x</th>\n",
              "      <th>Transaction_month_no_nunique_x</th>\n",
              "      <th>Transaction_week_no_count_x</th>\n",
              "      <th>Transaction_week_no_nunique_x</th>\n",
              "      <th>Transaction_quantity_mean_x</th>\n",
              "      <th>Transaction_quantity_max_x</th>\n",
              "      <th>Transaction_quantity_min_x</th>\n",
              "      <th>Transaction_quantity_sum_x</th>\n",
              "      <th>Transaction_quantity_std_x</th>\n",
              "      <th>Transaction_selling_price_mean_x</th>\n",
              "      <th>Transaction_selling_price_max_x</th>\n",
              "      <th>Transaction_selling_price_min_x</th>\n",
              "      <th>Transaction_selling_price_sum_x</th>\n",
              "      <th>Transaction_selling_price_std_x</th>\n",
              "      <th>Transaction_other_discount_mean_x</th>\n",
              "      <th>Transaction_other_discount_max_x</th>\n",
              "      <th>Transaction_other_discount_min_x</th>\n",
              "      <th>Transaction_other_discount_sum_x</th>\n",
              "      <th>Transaction_other_discount_std_x</th>\n",
              "      <th>Transaction_coupon_discount_mean_x</th>\n",
              "      <th>Transaction_coupon_discount_max_x</th>\n",
              "      <th>Transaction_coupon_discount_min_x</th>\n",
              "      <th>Transaction_coupon_discount_sum_x</th>\n",
              "      <th>Transaction_coupon_discount_std_x</th>\n",
              "      <th>Transaction_item_id_count_x</th>\n",
              "      <th>Transaction_item_id_nunique_x</th>\n",
              "      <th>...</th>\n",
              "      <th>Transaction_discount_percent_mean_y</th>\n",
              "      <th>Transaction_discount_percent_max_y</th>\n",
              "      <th>Transaction_discount_percent_min_y</th>\n",
              "      <th>Transaction_discount_percent_sum_y</th>\n",
              "      <th>Transaction_discount_percent_std_y</th>\n",
              "      <th>Transaction_price_per_quantity_mean_y</th>\n",
              "      <th>Transaction_price_per_quantity_max_y</th>\n",
              "      <th>Transaction_price_per_quantity_min_y</th>\n",
              "      <th>Transaction_price_per_quantity_sum_y</th>\n",
              "      <th>Transaction_price_per_quantity_std_y</th>\n",
              "      <th>Transaction_brand_type_count_y</th>\n",
              "      <th>Transaction_brand_type_nunique_y</th>\n",
              "      <th>Transaction_Sale_price_marked_mean_y</th>\n",
              "      <th>Transaction_Sale_price_marked_max_y</th>\n",
              "      <th>Transaction_Sale_price_marked_min_y</th>\n",
              "      <th>Transaction_Sale_price_marked_sum_y</th>\n",
              "      <th>Transaction_Sale_price_marked_std_y</th>\n",
              "      <th>Transaction_coupon_acquired_mean_y</th>\n",
              "      <th>Transaction_coupon_acquired_max_y</th>\n",
              "      <th>Transaction_coupon_acquired_min_y</th>\n",
              "      <th>Transaction_coupon_acquired_sum_y</th>\n",
              "      <th>Transaction_coupon_acquired_std_y</th>\n",
              "      <th>Transaction_coupon_acquired_quantile_y</th>\n",
              "      <th>Transaction_item_bought_mean_y</th>\n",
              "      <th>Transaction_item_bought_max_y</th>\n",
              "      <th>Transaction_item_bought_min_y</th>\n",
              "      <th>Transaction_item_bought_sum_y</th>\n",
              "      <th>Transaction_item_bought_std_y</th>\n",
              "      <th>Transaction_item_bought_quantile_y</th>\n",
              "      <th>Transaction_total_discount_mean_y</th>\n",
              "      <th>Transaction_total_discount_max_y</th>\n",
              "      <th>Transaction_total_discount_min_y</th>\n",
              "      <th>Transaction_total_discount_sum_y</th>\n",
              "      <th>Transaction_total_discount_std_y</th>\n",
              "      <th>Transaction_coupon_to_item_redeemed_mean_y</th>\n",
              "      <th>Transaction_coupon_to_item_redeemed_max_y</th>\n",
              "      <th>Transaction_coupon_to_item_redeemed_min_y</th>\n",
              "      <th>Transaction_coupon_to_item_redeemed_sum_y</th>\n",
              "      <th>Transaction_coupon_to_item_redeemed_std_y</th>\n",
              "      <th>Transaction_coupon_to_item_redeemed_quantile_y</th>\n",
              "    </tr>\n",
              "  </thead>\n",
              "  <tbody>\n",
              "    <tr>\n",
              "      <th>0</th>\n",
              "      <td>1</td>\n",
              "      <td>13</td>\n",
              "      <td>27</td>\n",
              "      <td>1053</td>\n",
              "      <td>0</td>\n",
              "      <td>X</td>\n",
              "      <td>2013-05-19</td>\n",
              "      <td>2013-07-05</td>\n",
              "      <td>47.0</td>\n",
              "      <td>1.544180</td>\n",
              "      <td>6.714286</td>\n",
              "      <td>0</td>\n",
              "      <td>610</td>\n",
              "      <td>30</td>\n",
              "      <td>610</td>\n",
              "      <td>12</td>\n",
              "      <td>610</td>\n",
              "      <td>44</td>\n",
              "      <td>173.785246</td>\n",
              "      <td>12444</td>\n",
              "      <td>1</td>\n",
              "      <td>106009</td>\n",
              "      <td>1159.978943</td>\n",
              "      <td>165.690918</td>\n",
              "      <td>5164.54</td>\n",
              "      <td>17.45</td>\n",
              "      <td>101071.46</td>\n",
              "      <td>368.818706</td>\n",
              "      <td>-37.773820</td>\n",
              "      <td>0.0</td>\n",
              "      <td>-890.50</td>\n",
              "      <td>-23042.03</td>\n",
              "      <td>81.751474</td>\n",
              "      <td>-0.145984</td>\n",
              "      <td>0.0</td>\n",
              "      <td>-89.05</td>\n",
              "      <td>-89.05</td>\n",
              "      <td>3.605529</td>\n",
              "      <td>610</td>\n",
              "      <td>208</td>\n",
              "      <td>...</td>\n",
              "      <td>0.226258</td>\n",
              "      <td>4.450394</td>\n",
              "      <td>0.0</td>\n",
              "      <td>453.719354</td>\n",
              "      <td>0.363539</td>\n",
              "      <td>105.113793</td>\n",
              "      <td>1098.009100</td>\n",
              "      <td>2.714652</td>\n",
              "      <td>210286.788752</td>\n",
              "      <td>89.049544</td>\n",
              "      <td>1583.989383</td>\n",
              "      <td>2.0</td>\n",
              "      <td>1.226258</td>\n",
              "      <td>5.450394</td>\n",
              "      <td>1.0</td>\n",
              "      <td>2462.399793</td>\n",
              "      <td>0.363539</td>\n",
              "      <td>34.241315</td>\n",
              "      <td>83.247633</td>\n",
              "      <td>0.019995</td>\n",
              "      <td>79600.722021</td>\n",
              "      <td>22.241395</td>\n",
              "      <td>30.715695</td>\n",
              "      <td>41.879802</td>\n",
              "      <td>98.487083</td>\n",
              "      <td>1.099885</td>\n",
              "      <td>97398.294612</td>\n",
              "      <td>25.965890</td>\n",
              "      <td>37.878572</td>\n",
              "      <td>9.860407</td>\n",
              "      <td>33.552230</td>\n",
              "      <td>0.003844</td>\n",
              "      <td>22777.589335</td>\n",
              "      <td>8.323239</td>\n",
              "      <td>7.638486</td>\n",
              "      <td>21.502875</td>\n",
              "      <td>0.021233</td>\n",
              "      <td>17797.572591</td>\n",
              "      <td>5.573441</td>\n",
              "      <td>6.509931</td>\n",
              "    </tr>\n",
              "    <tr>\n",
              "      <th>1</th>\n",
              "      <td>2</td>\n",
              "      <td>13</td>\n",
              "      <td>116</td>\n",
              "      <td>48</td>\n",
              "      <td>0</td>\n",
              "      <td>X</td>\n",
              "      <td>2013-05-19</td>\n",
              "      <td>2013-07-05</td>\n",
              "      <td>47.0</td>\n",
              "      <td>1.544180</td>\n",
              "      <td>6.714286</td>\n",
              "      <td>0</td>\n",
              "      <td>845</td>\n",
              "      <td>28</td>\n",
              "      <td>845</td>\n",
              "      <td>12</td>\n",
              "      <td>845</td>\n",
              "      <td>41</td>\n",
              "      <td>15.069822</td>\n",
              "      <td>11586</td>\n",
              "      <td>1</td>\n",
              "      <td>12734</td>\n",
              "      <td>398.524710</td>\n",
              "      <td>165.247467</td>\n",
              "      <td>1758.92</td>\n",
              "      <td>7.12</td>\n",
              "      <td>139634.11</td>\n",
              "      <td>281.749850</td>\n",
              "      <td>-28.816876</td>\n",
              "      <td>0.0</td>\n",
              "      <td>-372.23</td>\n",
              "      <td>-24350.26</td>\n",
              "      <td>48.687661</td>\n",
              "      <td>-1.601822</td>\n",
              "      <td>0.0</td>\n",
              "      <td>-213.72</td>\n",
              "      <td>-1353.54</td>\n",
              "      <td>14.561135</td>\n",
              "      <td>845</td>\n",
              "      <td>244</td>\n",
              "      <td>...</td>\n",
              "      <td>0.226258</td>\n",
              "      <td>4.450394</td>\n",
              "      <td>0.0</td>\n",
              "      <td>453.719354</td>\n",
              "      <td>0.363539</td>\n",
              "      <td>105.113793</td>\n",
              "      <td>1098.009100</td>\n",
              "      <td>2.714652</td>\n",
              "      <td>210286.788752</td>\n",
              "      <td>89.049544</td>\n",
              "      <td>1583.989383</td>\n",
              "      <td>2.0</td>\n",
              "      <td>1.226258</td>\n",
              "      <td>5.450394</td>\n",
              "      <td>1.0</td>\n",
              "      <td>2462.399793</td>\n",
              "      <td>0.363539</td>\n",
              "      <td>34.241315</td>\n",
              "      <td>83.247633</td>\n",
              "      <td>0.019995</td>\n",
              "      <td>79600.722021</td>\n",
              "      <td>22.241395</td>\n",
              "      <td>30.715695</td>\n",
              "      <td>41.879802</td>\n",
              "      <td>98.487083</td>\n",
              "      <td>1.099885</td>\n",
              "      <td>97398.294612</td>\n",
              "      <td>25.965890</td>\n",
              "      <td>37.878572</td>\n",
              "      <td>9.860407</td>\n",
              "      <td>33.552230</td>\n",
              "      <td>0.003844</td>\n",
              "      <td>22777.589335</td>\n",
              "      <td>8.323239</td>\n",
              "      <td>7.638486</td>\n",
              "      <td>21.502875</td>\n",
              "      <td>0.021233</td>\n",
              "      <td>17797.572591</td>\n",
              "      <td>5.573441</td>\n",
              "      <td>6.509931</td>\n",
              "    </tr>\n",
              "    <tr>\n",
              "      <th>2</th>\n",
              "      <td>6</td>\n",
              "      <td>9</td>\n",
              "      <td>635</td>\n",
              "      <td>205</td>\n",
              "      <td>0</td>\n",
              "      <td>Y</td>\n",
              "      <td>2013-03-11</td>\n",
              "      <td>2013-04-12</td>\n",
              "      <td>32.0</td>\n",
              "      <td>1.051356</td>\n",
              "      <td>4.571429</td>\n",
              "      <td>0</td>\n",
              "      <td>2013</td>\n",
              "      <td>30</td>\n",
              "      <td>2013</td>\n",
              "      <td>12</td>\n",
              "      <td>2013</td>\n",
              "      <td>43</td>\n",
              "      <td>1.425236</td>\n",
              "      <td>10</td>\n",
              "      <td>1</td>\n",
              "      <td>2869</td>\n",
              "      <td>1.022121</td>\n",
              "      <td>120.710139</td>\n",
              "      <td>1056.13</td>\n",
              "      <td>17.45</td>\n",
              "      <td>242989.51</td>\n",
              "      <td>100.901771</td>\n",
              "      <td>-19.009786</td>\n",
              "      <td>0.0</td>\n",
              "      <td>-468.05</td>\n",
              "      <td>-38266.70</td>\n",
              "      <td>37.693708</td>\n",
              "      <td>-2.159990</td>\n",
              "      <td>0.0</td>\n",
              "      <td>-89.05</td>\n",
              "      <td>-4348.06</td>\n",
              "      <td>8.078772</td>\n",
              "      <td>2013</td>\n",
              "      <td>533</td>\n",
              "      <td>...</td>\n",
              "      <td>0.228758</td>\n",
              "      <td>2.892562</td>\n",
              "      <td>0.0</td>\n",
              "      <td>446.326494</td>\n",
              "      <td>0.341517</td>\n",
              "      <td>107.749249</td>\n",
              "      <td>1144.561295</td>\n",
              "      <td>2.748578</td>\n",
              "      <td>207116.393388</td>\n",
              "      <td>87.646860</td>\n",
              "      <td>1549.352273</td>\n",
              "      <td>2.0</td>\n",
              "      <td>1.228758</td>\n",
              "      <td>3.892562</td>\n",
              "      <td>1.0</td>\n",
              "      <td>2375.031040</td>\n",
              "      <td>0.341517</td>\n",
              "      <td>35.752575</td>\n",
              "      <td>81.886364</td>\n",
              "      <td>0.056818</td>\n",
              "      <td>78244.147727</td>\n",
              "      <td>21.711672</td>\n",
              "      <td>32.835227</td>\n",
              "      <td>43.014828</td>\n",
              "      <td>95.295455</td>\n",
              "      <td>1.142045</td>\n",
              "      <td>94297.693182</td>\n",
              "      <td>24.862204</td>\n",
              "      <td>39.937500</td>\n",
              "      <td>10.478949</td>\n",
              "      <td>33.359071</td>\n",
              "      <td>0.009611</td>\n",
              "      <td>23196.832997</td>\n",
              "      <td>8.582874</td>\n",
              "      <td>7.262253</td>\n",
              "      <td>19.761364</td>\n",
              "      <td>0.028409</td>\n",
              "      <td>16053.545455</td>\n",
              "      <td>5.015611</td>\n",
              "      <td>6.281250</td>\n",
              "    </tr>\n",
              "    <tr>\n",
              "      <th>3</th>\n",
              "      <td>7</td>\n",
              "      <td>13</td>\n",
              "      <td>644</td>\n",
              "      <td>1050</td>\n",
              "      <td>0</td>\n",
              "      <td>X</td>\n",
              "      <td>2013-05-19</td>\n",
              "      <td>2013-07-05</td>\n",
              "      <td>47.0</td>\n",
              "      <td>1.544180</td>\n",
              "      <td>6.714286</td>\n",
              "      <td>0</td>\n",
              "      <td>454</td>\n",
              "      <td>29</td>\n",
              "      <td>454</td>\n",
              "      <td>12</td>\n",
              "      <td>454</td>\n",
              "      <td>37</td>\n",
              "      <td>1.325991</td>\n",
              "      <td>5</td>\n",
              "      <td>1</td>\n",
              "      <td>602</td>\n",
              "      <td>0.748440</td>\n",
              "      <td>98.992401</td>\n",
              "      <td>708.48</td>\n",
              "      <td>13.89</td>\n",
              "      <td>44942.55</td>\n",
              "      <td>96.414604</td>\n",
              "      <td>-18.019978</td>\n",
              "      <td>0.0</td>\n",
              "      <td>-312.03</td>\n",
              "      <td>-8181.07</td>\n",
              "      <td>29.802598</td>\n",
              "      <td>-0.392291</td>\n",
              "      <td>0.0</td>\n",
              "      <td>-89.05</td>\n",
              "      <td>-178.10</td>\n",
              "      <td>5.903929</td>\n",
              "      <td>454</td>\n",
              "      <td>216</td>\n",
              "      <td>...</td>\n",
              "      <td>0.226258</td>\n",
              "      <td>4.450394</td>\n",
              "      <td>0.0</td>\n",
              "      <td>453.719354</td>\n",
              "      <td>0.363539</td>\n",
              "      <td>105.113793</td>\n",
              "      <td>1098.009100</td>\n",
              "      <td>2.714652</td>\n",
              "      <td>210286.788752</td>\n",
              "      <td>89.049544</td>\n",
              "      <td>1583.989383</td>\n",
              "      <td>2.0</td>\n",
              "      <td>1.226258</td>\n",
              "      <td>5.450394</td>\n",
              "      <td>1.0</td>\n",
              "      <td>2462.399793</td>\n",
              "      <td>0.363539</td>\n",
              "      <td>34.241315</td>\n",
              "      <td>83.247633</td>\n",
              "      <td>0.019995</td>\n",
              "      <td>79600.722021</td>\n",
              "      <td>22.241395</td>\n",
              "      <td>30.715695</td>\n",
              "      <td>41.879802</td>\n",
              "      <td>98.487083</td>\n",
              "      <td>1.099885</td>\n",
              "      <td>97398.294612</td>\n",
              "      <td>25.965890</td>\n",
              "      <td>37.878572</td>\n",
              "      <td>9.860407</td>\n",
              "      <td>33.552230</td>\n",
              "      <td>0.003844</td>\n",
              "      <td>22777.589335</td>\n",
              "      <td>8.323239</td>\n",
              "      <td>7.638486</td>\n",
              "      <td>21.502875</td>\n",
              "      <td>0.021233</td>\n",
              "      <td>17797.572591</td>\n",
              "      <td>5.573441</td>\n",
              "      <td>6.509931</td>\n",
              "    </tr>\n",
              "    <tr>\n",
              "      <th>4</th>\n",
              "      <td>9</td>\n",
              "      <td>8</td>\n",
              "      <td>1017</td>\n",
              "      <td>1489</td>\n",
              "      <td>0</td>\n",
              "      <td>X</td>\n",
              "      <td>2013-02-16</td>\n",
              "      <td>2013-04-05</td>\n",
              "      <td>48.0</td>\n",
              "      <td>1.577034</td>\n",
              "      <td>6.857143</td>\n",
              "      <td>0</td>\n",
              "      <td>1000</td>\n",
              "      <td>29</td>\n",
              "      <td>1000</td>\n",
              "      <td>12</td>\n",
              "      <td>1000</td>\n",
              "      <td>45</td>\n",
              "      <td>139.702000</td>\n",
              "      <td>15420</td>\n",
              "      <td>1</td>\n",
              "      <td>139702</td>\n",
              "      <td>1241.859979</td>\n",
              "      <td>111.164700</td>\n",
              "      <td>1424.80</td>\n",
              "      <td>8.90</td>\n",
              "      <td>111164.70</td>\n",
              "      <td>138.614915</td>\n",
              "      <td>-22.526890</td>\n",
              "      <td>0.0</td>\n",
              "      <td>-320.22</td>\n",
              "      <td>-22526.89</td>\n",
              "      <td>37.597827</td>\n",
              "      <td>-0.453800</td>\n",
              "      <td>0.0</td>\n",
              "      <td>-53.43</td>\n",
              "      <td>-453.80</td>\n",
              "      <td>3.628797</td>\n",
              "      <td>1000</td>\n",
              "      <td>327</td>\n",
              "      <td>...</td>\n",
              "      <td>0.226817</td>\n",
              "      <td>4.137179</td>\n",
              "      <td>0.0</td>\n",
              "      <td>427.777796</td>\n",
              "      <td>0.352577</td>\n",
              "      <td>105.671650</td>\n",
              "      <td>1108.123949</td>\n",
              "      <td>2.825356</td>\n",
              "      <td>198515.655683</td>\n",
              "      <td>90.543023</td>\n",
              "      <td>1494.092662</td>\n",
              "      <td>2.0</td>\n",
              "      <td>1.226817</td>\n",
              "      <td>5.137179</td>\n",
              "      <td>1.0</td>\n",
              "      <td>2319.028073</td>\n",
              "      <td>0.352577</td>\n",
              "      <td>34.190481</td>\n",
              "      <td>81.600887</td>\n",
              "      <td>0.029262</td>\n",
              "      <td>74762.383197</td>\n",
              "      <td>22.076074</td>\n",
              "      <td>30.854689</td>\n",
              "      <td>41.772275</td>\n",
              "      <td>96.372645</td>\n",
              "      <td>1.113101</td>\n",
              "      <td>91429.113101</td>\n",
              "      <td>25.717422</td>\n",
              "      <td>37.971647</td>\n",
              "      <td>9.799867</td>\n",
              "      <td>32.011696</td>\n",
              "      <td>0.004153</td>\n",
              "      <td>21276.398491</td>\n",
              "      <td>8.122024</td>\n",
              "      <td>7.581794</td>\n",
              "      <td>20.875460</td>\n",
              "      <td>0.021459</td>\n",
              "      <td>16666.729905</td>\n",
              "      <td>5.472313</td>\n",
              "      <td>6.557127</td>\n",
              "    </tr>\n",
              "    <tr>\n",
              "      <th>...</th>\n",
              "      <td>...</td>\n",
              "      <td>...</td>\n",
              "      <td>...</td>\n",
              "      <td>...</td>\n",
              "      <td>...</td>\n",
              "      <td>...</td>\n",
              "      <td>...</td>\n",
              "      <td>...</td>\n",
              "      <td>...</td>\n",
              "      <td>...</td>\n",
              "      <td>...</td>\n",
              "      <td>...</td>\n",
              "      <td>...</td>\n",
              "      <td>...</td>\n",
              "      <td>...</td>\n",
              "      <td>...</td>\n",
              "      <td>...</td>\n",
              "      <td>...</td>\n",
              "      <td>...</td>\n",
              "      <td>...</td>\n",
              "      <td>...</td>\n",
              "      <td>...</td>\n",
              "      <td>...</td>\n",
              "      <td>...</td>\n",
              "      <td>...</td>\n",
              "      <td>...</td>\n",
              "      <td>...</td>\n",
              "      <td>...</td>\n",
              "      <td>...</td>\n",
              "      <td>...</td>\n",
              "      <td>...</td>\n",
              "      <td>...</td>\n",
              "      <td>...</td>\n",
              "      <td>...</td>\n",
              "      <td>...</td>\n",
              "      <td>...</td>\n",
              "      <td>...</td>\n",
              "      <td>...</td>\n",
              "      <td>...</td>\n",
              "      <td>...</td>\n",
              "      <td>...</td>\n",
              "      <td>...</td>\n",
              "      <td>...</td>\n",
              "      <td>...</td>\n",
              "      <td>...</td>\n",
              "      <td>...</td>\n",
              "      <td>...</td>\n",
              "      <td>...</td>\n",
              "      <td>...</td>\n",
              "      <td>...</td>\n",
              "      <td>...</td>\n",
              "      <td>...</td>\n",
              "      <td>...</td>\n",
              "      <td>...</td>\n",
              "      <td>...</td>\n",
              "      <td>...</td>\n",
              "      <td>...</td>\n",
              "      <td>...</td>\n",
              "      <td>...</td>\n",
              "      <td>...</td>\n",
              "      <td>...</td>\n",
              "      <td>...</td>\n",
              "      <td>...</td>\n",
              "      <td>...</td>\n",
              "      <td>...</td>\n",
              "      <td>...</td>\n",
              "      <td>...</td>\n",
              "      <td>...</td>\n",
              "      <td>...</td>\n",
              "      <td>...</td>\n",
              "      <td>...</td>\n",
              "      <td>...</td>\n",
              "      <td>...</td>\n",
              "      <td>...</td>\n",
              "      <td>...</td>\n",
              "      <td>...</td>\n",
              "      <td>...</td>\n",
              "      <td>...</td>\n",
              "      <td>...</td>\n",
              "      <td>...</td>\n",
              "      <td>...</td>\n",
              "    </tr>\n",
              "    <tr>\n",
              "      <th>78364</th>\n",
              "      <td>128587</td>\n",
              "      <td>8</td>\n",
              "      <td>71</td>\n",
              "      <td>1523</td>\n",
              "      <td>0</td>\n",
              "      <td>X</td>\n",
              "      <td>2013-02-16</td>\n",
              "      <td>2013-04-05</td>\n",
              "      <td>48.0</td>\n",
              "      <td>1.577034</td>\n",
              "      <td>6.857143</td>\n",
              "      <td>0</td>\n",
              "      <td>759</td>\n",
              "      <td>29</td>\n",
              "      <td>759</td>\n",
              "      <td>12</td>\n",
              "      <td>759</td>\n",
              "      <td>34</td>\n",
              "      <td>1.051383</td>\n",
              "      <td>6</td>\n",
              "      <td>1</td>\n",
              "      <td>798</td>\n",
              "      <td>0.292825</td>\n",
              "      <td>120.824862</td>\n",
              "      <td>997.00</td>\n",
              "      <td>10.33</td>\n",
              "      <td>91706.07</td>\n",
              "      <td>102.737699</td>\n",
              "      <td>-10.580738</td>\n",
              "      <td>0.0</td>\n",
              "      <td>-168.84</td>\n",
              "      <td>-8030.78</td>\n",
              "      <td>20.480908</td>\n",
              "      <td>0.000000</td>\n",
              "      <td>0.0</td>\n",
              "      <td>0.00</td>\n",
              "      <td>0.00</td>\n",
              "      <td>0.000000</td>\n",
              "      <td>759</td>\n",
              "      <td>356</td>\n",
              "      <td>...</td>\n",
              "      <td>0.226817</td>\n",
              "      <td>4.137179</td>\n",
              "      <td>0.0</td>\n",
              "      <td>427.777796</td>\n",
              "      <td>0.352577</td>\n",
              "      <td>105.671650</td>\n",
              "      <td>1108.123949</td>\n",
              "      <td>2.825356</td>\n",
              "      <td>198515.655683</td>\n",
              "      <td>90.543023</td>\n",
              "      <td>1494.092662</td>\n",
              "      <td>2.0</td>\n",
              "      <td>1.226817</td>\n",
              "      <td>5.137179</td>\n",
              "      <td>1.0</td>\n",
              "      <td>2319.028073</td>\n",
              "      <td>0.352577</td>\n",
              "      <td>34.190481</td>\n",
              "      <td>81.600887</td>\n",
              "      <td>0.029262</td>\n",
              "      <td>74762.383197</td>\n",
              "      <td>22.076074</td>\n",
              "      <td>30.854689</td>\n",
              "      <td>41.772275</td>\n",
              "      <td>96.372645</td>\n",
              "      <td>1.113101</td>\n",
              "      <td>91429.113101</td>\n",
              "      <td>25.717422</td>\n",
              "      <td>37.971647</td>\n",
              "      <td>9.799867</td>\n",
              "      <td>32.011696</td>\n",
              "      <td>0.004153</td>\n",
              "      <td>21276.398491</td>\n",
              "      <td>8.122024</td>\n",
              "      <td>7.581794</td>\n",
              "      <td>20.875460</td>\n",
              "      <td>0.021459</td>\n",
              "      <td>16666.729905</td>\n",
              "      <td>5.472313</td>\n",
              "      <td>6.557127</td>\n",
              "    </tr>\n",
              "    <tr>\n",
              "      <th>78365</th>\n",
              "      <td>128589</td>\n",
              "      <td>30</td>\n",
              "      <td>547</td>\n",
              "      <td>937</td>\n",
              "      <td>0</td>\n",
              "      <td>X</td>\n",
              "      <td>2012-11-19</td>\n",
              "      <td>2013-01-04</td>\n",
              "      <td>46.0</td>\n",
              "      <td>1.511325</td>\n",
              "      <td>6.571429</td>\n",
              "      <td>0</td>\n",
              "      <td>581</td>\n",
              "      <td>29</td>\n",
              "      <td>581</td>\n",
              "      <td>12</td>\n",
              "      <td>581</td>\n",
              "      <td>38</td>\n",
              "      <td>1.265060</td>\n",
              "      <td>6</td>\n",
              "      <td>1</td>\n",
              "      <td>735</td>\n",
              "      <td>0.591871</td>\n",
              "      <td>90.949312</td>\n",
              "      <td>391.46</td>\n",
              "      <td>12.47</td>\n",
              "      <td>52841.55</td>\n",
              "      <td>58.062017</td>\n",
              "      <td>-18.389466</td>\n",
              "      <td>0.0</td>\n",
              "      <td>-177.39</td>\n",
              "      <td>-10684.28</td>\n",
              "      <td>28.433381</td>\n",
              "      <td>-0.153270</td>\n",
              "      <td>0.0</td>\n",
              "      <td>-89.05</td>\n",
              "      <td>-89.05</td>\n",
              "      <td>3.694417</td>\n",
              "      <td>581</td>\n",
              "      <td>223</td>\n",
              "      <td>...</td>\n",
              "      <td>0.235784</td>\n",
              "      <td>4.449838</td>\n",
              "      <td>0.0</td>\n",
              "      <td>470.594549</td>\n",
              "      <td>0.366717</td>\n",
              "      <td>106.108116</td>\n",
              "      <td>1097.037405</td>\n",
              "      <td>2.927091</td>\n",
              "      <td>211241.333906</td>\n",
              "      <td>88.352647</td>\n",
              "      <td>1596.233338</td>\n",
              "      <td>2.0</td>\n",
              "      <td>1.235784</td>\n",
              "      <td>5.449838</td>\n",
              "      <td>1.0</td>\n",
              "      <td>2475.855567</td>\n",
              "      <td>0.366717</td>\n",
              "      <td>35.232060</td>\n",
              "      <td>85.932735</td>\n",
              "      <td>0.026133</td>\n",
              "      <td>83240.639091</td>\n",
              "      <td>23.047852</td>\n",
              "      <td>31.722205</td>\n",
              "      <td>42.811076</td>\n",
              "      <td>101.119994</td>\n",
              "      <td>1.076542</td>\n",
              "      <td>101220.042524</td>\n",
              "      <td>26.750069</td>\n",
              "      <td>38.934591</td>\n",
              "      <td>10.413666</td>\n",
              "      <td>35.776467</td>\n",
              "      <td>0.003922</td>\n",
              "      <td>24342.696046</td>\n",
              "      <td>8.920721</td>\n",
              "      <td>7.579016</td>\n",
              "      <td>20.785527</td>\n",
              "      <td>0.018710</td>\n",
              "      <td>17979.403433</td>\n",
              "      <td>5.513836</td>\n",
              "      <td>6.445493</td>\n",
              "    </tr>\n",
              "    <tr>\n",
              "      <th>78366</th>\n",
              "      <td>128590</td>\n",
              "      <td>8</td>\n",
              "      <td>754</td>\n",
              "      <td>1004</td>\n",
              "      <td>0</td>\n",
              "      <td>X</td>\n",
              "      <td>2013-02-16</td>\n",
              "      <td>2013-04-05</td>\n",
              "      <td>48.0</td>\n",
              "      <td>1.577034</td>\n",
              "      <td>6.857143</td>\n",
              "      <td>1</td>\n",
              "      <td>3483</td>\n",
              "      <td>31</td>\n",
              "      <td>3483</td>\n",
              "      <td>12</td>\n",
              "      <td>3483</td>\n",
              "      <td>50</td>\n",
              "      <td>49.010336</td>\n",
              "      <td>13896</td>\n",
              "      <td>1</td>\n",
              "      <td>170703</td>\n",
              "      <td>717.563898</td>\n",
              "      <td>111.611734</td>\n",
              "      <td>2328.84</td>\n",
              "      <td>7.12</td>\n",
              "      <td>388743.67</td>\n",
              "      <td>124.007071</td>\n",
              "      <td>-16.709004</td>\n",
              "      <td>0.0</td>\n",
              "      <td>-498.68</td>\n",
              "      <td>-58197.46</td>\n",
              "      <td>34.725777</td>\n",
              "      <td>-0.082840</td>\n",
              "      <td>0.0</td>\n",
              "      <td>-89.05</td>\n",
              "      <td>-288.53</td>\n",
              "      <td>2.289573</td>\n",
              "      <td>3483</td>\n",
              "      <td>1196</td>\n",
              "      <td>...</td>\n",
              "      <td>0.226817</td>\n",
              "      <td>4.137179</td>\n",
              "      <td>0.0</td>\n",
              "      <td>427.777796</td>\n",
              "      <td>0.352577</td>\n",
              "      <td>105.671650</td>\n",
              "      <td>1108.123949</td>\n",
              "      <td>2.825356</td>\n",
              "      <td>198515.655683</td>\n",
              "      <td>90.543023</td>\n",
              "      <td>1494.092662</td>\n",
              "      <td>2.0</td>\n",
              "      <td>1.226817</td>\n",
              "      <td>5.137179</td>\n",
              "      <td>1.0</td>\n",
              "      <td>2319.028073</td>\n",
              "      <td>0.352577</td>\n",
              "      <td>34.190481</td>\n",
              "      <td>81.600887</td>\n",
              "      <td>0.029262</td>\n",
              "      <td>74762.383197</td>\n",
              "      <td>22.076074</td>\n",
              "      <td>30.854689</td>\n",
              "      <td>41.772275</td>\n",
              "      <td>96.372645</td>\n",
              "      <td>1.113101</td>\n",
              "      <td>91429.113101</td>\n",
              "      <td>25.717422</td>\n",
              "      <td>37.971647</td>\n",
              "      <td>9.799867</td>\n",
              "      <td>32.011696</td>\n",
              "      <td>0.004153</td>\n",
              "      <td>21276.398491</td>\n",
              "      <td>8.122024</td>\n",
              "      <td>7.581794</td>\n",
              "      <td>20.875460</td>\n",
              "      <td>0.021459</td>\n",
              "      <td>16666.729905</td>\n",
              "      <td>5.472313</td>\n",
              "      <td>6.557127</td>\n",
              "    </tr>\n",
              "    <tr>\n",
              "      <th>78367</th>\n",
              "      <td>128592</td>\n",
              "      <td>13</td>\n",
              "      <td>134</td>\n",
              "      <td>71</td>\n",
              "      <td>0</td>\n",
              "      <td>X</td>\n",
              "      <td>2013-05-19</td>\n",
              "      <td>2013-07-05</td>\n",
              "      <td>47.0</td>\n",
              "      <td>1.544180</td>\n",
              "      <td>6.714286</td>\n",
              "      <td>0</td>\n",
              "      <td>2021</td>\n",
              "      <td>29</td>\n",
              "      <td>2021</td>\n",
              "      <td>12</td>\n",
              "      <td>2021</td>\n",
              "      <td>41</td>\n",
              "      <td>9.642751</td>\n",
              "      <td>16672</td>\n",
              "      <td>1</td>\n",
              "      <td>19488</td>\n",
              "      <td>370.825034</td>\n",
              "      <td>87.925982</td>\n",
              "      <td>1424.80</td>\n",
              "      <td>3.56</td>\n",
              "      <td>177698.41</td>\n",
              "      <td>69.049749</td>\n",
              "      <td>-23.697244</td>\n",
              "      <td>0.0</td>\n",
              "      <td>-198.76</td>\n",
              "      <td>-47892.13</td>\n",
              "      <td>28.320324</td>\n",
              "      <td>-1.875240</td>\n",
              "      <td>0.0</td>\n",
              "      <td>-89.05</td>\n",
              "      <td>-3789.86</td>\n",
              "      <td>7.376012</td>\n",
              "      <td>2021</td>\n",
              "      <td>558</td>\n",
              "      <td>...</td>\n",
              "      <td>0.226258</td>\n",
              "      <td>4.450394</td>\n",
              "      <td>0.0</td>\n",
              "      <td>453.719354</td>\n",
              "      <td>0.363539</td>\n",
              "      <td>105.113793</td>\n",
              "      <td>1098.009100</td>\n",
              "      <td>2.714652</td>\n",
              "      <td>210286.788752</td>\n",
              "      <td>89.049544</td>\n",
              "      <td>1583.989383</td>\n",
              "      <td>2.0</td>\n",
              "      <td>1.226258</td>\n",
              "      <td>5.450394</td>\n",
              "      <td>1.0</td>\n",
              "      <td>2462.399793</td>\n",
              "      <td>0.363539</td>\n",
              "      <td>34.241315</td>\n",
              "      <td>83.247633</td>\n",
              "      <td>0.019995</td>\n",
              "      <td>79600.722021</td>\n",
              "      <td>22.241395</td>\n",
              "      <td>30.715695</td>\n",
              "      <td>41.879802</td>\n",
              "      <td>98.487083</td>\n",
              "      <td>1.099885</td>\n",
              "      <td>97398.294612</td>\n",
              "      <td>25.965890</td>\n",
              "      <td>37.878572</td>\n",
              "      <td>9.860407</td>\n",
              "      <td>33.552230</td>\n",
              "      <td>0.003844</td>\n",
              "      <td>22777.589335</td>\n",
              "      <td>8.323239</td>\n",
              "      <td>7.638486</td>\n",
              "      <td>21.502875</td>\n",
              "      <td>0.021233</td>\n",
              "      <td>17797.572591</td>\n",
              "      <td>5.573441</td>\n",
              "      <td>6.509931</td>\n",
              "    </tr>\n",
              "    <tr>\n",
              "      <th>78368</th>\n",
              "      <td>128595</td>\n",
              "      <td>13</td>\n",
              "      <td>681</td>\n",
              "      <td>623</td>\n",
              "      <td>0</td>\n",
              "      <td>X</td>\n",
              "      <td>2013-05-19</td>\n",
              "      <td>2013-07-05</td>\n",
              "      <td>47.0</td>\n",
              "      <td>1.544180</td>\n",
              "      <td>6.714286</td>\n",
              "      <td>1</td>\n",
              "      <td>1276</td>\n",
              "      <td>31</td>\n",
              "      <td>1276</td>\n",
              "      <td>12</td>\n",
              "      <td>1276</td>\n",
              "      <td>51</td>\n",
              "      <td>279.068966</td>\n",
              "      <td>12986</td>\n",
              "      <td>1</td>\n",
              "      <td>356092</td>\n",
              "      <td>1741.390954</td>\n",
              "      <td>135.282962</td>\n",
              "      <td>1383.84</td>\n",
              "      <td>17.45</td>\n",
              "      <td>172621.06</td>\n",
              "      <td>166.456544</td>\n",
              "      <td>-19.160611</td>\n",
              "      <td>0.0</td>\n",
              "      <td>-117.55</td>\n",
              "      <td>-24448.94</td>\n",
              "      <td>24.835012</td>\n",
              "      <td>0.000000</td>\n",
              "      <td>0.0</td>\n",
              "      <td>0.00</td>\n",
              "      <td>0.00</td>\n",
              "      <td>0.000000</td>\n",
              "      <td>1276</td>\n",
              "      <td>239</td>\n",
              "      <td>...</td>\n",
              "      <td>0.226258</td>\n",
              "      <td>4.450394</td>\n",
              "      <td>0.0</td>\n",
              "      <td>453.719354</td>\n",
              "      <td>0.363539</td>\n",
              "      <td>105.113793</td>\n",
              "      <td>1098.009100</td>\n",
              "      <td>2.714652</td>\n",
              "      <td>210286.788752</td>\n",
              "      <td>89.049544</td>\n",
              "      <td>1583.989383</td>\n",
              "      <td>2.0</td>\n",
              "      <td>1.226258</td>\n",
              "      <td>5.450394</td>\n",
              "      <td>1.0</td>\n",
              "      <td>2462.399793</td>\n",
              "      <td>0.363539</td>\n",
              "      <td>34.241315</td>\n",
              "      <td>83.247633</td>\n",
              "      <td>0.019995</td>\n",
              "      <td>79600.722021</td>\n",
              "      <td>22.241395</td>\n",
              "      <td>30.715695</td>\n",
              "      <td>41.879802</td>\n",
              "      <td>98.487083</td>\n",
              "      <td>1.099885</td>\n",
              "      <td>97398.294612</td>\n",
              "      <td>25.965890</td>\n",
              "      <td>37.878572</td>\n",
              "      <td>9.860407</td>\n",
              "      <td>33.552230</td>\n",
              "      <td>0.003844</td>\n",
              "      <td>22777.589335</td>\n",
              "      <td>8.323239</td>\n",
              "      <td>7.638486</td>\n",
              "      <td>21.502875</td>\n",
              "      <td>0.021233</td>\n",
              "      <td>17797.572591</td>\n",
              "      <td>5.573441</td>\n",
              "      <td>6.509931</td>\n",
              "    </tr>\n",
              "  </tbody>\n",
              "</table>\n",
              "<p>78369 rows × 188 columns</p>\n",
              "</div>"
            ],
            "text/plain": [
              "           id  ...  Transaction_coupon_to_item_redeemed_quantile_y\n",
              "0           1  ...                                        6.509931\n",
              "1           2  ...                                        6.509931\n",
              "2           6  ...                                        6.281250\n",
              "3           7  ...                                        6.509931\n",
              "4           9  ...                                        6.557127\n",
              "...       ...  ...                                             ...\n",
              "78364  128587  ...                                        6.557127\n",
              "78365  128589  ...                                        6.445493\n",
              "78366  128590  ...                                        6.557127\n",
              "78367  128592  ...                                        6.509931\n",
              "78368  128595  ...                                        6.509931\n",
              "\n",
              "[78369 rows x 188 columns]"
            ]
          },
          "metadata": {
            "tags": []
          },
          "execution_count": 190
        }
      ]
    },
    {
      "cell_type": "code",
      "metadata": {
        "colab_type": "code",
        "id": "LrF1DpJgXleP",
        "colab": {}
      },
      "source": [
        "train=train.merge(train.drop(['id','redemption_status'],axis=1).groupby('coupon_id').mean().reset_index(),on='coupon_id',how='left')"
      ],
      "execution_count": 191,
      "outputs": []
    },
    {
      "cell_type": "code",
      "metadata": {
        "id": "us_IIn7r7de4",
        "colab_type": "code",
        "colab": {
          "base_uri": "https://localhost:8080/",
          "height": 338
        },
        "outputId": "dcd64c12-4328-4cb5-dabb-ab362268560c"
      },
      "source": [
        "train.head()"
      ],
      "execution_count": 192,
      "outputs": [
        {
          "output_type": "execute_result",
          "data": {
            "text/html": [
              "<div>\n",
              "<style scoped>\n",
              "    .dataframe tbody tr th:only-of-type {\n",
              "        vertical-align: middle;\n",
              "    }\n",
              "\n",
              "    .dataframe tbody tr th {\n",
              "        vertical-align: top;\n",
              "    }\n",
              "\n",
              "    .dataframe thead th {\n",
              "        text-align: right;\n",
              "    }\n",
              "</style>\n",
              "<table border=\"1\" class=\"dataframe\">\n",
              "  <thead>\n",
              "    <tr style=\"text-align: right;\">\n",
              "      <th></th>\n",
              "      <th>id</th>\n",
              "      <th>campaign_id_x</th>\n",
              "      <th>coupon_id</th>\n",
              "      <th>customer_id_x</th>\n",
              "      <th>redemption_status</th>\n",
              "      <th>campaign_type</th>\n",
              "      <th>start_date</th>\n",
              "      <th>end_date</th>\n",
              "      <th>Camp_Duration_by_days_x</th>\n",
              "      <th>Camp_Duration_by_month_x</th>\n",
              "      <th>Camp_Duration_by_week_x</th>\n",
              "      <th>within_date_x</th>\n",
              "      <th>Transaction_day_no_count_x</th>\n",
              "      <th>Transaction_day_no_nunique_x</th>\n",
              "      <th>Transaction_month_no_count_x</th>\n",
              "      <th>Transaction_month_no_nunique_x</th>\n",
              "      <th>Transaction_week_no_count_x</th>\n",
              "      <th>Transaction_week_no_nunique_x</th>\n",
              "      <th>Transaction_quantity_mean_x</th>\n",
              "      <th>Transaction_quantity_max_x</th>\n",
              "      <th>Transaction_quantity_min_x</th>\n",
              "      <th>Transaction_quantity_sum_x</th>\n",
              "      <th>Transaction_quantity_std_x</th>\n",
              "      <th>Transaction_selling_price_mean_x</th>\n",
              "      <th>Transaction_selling_price_max_x</th>\n",
              "      <th>Transaction_selling_price_min_x</th>\n",
              "      <th>Transaction_selling_price_sum_x</th>\n",
              "      <th>Transaction_selling_price_std_x</th>\n",
              "      <th>Transaction_other_discount_mean_x</th>\n",
              "      <th>Transaction_other_discount_max_x</th>\n",
              "      <th>Transaction_other_discount_min_x</th>\n",
              "      <th>Transaction_other_discount_sum_x</th>\n",
              "      <th>Transaction_other_discount_std_x</th>\n",
              "      <th>Transaction_coupon_discount_mean_x</th>\n",
              "      <th>Transaction_coupon_discount_max_x</th>\n",
              "      <th>Transaction_coupon_discount_min_x</th>\n",
              "      <th>Transaction_coupon_discount_sum_x</th>\n",
              "      <th>Transaction_coupon_discount_std_x</th>\n",
              "      <th>Transaction_item_id_count_x</th>\n",
              "      <th>Transaction_item_id_nunique_x</th>\n",
              "      <th>...</th>\n",
              "      <th>Transaction_discount_percent_mean_y</th>\n",
              "      <th>Transaction_discount_percent_max_y</th>\n",
              "      <th>Transaction_discount_percent_min_y</th>\n",
              "      <th>Transaction_discount_percent_sum_y</th>\n",
              "      <th>Transaction_discount_percent_std_y</th>\n",
              "      <th>Transaction_price_per_quantity_mean_y</th>\n",
              "      <th>Transaction_price_per_quantity_max_y</th>\n",
              "      <th>Transaction_price_per_quantity_min_y</th>\n",
              "      <th>Transaction_price_per_quantity_sum_y</th>\n",
              "      <th>Transaction_price_per_quantity_std_y</th>\n",
              "      <th>Transaction_brand_type_count_y</th>\n",
              "      <th>Transaction_brand_type_nunique_y</th>\n",
              "      <th>Transaction_Sale_price_marked_mean_y</th>\n",
              "      <th>Transaction_Sale_price_marked_max_y</th>\n",
              "      <th>Transaction_Sale_price_marked_min_y</th>\n",
              "      <th>Transaction_Sale_price_marked_sum_y</th>\n",
              "      <th>Transaction_Sale_price_marked_std_y</th>\n",
              "      <th>Transaction_coupon_acquired_mean_y</th>\n",
              "      <th>Transaction_coupon_acquired_max_y</th>\n",
              "      <th>Transaction_coupon_acquired_min_y</th>\n",
              "      <th>Transaction_coupon_acquired_sum_y</th>\n",
              "      <th>Transaction_coupon_acquired_std_y</th>\n",
              "      <th>Transaction_coupon_acquired_quantile_y</th>\n",
              "      <th>Transaction_item_bought_mean_y</th>\n",
              "      <th>Transaction_item_bought_max_y</th>\n",
              "      <th>Transaction_item_bought_min_y</th>\n",
              "      <th>Transaction_item_bought_sum_y</th>\n",
              "      <th>Transaction_item_bought_std_y</th>\n",
              "      <th>Transaction_item_bought_quantile_y</th>\n",
              "      <th>Transaction_total_discount_mean_y</th>\n",
              "      <th>Transaction_total_discount_max_y</th>\n",
              "      <th>Transaction_total_discount_min_y</th>\n",
              "      <th>Transaction_total_discount_sum_y</th>\n",
              "      <th>Transaction_total_discount_std_y</th>\n",
              "      <th>Transaction_coupon_to_item_redeemed_mean_y</th>\n",
              "      <th>Transaction_coupon_to_item_redeemed_max_y</th>\n",
              "      <th>Transaction_coupon_to_item_redeemed_min_y</th>\n",
              "      <th>Transaction_coupon_to_item_redeemed_sum_y</th>\n",
              "      <th>Transaction_coupon_to_item_redeemed_std_y</th>\n",
              "      <th>Transaction_coupon_to_item_redeemed_quantile_y</th>\n",
              "    </tr>\n",
              "  </thead>\n",
              "  <tbody>\n",
              "    <tr>\n",
              "      <th>0</th>\n",
              "      <td>1</td>\n",
              "      <td>13</td>\n",
              "      <td>27</td>\n",
              "      <td>1053</td>\n",
              "      <td>0</td>\n",
              "      <td>X</td>\n",
              "      <td>2013-05-19</td>\n",
              "      <td>2013-07-05</td>\n",
              "      <td>47.0</td>\n",
              "      <td>1.544180</td>\n",
              "      <td>6.714286</td>\n",
              "      <td>0</td>\n",
              "      <td>610</td>\n",
              "      <td>30</td>\n",
              "      <td>610</td>\n",
              "      <td>12</td>\n",
              "      <td>610</td>\n",
              "      <td>44</td>\n",
              "      <td>173.785246</td>\n",
              "      <td>12444</td>\n",
              "      <td>1</td>\n",
              "      <td>106009</td>\n",
              "      <td>1159.978943</td>\n",
              "      <td>165.690918</td>\n",
              "      <td>5164.54</td>\n",
              "      <td>17.45</td>\n",
              "      <td>101071.46</td>\n",
              "      <td>368.818706</td>\n",
              "      <td>-37.773820</td>\n",
              "      <td>0.0</td>\n",
              "      <td>-890.50</td>\n",
              "      <td>-23042.03</td>\n",
              "      <td>81.751474</td>\n",
              "      <td>-0.145984</td>\n",
              "      <td>0.0</td>\n",
              "      <td>-89.05</td>\n",
              "      <td>-89.05</td>\n",
              "      <td>3.605529</td>\n",
              "      <td>610</td>\n",
              "      <td>208</td>\n",
              "      <td>...</td>\n",
              "      <td>0.235568</td>\n",
              "      <td>4.290394</td>\n",
              "      <td>0.0</td>\n",
              "      <td>448.489483</td>\n",
              "      <td>0.370534</td>\n",
              "      <td>104.231302</td>\n",
              "      <td>1063.254426</td>\n",
              "      <td>2.577688</td>\n",
              "      <td>195056.401437</td>\n",
              "      <td>90.206505</td>\n",
              "      <td>1489.581967</td>\n",
              "      <td>2.0</td>\n",
              "      <td>1.235568</td>\n",
              "      <td>5.290394</td>\n",
              "      <td>1.0</td>\n",
              "      <td>2325.038663</td>\n",
              "      <td>0.370534</td>\n",
              "      <td>32.393334</td>\n",
              "      <td>80.295082</td>\n",
              "      <td>0.049180</td>\n",
              "      <td>68514.860656</td>\n",
              "      <td>21.239456</td>\n",
              "      <td>28.950820</td>\n",
              "      <td>39.279497</td>\n",
              "      <td>93.262295</td>\n",
              "      <td>1.172131</td>\n",
              "      <td>82694.827869</td>\n",
              "      <td>24.409602</td>\n",
              "      <td>35.729508</td>\n",
              "      <td>9.979510</td>\n",
              "      <td>34.737740</td>\n",
              "      <td>0.008383</td>\n",
              "      <td>21333.450975</td>\n",
              "      <td>8.607869</td>\n",
              "      <td>6.886162</td>\n",
              "      <td>19.352459</td>\n",
              "      <td>0.016393</td>\n",
              "      <td>14179.967213</td>\n",
              "      <td>5.018951</td>\n",
              "      <td>6.024590</td>\n",
              "    </tr>\n",
              "    <tr>\n",
              "      <th>1</th>\n",
              "      <td>2</td>\n",
              "      <td>13</td>\n",
              "      <td>116</td>\n",
              "      <td>48</td>\n",
              "      <td>0</td>\n",
              "      <td>X</td>\n",
              "      <td>2013-05-19</td>\n",
              "      <td>2013-07-05</td>\n",
              "      <td>47.0</td>\n",
              "      <td>1.544180</td>\n",
              "      <td>6.714286</td>\n",
              "      <td>0</td>\n",
              "      <td>845</td>\n",
              "      <td>28</td>\n",
              "      <td>845</td>\n",
              "      <td>12</td>\n",
              "      <td>845</td>\n",
              "      <td>41</td>\n",
              "      <td>15.069822</td>\n",
              "      <td>11586</td>\n",
              "      <td>1</td>\n",
              "      <td>12734</td>\n",
              "      <td>398.524710</td>\n",
              "      <td>165.247467</td>\n",
              "      <td>1758.92</td>\n",
              "      <td>7.12</td>\n",
              "      <td>139634.11</td>\n",
              "      <td>281.749850</td>\n",
              "      <td>-28.816876</td>\n",
              "      <td>0.0</td>\n",
              "      <td>-372.23</td>\n",
              "      <td>-24350.26</td>\n",
              "      <td>48.687661</td>\n",
              "      <td>-1.601822</td>\n",
              "      <td>0.0</td>\n",
              "      <td>-213.72</td>\n",
              "      <td>-1353.54</td>\n",
              "      <td>14.561135</td>\n",
              "      <td>845</td>\n",
              "      <td>244</td>\n",
              "      <td>...</td>\n",
              "      <td>0.227893</td>\n",
              "      <td>5.363955</td>\n",
              "      <td>0.0</td>\n",
              "      <td>481.835432</td>\n",
              "      <td>0.369848</td>\n",
              "      <td>103.471464</td>\n",
              "      <td>1138.501413</td>\n",
              "      <td>2.135976</td>\n",
              "      <td>220376.022850</td>\n",
              "      <td>89.667129</td>\n",
              "      <td>1709.990476</td>\n",
              "      <td>2.0</td>\n",
              "      <td>1.227893</td>\n",
              "      <td>6.363955</td>\n",
              "      <td>1.0</td>\n",
              "      <td>2627.816384</td>\n",
              "      <td>0.369848</td>\n",
              "      <td>34.770117</td>\n",
              "      <td>83.923810</td>\n",
              "      <td>0.019048</td>\n",
              "      <td>87520.057143</td>\n",
              "      <td>21.839510</td>\n",
              "      <td>31.052381</td>\n",
              "      <td>42.298368</td>\n",
              "      <td>98.657143</td>\n",
              "      <td>1.047619</td>\n",
              "      <td>106234.704762</td>\n",
              "      <td>25.419436</td>\n",
              "      <td>38.338095</td>\n",
              "      <td>9.830762</td>\n",
              "      <td>32.356100</td>\n",
              "      <td>0.001648</td>\n",
              "      <td>24212.068878</td>\n",
              "      <td>7.920539</td>\n",
              "      <td>7.528251</td>\n",
              "      <td>20.847619</td>\n",
              "      <td>0.000000</td>\n",
              "      <td>18714.647619</td>\n",
              "      <td>5.335414</td>\n",
              "      <td>6.447619</td>\n",
              "    </tr>\n",
              "    <tr>\n",
              "      <th>2</th>\n",
              "      <td>6</td>\n",
              "      <td>9</td>\n",
              "      <td>635</td>\n",
              "      <td>205</td>\n",
              "      <td>0</td>\n",
              "      <td>Y</td>\n",
              "      <td>2013-03-11</td>\n",
              "      <td>2013-04-12</td>\n",
              "      <td>32.0</td>\n",
              "      <td>1.051356</td>\n",
              "      <td>4.571429</td>\n",
              "      <td>0</td>\n",
              "      <td>2013</td>\n",
              "      <td>30</td>\n",
              "      <td>2013</td>\n",
              "      <td>12</td>\n",
              "      <td>2013</td>\n",
              "      <td>43</td>\n",
              "      <td>1.425236</td>\n",
              "      <td>10</td>\n",
              "      <td>1</td>\n",
              "      <td>2869</td>\n",
              "      <td>1.022121</td>\n",
              "      <td>120.710139</td>\n",
              "      <td>1056.13</td>\n",
              "      <td>17.45</td>\n",
              "      <td>242989.51</td>\n",
              "      <td>100.901771</td>\n",
              "      <td>-19.009786</td>\n",
              "      <td>0.0</td>\n",
              "      <td>-468.05</td>\n",
              "      <td>-38266.70</td>\n",
              "      <td>37.693708</td>\n",
              "      <td>-2.159990</td>\n",
              "      <td>0.0</td>\n",
              "      <td>-89.05</td>\n",
              "      <td>-4348.06</td>\n",
              "      <td>8.078772</td>\n",
              "      <td>2013</td>\n",
              "      <td>533</td>\n",
              "      <td>...</td>\n",
              "      <td>0.228758</td>\n",
              "      <td>2.892562</td>\n",
              "      <td>0.0</td>\n",
              "      <td>446.326494</td>\n",
              "      <td>0.341517</td>\n",
              "      <td>107.749249</td>\n",
              "      <td>1144.561295</td>\n",
              "      <td>2.748578</td>\n",
              "      <td>207116.393388</td>\n",
              "      <td>87.646860</td>\n",
              "      <td>1549.352273</td>\n",
              "      <td>2.0</td>\n",
              "      <td>1.228758</td>\n",
              "      <td>3.892562</td>\n",
              "      <td>1.0</td>\n",
              "      <td>2375.031040</td>\n",
              "      <td>0.341517</td>\n",
              "      <td>35.752575</td>\n",
              "      <td>81.886364</td>\n",
              "      <td>0.056818</td>\n",
              "      <td>78244.147727</td>\n",
              "      <td>21.711672</td>\n",
              "      <td>32.835227</td>\n",
              "      <td>43.014828</td>\n",
              "      <td>95.295455</td>\n",
              "      <td>1.142045</td>\n",
              "      <td>94297.693182</td>\n",
              "      <td>24.862204</td>\n",
              "      <td>39.937500</td>\n",
              "      <td>10.478949</td>\n",
              "      <td>33.359071</td>\n",
              "      <td>0.009611</td>\n",
              "      <td>23196.832997</td>\n",
              "      <td>8.582874</td>\n",
              "      <td>7.262253</td>\n",
              "      <td>19.761364</td>\n",
              "      <td>0.028409</td>\n",
              "      <td>16053.545455</td>\n",
              "      <td>5.015611</td>\n",
              "      <td>6.281250</td>\n",
              "    </tr>\n",
              "    <tr>\n",
              "      <th>3</th>\n",
              "      <td>7</td>\n",
              "      <td>13</td>\n",
              "      <td>644</td>\n",
              "      <td>1050</td>\n",
              "      <td>0</td>\n",
              "      <td>X</td>\n",
              "      <td>2013-05-19</td>\n",
              "      <td>2013-07-05</td>\n",
              "      <td>47.0</td>\n",
              "      <td>1.544180</td>\n",
              "      <td>6.714286</td>\n",
              "      <td>0</td>\n",
              "      <td>454</td>\n",
              "      <td>29</td>\n",
              "      <td>454</td>\n",
              "      <td>12</td>\n",
              "      <td>454</td>\n",
              "      <td>37</td>\n",
              "      <td>1.325991</td>\n",
              "      <td>5</td>\n",
              "      <td>1</td>\n",
              "      <td>602</td>\n",
              "      <td>0.748440</td>\n",
              "      <td>98.992401</td>\n",
              "      <td>708.48</td>\n",
              "      <td>13.89</td>\n",
              "      <td>44942.55</td>\n",
              "      <td>96.414604</td>\n",
              "      <td>-18.019978</td>\n",
              "      <td>0.0</td>\n",
              "      <td>-312.03</td>\n",
              "      <td>-8181.07</td>\n",
              "      <td>29.802598</td>\n",
              "      <td>-0.392291</td>\n",
              "      <td>0.0</td>\n",
              "      <td>-89.05</td>\n",
              "      <td>-178.10</td>\n",
              "      <td>5.903929</td>\n",
              "      <td>454</td>\n",
              "      <td>216</td>\n",
              "      <td>...</td>\n",
              "      <td>0.227241</td>\n",
              "      <td>3.800449</td>\n",
              "      <td>0.0</td>\n",
              "      <td>472.219405</td>\n",
              "      <td>0.336097</td>\n",
              "      <td>104.884490</td>\n",
              "      <td>1102.213318</td>\n",
              "      <td>2.512275</td>\n",
              "      <td>215661.691360</td>\n",
              "      <td>90.574618</td>\n",
              "      <td>1634.909091</td>\n",
              "      <td>2.0</td>\n",
              "      <td>1.227241</td>\n",
              "      <td>4.800449</td>\n",
              "      <td>1.0</td>\n",
              "      <td>2536.637587</td>\n",
              "      <td>0.336097</td>\n",
              "      <td>33.993986</td>\n",
              "      <td>81.390909</td>\n",
              "      <td>0.027273</td>\n",
              "      <td>81239.963636</td>\n",
              "      <td>21.280800</td>\n",
              "      <td>30.863636</td>\n",
              "      <td>41.465359</td>\n",
              "      <td>96.563636</td>\n",
              "      <td>1.136364</td>\n",
              "      <td>98964.600000</td>\n",
              "      <td>24.752222</td>\n",
              "      <td>37.595455</td>\n",
              "      <td>9.946377</td>\n",
              "      <td>32.717215</td>\n",
              "      <td>0.009756</td>\n",
              "      <td>24079.177117</td>\n",
              "      <td>8.120898</td>\n",
              "      <td>7.471372</td>\n",
              "      <td>21.227273</td>\n",
              "      <td>0.045455</td>\n",
              "      <td>17724.636364</td>\n",
              "      <td>5.342533</td>\n",
              "      <td>6.409091</td>\n",
              "    </tr>\n",
              "    <tr>\n",
              "      <th>4</th>\n",
              "      <td>9</td>\n",
              "      <td>8</td>\n",
              "      <td>1017</td>\n",
              "      <td>1489</td>\n",
              "      <td>0</td>\n",
              "      <td>X</td>\n",
              "      <td>2013-02-16</td>\n",
              "      <td>2013-04-05</td>\n",
              "      <td>48.0</td>\n",
              "      <td>1.577034</td>\n",
              "      <td>6.857143</td>\n",
              "      <td>0</td>\n",
              "      <td>1000</td>\n",
              "      <td>29</td>\n",
              "      <td>1000</td>\n",
              "      <td>12</td>\n",
              "      <td>1000</td>\n",
              "      <td>45</td>\n",
              "      <td>139.702000</td>\n",
              "      <td>15420</td>\n",
              "      <td>1</td>\n",
              "      <td>139702</td>\n",
              "      <td>1241.859979</td>\n",
              "      <td>111.164700</td>\n",
              "      <td>1424.80</td>\n",
              "      <td>8.90</td>\n",
              "      <td>111164.70</td>\n",
              "      <td>138.614915</td>\n",
              "      <td>-22.526890</td>\n",
              "      <td>0.0</td>\n",
              "      <td>-320.22</td>\n",
              "      <td>-22526.89</td>\n",
              "      <td>37.597827</td>\n",
              "      <td>-0.453800</td>\n",
              "      <td>0.0</td>\n",
              "      <td>-53.43</td>\n",
              "      <td>-453.80</td>\n",
              "      <td>3.628797</td>\n",
              "      <td>1000</td>\n",
              "      <td>327</td>\n",
              "      <td>...</td>\n",
              "      <td>0.226602</td>\n",
              "      <td>7.134559</td>\n",
              "      <td>0.0</td>\n",
              "      <td>420.519184</td>\n",
              "      <td>0.423484</td>\n",
              "      <td>105.843326</td>\n",
              "      <td>1094.247330</td>\n",
              "      <td>2.081386</td>\n",
              "      <td>188928.049606</td>\n",
              "      <td>91.748727</td>\n",
              "      <td>1423.911504</td>\n",
              "      <td>2.0</td>\n",
              "      <td>1.226602</td>\n",
              "      <td>8.134559</td>\n",
              "      <td>1.0</td>\n",
              "      <td>2234.076706</td>\n",
              "      <td>0.423484</td>\n",
              "      <td>34.353447</td>\n",
              "      <td>84.433628</td>\n",
              "      <td>0.008850</td>\n",
              "      <td>69948.008850</td>\n",
              "      <td>23.033536</td>\n",
              "      <td>30.787611</td>\n",
              "      <td>42.036472</td>\n",
              "      <td>99.300885</td>\n",
              "      <td>1.053097</td>\n",
              "      <td>85091.185841</td>\n",
              "      <td>26.631779</td>\n",
              "      <td>38.053097</td>\n",
              "      <td>9.919116</td>\n",
              "      <td>33.885619</td>\n",
              "      <td>0.000378</td>\n",
              "      <td>20239.745503</td>\n",
              "      <td>8.361278</td>\n",
              "      <td>7.683024</td>\n",
              "      <td>20.911504</td>\n",
              "      <td>0.017699</td>\n",
              "      <td>15143.176991</td>\n",
              "      <td>5.489378</td>\n",
              "      <td>6.699115</td>\n",
              "    </tr>\n",
              "  </tbody>\n",
              "</table>\n",
              "<p>5 rows × 188 columns</p>\n",
              "</div>"
            ],
            "text/plain": [
              "   id  ...  Transaction_coupon_to_item_redeemed_quantile_y\n",
              "0   1  ...                                        6.024590\n",
              "1   2  ...                                        6.447619\n",
              "2   6  ...                                        6.281250\n",
              "3   7  ...                                        6.409091\n",
              "4   9  ...                                        6.699115\n",
              "\n",
              "[5 rows x 188 columns]"
            ]
          },
          "metadata": {
            "tags": []
          },
          "execution_count": 192
        }
      ]
    },
    {
      "cell_type": "code",
      "metadata": {
        "colab_type": "code",
        "id": "ZHvsiPgNXtvw",
        "colab": {
          "base_uri": "https://localhost:8080/",
          "height": 51
        },
        "outputId": "3610d05c-253e-404a-b29c-9a1fda0eddaf"
      },
      "source": [
        "import seaborn as sns\n",
        "%matplotlib inline\n",
        "import matplotlib.pyplot as plt\n",
        "plt.figure(figsize=(15,15))\n",
        "\n",
        "# sns.heatmap(df_train.corr())"
      ],
      "execution_count": 193,
      "outputs": [
        {
          "output_type": "execute_result",
          "data": {
            "text/plain": [
              "<Figure size 1080x1080 with 0 Axes>"
            ]
          },
          "metadata": {
            "tags": []
          },
          "execution_count": 193
        },
        {
          "output_type": "display_data",
          "data": {
            "text/plain": [
              "<Figure size 1080x1080 with 0 Axes>"
            ]
          },
          "metadata": {
            "tags": []
          }
        }
      ]
    },
    {
      "cell_type": "code",
      "metadata": {
        "colab_type": "code",
        "id": "uC91sTq_X_Z4",
        "colab": {}
      },
      "source": [
        "# !pip install lightgbm"
      ],
      "execution_count": 194,
      "outputs": []
    },
    {
      "cell_type": "code",
      "metadata": {
        "colab_type": "code",
        "id": "1OBIcpzFXy9x",
        "colab": {}
      },
      "source": [
        "# from catboost import CatBoostClassifier,Pool, cv\n",
        "from lightgbm import LGBMClassifier\n",
        "from sklearn.model_selection import StratifiedKFold,train_test_split\n",
        "from sklearn.linear_model import LogisticRegression\n",
        "from sklearn.ensemble import RandomForestClassifier\n",
        "from sklearn.metrics import accuracy_score,confusion_matrix,roc_auc_score"
      ],
      "execution_count": 195,
      "outputs": []
    },
    {
      "cell_type": "code",
      "metadata": {
        "colab_type": "code",
        "id": "fLwfhsC4X2HV",
        "colab": {
          "base_uri": "https://localhost:8080/",
          "height": 238
        },
        "outputId": "032635dc-758e-4c98-cf6b-f32c7cc220a3"
      },
      "source": [
        "train.columns"
      ],
      "execution_count": 196,
      "outputs": [
        {
          "output_type": "execute_result",
          "data": {
            "text/plain": [
              "Index(['id', 'campaign_id_x', 'coupon_id', 'customer_id_x',\n",
              "       'redemption_status', 'campaign_type', 'start_date', 'end_date',\n",
              "       'Camp_Duration_by_days_x', 'Camp_Duration_by_month_x',\n",
              "       ...\n",
              "       'Transaction_total_discount_max_y', 'Transaction_total_discount_min_y',\n",
              "       'Transaction_total_discount_sum_y', 'Transaction_total_discount_std_y',\n",
              "       'Transaction_coupon_to_item_redeemed_mean_y',\n",
              "       'Transaction_coupon_to_item_redeemed_max_y',\n",
              "       'Transaction_coupon_to_item_redeemed_min_y',\n",
              "       'Transaction_coupon_to_item_redeemed_sum_y',\n",
              "       'Transaction_coupon_to_item_redeemed_std_y',\n",
              "       'Transaction_coupon_to_item_redeemed_quantile_y'],\n",
              "      dtype='object', length=188)"
            ]
          },
          "metadata": {
            "tags": []
          },
          "execution_count": 196
        }
      ]
    },
    {
      "cell_type": "code",
      "metadata": {
        "colab_type": "code",
        "id": "NcnV4ls8YKd0",
        "colab": {}
      },
      "source": [
        "col_to_drop=['id','redemption_status','start_date','end_date']\n",
        "\n",
        "X,y=train.drop(col_to_drop,axis=1),train['redemption_status']"
      ],
      "execution_count": 197,
      "outputs": []
    },
    {
      "cell_type": "code",
      "metadata": {
        "colab_type": "code",
        "id": "2LdOyiSjYZuC",
        "colab": {}
      },
      "source": [
        "X_train,X_val,y_train,y_val = train_test_split(X,y,test_size=0.3,random_state = 1994,stratify=y)"
      ],
      "execution_count": 198,
      "outputs": []
    },
    {
      "cell_type": "code",
      "metadata": {
        "colab_type": "code",
        "id": "_kWZOcPpYo7L",
        "colab": {}
      },
      "source": [
        "col=['campaign_id', 'coupon_id', 'customer_id', 'campaign_type','within_date', 'within_date_discount']\n"
      ],
      "execution_count": 199,
      "outputs": []
    },
    {
      "cell_type": "code",
      "metadata": {
        "id": "sZNLHWwiVm4h",
        "colab_type": "code",
        "colab": {}
      },
      "source": [
        "import numpy as np\n",
        "import pandas as pd\n",
        "from time import gmtime, strftime\n",
        "import gc\n",
        "\n",
        "from sklearn.model_selection import (train_test_split, GridSearchCV)\n",
        "from sklearn.preprocessing import LabelEncoder\n",
        "import lightgbm as lgb\n",
        "from tqdm import tqdm\n",
        "from sklearn.metrics import (roc_curve, auc, accuracy_score)"
      ],
      "execution_count": 212,
      "outputs": []
    },
    {
      "cell_type": "markdown",
      "metadata": {
        "id": "-9MvdY9N7LFl",
        "colab_type": "text"
      },
      "source": [
        "- Grid Search CV code below"
      ]
    },
    {
      "cell_type": "code",
      "metadata": {
        "id": "Kod1WncPVCL1",
        "colab_type": "code",
        "colab": {}
      },
      "source": [
        "\n",
        "# # Initiate classifier to use\n",
        "# mdl = lgb.LGBMClassifier(boosting_type= 'gbdt', \n",
        "#           objective = 'binary', \n",
        "#           n_jobs = 5, \n",
        "#           silent = True,\n",
        "#           max_depth = params['max_depth'],\n",
        "#           lambda_l1 = params['lambda_l1'],\n",
        "#           lambda_l2 = params['lambda_l2'],\n",
        "#           max_bin = params['max_bin'], \n",
        "#           subsample_for_bin = params['subsample_for_bin'],\n",
        "#           subsample = params['subsample'], \n",
        "#           min_split_gain = params['min_split_gain'], \n",
        "#           min_child_weight = params['min_child_weight'], \n",
        "#           min_child_samples = params['min_child_samples'])\n",
        "\n",
        "# # To view the default model parameters:\n",
        "# mdl.get_params().keys()\n",
        "\n",
        "\n",
        "\n",
        "\n",
        "# gridParams = {\n",
        "#     'learning_rate': [0.005, 0.01],\n",
        "#     'n_estimators': [8,16,24],\n",
        "#     'num_leaves': [6,8,12,16], # large num_leaves helps improve accuracy but might lead to over-fitting\n",
        "#     'boosting_type' : ['gbdt', 'dart'], # for better accuracy -> try dart\n",
        "#     'objective' : ['binary'],\n",
        "#     'max_bin':[255, 510], # large max_bin helps improve accuracy but might slow down training progress\n",
        "#     'random_state' : [500],\n",
        "#     'colsample_bytree' : [0.64, 0.65, 0.66],\n",
        "#     'subsample' : [0.7,0.75],\n",
        "#     'reg_alpha' : [1,1.2],\n",
        "#     'reg_lambda' : [1,1.2,1.4],\n",
        "#     }\n",
        "\n",
        "# grid = GridSearchCV(mdl, gridParams, verbose=1, cv=10, n_jobs=-1)\n",
        "# # Run the grid\n",
        "# grid.fit(X, y)\n",
        "\n",
        "# # Print the best parameters found\n",
        "# print(grid.best_params_)\n",
        "# print(grid.best_score_)"
      ],
      "execution_count": 215,
      "outputs": []
    },
    {
      "cell_type": "code",
      "metadata": {
        "id": "tlkd_Xggaa7j",
        "colab_type": "code",
        "colab": {}
      },
      "source": [
        ""
      ],
      "execution_count": 215,
      "outputs": []
    },
    {
      "cell_type": "markdown",
      "metadata": {
        "colab_type": "text",
        "id": "M-lYzSSYZ08P"
      },
      "source": [
        "**Stratified KFold Cross Validation & LGBM**"
      ]
    },
    {
      "cell_type": "code",
      "metadata": {
        "colab_type": "code",
        "id": "-Muy_tBMZ8Xa",
        "colab": {
          "base_uri": "https://localhost:8080/",
          "height": 1000
        },
        "outputId": "f6f13195-9591-440a-efc8-daec24ea4f14"
      },
      "source": [
        "err=[]\n",
        "y_pred_tot=[]\n",
        "\n",
        "from sklearn.model_selection import KFold,StratifiedKFold\n",
        "fold=StratifiedKFold(n_splits=100,shuffle=True,random_state=1994)\n",
        "i=1\n",
        "for train_index, test_index in fold.split(X,y):\n",
        "    X_train, X_test = X.iloc[train_index], X.iloc[test_index]\n",
        "    y_train, y_test = y[train_index], y[test_index]\n",
        "    m=LGBMClassifier(n_estimators=5000,random_state=1994,learning_rate=0.03,lambda_l2 = 10, reg_alpha=0.2,colsample_bytree=0.5)\n",
        "    m.fit(X_train,y_train,eval_set=[(X_train,y_train),(X_test, y_test)],eval_metric='auc', early_stopping_rounds=200,verbose=200)\n",
        "    \n",
        "    preds=m.predict_proba(X_test,num_iteration=m.best_iteration_)[:,-1]    \n",
        "    \n",
        "    print(\"err: \",roc_auc_score(y_test,preds))\n",
        "    err.append(roc_auc_score(y_test,preds))"
      ],
      "execution_count": 217,
      "outputs": [
        {
          "output_type": "stream",
          "text": [
            "Training until validation scores don't improve for 200 rounds.\n",
            "[200]\ttraining's auc: 0.997968\ttraining's binary_logloss: 0.0129386\tvalid_1's auc: 0.974076\tvalid_1's binary_logloss: 0.0298417\n",
            "[400]\ttraining's auc: 0.999685\ttraining's binary_logloss: 0.00835354\tvalid_1's auc: 0.975731\tvalid_1's binary_logloss: 0.0291771\n",
            "Early stopping, best iteration is:\n",
            "[378]\ttraining's auc: 0.999606\ttraining's binary_logloss: 0.00870978\tvalid_1's auc: 0.975547\tvalid_1's binary_logloss: 0.0290371\n",
            "err:  0.9755469755469756\n",
            "Training until validation scores don't improve for 200 rounds.\n",
            "[200]\ttraining's auc: 0.997913\ttraining's binary_logloss: 0.0130001\tvalid_1's auc: 0.970951\tvalid_1's binary_logloss: 0.0274659\n",
            "[400]\ttraining's auc: 0.999646\ttraining's binary_logloss: 0.00842417\tvalid_1's auc: 0.974995\tvalid_1's binary_logloss: 0.0259998\n",
            "[600]\ttraining's auc: 0.999947\ttraining's binary_logloss: 0.00598705\tvalid_1's auc: 0.97996\tvalid_1's binary_logloss: 0.0253109\n",
            "Early stopping, best iteration is:\n",
            "[591]\ttraining's auc: 0.999943\ttraining's binary_logloss: 0.00606768\tvalid_1's auc: 0.980327\tvalid_1's binary_logloss: 0.025247\n",
            "err:  0.9803272660415517\n",
            "Training until validation scores don't improve for 200 rounds.\n",
            "[200]\ttraining's auc: 0.997948\ttraining's binary_logloss: 0.0130141\tvalid_1's auc: 0.989704\tvalid_1's binary_logloss: 0.0228932\n",
            "Early stopping, best iteration is:\n",
            "[157]\ttraining's auc: 0.996951\ttraining's binary_logloss: 0.0147205\tvalid_1's auc: 0.990256\tvalid_1's binary_logloss: 0.0229433\n",
            "err:  0.9902555616841332\n",
            "Training until validation scores don't improve for 200 rounds.\n",
            "[200]\ttraining's auc: 0.997964\ttraining's binary_logloss: 0.0130133\tvalid_1's auc: 0.986946\tvalid_1's binary_logloss: 0.0223224\n",
            "[400]\ttraining's auc: 0.999681\ttraining's binary_logloss: 0.00839786\tvalid_1's auc: 0.987498\tvalid_1's binary_logloss: 0.0231243\n",
            "Early stopping, best iteration is:\n",
            "[229]\ttraining's auc: 0.998409\ttraining's binary_logloss: 0.0121049\tvalid_1's auc: 0.987865\tvalid_1's binary_logloss: 0.0220813\n",
            "err:  0.987865416436845\n",
            "Training until validation scores don't improve for 200 rounds.\n",
            "[200]\ttraining's auc: 0.997926\ttraining's binary_logloss: 0.0130251\tvalid_1's auc: 0.991726\tvalid_1's binary_logloss: 0.0207689\n",
            "[400]\ttraining's auc: 0.999664\ttraining's binary_logloss: 0.008428\tvalid_1's auc: 0.991543\tvalid_1's binary_logloss: 0.0208186\n",
            "Early stopping, best iteration is:\n",
            "[347]\ttraining's auc: 0.999436\ttraining's binary_logloss: 0.00933627\tvalid_1's auc: 0.992646\tvalid_1's binary_logloss: 0.0205901\n",
            "err:  0.9926457069314213\n",
            "Training until validation scores don't improve for 200 rounds.\n",
            "[200]\ttraining's auc: 0.997947\ttraining's binary_logloss: 0.0130106\tvalid_1's auc: 0.98952\tvalid_1's binary_logloss: 0.0230566\n",
            "[400]\ttraining's auc: 0.999674\ttraining's binary_logloss: 0.00840876\tvalid_1's auc: 0.991726\tvalid_1's binary_logloss: 0.021589\n",
            "Early stopping, best iteration is:\n",
            "[353]\ttraining's auc: 0.999484\ttraining's binary_logloss: 0.00921086\tvalid_1's auc: 0.992094\tvalid_1's binary_logloss: 0.0216072\n",
            "err:  0.9920941349512779\n",
            "Training until validation scores don't improve for 200 rounds.\n",
            "[200]\ttraining's auc: 0.997962\ttraining's binary_logloss: 0.013026\tvalid_1's auc: 0.993749\tvalid_1's binary_logloss: 0.015721\n",
            "[400]\ttraining's auc: 0.999681\ttraining's binary_logloss: 0.00842744\tvalid_1's auc: 0.994117\tvalid_1's binary_logloss: 0.0152165\n",
            "Early stopping, best iteration is:\n",
            "[317]\ttraining's auc: 0.999286\ttraining's binary_logloss: 0.00993891\tvalid_1's auc: 0.993749\tvalid_1's binary_logloss: 0.0150966\n",
            "err:  0.9937488508917081\n",
            "Training until validation scores don't improve for 200 rounds.\n",
            "[200]\ttraining's auc: 0.99797\ttraining's binary_logloss: 0.012958\tvalid_1's auc: 0.978305\tvalid_1's binary_logloss: 0.0263738\n",
            "[400]\ttraining's auc: 0.999678\ttraining's binary_logloss: 0.00835962\tvalid_1's auc: 0.97996\tvalid_1's binary_logloss: 0.0271614\n",
            "Early stopping, best iteration is:\n",
            "[236]\ttraining's auc: 0.99852\ttraining's binary_logloss: 0.0118487\tvalid_1's auc: 0.97904\tvalid_1's binary_logloss: 0.0262001\n",
            "err:  0.9790402647545505\n",
            "Training until validation scores don't improve for 200 rounds.\n",
            "[200]\ttraining's auc: 0.997965\ttraining's binary_logloss: 0.0130029\tvalid_1's auc: 0.992462\tvalid_1's binary_logloss: 0.0205741\n",
            "[400]\ttraining's auc: 0.999681\ttraining's binary_logloss: 0.0083868\tvalid_1's auc: 0.992094\tvalid_1's binary_logloss: 0.020959\n",
            "Early stopping, best iteration is:\n",
            "[274]\ttraining's auc: 0.998947\ttraining's binary_logloss: 0.0108731\tvalid_1's auc: 0.99283\tvalid_1's binary_logloss: 0.0203412\n",
            "err:  0.9928295642581357\n",
            "Training until validation scores don't improve for 200 rounds.\n",
            "[200]\ttraining's auc: 0.997926\ttraining's binary_logloss: 0.0130744\tvalid_1's auc: 1\tvalid_1's binary_logloss: 0.0109232\n",
            "Early stopping, best iteration is:\n",
            "[173]\ttraining's auc: 0.997364\ttraining's binary_logloss: 0.0140841\tvalid_1's auc: 1\tvalid_1's binary_logloss: 0.0112697\n",
            "err:  1.0\n",
            "Training until validation scores don't improve for 200 rounds.\n",
            "[200]\ttraining's auc: 0.997913\ttraining's binary_logloss: 0.0130852\tvalid_1's auc: 0.997426\tvalid_1's binary_logloss: 0.0138562\n",
            "[400]\ttraining's auc: 0.999677\ttraining's binary_logloss: 0.00843038\tvalid_1's auc: 0.997426\tvalid_1's binary_logloss: 0.0125555\n",
            "[600]\ttraining's auc: 0.999951\ttraining's binary_logloss: 0.00599294\tvalid_1's auc: 0.997978\tvalid_1's binary_logloss: 0.0121727\n",
            "Early stopping, best iteration is:\n",
            "[456]\ttraining's auc: 0.999811\ttraining's binary_logloss: 0.007609\tvalid_1's auc: 0.998345\tvalid_1's binary_logloss: 0.0123183\n",
            "err:  0.9983452840595698\n",
            "Training until validation scores don't improve for 200 rounds.\n",
            "[200]\ttraining's auc: 0.99794\ttraining's binary_logloss: 0.0129627\tvalid_1's auc: 0.984188\tvalid_1's binary_logloss: 0.0253346\n",
            "[400]\ttraining's auc: 0.999688\ttraining's binary_logloss: 0.00834828\tvalid_1's auc: 0.984372\tvalid_1's binary_logloss: 0.0245883\n",
            "[600]\ttraining's auc: 0.999948\ttraining's binary_logloss: 0.00597436\tvalid_1's auc: 0.986027\tvalid_1's binary_logloss: 0.0245418\n",
            "Early stopping, best iteration is:\n",
            "[515]\ttraining's auc: 0.99989\ttraining's binary_logloss: 0.00682384\tvalid_1's auc: 0.986027\tvalid_1's binary_logloss: 0.0240834\n",
            "err:  0.9860268431697002\n",
            "Training until validation scores don't improve for 200 rounds.\n",
            "[200]\ttraining's auc: 0.997948\ttraining's binary_logloss: 0.0130013\tvalid_1's auc: 0.989704\tvalid_1's binary_logloss: 0.0212286\n",
            "Early stopping, best iteration is:\n",
            "[15]\ttraining's auc: 0.984854\ttraining's binary_logloss: 0.0351631\tvalid_1's auc: 0.992462\tvalid_1's binary_logloss: 0.0339868\n",
            "err:  0.9924618496047066\n",
            "Training until validation scores don't improve for 200 rounds.\n",
            "[200]\ttraining's auc: 0.997966\ttraining's binary_logloss: 0.013025\tvalid_1's auc: 0.995587\tvalid_1's binary_logloss: 0.0170809\n",
            "[400]\ttraining's auc: 0.999674\ttraining's binary_logloss: 0.008424\tvalid_1's auc: 0.99761\tvalid_1's binary_logloss: 0.0148578\n",
            "[600]\ttraining's auc: 0.999948\ttraining's binary_logloss: 0.00600074\tvalid_1's auc: 0.998161\tvalid_1's binary_logloss: 0.0141065\n",
            "Early stopping, best iteration is:\n",
            "[464]\ttraining's auc: 0.99983\ttraining's binary_logloss: 0.00748509\tvalid_1's auc: 0.998161\tvalid_1's binary_logloss: 0.0144882\n",
            "err:  0.9981614267328554\n",
            "Training until validation scores don't improve for 200 rounds.\n",
            "[200]\ttraining's auc: 0.997935\ttraining's binary_logloss: 0.0130026\tvalid_1's auc: 0.986578\tvalid_1's binary_logloss: 0.0207678\n",
            "[400]\ttraining's auc: 0.999685\ttraining's binary_logloss: 0.0083838\tvalid_1's auc: 0.987498\tvalid_1's binary_logloss: 0.0208553\n",
            "Early stopping, best iteration is:\n",
            "[283]\ttraining's auc: 0.999027\ttraining's binary_logloss: 0.0106539\tvalid_1's auc: 0.987498\tvalid_1's binary_logloss: 0.0202735\n",
            "err:  0.9874977017834161\n",
            "Training until validation scores don't improve for 200 rounds.\n",
            "[200]\ttraining's auc: 0.997983\ttraining's binary_logloss: 0.0129855\tvalid_1's auc: 0.982717\tvalid_1's binary_logloss: 0.0234454\n",
            "Early stopping, best iteration is:\n",
            "[80]\ttraining's auc: 0.993772\ttraining's binary_logloss: 0.019848\tvalid_1's auc: 0.983453\tvalid_1's binary_logloss: 0.0253541\n",
            "err:  0.9834528405956977\n",
            "Training until validation scores don't improve for 200 rounds.\n",
            "[200]\ttraining's auc: 0.997959\ttraining's binary_logloss: 0.0130281\tvalid_1's auc: 0.992462\tvalid_1's binary_logloss: 0.0191976\n",
            "[400]\ttraining's auc: 0.999668\ttraining's binary_logloss: 0.00841521\tvalid_1's auc: 0.993381\tvalid_1's binary_logloss: 0.0181204\n",
            "[600]\ttraining's auc: 0.999944\ttraining's binary_logloss: 0.00600541\tvalid_1's auc: 0.993381\tvalid_1's binary_logloss: 0.018127\n",
            "Early stopping, best iteration is:\n",
            "[544]\ttraining's auc: 0.999913\ttraining's binary_logloss: 0.00655627\tvalid_1's auc: 0.993933\tvalid_1's binary_logloss: 0.0180044\n",
            "err:  0.9939327082184225\n",
            "Training until validation scores don't improve for 200 rounds.\n",
            "[200]\ttraining's auc: 0.997909\ttraining's binary_logloss: 0.013029\tvalid_1's auc: 0.986762\tvalid_1's binary_logloss: 0.0227649\n",
            "[400]\ttraining's auc: 0.999665\ttraining's binary_logloss: 0.0083764\tvalid_1's auc: 0.986762\tvalid_1's binary_logloss: 0.0221067\n",
            "Early stopping, best iteration is:\n",
            "[379]\ttraining's auc: 0.99959\ttraining's binary_logloss: 0.00872338\tvalid_1's auc: 0.987865\tvalid_1's binary_logloss: 0.0221423\n",
            "err:  0.987865416436845\n",
            "Training until validation scores don't improve for 200 rounds.\n",
            "[200]\ttraining's auc: 0.997975\ttraining's binary_logloss: 0.0129709\tvalid_1's auc: 0.986027\tvalid_1's binary_logloss: 0.0253969\n",
            "Early stopping, best iteration is:\n",
            "[178]\ttraining's auc: 0.997552\ttraining's binary_logloss: 0.0137598\tvalid_1's auc: 0.985843\tvalid_1's binary_logloss: 0.0252847\n",
            "err:  0.9858429858429858\n",
            "Training until validation scores don't improve for 200 rounds.\n",
            "[200]\ttraining's auc: 0.99799\ttraining's binary_logloss: 0.0130229\tvalid_1's auc: 0.989704\tvalid_1's binary_logloss: 0.0202104\n",
            "[400]\ttraining's auc: 0.999688\ttraining's binary_logloss: 0.00838774\tvalid_1's auc: 0.990623\tvalid_1's binary_logloss: 0.019167\n",
            "Early stopping, best iteration is:\n",
            "[330]\ttraining's auc: 0.999377\ttraining's binary_logloss: 0.00964063\tvalid_1's auc: 0.990807\tvalid_1's binary_logloss: 0.0194224\n",
            "err:  0.9908071336642765\n",
            "Training until validation scores don't improve for 200 rounds.\n",
            "[200]\ttraining's auc: 0.997943\ttraining's binary_logloss: 0.0130039\tvalid_1's auc: 0.988785\tvalid_1's binary_logloss: 0.0196613\n",
            "[400]\ttraining's auc: 0.999677\ttraining's binary_logloss: 0.0083892\tvalid_1's auc: 0.990623\tvalid_1's binary_logloss: 0.0187165\n",
            "Early stopping, best iteration is:\n",
            "[399]\ttraining's auc: 0.999674\ttraining's binary_logloss: 0.00840623\tvalid_1's auc: 0.990623\tvalid_1's binary_logloss: 0.0186765\n",
            "err:  0.9906232763375621\n",
            "Training until validation scores don't improve for 200 rounds.\n",
            "[200]\ttraining's auc: 0.998017\ttraining's binary_logloss: 0.0129497\tvalid_1's auc: 0.990623\tvalid_1's binary_logloss: 0.020362\n",
            "Early stopping, best iteration is:\n",
            "[186]\ttraining's auc: 0.997759\ttraining's binary_logloss: 0.0134555\tvalid_1's auc: 0.990623\tvalid_1's binary_logloss: 0.0205461\n",
            "err:  0.990623276337562\n",
            "Training until validation scores don't improve for 200 rounds.\n",
            "[200]\ttraining's auc: 0.997876\ttraining's binary_logloss: 0.0129468\tvalid_1's auc: 0.975915\tvalid_1's binary_logloss: 0.0295891\n",
            "[400]\ttraining's auc: 0.999643\ttraining's binary_logloss: 0.00837803\tvalid_1's auc: 0.980327\tvalid_1's binary_logloss: 0.0301342\n",
            "Early stopping, best iteration is:\n",
            "[231]\ttraining's auc: 0.998366\ttraining's binary_logloss: 0.0119748\tvalid_1's auc: 0.977202\tvalid_1's binary_logloss: 0.0294262\n",
            "err:  0.9772016914874058\n",
            "Training until validation scores don't improve for 200 rounds.\n",
            "[200]\ttraining's auc: 0.997907\ttraining's binary_logloss: 0.013036\tvalid_1's auc: 0.988233\tvalid_1's binary_logloss: 0.0240482\n",
            "Early stopping, best iteration is:\n",
            "[53]\ttraining's auc: 0.991773\ttraining's binary_logloss: 0.0232152\tvalid_1's auc: 0.988601\tvalid_1's binary_logloss: 0.0282169\n",
            "err:  0.9886008457437029\n",
            "Training until validation scores don't improve for 200 rounds.\n",
            "[200]\ttraining's auc: 0.997952\ttraining's binary_logloss: 0.0130303\tvalid_1's auc: 0.99191\tvalid_1's binary_logloss: 0.0202711\n",
            "[400]\ttraining's auc: 0.999674\ttraining's binary_logloss: 0.00842411\tvalid_1's auc: 0.991359\tvalid_1's binary_logloss: 0.0199427\n",
            "Early stopping, best iteration is:\n",
            "[232]\ttraining's auc: 0.998444\ttraining's binary_logloss: 0.0120231\tvalid_1's auc: 0.992462\tvalid_1's binary_logloss: 0.0198672\n",
            "err:  0.9924618496047067\n",
            "Training until validation scores don't improve for 200 rounds.\n",
            "[200]\ttraining's auc: 0.997961\ttraining's binary_logloss: 0.0129792\tvalid_1's auc: 0.979592\tvalid_1's binary_logloss: 0.0260449\n",
            "[400]\ttraining's auc: 0.999683\ttraining's binary_logloss: 0.00836758\tvalid_1's auc: 0.979776\tvalid_1's binary_logloss: 0.0261826\n",
            "Early stopping, best iteration is:\n",
            "[246]\ttraining's auc: 0.998633\ttraining's binary_logloss: 0.0115762\tvalid_1's auc: 0.980695\tvalid_1's binary_logloss: 0.0258444\n",
            "err:  0.9806949806949806\n",
            "Training until validation scores don't improve for 200 rounds.\n",
            "[200]\ttraining's auc: 0.997913\ttraining's binary_logloss: 0.0130669\tvalid_1's auc: 0.991543\tvalid_1's binary_logloss: 0.0182446\n",
            "Early stopping, best iteration is:\n",
            "[92]\ttraining's auc: 0.994496\ttraining's binary_logloss: 0.0187311\tvalid_1's auc: 0.992646\tvalid_1's binary_logloss: 0.0194751\n",
            "err:  0.9926457069314212\n",
            "Training until validation scores don't improve for 200 rounds.\n",
            "[200]\ttraining's auc: 0.997932\ttraining's binary_logloss: 0.012986\tvalid_1's auc: 0.992094\tvalid_1's binary_logloss: 0.0206366\n",
            "[400]\ttraining's auc: 0.999677\ttraining's binary_logloss: 0.00840497\tvalid_1's auc: 0.992462\tvalid_1's binary_logloss: 0.0197932\n",
            "Early stopping, best iteration is:\n",
            "[393]\ttraining's auc: 0.999653\ttraining's binary_logloss: 0.00851697\tvalid_1's auc: 0.99283\tvalid_1's binary_logloss: 0.0197949\n",
            "err:  0.9928295642581356\n",
            "Training until validation scores don't improve for 200 rounds.\n",
            "[200]\ttraining's auc: 0.997911\ttraining's binary_logloss: 0.0129683\tvalid_1's auc: 0.972054\tvalid_1's binary_logloss: 0.0318954\n",
            "[400]\ttraining's auc: 0.999672\ttraining's binary_logloss: 0.00837439\tvalid_1's auc: 0.975363\tvalid_1's binary_logloss: 0.0327892\n",
            "Early stopping, best iteration is:\n",
            "[222]\ttraining's auc: 0.99828\ttraining's binary_logloss: 0.012262\tvalid_1's auc: 0.973341\tvalid_1's binary_logloss: 0.0315865\n",
            "err:  0.9733406876264018\n",
            "Training until validation scores don't improve for 200 rounds.\n",
            "[200]\ttraining's auc: 0.997905\ttraining's binary_logloss: 0.013073\tvalid_1's auc: 0.99761\tvalid_1's binary_logloss: 0.0145383\n",
            "[400]\ttraining's auc: 0.999657\ttraining's binary_logloss: 0.0084681\tvalid_1's auc: 0.998161\tvalid_1's binary_logloss: 0.012483\n",
            "[600]\ttraining's auc: 0.999946\ttraining's binary_logloss: 0.00603406\tvalid_1's auc: 0.998161\tvalid_1's binary_logloss: 0.0124163\n",
            "Early stopping, best iteration is:\n",
            "[428]\ttraining's auc: 0.999738\ttraining's binary_logloss: 0.0080378\tvalid_1's auc: 0.998713\tvalid_1's binary_logloss: 0.012363\n",
            "err:  0.9987129987129988\n",
            "Training until validation scores don't improve for 200 rounds.\n",
            "[200]\ttraining's auc: 0.997909\ttraining's binary_logloss: 0.0130687\tvalid_1's auc: 0.99522\tvalid_1's binary_logloss: 0.0163458\n",
            "[400]\ttraining's auc: 0.999662\ttraining's binary_logloss: 0.00843619\tvalid_1's auc: 0.994852\tvalid_1's binary_logloss: 0.0149932\n",
            "Early stopping, best iteration is:\n",
            "[221]\ttraining's auc: 0.998252\ttraining's binary_logloss: 0.0123919\tvalid_1's auc: 0.995771\tvalid_1's binary_logloss: 0.015993\n",
            "err:  0.9957712814855673\n",
            "Training until validation scores don't improve for 200 rounds.\n",
            "[200]\ttraining's auc: 0.997925\ttraining's binary_logloss: 0.0130034\tvalid_1's auc: 0.986578\tvalid_1's binary_logloss: 0.0264061\n",
            "[400]\ttraining's auc: 0.999682\ttraining's binary_logloss: 0.00838472\tvalid_1's auc: 0.990439\tvalid_1's binary_logloss: 0.0242989\n",
            "[600]\ttraining's auc: 0.999948\ttraining's binary_logloss: 0.00596434\tvalid_1's auc: 0.990623\tvalid_1's binary_logloss: 0.0245295\n",
            "Early stopping, best iteration is:\n",
            "[429]\ttraining's auc: 0.999761\ttraining's binary_logloss: 0.00794932\tvalid_1's auc: 0.991359\tvalid_1's binary_logloss: 0.024157\n",
            "err:  0.9913587056444199\n",
            "Training until validation scores don't improve for 200 rounds.\n",
            "[200]\ttraining's auc: 0.997931\ttraining's binary_logloss: 0.0129974\tvalid_1's auc: 0.981614\tvalid_1's binary_logloss: 0.0237087\n",
            "[400]\ttraining's auc: 0.999666\ttraining's binary_logloss: 0.00839781\tvalid_1's auc: 0.982717\tvalid_1's binary_logloss: 0.0232039\n",
            "[600]\ttraining's auc: 0.99995\ttraining's binary_logloss: 0.00596347\tvalid_1's auc: 0.983269\tvalid_1's binary_logloss: 0.0228576\n",
            "[800]\ttraining's auc: 0.99999\ttraining's binary_logloss: 0.00451427\tvalid_1's auc: 0.983453\tvalid_1's binary_logloss: 0.0231208\n",
            "Early stopping, best iteration is:\n",
            "[701]\ttraining's auc: 0.999978\ttraining's binary_logloss: 0.00514834\tvalid_1's auc: 0.984004\tvalid_1's binary_logloss: 0.0227305\n",
            "err:  0.9840044125758411\n",
            "Training until validation scores don't improve for 200 rounds.\n",
            "[200]\ttraining's auc: 0.99795\ttraining's binary_logloss: 0.0129805\tvalid_1's auc: 0.985659\tvalid_1's binary_logloss: 0.0234517\n",
            "[400]\ttraining's auc: 0.999685\ttraining's binary_logloss: 0.00836021\tvalid_1's auc: 0.985843\tvalid_1's binary_logloss: 0.0228457\n",
            "Early stopping, best iteration is:\n",
            "[312]\ttraining's auc: 0.999257\ttraining's binary_logloss: 0.00996507\tvalid_1's auc: 0.986211\tvalid_1's binary_logloss: 0.0228606\n",
            "err:  0.9862107004964148\n",
            "Training until validation scores don't improve for 200 rounds.\n",
            "[200]\ttraining's auc: 0.997959\ttraining's binary_logloss: 0.013014\tvalid_1's auc: 0.995036\tvalid_1's binary_logloss: 0.0177952\n",
            "Early stopping, best iteration is:\n",
            "[161]\ttraining's auc: 0.997096\ttraining's binary_logloss: 0.0145275\tvalid_1's auc: 0.995955\tvalid_1's binary_logloss: 0.0181632\n",
            "err:  0.9959551388122817\n",
            "Training until validation scores don't improve for 200 rounds.\n",
            "[200]\ttraining's auc: 0.997973\ttraining's binary_logloss: 0.0130523\tvalid_1's auc: 0.992462\tvalid_1's binary_logloss: 0.0191656\n",
            "[400]\ttraining's auc: 0.999688\ttraining's binary_logloss: 0.00842001\tvalid_1's auc: 0.994117\tvalid_1's binary_logloss: 0.0175933\n",
            "Early stopping, best iteration is:\n",
            "[377]\ttraining's auc: 0.999607\ttraining's binary_logloss: 0.00880089\tvalid_1's auc: 0.994668\tvalid_1's binary_logloss: 0.0176763\n",
            "err:  0.9946681375252804\n",
            "Training until validation scores don't improve for 200 rounds.\n",
            "[200]\ttraining's auc: 0.997945\ttraining's binary_logloss: 0.0130498\tvalid_1's auc: 0.993381\tvalid_1's binary_logloss: 0.0163902\n",
            "[400]\ttraining's auc: 0.999677\ttraining's binary_logloss: 0.00841784\tvalid_1's auc: 0.993197\tvalid_1's binary_logloss: 0.015027\n",
            "Early stopping, best iteration is:\n",
            "[229]\ttraining's auc: 0.998402\ttraining's binary_logloss: 0.0121176\tvalid_1's auc: 0.993749\tvalid_1's binary_logloss: 0.0160769\n",
            "err:  0.9937488508917081\n",
            "Training until validation scores don't improve for 200 rounds.\n",
            "[200]\ttraining's auc: 0.997947\ttraining's binary_logloss: 0.0130519\tvalid_1's auc: 0.995587\tvalid_1's binary_logloss: 0.017175\n",
            "Early stopping, best iteration is:\n",
            "[64]\ttraining's auc: 0.992785\ttraining's binary_logloss: 0.0216234\tvalid_1's auc: 0.996691\tvalid_1's binary_logloss: 0.0208285\n",
            "err:  0.9966905681191395\n",
            "Training until validation scores don't improve for 200 rounds.\n",
            "[200]\ttraining's auc: 0.997899\ttraining's binary_logloss: 0.0130615\tvalid_1's auc: 0.994668\tvalid_1's binary_logloss: 0.016478\n",
            "[400]\ttraining's auc: 0.999678\ttraining's binary_logloss: 0.00841435\tvalid_1's auc: 0.994668\tvalid_1's binary_logloss: 0.0165713\n",
            "Early stopping, best iteration is:\n",
            "[230]\ttraining's auc: 0.998386\ttraining's binary_logloss: 0.0121057\tvalid_1's auc: 0.995036\tvalid_1's binary_logloss: 0.0163669\n",
            "err:  0.9950358521787094\n",
            "Training until validation scores don't improve for 200 rounds.\n",
            "[200]\ttraining's auc: 0.997965\ttraining's binary_logloss: 0.0129312\tvalid_1's auc: 0.965251\tvalid_1's binary_logloss: 0.0301054\n",
            "[400]\ttraining's auc: 0.999665\ttraining's binary_logloss: 0.00834848\tvalid_1's auc: 0.975547\tvalid_1's binary_logloss: 0.0285329\n",
            "[600]\ttraining's auc: 0.99995\ttraining's binary_logloss: 0.00595764\tvalid_1's auc: 0.977753\tvalid_1's binary_logloss: 0.0280425\n",
            "[800]\ttraining's auc: 0.999991\ttraining's binary_logloss: 0.00449526\tvalid_1's auc: 0.979776\tvalid_1's binary_logloss: 0.028316\n",
            "Early stopping, best iteration is:\n",
            "[674]\ttraining's auc: 0.999975\ttraining's binary_logloss: 0.00532835\tvalid_1's auc: 0.979776\tvalid_1's binary_logloss: 0.0277626\n",
            "err:  0.9797756940614084\n",
            "Training until validation scores don't improve for 200 rounds.\n",
            "[200]\ttraining's auc: 0.997884\ttraining's binary_logloss: 0.0130122\tvalid_1's auc: 0.97761\tvalid_1's binary_logloss: 0.0285856\n",
            "[400]\ttraining's auc: 0.999654\ttraining's binary_logloss: 0.00840618\tvalid_1's auc: 0.981476\tvalid_1's binary_logloss: 0.0271514\n",
            "[600]\ttraining's auc: 0.999949\ttraining's binary_logloss: 0.00596581\tvalid_1's auc: 0.982281\tvalid_1's binary_logloss: 0.0270487\n",
            "Early stopping, best iteration is:\n",
            "[465]\ttraining's auc: 0.999817\ttraining's binary_logloss: 0.00746246\tvalid_1's auc: 0.982281\tvalid_1's binary_logloss: 0.0268325\n",
            "err:  0.9822809278350516\n",
            "Training until validation scores don't improve for 200 rounds.\n",
            "[200]\ttraining's auc: 0.997916\ttraining's binary_logloss: 0.0129835\tvalid_1's auc: 0.980348\tvalid_1's binary_logloss: 0.0280722\n",
            "[400]\ttraining's auc: 0.99966\ttraining's binary_logloss: 0.00839963\tvalid_1's auc: 0.984214\tvalid_1's binary_logloss: 0.0264241\n",
            "[600]\ttraining's auc: 0.999951\ttraining's binary_logloss: 0.00596607\tvalid_1's auc: 0.985341\tvalid_1's binary_logloss: 0.0262247\n",
            "Early stopping, best iteration is:\n",
            "[552]\ttraining's auc: 0.999923\ttraining's binary_logloss: 0.00643173\tvalid_1's auc: 0.985341\tvalid_1's binary_logloss: 0.0260374\n",
            "err:  0.9853414948453608\n",
            "Training until validation scores don't improve for 200 rounds.\n",
            "[200]\ttraining's auc: 0.997959\ttraining's binary_logloss: 0.0129732\tvalid_1's auc: 0.993235\tvalid_1's binary_logloss: 0.0179942\n",
            "Early stopping, best iteration is:\n",
            "[74]\ttraining's auc: 0.99348\ttraining's binary_logloss: 0.0203888\tvalid_1's auc: 0.995329\tvalid_1's binary_logloss: 0.0205823\n",
            "err:  0.9953286082474226\n",
            "Training until validation scores don't improve for 200 rounds.\n",
            "[200]\ttraining's auc: 0.997912\ttraining's binary_logloss: 0.0130402\tvalid_1's auc: 0.992751\tvalid_1's binary_logloss: 0.019195\n",
            "[400]\ttraining's auc: 0.999675\ttraining's binary_logloss: 0.00841662\tvalid_1's auc: 0.993718\tvalid_1's binary_logloss: 0.018789\n",
            "Early stopping, best iteration is:\n",
            "[307]\ttraining's auc: 0.999204\ttraining's binary_logloss: 0.0101331\tvalid_1's auc: 0.993557\tvalid_1's binary_logloss: 0.0184232\n",
            "err:  0.9935567010309277\n",
            "Training until validation scores don't improve for 200 rounds.\n",
            "[200]\ttraining's auc: 0.997875\ttraining's binary_logloss: 0.0129935\tvalid_1's auc: 0.981153\tvalid_1's binary_logloss: 0.0287293\n",
            "[400]\ttraining's auc: 0.999668\ttraining's binary_logloss: 0.00835663\tvalid_1's auc: 0.984697\tvalid_1's binary_logloss: 0.0273927\n",
            "[600]\ttraining's auc: 0.999949\ttraining's binary_logloss: 0.0059578\tvalid_1's auc: 0.985825\tvalid_1's binary_logloss: 0.0270371\n",
            "Early stopping, best iteration is:\n",
            "[515]\ttraining's auc: 0.99989\ttraining's binary_logloss: 0.00681904\tvalid_1's auc: 0.985825\tvalid_1's binary_logloss: 0.0267777\n",
            "err:  0.9858247422680413\n",
            "Training until validation scores don't improve for 200 rounds.\n",
            "[200]\ttraining's auc: 0.997948\ttraining's binary_logloss: 0.0129507\tvalid_1's auc: 0.982764\tvalid_1's binary_logloss: 0.0276186\n",
            "Early stopping, best iteration is:\n",
            "[196]\ttraining's auc: 0.997878\ttraining's binary_logloss: 0.0130823\tvalid_1's auc: 0.982925\tvalid_1's binary_logloss: 0.0274817\n",
            "err:  0.9829252577319587\n",
            "Training until validation scores don't improve for 200 rounds.\n",
            "[200]\ttraining's auc: 0.997906\ttraining's binary_logloss: 0.0130625\tvalid_1's auc: 0.985664\tvalid_1's binary_logloss: 0.0246376\n",
            "Early stopping, best iteration is:\n",
            "[189]\ttraining's auc: 0.997698\ttraining's binary_logloss: 0.0134477\tvalid_1's auc: 0.985986\tvalid_1's binary_logloss: 0.0247627\n",
            "err:  0.985985824742268\n",
            "Training until validation scores don't improve for 200 rounds.\n",
            "[200]\ttraining's auc: 0.997932\ttraining's binary_logloss: 0.013058\tvalid_1's auc: 0.997745\tvalid_1's binary_logloss: 0.014378\n",
            "Early stopping, best iteration is:\n",
            "[101]\ttraining's auc: 0.994886\ttraining's binary_logloss: 0.0180806\tvalid_1's auc: 0.998228\tvalid_1's binary_logloss: 0.0171683\n",
            "err:  0.9982280927835052\n",
            "Training until validation scores don't improve for 200 rounds.\n",
            "[200]\ttraining's auc: 0.997906\ttraining's binary_logloss: 0.0130302\tvalid_1's auc: 0.995812\tvalid_1's binary_logloss: 0.0166381\n",
            "[400]\ttraining's auc: 0.999674\ttraining's binary_logloss: 0.00841491\tvalid_1's auc: 0.995651\tvalid_1's binary_logloss: 0.0163239\n",
            "Early stopping, best iteration is:\n",
            "[272]\ttraining's auc: 0.998893\ttraining's binary_logloss: 0.0109361\tvalid_1's auc: 0.995973\tvalid_1's binary_logloss: 0.0163686\n",
            "err:  0.9959729381443299\n",
            "Training until validation scores don't improve for 200 rounds.\n",
            "[200]\ttraining's auc: 0.997971\ttraining's binary_logloss: 0.0129623\tvalid_1's auc: 0.979059\tvalid_1's binary_logloss: 0.0293936\n",
            "[400]\ttraining's auc: 0.999687\ttraining's binary_logloss: 0.00836219\tvalid_1's auc: 0.980831\tvalid_1's binary_logloss: 0.0282604\n",
            "[600]\ttraining's auc: 0.999953\ttraining's binary_logloss: 0.00594258\tvalid_1's auc: 0.98212\tvalid_1's binary_logloss: 0.0284909\n",
            "Early stopping, best iteration is:\n",
            "[497]\ttraining's auc: 0.999878\ttraining's binary_logloss: 0.00702257\tvalid_1's auc: 0.981959\tvalid_1's binary_logloss: 0.0279697\n",
            "err:  0.981958762886598\n",
            "Training until validation scores don't improve for 200 rounds.\n",
            "[200]\ttraining's auc: 0.997976\ttraining's binary_logloss: 0.012998\tvalid_1's auc: 0.99404\tvalid_1's binary_logloss: 0.0201017\n",
            "[400]\ttraining's auc: 0.999685\ttraining's binary_logloss: 0.00838683\tvalid_1's auc: 0.993879\tvalid_1's binary_logloss: 0.0186891\n",
            "Early stopping, best iteration is:\n",
            "[214]\ttraining's auc: 0.998231\ttraining's binary_logloss: 0.01254\tvalid_1's auc: 0.994362\tvalid_1's binary_logloss: 0.0199446\n",
            "err:  0.9943621134020618\n",
            "Training until validation scores don't improve for 200 rounds.\n",
            "[200]\ttraining's auc: 0.997956\ttraining's binary_logloss: 0.0129768\tvalid_1's auc: 0.989852\tvalid_1's binary_logloss: 0.0224693\n",
            "[400]\ttraining's auc: 0.999694\ttraining's binary_logloss: 0.00837724\tvalid_1's auc: 0.990335\tvalid_1's binary_logloss: 0.0210805\n",
            "Early stopping, best iteration is:\n",
            "[322]\ttraining's auc: 0.99933\ttraining's binary_logloss: 0.00978365\tvalid_1's auc: 0.990979\tvalid_1's binary_logloss: 0.0213634\n",
            "err:  0.990979381443299\n",
            "Training until validation scores don't improve for 200 rounds.\n",
            "[200]\ttraining's auc: 0.997972\ttraining's binary_logloss: 0.0128955\tvalid_1's auc: 0.981153\tvalid_1's binary_logloss: 0.0267022\n",
            "[400]\ttraining's auc: 0.999675\ttraining's binary_logloss: 0.00833826\tvalid_1's auc: 0.980831\tvalid_1's binary_logloss: 0.0264781\n",
            "Early stopping, best iteration is:\n",
            "[241]\ttraining's auc: 0.9986\ttraining's binary_logloss: 0.0116307\tvalid_1's auc: 0.98212\tvalid_1's binary_logloss: 0.0262456\n",
            "err:  0.9821198453608248\n",
            "Training until validation scores don't improve for 200 rounds.\n",
            "[200]\ttraining's auc: 0.997926\ttraining's binary_logloss: 0.0130111\tvalid_1's auc: 0.990657\tvalid_1's binary_logloss: 0.023884\n",
            "[400]\ttraining's auc: 0.999679\ttraining's binary_logloss: 0.00841635\tvalid_1's auc: 0.994362\tvalid_1's binary_logloss: 0.0209475\n",
            "[600]\ttraining's auc: 0.999948\ttraining's binary_logloss: 0.00600603\tvalid_1's auc: 0.995812\tvalid_1's binary_logloss: 0.0199019\n",
            "Early stopping, best iteration is:\n",
            "[580]\ttraining's auc: 0.999939\ttraining's binary_logloss: 0.00619434\tvalid_1's auc: 0.995651\tvalid_1's binary_logloss: 0.0197768\n",
            "err:  0.9956507731958764\n",
            "Training until validation scores don't improve for 200 rounds.\n",
            "[200]\ttraining's auc: 0.997963\ttraining's binary_logloss: 0.0130303\tvalid_1's auc: 0.99404\tvalid_1's binary_logloss: 0.0199838\n",
            "[400]\ttraining's auc: 0.999674\ttraining's binary_logloss: 0.00841343\tvalid_1's auc: 0.994684\tvalid_1's binary_logloss: 0.0184174\n",
            "Early stopping, best iteration is:\n",
            "[261]\ttraining's auc: 0.998808\ttraining's binary_logloss: 0.0112249\tvalid_1's auc: 0.994684\tvalid_1's binary_logloss: 0.0191122\n",
            "err:  0.9946842783505154\n",
            "Training until validation scores don't improve for 200 rounds.\n",
            "[200]\ttraining's auc: 0.997926\ttraining's binary_logloss: 0.0130006\tvalid_1's auc: 0.982925\tvalid_1's binary_logloss: 0.0272515\n",
            "[400]\ttraining's auc: 0.999657\ttraining's binary_logloss: 0.00839344\tvalid_1's auc: 0.989369\tvalid_1's binary_logloss: 0.0245824\n",
            "[600]\ttraining's auc: 0.999949\ttraining's binary_logloss: 0.00599812\tvalid_1's auc: 0.993396\tvalid_1's binary_logloss: 0.0231595\n",
            "[800]\ttraining's auc: 0.99999\ttraining's binary_logloss: 0.00455119\tvalid_1's auc: 0.993718\tvalid_1's binary_logloss: 0.0230456\n",
            "[1000]\ttraining's auc: 0.999997\ttraining's binary_logloss: 0.00361272\tvalid_1's auc: 0.993879\tvalid_1's binary_logloss: 0.0229473\n",
            "Early stopping, best iteration is:\n",
            "[895]\ttraining's auc: 0.999994\ttraining's binary_logloss: 0.00406287\tvalid_1's auc: 0.99404\tvalid_1's binary_logloss: 0.0228105\n",
            "err:  0.9940399484536082\n",
            "Training until validation scores don't improve for 200 rounds.\n",
            "[200]\ttraining's auc: 0.997885\ttraining's binary_logloss: 0.0130582\tvalid_1's auc: 0.992268\tvalid_1's binary_logloss: 0.0195315\n",
            "[400]\ttraining's auc: 0.999651\ttraining's binary_logloss: 0.00846985\tvalid_1's auc: 0.995973\tvalid_1's binary_logloss: 0.0166845\n",
            "[600]\ttraining's auc: 0.999946\ttraining's binary_logloss: 0.00604773\tvalid_1's auc: 0.996939\tvalid_1's binary_logloss: 0.0151054\n",
            "[800]\ttraining's auc: 0.999989\ttraining's binary_logloss: 0.00458036\tvalid_1's auc: 0.997262\tvalid_1's binary_logloss: 0.0139928\n",
            "[1000]\ttraining's auc: 0.999996\ttraining's binary_logloss: 0.00363891\tvalid_1's auc: 0.997745\tvalid_1's binary_logloss: 0.0133943\n",
            "Early stopping, best iteration is:\n",
            "[904]\ttraining's auc: 0.999994\ttraining's binary_logloss: 0.00404778\tvalid_1's auc: 0.997745\tvalid_1's binary_logloss: 0.013543\n",
            "err:  0.9977448453608248\n",
            "Training until validation scores don't improve for 200 rounds.\n",
            "[200]\ttraining's auc: 0.997915\ttraining's binary_logloss: 0.0130316\tvalid_1's auc: 0.995168\tvalid_1's binary_logloss: 0.0195759\n",
            "Early stopping, best iteration is:\n",
            "[149]\ttraining's auc: 0.996683\ttraining's binary_logloss: 0.0151707\tvalid_1's auc: 0.995812\tvalid_1's binary_logloss: 0.0199292\n",
            "err:  0.9958118556701032\n",
            "Training until validation scores don't improve for 200 rounds.\n",
            "[200]\ttraining's auc: 0.997918\ttraining's binary_logloss: 0.0129907\tvalid_1's auc: 0.981476\tvalid_1's binary_logloss: 0.0281378\n",
            "Early stopping, best iteration is:\n",
            "[8]\ttraining's auc: 0.981361\ttraining's binary_logloss: 0.0404429\tvalid_1's auc: 0.984214\tvalid_1's binary_logloss: 0.042297\n",
            "err:  0.9842139175257731\n",
            "Training until validation scores don't improve for 200 rounds.\n",
            "[200]\ttraining's auc: 0.997945\ttraining's binary_logloss: 0.0130048\tvalid_1's auc: 0.995973\tvalid_1's binary_logloss: 0.0182522\n",
            "Early stopping, best iteration is:\n",
            "[101]\ttraining's auc: 0.994892\ttraining's binary_logloss: 0.0180068\tvalid_1's auc: 0.996617\tvalid_1's binary_logloss: 0.0201943\n",
            "err:  0.9966172680412372\n",
            "Training until validation scores don't improve for 200 rounds.\n",
            "[200]\ttraining's auc: 0.997909\ttraining's binary_logloss: 0.0130121\tvalid_1's auc: 0.991624\tvalid_1's binary_logloss: 0.0230632\n",
            "[400]\ttraining's auc: 0.99967\ttraining's binary_logloss: 0.00839458\tvalid_1's auc: 0.993396\tvalid_1's binary_logloss: 0.0221882\n",
            "Early stopping, best iteration is:\n",
            "[290]\ttraining's auc: 0.99906\ttraining's binary_logloss: 0.0104847\tvalid_1's auc: 0.993235\tvalid_1's binary_logloss: 0.0220488\n",
            "err:  0.9932345360824743\n",
            "Training until validation scores don't improve for 200 rounds.\n",
            "[200]\ttraining's auc: 0.997946\ttraining's binary_logloss: 0.012927\tvalid_1's auc: 0.978898\tvalid_1's binary_logloss: 0.0309302\n",
            "Early stopping, best iteration is:\n",
            "[92]\ttraining's auc: 0.994549\ttraining's binary_logloss: 0.0186021\tvalid_1's auc: 0.981314\tvalid_1's binary_logloss: 0.0309313\n",
            "err:  0.9813144329896907\n",
            "Training until validation scores don't improve for 200 rounds.\n",
            "[200]\ttraining's auc: 0.997977\ttraining's binary_logloss: 0.0130108\tvalid_1's auc: 0.990335\tvalid_1's binary_logloss: 0.0198323\n",
            "Early stopping, best iteration is:\n",
            "[69]\ttraining's auc: 0.993129\ttraining's binary_logloss: 0.0210081\tvalid_1's auc: 0.991785\tvalid_1's binary_logloss: 0.0235391\n",
            "err:  0.991784793814433\n",
            "Training until validation scores don't improve for 200 rounds.\n",
            "[200]\ttraining's auc: 0.997955\ttraining's binary_logloss: 0.0130043\tvalid_1's auc: 0.992107\tvalid_1's binary_logloss: 0.0218769\n",
            "[400]\ttraining's auc: 0.999677\ttraining's binary_logloss: 0.00839046\tvalid_1's auc: 0.995168\tvalid_1's binary_logloss: 0.0196779\n",
            "Early stopping, best iteration is:\n",
            "[368]\ttraining's auc: 0.999558\ttraining's binary_logloss: 0.00892976\tvalid_1's auc: 0.994845\tvalid_1's binary_logloss: 0.0195789\n",
            "err:  0.9948453608247422\n",
            "Training until validation scores don't improve for 200 rounds.\n",
            "[200]\ttraining's auc: 0.997983\ttraining's binary_logloss: 0.0129178\tvalid_1's auc: 0.977287\tvalid_1's binary_logloss: 0.0351106\n",
            "Early stopping, best iteration is:\n",
            "[166]\ttraining's auc: 0.99722\ttraining's binary_logloss: 0.0142415\tvalid_1's auc: 0.979059\tvalid_1's binary_logloss: 0.0349022\n",
            "err:  0.9790592783505154\n",
            "Training until validation scores don't improve for 200 rounds.\n",
            "[200]\ttraining's auc: 0.997993\ttraining's binary_logloss: 0.0129338\tvalid_1's auc: 0.990335\tvalid_1's binary_logloss: 0.023702\n",
            "Early stopping, best iteration is:\n",
            "[63]\ttraining's auc: 0.992803\ttraining's binary_logloss: 0.0216507\tvalid_1's auc: 0.990818\tvalid_1's binary_logloss: 0.026248\n",
            "err:  0.9908182989690721\n",
            "Training until validation scores don't improve for 200 rounds.\n",
            "[200]\ttraining's auc: 0.997924\ttraining's binary_logloss: 0.0130065\tvalid_1's auc: 0.987113\tvalid_1's binary_logloss: 0.0256208\n",
            "Early stopping, best iteration is:\n",
            "[31]\ttraining's auc: 0.988588\ttraining's binary_logloss: 0.0284088\tvalid_1's auc: 0.987436\tvalid_1's binary_logloss: 0.0340298\n",
            "err:  0.9874355670103093\n",
            "Training until validation scores don't improve for 200 rounds.\n",
            "[200]\ttraining's auc: 0.997959\ttraining's binary_logloss: 0.0129534\tvalid_1's auc: 0.980509\tvalid_1's binary_logloss: 0.0280071\n",
            "Early stopping, best iteration is:\n",
            "[35]\ttraining's auc: 0.989277\ttraining's binary_logloss: 0.027163\tvalid_1's auc: 0.983731\tvalid_1's binary_logloss: 0.0354754\n",
            "err:  0.9837306701030928\n",
            "Training until validation scores don't improve for 200 rounds.\n",
            "[200]\ttraining's auc: 0.99786\ttraining's binary_logloss: 0.0130255\tvalid_1's auc: 0.985341\tvalid_1's binary_logloss: 0.0251409\n",
            "[400]\ttraining's auc: 0.999646\ttraining's binary_logloss: 0.00842111\tvalid_1's auc: 0.987597\tvalid_1's binary_logloss: 0.0240902\n",
            "[600]\ttraining's auc: 0.999943\ttraining's binary_logloss: 0.00598686\tvalid_1's auc: 0.987758\tvalid_1's binary_logloss: 0.0239908\n",
            "Early stopping, best iteration is:\n",
            "[500]\ttraining's auc: 0.999861\ttraining's binary_logloss: 0.00704056\tvalid_1's auc: 0.98808\tvalid_1's binary_logloss: 0.0237697\n",
            "err:  0.9880798969072164\n",
            "Training until validation scores don't improve for 200 rounds.\n",
            "[200]\ttraining's auc: 0.997971\ttraining's binary_logloss: 0.0129482\tvalid_1's auc: 0.977541\tvalid_1's binary_logloss: 0.0299505\n",
            "Early stopping, best iteration is:\n",
            "[167]\ttraining's auc: 0.997284\ttraining's binary_logloss: 0.0141959\tvalid_1's auc: 0.977356\tvalid_1's binary_logloss: 0.0296715\n",
            "err:  0.9773564064801179\n",
            "Training until validation scores don't improve for 200 rounds.\n",
            "[200]\ttraining's auc: 0.997922\ttraining's binary_logloss: 0.0130197\tvalid_1's auc: 0.990427\tvalid_1's binary_logloss: 0.0204215\n",
            "Early stopping, best iteration is:\n",
            "[1]\ttraining's auc: 0.980942\ttraining's binary_logloss: 0.0494879\tvalid_1's auc: 0.992452\tvalid_1's binary_logloss: 0.04712\n",
            "err:  0.9924521354933726\n",
            "Training until validation scores don't improve for 200 rounds.\n",
            "[200]\ttraining's auc: 0.997931\ttraining's binary_logloss: 0.0129942\tvalid_1's auc: 0.987113\tvalid_1's binary_logloss: 0.023198\n",
            "Early stopping, best iteration is:\n",
            "[11]\ttraining's auc: 0.983756\ttraining's binary_logloss: 0.03775\tvalid_1's auc: 0.988954\tvalid_1's binary_logloss: 0.0375016\n",
            "err:  0.9889543446244476\n",
            "Training until validation scores don't improve for 200 rounds.\n",
            "[200]\ttraining's auc: 0.997886\ttraining's binary_logloss: 0.0130991\tvalid_1's auc: 0.993004\tvalid_1's binary_logloss: 0.0167211\n",
            "[400]\ttraining's auc: 0.999664\ttraining's binary_logloss: 0.00847103\tvalid_1's auc: 0.993741\tvalid_1's binary_logloss: 0.0154897\n",
            "Early stopping, best iteration is:\n",
            "[231]\ttraining's auc: 0.998381\ttraining's binary_logloss: 0.0121263\tvalid_1's auc: 0.994109\tvalid_1's binary_logloss: 0.016085\n",
            "err:  0.9941089837997055\n",
            "Training until validation scores don't improve for 200 rounds.\n",
            "[200]\ttraining's auc: 0.997908\ttraining's binary_logloss: 0.0131122\tvalid_1's auc: 0.99908\tvalid_1's binary_logloss: 0.0116528\n",
            "[400]\ttraining's auc: 0.999667\ttraining's binary_logloss: 0.0084814\tvalid_1's auc: 0.99908\tvalid_1's binary_logloss: 0.00998503\n",
            "Early stopping, best iteration is:\n",
            "[211]\ttraining's auc: 0.998094\ttraining's binary_logloss: 0.0127673\tvalid_1's auc: 0.999264\tvalid_1's binary_logloss: 0.0115654\n",
            "err:  0.9992636229749632\n",
            "Training until validation scores don't improve for 200 rounds.\n",
            "[200]\ttraining's auc: 0.997932\ttraining's binary_logloss: 0.0130459\tvalid_1's auc: 0.997239\tvalid_1's binary_logloss: 0.0123454\n",
            "[400]\ttraining's auc: 0.999666\ttraining's binary_logloss: 0.00844816\tvalid_1's auc: 0.997791\tvalid_1's binary_logloss: 0.0111357\n",
            "Early stopping, best iteration is:\n",
            "[398]\ttraining's auc: 0.999658\ttraining's binary_logloss: 0.00847989\tvalid_1's auc: 0.997791\tvalid_1's binary_logloss: 0.011128\n",
            "err:  0.9977908689248896\n",
            "Training until validation scores don't improve for 200 rounds.\n",
            "[200]\ttraining's auc: 0.998005\ttraining's binary_logloss: 0.0129102\tvalid_1's auc: 0.964654\tvalid_1's binary_logloss: 0.0349571\n",
            "[400]\ttraining's auc: 0.99969\ttraining's binary_logloss: 0.00831562\tvalid_1's auc: 0.971281\tvalid_1's binary_logloss: 0.0329376\n",
            "[600]\ttraining's auc: 0.999955\ttraining's binary_logloss: 0.0058942\tvalid_1's auc: 0.972386\tvalid_1's binary_logloss: 0.0333051\n",
            "Early stopping, best iteration is:\n",
            "[426]\ttraining's auc: 0.99976\ttraining's binary_logloss: 0.00792174\tvalid_1's auc: 0.971281\tvalid_1's binary_logloss: 0.032793\n",
            "err:  0.9712812960235641\n",
            "Training until validation scores don't improve for 200 rounds.\n",
            "[200]\ttraining's auc: 0.998017\ttraining's binary_logloss: 0.0129488\tvalid_1's auc: 0.977356\tvalid_1's binary_logloss: 0.0273103\n",
            "[400]\ttraining's auc: 0.999697\ttraining's binary_logloss: 0.00835584\tvalid_1's auc: 0.978093\tvalid_1's binary_logloss: 0.0275578\n",
            "Early stopping, best iteration is:\n",
            "[230]\ttraining's auc: 0.998491\ttraining's binary_logloss: 0.0120076\tvalid_1's auc: 0.978461\tvalid_1's binary_logloss: 0.0270267\n",
            "err:  0.9784609720176731\n",
            "Training until validation scores don't improve for 200 rounds.\n",
            "[200]\ttraining's auc: 0.997935\ttraining's binary_logloss: 0.0130488\tvalid_1's auc: 0.992084\tvalid_1's binary_logloss: 0.0165269\n",
            "Early stopping, best iteration is:\n",
            "[50]\ttraining's auc: 0.9918\ttraining's binary_logloss: 0.0236811\tvalid_1's auc: 0.993004\tvalid_1's binary_logloss: 0.0209306\n",
            "err:  0.9930044182621501\n",
            "Training until validation scores don't improve for 200 rounds.\n",
            "[200]\ttraining's auc: 0.997975\ttraining's binary_logloss: 0.0129949\tvalid_1's auc: 0.990611\tvalid_1's binary_logloss: 0.0185219\n",
            "[400]\ttraining's auc: 0.999681\ttraining's binary_logloss: 0.00838214\tvalid_1's auc: 0.990611\tvalid_1's binary_logloss: 0.0183549\n",
            "Early stopping, best iteration is:\n",
            "[266]\ttraining's auc: 0.998873\ttraining's binary_logloss: 0.0110609\tvalid_1's auc: 0.991716\tvalid_1's binary_logloss: 0.0180924\n",
            "err:  0.9917157584683357\n",
            "Training until validation scores don't improve for 200 rounds.\n",
            "[200]\ttraining's auc: 0.99802\ttraining's binary_logloss: 0.0129458\tvalid_1's auc: 0.985088\tvalid_1's binary_logloss: 0.0265689\n",
            "Early stopping, best iteration is:\n",
            "[143]\ttraining's auc: 0.996634\ttraining's binary_logloss: 0.0154116\tvalid_1's auc: 0.986193\tvalid_1's binary_logloss: 0.0271998\n",
            "err:  0.9861929307805596\n",
            "Training until validation scores don't improve for 200 rounds.\n",
            "[200]\ttraining's auc: 0.997947\ttraining's binary_logloss: 0.0129895\tvalid_1's auc: 0.98785\tvalid_1's binary_logloss: 0.021991\n",
            "[400]\ttraining's auc: 0.999681\ttraining's binary_logloss: 0.00837817\tvalid_1's auc: 0.989138\tvalid_1's binary_logloss: 0.0202872\n",
            "[600]\ttraining's auc: 0.999951\ttraining's binary_logloss: 0.00595893\tvalid_1's auc: 0.990611\tvalid_1's binary_logloss: 0.0195966\n",
            "Early stopping, best iteration is:\n",
            "[563]\ttraining's auc: 0.999931\ttraining's binary_logloss: 0.0063182\tvalid_1's auc: 0.990795\tvalid_1's binary_logloss: 0.019656\n",
            "err:  0.9907952871870398\n",
            "Training until validation scores don't improve for 200 rounds.\n",
            "[200]\ttraining's auc: 0.997973\ttraining's binary_logloss: 0.0129508\tvalid_1's auc: 0.97662\tvalid_1's binary_logloss: 0.0291807\n",
            "[400]\ttraining's auc: 0.999671\ttraining's binary_logloss: 0.00838385\tvalid_1's auc: 0.976988\tvalid_1's binary_logloss: 0.0285609\n",
            "Early stopping, best iteration is:\n",
            "[397]\ttraining's auc: 0.999662\ttraining's binary_logloss: 0.00843101\tvalid_1's auc: 0.977356\tvalid_1's binary_logloss: 0.0285482\n",
            "err:  0.9773564064801178\n",
            "Training until validation scores don't improve for 200 rounds.\n",
            "[200]\ttraining's auc: 0.997933\ttraining's binary_logloss: 0.0130468\tvalid_1's auc: 0.995582\tvalid_1's binary_logloss: 0.0184976\n",
            "[400]\ttraining's auc: 0.999673\ttraining's binary_logloss: 0.00844811\tvalid_1's auc: 0.997239\tvalid_1's binary_logloss: 0.016373\n",
            "[600]\ttraining's auc: 0.99995\ttraining's binary_logloss: 0.00601755\tvalid_1's auc: 0.997975\tvalid_1's binary_logloss: 0.0159895\n",
            "Early stopping, best iteration is:\n",
            "[571]\ttraining's auc: 0.999937\ttraining's binary_logloss: 0.00628561\tvalid_1's auc: 0.997975\tvalid_1's binary_logloss: 0.0161723\n",
            "err:  0.9979749631811488\n",
            "Training until validation scores don't improve for 200 rounds.\n",
            "[200]\ttraining's auc: 0.997921\ttraining's binary_logloss: 0.0130027\tvalid_1's auc: 0.986009\tvalid_1's binary_logloss: 0.024565\n",
            "Early stopping, best iteration is:\n",
            "[180]\ttraining's auc: 0.997509\ttraining's binary_logloss: 0.0137218\tvalid_1's auc: 0.986193\tvalid_1's binary_logloss: 0.0246324\n",
            "err:  0.9861929307805597\n",
            "Training until validation scores don't improve for 200 rounds.\n",
            "[200]\ttraining's auc: 0.998014\ttraining's binary_logloss: 0.0129013\tvalid_1's auc: 0.976988\tvalid_1's binary_logloss: 0.0273133\n",
            "Early stopping, best iteration is:\n",
            "[40]\ttraining's auc: 0.989978\ttraining's binary_logloss: 0.0259189\tvalid_1's auc: 0.9838\tvalid_1's binary_logloss: 0.0295677\n",
            "err:  0.9837997054491899\n",
            "Training until validation scores don't improve for 200 rounds.\n",
            "[200]\ttraining's auc: 0.997965\ttraining's binary_logloss: 0.0130217\tvalid_1's auc: 0.995029\tvalid_1's binary_logloss: 0.0172136\n",
            "[400]\ttraining's auc: 0.999685\ttraining's binary_logloss: 0.00840688\tvalid_1's auc: 0.995766\tvalid_1's binary_logloss: 0.0156893\n",
            "Early stopping, best iteration is:\n",
            "[327]\ttraining's auc: 0.999359\ttraining's binary_logloss: 0.00970354\tvalid_1's auc: 0.996134\tvalid_1's binary_logloss: 0.0159437\n",
            "err:  0.9961340206185567\n",
            "Training until validation scores don't improve for 200 rounds.\n",
            "[200]\ttraining's auc: 0.997891\ttraining's binary_logloss: 0.0131068\tvalid_1's auc: 0.998711\tvalid_1's binary_logloss: 0.0135187\n",
            "Early stopping, best iteration is:\n",
            "[172]\ttraining's auc: 0.997303\ttraining's binary_logloss: 0.0141626\tvalid_1's auc: 0.998711\tvalid_1's binary_logloss: 0.0138597\n",
            "err:  0.9987113402061856\n",
            "Training until validation scores don't improve for 200 rounds.\n",
            "[200]\ttraining's auc: 0.997934\ttraining's binary_logloss: 0.0130817\tvalid_1's auc: 0.99908\tvalid_1's binary_logloss: 0.0118515\n",
            "Early stopping, best iteration is:\n",
            "[147]\ttraining's auc: 0.996648\ttraining's binary_logloss: 0.0153029\tvalid_1's auc: 0.999264\tvalid_1's binary_logloss: 0.012553\n",
            "err:  0.9992636229749632\n",
            "Training until validation scores don't improve for 200 rounds.\n",
            "[200]\ttraining's auc: 0.99794\ttraining's binary_logloss: 0.0130455\tvalid_1's auc: 0.998711\tvalid_1's binary_logloss: 0.0132715\n",
            "[400]\ttraining's auc: 0.999682\ttraining's binary_logloss: 0.00840745\tvalid_1's auc: 0.998159\tvalid_1's binary_logloss: 0.0122952\n",
            "Early stopping, best iteration is:\n",
            "[226]\ttraining's auc: 0.998383\ttraining's binary_logloss: 0.0122051\tvalid_1's auc: 0.998895\tvalid_1's binary_logloss: 0.0129759\n",
            "err:  0.9988954344624448\n",
            "Training until validation scores don't improve for 200 rounds.\n",
            "[200]\ttraining's auc: 0.99796\ttraining's binary_logloss: 0.0130233\tvalid_1's auc: 0.993925\tvalid_1's binary_logloss: 0.0168403\n",
            "Early stopping, best iteration is:\n",
            "[186]\ttraining's auc: 0.997676\ttraining's binary_logloss: 0.0135405\tvalid_1's auc: 0.993925\tvalid_1's binary_logloss: 0.0171091\n",
            "err:  0.9939248895434463\n",
            "Training until validation scores don't improve for 200 rounds.\n",
            "[200]\ttraining's auc: 0.997984\ttraining's binary_logloss: 0.0129391\tvalid_1's auc: 0.966311\tvalid_1's binary_logloss: 0.0301916\n",
            "Early stopping, best iteration is:\n",
            "[163]\ttraining's auc: 0.997179\ttraining's binary_logloss: 0.0143767\tvalid_1's auc: 0.966679\tvalid_1's binary_logloss: 0.0297377\n",
            "err:  0.966678939617084\n",
            "Training until validation scores don't improve for 200 rounds.\n",
            "[200]\ttraining's auc: 0.997885\ttraining's binary_logloss: 0.0130754\tvalid_1's auc: 0.992452\tvalid_1's binary_logloss: 0.01845\n",
            "[400]\ttraining's auc: 0.999652\ttraining's binary_logloss: 0.00843054\tvalid_1's auc: 0.993373\tvalid_1's binary_logloss: 0.01707\n",
            "[600]\ttraining's auc: 0.999941\ttraining's binary_logloss: 0.00602524\tvalid_1's auc: 0.994845\tvalid_1's binary_logloss: 0.0167251\n",
            "Early stopping, best iteration is:\n",
            "[537]\ttraining's auc: 0.9999\ttraining's binary_logloss: 0.00665093\tvalid_1's auc: 0.994661\tvalid_1's binary_logloss: 0.0166788\n",
            "err:  0.9946612665684831\n",
            "Training until validation scores don't improve for 200 rounds.\n",
            "[200]\ttraining's auc: 0.997926\ttraining's binary_logloss: 0.0130647\tvalid_1's auc: 0.994477\tvalid_1's binary_logloss: 0.0173699\n",
            "[400]\ttraining's auc: 0.999663\ttraining's binary_logloss: 0.00845362\tvalid_1's auc: 0.995766\tvalid_1's binary_logloss: 0.0153085\n",
            "Early stopping, best iteration is:\n",
            "[227]\ttraining's auc: 0.998364\ttraining's binary_logloss: 0.0121979\tvalid_1's auc: 0.995766\tvalid_1's binary_logloss: 0.016568\n",
            "err:  0.9957658321060383\n",
            "Training until validation scores don't improve for 200 rounds.\n",
            "[200]\ttraining's auc: 0.997969\ttraining's binary_logloss: 0.0129744\tvalid_1's auc: 0.967047\tvalid_1's binary_logloss: 0.0276763\n",
            "[400]\ttraining's auc: 0.999679\ttraining's binary_logloss: 0.0083342\tvalid_1's auc: 0.968704\tvalid_1's binary_logloss: 0.0273282\n",
            "Early stopping, best iteration is:\n",
            "[395]\ttraining's auc: 0.999662\ttraining's binary_logloss: 0.00841578\tvalid_1's auc: 0.96852\tvalid_1's binary_logloss: 0.0273079\n",
            "err:  0.968519882179676\n",
            "Training until validation scores don't improve for 200 rounds.\n",
            "[200]\ttraining's auc: 0.99794\ttraining's binary_logloss: 0.0129879\tvalid_1's auc: 0.986193\tvalid_1's binary_logloss: 0.0224044\n",
            "Early stopping, best iteration is:\n",
            "[40]\ttraining's auc: 0.990052\ttraining's binary_logloss: 0.0259638\tvalid_1's auc: 0.9919\tvalid_1's binary_logloss: 0.0278274\n",
            "err:  0.9918998527245949\n",
            "Training until validation scores don't improve for 200 rounds.\n",
            "[200]\ttraining's auc: 0.997947\ttraining's binary_logloss: 0.0130501\tvalid_1's auc: 0.99687\tvalid_1's binary_logloss: 0.0153985\n",
            "Early stopping, best iteration is:\n",
            "[108]\ttraining's auc: 0.995172\ttraining's binary_logloss: 0.0175741\tvalid_1's auc: 0.997423\tvalid_1's binary_logloss: 0.0162813\n",
            "err:  0.9974226804123711\n",
            "Training until validation scores don't improve for 200 rounds.\n",
            "[200]\ttraining's auc: 0.997944\ttraining's binary_logloss: 0.0130085\tvalid_1's auc: 0.996318\tvalid_1's binary_logloss: 0.018605\n",
            "[400]\ttraining's auc: 0.999665\ttraining's binary_logloss: 0.00841914\tvalid_1's auc: 0.996134\tvalid_1's binary_logloss: 0.019087\n",
            "Early stopping, best iteration is:\n",
            "[222]\ttraining's auc: 0.998294\ttraining's binary_logloss: 0.0123038\tvalid_1's auc: 0.996686\tvalid_1's binary_logloss: 0.0183531\n",
            "err:  0.9966863033873343\n",
            "Training until validation scores don't improve for 200 rounds.\n",
            "[200]\ttraining's auc: 0.997947\ttraining's binary_logloss: 0.013045\tvalid_1's auc: 0.99595\tvalid_1's binary_logloss: 0.015818\n",
            "[400]\ttraining's auc: 0.999672\ttraining's binary_logloss: 0.00845392\tvalid_1's auc: 0.996134\tvalid_1's binary_logloss: 0.0144732\n",
            "Early stopping, best iteration is:\n",
            "[303]\ttraining's auc: 0.999164\ttraining's binary_logloss: 0.0102509\tvalid_1's auc: 0.996318\tvalid_1's binary_logloss: 0.0150545\n",
            "err:  0.9963181148748159\n",
            "Training until validation scores don't improve for 200 rounds.\n",
            "[200]\ttraining's auc: 0.997926\ttraining's binary_logloss: 0.0130489\tvalid_1's auc: 0.991348\tvalid_1's binary_logloss: 0.0201768\n",
            "[400]\ttraining's auc: 0.999664\ttraining's binary_logloss: 0.00843938\tvalid_1's auc: 0.992636\tvalid_1's binary_logloss: 0.019427\n",
            "Early stopping, best iteration is:\n",
            "[377]\ttraining's auc: 0.999576\ttraining's binary_logloss: 0.00881564\tvalid_1's auc: 0.99282\tvalid_1's binary_logloss: 0.0195328\n",
            "err:  0.992820324005891\n",
            "Training until validation scores don't improve for 200 rounds.\n",
            "[200]\ttraining's auc: 0.997954\ttraining's binary_logloss: 0.01303\tvalid_1's auc: 0.993373\tvalid_1's binary_logloss: 0.020901\n",
            "Early stopping, best iteration is:\n",
            "[91]\ttraining's auc: 0.994412\ttraining's binary_logloss: 0.0188245\tvalid_1's auc: 0.993373\tvalid_1's binary_logloss: 0.0212658\n",
            "err:  0.9933726067746685\n"
          ],
          "name": "stdout"
        }
      ]
    },
    {
      "cell_type": "code",
      "metadata": {
        "colab_type": "code",
        "id": "gsmdSUXsbd9p",
        "colab": {
          "base_uri": "https://localhost:8080/",
          "height": 34
        },
        "outputId": "fb4877db-383d-4c3f-a7e2-c185a1cbb944"
      },
      "source": [
        "np.mean(err,0)"
      ],
      "execution_count": 218,
      "outputs": [
        {
          "output_type": "execute_result",
          "data": {
            "text/plain": [
              "0.9897140870488624"
            ]
          },
          "metadata": {
            "tags": []
          },
          "execution_count": 218
        }
      ]
    },
    {
      "cell_type": "code",
      "metadata": {
        "colab_type": "code",
        "id": "bVuMPgQdc30N",
        "colab": {
          "base_uri": "https://localhost:8080/",
          "height": 221
        },
        "outputId": "2fbc7c6f-92ba-4b40-efe3-215916a35471"
      },
      "source": [
        "y_test"
      ],
      "execution_count": 219,
      "outputs": [
        {
          "output_type": "execute_result",
          "data": {
            "text/plain": [
              "26       0\n",
              "60       0\n",
              "70       0\n",
              "109      0\n",
              "305      0\n",
              "        ..\n",
              "77560    0\n",
              "77642    0\n",
              "77735    0\n",
              "78008    0\n",
              "78095    0\n",
              "Name: redemption_status, Length: 783, dtype: int64"
            ]
          },
          "metadata": {
            "tags": []
          },
          "execution_count": 219
        }
      ]
    },
    {
      "cell_type": "code",
      "metadata": {
        "colab_type": "code",
        "id": "ePVlLRncc7ym",
        "colab": {
          "base_uri": "https://localhost:8080/",
          "height": 1000
        },
        "outputId": "af0c2041-2868-44f1-d7a4-2540a1ce1280"
      },
      "source": [
        "preds"
      ],
      "execution_count": 220,
      "outputs": [
        {
          "output_type": "execute_result",
          "data": {
            "text/plain": [
              "array([0.00352732, 0.00140061, 0.00178044, 0.00436953, 0.00087534,\n",
              "       0.00280923, 0.00087534, 0.00087534, 0.00094805, 0.00112006,\n",
              "       0.00137895, 0.02690953, 0.00411299, 0.00087534, 0.0019393 ,\n",
              "       0.00100651, 0.00181592, 0.00141491, 0.00152983, 0.00172932,\n",
              "       0.03751246, 0.00192379, 0.00290986, 0.00134474, 0.00139048,\n",
              "       0.00087534, 0.00095099, 0.00813893, 0.00094831, 0.00527105,\n",
              "       0.12039953, 0.00087534, 0.00788758, 0.00203986, 0.0107066 ,\n",
              "       0.00087534, 0.00145378, 0.00232224, 0.00093922, 0.0011795 ,\n",
              "       0.0008845 , 0.00239299, 0.00093922, 0.00359203, 0.00293089,\n",
              "       0.00313397, 0.02375048, 0.00091002, 0.00087534, 0.00276032,\n",
              "       0.00093922, 0.00218087, 0.00208094, 0.00109633, 0.00180445,\n",
              "       0.52286459, 0.00149083, 0.00106384, 0.00138688, 0.00100409,\n",
              "       0.00087534, 0.0011269 , 0.00148675, 0.00228784, 0.00136613,\n",
              "       0.00087534, 0.00169223, 0.00098957, 0.0014456 , 0.00154511,\n",
              "       0.00212516, 0.00188798, 0.00218043, 0.00188438, 0.00122007,\n",
              "       0.00087534, 0.02327486, 0.00087534, 0.00165967, 0.00087534,\n",
              "       0.00107284, 0.00087534, 0.00180737, 0.19915591, 0.00087534,\n",
              "       0.00160931, 0.00197925, 0.00248734, 0.00435602, 0.08591315,\n",
              "       0.00087534, 0.00852157, 0.00492964, 0.00343927, 0.01188247,\n",
              "       0.00253874, 0.00126673, 0.0019354 , 0.00096811, 0.00087534,\n",
              "       0.00193114, 0.00087534, 0.00152018, 0.00424388, 0.00246766,\n",
              "       0.10651128, 0.00174518, 0.0023528 , 0.00093922, 0.00096413,\n",
              "       0.00098617, 0.00162444, 0.00285785, 0.00087534, 0.00087534,\n",
              "       0.00087534, 0.00087534, 0.00252857, 0.00090576, 0.00175931,\n",
              "       0.01507484, 0.01278776, 0.00136681, 0.00087534, 0.00087534,\n",
              "       0.52324953, 0.01002911, 0.00257072, 0.00180478, 0.00166776,\n",
              "       0.04281669, 0.00366957, 0.00234387, 0.00118647, 0.01070369,\n",
              "       0.00315376, 0.00109822, 0.00212162, 0.00206791, 0.00093329,\n",
              "       0.00178275, 0.00087534, 0.00139526, 0.00110619, 0.00097995,\n",
              "       0.00479111, 0.00309191, 0.00119561, 0.00157273, 0.00141716,\n",
              "       0.00093922, 0.00134759, 0.00087534, 0.0009212 , 0.00138366,\n",
              "       0.00937175, 0.00148851, 0.08911753, 0.00251329, 0.00185836,\n",
              "       0.00166504, 0.00161784, 0.00833285, 0.00122316, 0.00087534,\n",
              "       0.00526205, 0.00115759, 0.00130383, 0.00087534, 0.00093922,\n",
              "       0.00087534, 0.00100256, 0.00104551, 0.00447803, 0.00129629,\n",
              "       0.00221928, 0.00106733, 0.00087534, 0.00259324, 0.00111202,\n",
              "       0.0042321 , 0.00153397, 0.00087534, 0.00087534, 0.00087534,\n",
              "       0.00099901, 0.01210006, 0.00122507, 0.01771627, 0.00210848,\n",
              "       0.00153616, 0.00087534, 0.00163692, 0.00162652, 0.00261022,\n",
              "       0.00268334, 0.00093922, 0.01205275, 0.00290556, 0.00128387,\n",
              "       0.0013798 , 0.00095374, 0.00140043, 0.00087534, 0.272106  ,\n",
              "       0.00138445, 0.00200754, 0.00256234, 0.00097502, 0.00129655,\n",
              "       0.00087534, 0.00268393, 0.00145006, 0.00087534, 0.00087534,\n",
              "       0.00116045, 0.00273721, 0.00124571, 0.00087534, 0.00087534,\n",
              "       0.00283425, 0.00276767, 0.00214452, 0.00087534, 0.00127977,\n",
              "       0.00173337, 0.00199738, 0.01928992, 0.00087534, 0.00134595,\n",
              "       0.00586539, 0.04276572, 0.00108356, 0.00121439, 0.05642365,\n",
              "       0.00087534, 0.00117566, 0.00087534, 0.00121904, 0.00087534,\n",
              "       0.00100201, 0.00117751, 0.00228765, 0.0043476 , 0.00093922,\n",
              "       0.0019988 , 0.00132234, 0.00087534, 0.00104108, 0.00295722,\n",
              "       0.00519142, 0.00350466, 0.00152719, 0.00148882, 0.00087534,\n",
              "       0.00900318, 0.00160611, 0.00169514, 0.00371852, 0.01951373,\n",
              "       0.26584906, 0.00488562, 0.00154133, 0.03974496, 0.00396769,\n",
              "       0.00144752, 0.00129555, 0.00890669, 0.00184255, 0.00089293,\n",
              "       0.05616087, 0.00087534, 0.00199879, 0.00087534, 0.00560026,\n",
              "       0.00231347, 0.00383089, 0.00243626, 0.00360774, 0.00093922,\n",
              "       0.00524559, 0.00199605, 0.00166029, 0.00087534, 0.00717445,\n",
              "       0.00141498, 0.00420785, 0.00217692, 0.00087534, 0.00127556,\n",
              "       0.00087534, 0.01429462, 0.00214776, 0.00087534, 0.01894655,\n",
              "       0.00087534, 0.00230689, 0.00110562, 0.00983641, 0.00090936,\n",
              "       0.00097745, 0.00153971, 0.00103432, 0.00087534, 0.00267839,\n",
              "       0.00147232, 0.0089522 , 0.0016417 , 0.00245694, 0.00161614,\n",
              "       0.00147826, 0.00087534, 0.04145121, 0.00183104, 0.01685672,\n",
              "       0.00251261, 0.0043874 , 0.00087534, 0.00093922, 0.00130055,\n",
              "       0.0009035 , 0.00703916, 0.00112102, 0.00102385, 0.00101898,\n",
              "       0.00203677, 0.00087534, 0.00087534, 0.00266228, 0.00087534,\n",
              "       0.00087534, 0.00307718, 0.00113192, 0.01027594, 0.05047588,\n",
              "       0.11168126, 0.00087534, 0.00126178, 0.00087534, 0.00112346,\n",
              "       0.00087534, 0.0030473 , 0.06919416, 0.00087534, 0.02865234,\n",
              "       0.00093922, 0.00355633, 0.00145111, 0.00147878, 0.00093922,\n",
              "       0.00087534, 0.00152427, 0.00087534, 0.00093922, 0.00087534,\n",
              "       0.00195043, 0.0009666 , 0.00087534, 0.00393366, 0.00286092,\n",
              "       0.001523  , 0.00126685, 0.00130327, 0.00105993, 0.00087534,\n",
              "       0.01026427, 0.06953079, 0.00282394, 0.00194412, 0.00137911,\n",
              "       0.00230536, 0.00102555, 0.00151601, 0.00164743, 0.00087534,\n",
              "       0.0022029 , 0.00213457, 0.00087534, 0.00328814, 0.00232224,\n",
              "       0.00277586, 0.00134638, 0.00087534, 0.00097517, 0.00171996,\n",
              "       0.00087534, 0.00090023, 0.00087534, 0.00087534, 0.00227924,\n",
              "       0.00925579, 0.00087534, 0.00087534, 0.00201424, 0.0025679 ,\n",
              "       0.00656423, 0.02711924, 0.00087534, 0.00168296, 0.00087534,\n",
              "       0.00333122, 0.00454027, 0.00087534, 0.00178879, 0.00087534,\n",
              "       0.00098494, 0.00316033, 0.00418149, 0.00126726, 0.00087534,\n",
              "       0.00171403, 0.00090869, 0.00871926, 0.00087534, 0.00279927,\n",
              "       0.05048231, 0.0742942 , 0.01337811, 0.00306676, 0.00087534,\n",
              "       0.00124456, 0.00686623, 0.00472883, 0.00097572, 0.00216194,\n",
              "       0.0015869 , 0.00305355, 0.00096756, 0.00160531, 0.00160831,\n",
              "       0.00150892, 0.00187146, 0.00087534, 0.00093609, 0.00297229,\n",
              "       0.00222594, 0.00240048, 0.00093922, 0.00157594, 0.00275762,\n",
              "       0.0063045 , 0.00087534, 0.00087534, 0.00087534, 0.00214912,\n",
              "       0.0018481 , 0.00159547, 0.0028318 , 0.00099556, 0.00106971,\n",
              "       0.00123355, 0.00202486, 0.00087534, 0.00139102, 0.00386873,\n",
              "       0.00087534, 0.00087534, 0.00171187, 0.00087534, 0.00171295,\n",
              "       0.00087534, 0.00372602, 0.00599062, 0.00196752, 0.00087534,\n",
              "       0.00120662, 0.00791009, 0.00087534, 0.00158318, 0.00087534,\n",
              "       0.00605015, 0.00087534, 0.00341639, 0.00128044, 0.00421194,\n",
              "       0.00113975, 0.00087534, 0.00471781, 0.00147259, 0.00087534,\n",
              "       0.02508317, 0.00087534, 0.00217456, 0.00284078, 0.00234196,\n",
              "       0.00087534, 0.00785369, 0.00093922, 0.00094741, 0.00087534,\n",
              "       0.00087534, 0.0041585 , 0.00134953, 0.0078197 , 0.00145416,\n",
              "       0.69420967, 0.00129078, 0.00302666, 0.00145981, 0.00087534,\n",
              "       0.00326792, 0.01149474, 0.00226153, 0.00736315, 0.03561092,\n",
              "       0.01537613, 0.00259701, 0.00093622, 0.00225581, 0.00226082,\n",
              "       0.07845566, 0.00113246, 0.00139604, 0.00087534, 0.0011154 ,\n",
              "       0.0009906 , 0.00368851, 0.00418628, 0.00087534, 0.00174427,\n",
              "       0.00087534, 0.00124621, 0.00104853, 0.00463112, 0.00645542,\n",
              "       0.00176356, 0.00093922, 0.00701161, 0.00372935, 0.00105759,\n",
              "       0.00087534, 0.01517636, 0.00194493, 0.00202585, 0.00299837,\n",
              "       0.00277613, 0.00404753, 0.04984683, 0.00215568, 0.00453429,\n",
              "       0.00143438, 0.00187697, 0.00120802, 0.00087534, 0.00487346,\n",
              "       0.00218281, 0.00255025, 0.00093922, 0.00093922, 0.0058394 ,\n",
              "       0.00087534, 0.00427793, 0.00215359, 0.00093922, 0.00087534,\n",
              "       0.00092451, 0.00104852, 0.00155801, 0.00087534, 0.00164791,\n",
              "       0.00087534, 0.00371196, 0.00098478, 0.00222432, 0.00087534,\n",
              "       0.00887211, 0.00163545, 0.00161707, 0.00117598, 0.00729311,\n",
              "       0.00087534, 0.00292351, 0.00476229, 0.00104592, 0.00087534,\n",
              "       0.00373983, 0.00087534, 0.00224534, 0.00087534, 0.00087534,\n",
              "       0.00087534, 0.01267083, 0.00087534, 0.00087534, 0.00307973,\n",
              "       0.00087534, 0.00087534, 0.00238195, 0.00146878, 0.00095633,\n",
              "       0.064098  , 0.00398987, 0.00180448, 0.00093922, 0.00396017,\n",
              "       0.00087534, 0.00139645, 0.00295511, 0.0015847 , 0.00153111,\n",
              "       0.14094862, 0.00156064, 0.00273374, 0.00343092, 0.00168567,\n",
              "       0.00109145, 0.00208543, 0.00129627, 0.00225894, 0.00170423,\n",
              "       0.00672996, 0.00105667, 0.00298201, 0.00121502, 0.00167529,\n",
              "       0.35656025, 0.00087534, 0.00087534, 0.00087534, 0.0011351 ,\n",
              "       0.00188528, 0.00087534, 0.00097195, 0.00087534, 0.00148689,\n",
              "       0.02304365, 0.00087534, 0.00588682, 0.47912959, 0.00345038,\n",
              "       0.00288021, 0.00217647, 0.00381552, 0.00087534, 0.00124968,\n",
              "       0.0083018 , 0.00087534, 0.00098321, 0.00087534, 0.0057161 ,\n",
              "       0.0016916 , 0.00453599, 0.00087534, 0.00566356, 0.00152555,\n",
              "       0.00127604, 0.002811  , 0.00588713, 0.00128963, 0.00087534,\n",
              "       0.00261115, 0.00087534, 0.00087534, 0.24737093, 0.00203491,\n",
              "       0.00087534, 0.00094127, 0.06622182, 0.19572338, 0.05942389,\n",
              "       0.00087534, 0.00701518, 0.00095791, 0.00262124, 0.00927422,\n",
              "       0.00090172, 0.00159132, 0.0026251 , 0.00101105, 0.00118945,\n",
              "       0.00216214, 0.00103908, 0.00087534, 0.00113178, 0.00325891,\n",
              "       0.00087534, 0.03255804, 0.00142565, 0.00120918, 0.00273641,\n",
              "       0.10786129, 0.00273391, 0.00087534, 0.00796441, 0.00087534,\n",
              "       0.0011401 , 0.02661317, 0.00404255, 0.00428172, 0.00265196,\n",
              "       0.0014376 , 0.00087534, 0.00087534, 0.00106509, 0.43456406,\n",
              "       0.0014814 , 0.00087534, 0.00111177, 0.0028353 , 0.00300354,\n",
              "       0.00145335, 0.00551481, 0.00729273, 0.00087534, 0.00087534,\n",
              "       0.00098453, 0.00196822, 0.00102345, 0.00252052, 0.00087534,\n",
              "       0.00087534, 0.00191805, 0.00095626, 0.17437547, 0.00087534,\n",
              "       0.00230283, 0.001736  , 0.00126986, 0.00205384, 0.00153239,\n",
              "       0.00263436, 0.00113852, 0.00256247, 0.00087534, 0.00162655,\n",
              "       0.00087534, 0.00228238, 0.0019216 , 0.00131347, 0.00211096,\n",
              "       0.00136942, 0.00980937, 0.00199698, 0.00125544, 0.00098293,\n",
              "       0.00096855, 0.00155434, 0.00177019, 0.00153954, 0.00196561,\n",
              "       0.00157903, 0.00087534, 0.00087534, 0.00206827, 0.00099802,\n",
              "       0.00087534, 0.00222564, 0.00234441, 0.0080733 , 0.00149651,\n",
              "       0.0015244 , 0.00087534, 0.00115334, 0.00087534, 0.00087534,\n",
              "       0.00257184, 0.00481613, 0.00267942, 0.00139435, 0.00087534,\n",
              "       0.00273803, 0.00112461, 0.00115804, 0.00119216, 0.00096471,\n",
              "       0.00145809, 0.04953081, 0.00096111, 0.0021389 , 0.01294694,\n",
              "       0.00124857, 0.00087534, 0.00322396, 0.0206576 , 0.00228435,\n",
              "       0.00087534, 0.00098782, 0.00087534, 0.00093922, 0.00087534,\n",
              "       0.00606289, 0.00087534, 0.00221428])"
            ]
          },
          "metadata": {
            "tags": []
          },
          "execution_count": 220
        }
      ]
    },
    {
      "cell_type": "code",
      "metadata": {
        "colab_type": "code",
        "id": "ABgw56lScDxf",
        "colab": {
          "base_uri": "https://localhost:8080/",
          "height": 655
        },
        "outputId": "d93d3dc9-8e23-49e7-8ebe-c293641e68af"
      },
      "source": [
        "# Making Confusion Matrix\n",
        "from sklearn.metrics import roc_curve, auc\n",
        "\n",
        "# roc_auc_score(y_test,preds))\n",
        "# ROC Curve\n",
        "\n",
        "false_positive_rate, true_positive_rate, thresholds = roc_curve(y_test, preds)\n",
        "roc_auc = auc(false_positive_rate, true_positive_rate)\n",
        "print(\"ROC Area Under Curve is :\", roc_auc)\n",
        "\n",
        "plt.figure(figsize=(10,10))\n",
        "plt.title('Receiver Operating Characteristic')\n",
        "plt.plot(false_positive_rate,true_positive_rate, color='red',label = 'AUC = %0.2f' % roc_auc)\n",
        "plt.legend(loc = 'lower right')\n",
        "plt.plot([0, 1], [0, 1],linestyle='--')\n",
        "plt.axis('tight')\n",
        "plt.ylabel('True Positive Rate')\n",
        "plt.xlabel('False Positive Rate')"
      ],
      "execution_count": 221,
      "outputs": [
        {
          "output_type": "stream",
          "text": [
            "ROC Area Under Curve is : 0.9933726067746685\n"
          ],
          "name": "stdout"
        },
        {
          "output_type": "execute_result",
          "data": {
            "text/plain": [
              "Text(0.5, 0, 'False Positive Rate')"
            ]
          },
          "metadata": {
            "tags": []
          },
          "execution_count": 221
        },
        {
          "output_type": "display_data",
          "data": {
            "image/png": "[encoded data removed]",
            "text/plain": [
              "<Figure size 720x720 with 1 Axes>"
            ]
          },
          "metadata": {
            "tags": [],
            "needs_background": "light"
          }
        }
      ]
    },
    {
      "cell_type": "markdown",
      "metadata": {
        "id": "SQ55qIIPBCdE",
        "colab_type": "text"
      },
      "source": [
        ""
      ]
    },
    {
      "cell_type": "code",
      "metadata": {
        "colab_type": "code",
        "id": "ZX9N8yqEd8OY",
        "colab": {}
      },
      "source": [
        ""
      ],
      "execution_count": 204,
      "outputs": []
    }
  ]
}